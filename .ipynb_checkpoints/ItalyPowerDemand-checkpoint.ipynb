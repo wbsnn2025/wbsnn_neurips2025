{
 "cells": [
  {
   "cell_type": "markdown",
   "id": "0cb2732d-4eee-4c29-b8fd-ce333789b553",
   "metadata": {},
   "source": [
    "# ItalyPowerDemand Dataset – WBSNN Experiments for NeurIPS\n",
    "\n",
    "## Dataset Overview\n",
    "\n",
    "The **ItalyPowerDemand** dataset, from the UCR Time Series Classification Archive, is a univariate time series benchmark for binary classification. Each sample consists of normalized power demand readings over **24 time steps**, capturing temporal patterns in electricity consumption. Key characteristics include:\n",
    "\n",
    "- **Training set**: 67 samples\n",
    "- **Test set**: 1,029 samples\n",
    "- **Classes**: 2 (balanced, labeled 0 and 1 after mapping from 1.0 and 2.0)\n",
    "- **Original dimension**: $\\mathbb{R}^{24}$\n",
    "\n",
    "The **test set is ~15 times larger than the training set**, making ItalyPowerDemand a challenging benchmark for evaluating **model robustness and generalization** under **data scarcity**. This setup mimics real-world scenarios where training data is limited, testing a model’s ability to learn discriminative patterns from few examples and apply them to a large, unseen test set.\n",
    "\n",
    "### Why Test Models on ItalyPowerDemand?\n",
    "\n",
    "ItalyPowerDemand is a standard benchmark in time series classification due to:\n",
    "\n",
    "1. **Small Training Set**: With only 67 samples, models must avoid overfitting and learn generalizable features.\n",
    "2. **Large Test Set**: 1,029 test samples rigorously evaluate generalization, amplifying the impact of poor feature extraction.\n",
    "3. **Temporal Structure**: 24 time steps encode sequential patterns, requiring models to capture local and global dependencies.\n",
    "4. **Balanced Classes**: Ensures fair evaluation without bias toward majority classes.\n",
    "\n",
    "The dataset’s **difficulty** stems from its small training size and the need to generalize to a large test set, making it ideal for assessing **data efficiency** and robustness in low-resource time series tasks.\n",
    "\n",
    "## Geometry and Topology\n",
    "\n",
    "Each sample in ItalyPowerDemand is a vector in $\\mathbb{R}^{24}$, representing a univariate time series of power demand. Geometrically, these vectors form **trajectories** in a 24-dimensional space, where each dimension corresponds to a time step. The dataset’s **topology** is defined by the arrangement of these trajectories, which cluster into two classes based on temporal patterns (e.g., seasonal or daily power demand cycles).\n",
    "\n",
    "### Original Dimension ($d=24$)\n",
    "\n",
    "In $\\mathbb{R}^{24}$, each sample is a point on a high-dimensional manifold, with class differences encoded in the **shape and amplitude** of the time series. The two classes form distinct clusters, separated by differences in temporal dynamics (e.g., peak timings, cycle frequencies). The **intrinsic geometry** is likely low-dimensional, as power demand follows structured patterns (e.g., daily or seasonal periodicity), allowing models to learn discriminative features despite the high dimensionality.\n",
    "\n",
    "### Compressed Dimension ($d=5$)\n",
    "\n",
    "To compress to $d=5$, the 24 time steps are divided into 5 chunks (~4–5 time steps each), and each chunk is averaged to produce a single feature. This **piecewise averaging** projects the data from $\\mathbb{R}^{24}$ to $\\mathbb{R}^5$, significantly altering its geometry and topology:\n",
    "\n",
    "- **Geometric Impact**: Each sample in $\\mathbb{R}^5$ represents a coarse summary of the original trajectory. The 5 features capture **global trends** (e.g., average demand over ~4–5 hours) but lose **local details** (e.g., short-term fluctuations). Geometrically, the high-dimensional manifold is collapsed into a lower-dimensional space, where trajectories are approximated by 5-point sequences. This smoothing reduces the complexity of each trajectory, potentially merging points that were distinct in $\\mathbb{R}^{24}$.\n",
    "- **Topological Changes**: The observed high accuracy in $d=5$ suggests that coarse structural differences between classes survive compression and remain learnable, particularly when class separation is driven by global patterns (e.g., overall cycle shape). However, it may **merge or distort** fine-grained topological structures (e.g., local peaks distinguishing subtle class variations). The two classes remain separable in $\\mathbb{R}^5$, but the **decision boundary** becomes more complex due to information loss, as subtle temporal variations are averaged out. The resulting topology may have **tighter cluster margins**, increasing the risk of misclassification for samples near the boundary.\n",
    "- **Orbit Preservation**: WBSNN’s orbit-based approach appears to leverage **global topological invariants** (e.g., cycle periodicity), which empirical results suggest are partially preserved in $d=5$. The compressed data still forms distinct class clusters, but their **separation margin** may shrink, increasing classification difficulty. The robustness of these orbits relies on the dataset’s structured patterns, such as consistent daily demand cycles, which survive averaging.\n",
    "- **Challenges**: The loss of temporal resolution makes it harder to distinguish classes with similar global trends but different local behaviors. Models must rely on robust feature extraction to capture the remaining discriminative patterns, testing their ability to generalize from coarse representations. The high accuracy (~90–93%) in $d=5$ suggests that ItalyPowerDemand’s class differences are driven by **macro-level patterns**. However, the compressed topology can still blur finer distinctions, testing a model’s sensitivity to samples near class boundaries.\n",
    "- **Comparison to $d=10$**: For $d=10$, each chunk covers ~2–3 time steps, preserving more local structure. The topology in $\\mathbb{R}^{10}$ has clearer cluster separation and less distorted orbits, reducing classification difficulty compared to $d=5$.\n",
    "\n",
    "### Implications for Classification\n",
    "\n",
    "The compressed topology in $d=5$ challenges models to focus on global patterns, increasing prediction difficulty but testing **data efficiency**. The **realism** of results (~90–93% accuracy) reflects the dataset’s structured topology, where global patterns remain discriminative despite compression. \n",
    "## Experimental Setup\n",
    "\n",
    "We conducted two **WBSNN** runs on ItalyPowerDemand, differing in interpolation strategy:\n",
    "\n",
    "1. **Runs 14-16 (Non-exact Interpolation)**: Allows approximate interpolation (norms of $Y_i - J W^{(L_i)} X_i$ may be non-zero within a threshold).\n",
    "2. **Runs 17-19 (Exact Interpolation)**: Enforces exact interpolation (norms are zero within $10^{-6}$).\n",
    "## Experimental configuration accross Runs 14-19\n",
    "| Run | Dataset           | d   | Interpolation | Phase 1–2 Samples | Phase 3/Baselines Samples      | MLP Arch         | Dropout | Weight Decay | LR     | Loss| Optimizer |\n",
    "|-----|-----------|--------|-----|----------------|-------------|------------------------|--------------------|---------|---------------|--------|-----------|\n",
    "| 14  | ItalyPowerDemand  | 5   | Non-exact      |      50              | Train 67, Test 1029       | (64→32→K*d)            | 0.3     | 0.069         | 0.0001 | CrossEntropy| Adam      |\n",
    "| 15  | ItalyPowerDemand  | 10  | Non-exact      |      50              | Train 67, Test 1029        | (128→64→32→K*d)        | 0.3     | 0.005         | 0.0001 | CrossEntropy| Adam      |\n",
    "| 16  | ItalyPowerDemand  | 24  | Non-exact      |      50              | Train 67, Test 1029         | (256→128→64→32→K*d)    | 0.3     | 0.005         | 0.0001| CrossEntropy | Adam      |\n",
    "| 17  | ItalyPowerDemand  | 5   | Exact          |      67               | Train 67, Test 1029       | (96→64→K*d)            | 0.3     | 0.009         | 0.0001| CrossEntropy | Adam      |\n",
    "| 18  | ItalyPowerDemand  | 10  | Exact          |      67               | Train 67, Test 1029          | (128→64→32→K*d)    | 0.3     | 0.006         | 0.0001 | CrossEntropy| Adam      |\n",
    "| 19  | ItalyPowerDemand  | 24  | Exact          |      67               | Train 67, Test 1029        | (256→128→96→64→32→K*d) | 0.3     | 0.0009        | 0.0001 | CrossEntropy| Adam      |\n",
    "\n",
    "\n",
    "### Data Handling\n",
    "\n",
    "- **Loading**: Data read from `ItalyPowerDemand_TRAIN.txt` and `ItalyPowerDemand_TEST.txt` using `pandas` (space-separated).\n",
    "- **Label Mapping**: Labels (1.0, 2.0) mapped to (0, 1) for binary classification.\n",
    "- **Dimensionality Reduction**: Features compressed to $d=5, 10, 24$ by averaging chunks of 24 time steps.\n",
    "- **Normalization**: Features standardized with `StandardScaler`.\n",
    "- **Tensor Conversion**: Data converted to PyTorch tensors, with one-hot encoded labels for Phase 2.\n",
    "- **Reproducibility**: Seeds set (`torch.manual_seed(4)`, `np.random.seed(4)`).\n",
    "\n",
    "### WBSNN Pipeline\n",
    "\n",
    "WBSNN operates in three phases:\n",
    "\n",
    "1. **Phase 1**: Constructs maximal independent subsets $D_k$ and optimizes weights $W$ to minimize interpolation error (delta).\n",
    "2. **Phase 2**: Builds local operators $J_k$ to interpolate training data, exactly (Runs 17-19) or approximately (Runs 14-16).\n",
    "3. **Phase 3**: Trains an MLP to predict coefficients, enabling generalization.\n",
    "\n",
    "### Baselines\n",
    "\n",
    "Compared against:\n",
    "- Logistic Regression\n",
    "- Random Forest\n",
    "- SVM (RBF kernel)\n",
    "- MLP (1 hidden layer, 64 units)\n",
    "\n",
    "## Results\n",
    "\n",
    "### Consolidated Results Table\n",
    "\n",
    "| |Dimension | Interpolation | Phase 1 samples | Delta | Phase 2 Norms | Best Test Accuracy | Test Loss | Train Accuracy | Train Loss|  \n",
    "|--|---------------|---------------|---------|-------|---------------|--------------------|-----------|----------------|--------------|\n",
    "|Run 14 |$d=5$ | Non-exact     | 50      | 0.9854| 32/50 < $10^{-6}$ | 90.96%             | 0.2939    | 95.52%       | 0.1735     |     \n",
    "|Run 17 |$d=5$ | Exact         | 67      | 2.3310| All zero        | 92.71%             | 0.2693    | 97.01%         | 0.0970 |                \n",
    "|Run 15 |$d=10$| Non-exact     | 50       | 0.4796| 5 in [$10^{-6}$, 1) | 92.42%         | 0.2401    | 98.51%         | 0.0834     |                \n",
    "|Run 18 |$d=10$| Exact         | 67      | 3.1706| All zero        | 91.45%             | 0.3672    | 97.01%         | 0.0503     |                \n",
    "|Run 16 |$d=24$| Non-exact     | 50       | 0.3767| 5 in [$10^{-6}$, 1) | 96.70%         | 0.0963    | 98.51%         | 0.0502     |                \n",
    "|Run 19 |$d=24$| Exact         | 67      | 4.8990| All zero        | 95.34%             | 0.2738    | 98.51%         | 0.0232     |                 \n",
    "\n",
    "\n",
    "\n",
    "### Baseline Comparison (All Dimensions)\n",
    "\n",
    "| Dimension ($d$) | Interpolation | Model                | Train Accuracy | Test Accuracy | Train Loss | Test Loss |\n",
    "|-----------------|---------------|----------------------|----------------|---------------|------------|-----------|\n",
    "| 5               | Non-exact     | WBSNN                | 95.52%         | 90.96%        | 0.1735     | 0.2939    |\n",
    "| 5               | Non-exact     | Logistic Regression  | 97.01%         | 90.86%        | 0.1544     | 0.2573    |\n",
    "| 5               | Non-exact     | Random Forest        | 100.00%        | 88.24%        | 0.0584     | 0.2652    |\n",
    "| 5               | Non-exact     | SVM (RBF)            | 98.51%         | 92.32%        | 0.0802     | 0.1968    |\n",
    "| 5               | Non-exact     | MLP (1 hidden layer) | 97.01%         | 91.74%        | 0.0526     | 0.2019    |\n",
    "| 10              | Non-exact     | WBSNN                | 98.51%         | 92.42%        | 0.0834     | 0.2401    |\n",
    "| 10              | Non-exact     | Logistic Regression  | 95.52%         | 90.28%        | 0.1200     | 0.2501    |\n",
    "| 10              | Non-exact     | Random Forest        | 100.00%        | 90.96%        | 0.0588     | 0.2523    |\n",
    "| 10              | Non-exact     | SVM (RBF)            | 98.51%         | 91.93%        | 0.0925     | 0.2181    |\n",
    "| 10              | Non-exact     | MLP (1 hidden layer) | 97.01%         | 90.18%        | 0.0494     | 0.2080    |\n",
    "| 24              | Non-exact     | WBSNN                | 98.51%         | 96.70%        | 0.0502     | 0.0963    |\n",
    "| 24              | Non-exact     | Logistic Regression  | 98.51%         | 96.31%        | 0.0587     | 0.1205    |\n",
    "| 24              | Non-exact     | Random Forest        | 100.00%        | 96.79%        | 0.0450     | 0.1948    |\n",
    "| 24              | Non-exact     | SVM (RBF)            | 98.51%         | 94.85%        | 0.0724     | 0.1393    |\n",
    "| 24              | Non-exact     | MLP (1 hidden layer) | 100.00%        | 95.24%        | 0.0258     | 0.1152    |\n",
    "| 5               | Exact         | WBSNN                | 97.01%         | 92.71%        | 0.0970     | 0.2693    |\n",
    "| 5               | Exact         | Logistic Regression  | 97.01%         | 90.86%        | 0.1544     | 0.2573    |\n",
    "| 5               | Exact         | Random Forest        | 100.00%        | 88.14%        | 0.0554     | 0.2616    |\n",
    "| 5               | Exact         | SVM (RBF)            | 98.51%         | 92.32%        | 0.0841     | 0.1998    |\n",
    "| 5               | Exact         | MLP (1 hidden layer) | 97.01%         | 91.16%        | 0.0546     | 0.2032    |\n",
    "| 10              | Exact         | WBSNN                | 97.01%         | 91.45%        | 0.0503     | 0.3672    |\n",
    "| 10              | Exact         | Logistic Regression  | 95.52%         | 90.28%        | 0.1200     | 0.2501    |\n",
    "| 10              | Exact         | Random Forest        | 100.00%        | 90.09%        | 0.0557     | 0.2688    |\n",
    "| 10              | Exact         | SVM (RBF)            | 98.51%         | 91.93%        | 0.0919     | 0.2165    |\n",
    "| 10              | Exact         | MLP (1 hidden layer) | 97.01%         | 91.06%        | 0.0483     | 0.1998    |\n",
    "| 24              | Exact         | WBSNN                | 98.51%         | 95.34%        | 0.0232     | 0.2738    |\n",
    "| 24              | Exact         | Logistic Regression  | 98.51%         | 96.31%        | 0.0587     | 0.1205    |\n",
    "| 24              | Exact         | Random Forest        | 100.00%        | 97.08%        | 0.0432     | 0.1800    |\n",
    "| 24              | Exact         | SVM (RBF)            | 98.51%         | 94.85%        | 0.0736     | 0.1411    |\n",
    "| 24              | Exact         | MLP (1 hidden layer) | 98.51%         | 95.63%        | 0.0287     | 0.1096    |\n",
    "\n",
    "\n",
    "## Analysis\n",
    "\n",
    "### Performance Across Dimensions\n",
    "\n",
    "- **$d=5$**: Exact interpolation achieves 92.71%, outperforming non-exact’s 90.96%. The compressed topology retains global class differences, but the exact approach better fits the coarse structure, reducing test loss (0.2693 vs. 0.2939).\n",
    "- **$d=10$**: Non-exact (92.42%) slightly outperforms exact (91.45%), with lower test loss (0.2401 vs. 0.3672). This may reflect overfitting to interpolated training points, or sensitivity of the MLP to tighter Phase 2 constraints in small dimensions.\n",
    "- **$d=24$**: Non-exact reaches 96.70%, surpassing exact’s 95.34%. The full dimensionality benefits from approximate interpolation’s flexibility, yielding the lowest test loss (0.0963).\n",
    "\n",
    "### Geometric and Topological Insights ($d=5$)\n",
    "\n",
    "In $\\mathbb{R}^5$, the compressed data forms a **simplified manifold** where each sample is a 5D point summarizing $\\sim 4–5$ time steps. Geometrically, class trajectories are **smoothed**, losing local fluctuations but retaining **global cycle shapes**. Topologically, the two classes form **compact clusters** with reduced separation margins, as averaging obscures subtle differences. The **decision boundary** is more complex, as samples near the boundary may overlap due to lost temporal details. WBSNN’s **orbit-based representations** capture these coarse invariants, enabling high accuracy (~90–93%). The **robustness** of results in $d=5$ suggests that ItalyPowerDemand’s class differences are driven by **macro-level patterns** (e.g., daily demand cycles), which survive compression. However, the compressed topology tests models’ ability to generalize from limited data and handle boundary complexity.\n",
    "\n",
    "### Comparison with Baselines\n",
    "\n",
    "WBSNN is **competitive** with SVM (RBF) (92.32%) and MLP (91–91.74%), outperforming Logistic Regression (90.86%) and Random Forest (88–88.24%). SVM’s low test loss (0.1968–0.1998) reflects its strong non-linear modeling, but WBSNN’s orbit-based approach achieves comparable accuracy with structured representations, ideal for small datasets.\n",
    "\n",
    "### Exact vs. Non-exact Interpolation\n",
    "\n",
    "The **small performance gap** between exact and non-exact interpolation stems from:\n",
    "\n",
    "- **Dataset Topology**: Global patterns (e.g., cycle shapes) are preserved in all runs, allowing similar $J_k$ operators to capture class differences.\n",
    "- **Subset Coverage**: All runs cover most training points (50–67), ensuring robust data representation.\n",
    "- **Phase 3 Generalization**: The MLP in Phase 3 learns coefficients that generalize beyond interpolation differences, using the prediction form $\\hat{Y}_{\\text{new}} = \\sum_k J_k \\sum_{m=0}^{d-1} \\alpha_{\\text{new},k,m} \\cdot W^{(m)} X_{\\text{new}}$.\n",
    "\n",
    "Non-exact interpolation excels in $d=24$ (96.70% vs. 95.34%), as its flexibility prevents overfitting. Exact interpolation boosts $d=5$ (92.71% vs. 90.96%), aligning with the simpler compressed topology.\n",
    "\n",
    "### Data Efficiency\n",
    "\n",
    "Achieving 90–97% accuracy with 67 training samples highlights WBSNN’s **data efficiency**. The **15x test-to-train ratio** tests generalization, and WBSNN’s high performance validates its **robustness** in low-resource settings, crucial for real-world applications.\n",
    "\n",
    "## Conclusion\n",
    "\n",
    "ItalyPowerDemand experiments confirm **WBSNN’s effectiveness** for time series classification under data scarcity. Key findings:\n",
    "\n",
    "- **High Accuracy**: 90.96–96.70% across dimensions, competitive with SVM and MLP.\n",
    "- **Compression Robustness**: Strong performance in $d=5$ (90–93%) shows that global topological features remain discriminative despite information loss.\n",
    "- **Interpolation Flexibility**: Minimal differences between exact and non-exact interpolation highlight WBSNN’s robust orbit-based approach, with non-exact excelling in higher dimensions.\n",
    "- **Data Efficiency**: 90%+ accuracy with 67 samples underscores WBSNN’s suitability for low-resource tasks.\n",
    "\n",
    "WBSNN’s ability to capture topological invariants in compressed spaces makes it a **versatile and practical** model for time series classification, particularly in data-constrained scenarios.\n"
   ]
  },
  {
   "cell_type": "markdown",
   "id": "41cc3b3c-379d-4987-b710-472dae57f7d7",
   "metadata": {},
   "source": [
    "**Runs 14-16, Non-exact Interpolation**"
   ]
  },
  {
   "cell_type": "code",
   "execution_count": 47,
   "id": "0fc673fd-f66d-445a-9f57-438df2488966",
   "metadata": {},
   "outputs": [
    {
     "name": "stdout",
     "output_type": "stream",
     "text": [
      "\n",
      "Experiment with d=5\n",
      "\n",
      "Running WBSNN experiment with d=5\n",
      "Best W weights: [0.9535192  0.97321135 0.89905244 1.0323555  0.9075745 ]\n",
      "Subsets D_k: 50 subsets, 50 points\n",
      "Delta: 0.9854, threshold 0.1\n",
      "Y_mean: 0.49253731966018677, Y_std: 0.5037175416946411\n",
      "Finished Phase 1\n",
      "Phase 2 (d=5): All norms of Y_i - J W^(L_i) X_i across all D_k are not zero (within 1e-06).\n",
      "Norm distribution: 32 norms in [0, 1e-6), 18 norms in [1e-6, 1), 0 norms in [1, 2), 0 norms in [2, 3), 0 norms >= 3\n",
      "Finished Phase 2\n"
     ]
    },
    {
     "name": "stderr",
     "output_type": "stream",
     "text": [
      "Training epochs (d=5):   0%|                   | 5/1000 [00:00<00:43, 22.89it/s]"
     ]
    },
    {
     "name": "stdout",
     "output_type": "stream",
     "text": [
      "Phase 3 (d=5), Epoch 0, Train Loss: 1.750070740, Test Loss: 1.377344297, Accuracy: 0.4947\n"
     ]
    },
    {
     "name": "stderr",
     "output_type": "stream",
     "text": [
      "Training epochs (d=5):   2%|▍                 | 25/1000 [00:00<00:35, 27.71it/s]"
     ]
    },
    {
     "name": "stdout",
     "output_type": "stream",
     "text": [
      "Phase 3 (d=5), Epoch 20, Train Loss: 0.126187604, Test Loss: 0.247558696, Accuracy: 0.9096\n"
     ]
    },
    {
     "name": "stderr",
     "output_type": "stream",
     "text": [
      "Training epochs (d=5):   4%|▊                 | 45/1000 [00:01<00:33, 28.10it/s]"
     ]
    },
    {
     "name": "stdout",
     "output_type": "stream",
     "text": [
      "Phase 3 (d=5), Epoch 40, Train Loss: 0.165397519, Test Loss: 0.288652657, Accuracy: 0.8950\n"
     ]
    },
    {
     "name": "stderr",
     "output_type": "stream",
     "text": [
      "Training epochs (d=5):   6%|█▏                | 65/1000 [00:02<00:33, 28.25it/s]"
     ]
    },
    {
     "name": "stdout",
     "output_type": "stream",
     "text": [
      "Phase 3 (d=5), Epoch 60, Train Loss: 0.162079303, Test Loss: 0.288648038, Accuracy: 0.9009\n"
     ]
    },
    {
     "name": "stderr",
     "output_type": "stream",
     "text": [
      "Training epochs (d=5):   8%|█▌                | 85/1000 [00:02<00:32, 28.22it/s]"
     ]
    },
    {
     "name": "stdout",
     "output_type": "stream",
     "text": [
      "Phase 3 (d=5), Epoch 80, Train Loss: 0.172601052, Test Loss: 0.290621412, Accuracy: 0.9009\n"
     ]
    },
    {
     "name": "stderr",
     "output_type": "stream",
     "text": [
      "Training epochs (d=5):  10%|█▊               | 105/1000 [00:03<00:31, 28.18it/s]"
     ]
    },
    {
     "name": "stdout",
     "output_type": "stream",
     "text": [
      "Phase 3 (d=5), Epoch 100, Train Loss: 0.166222406, Test Loss: 0.290369573, Accuracy: 0.8989\n"
     ]
    },
    {
     "name": "stderr",
     "output_type": "stream",
     "text": [
      "Training epochs (d=5):  12%|██▏              | 125/1000 [00:04<00:31, 28.19it/s]"
     ]
    },
    {
     "name": "stdout",
     "output_type": "stream",
     "text": [
      "Phase 3 (d=5), Epoch 120, Train Loss: 0.171081446, Test Loss: 0.291059675, Accuracy: 0.8989\n"
     ]
    },
    {
     "name": "stderr",
     "output_type": "stream",
     "text": [
      "Training epochs (d=5):  14%|██▍              | 145/1000 [00:05<00:30, 28.25it/s]"
     ]
    },
    {
     "name": "stdout",
     "output_type": "stream",
     "text": [
      "Phase 3 (d=5), Epoch 140, Train Loss: 0.171203761, Test Loss: 0.291500615, Accuracy: 0.8989\n"
     ]
    },
    {
     "name": "stderr",
     "output_type": "stream",
     "text": [
      "Training epochs (d=5):  16%|██▊              | 165/1000 [00:05<00:29, 28.31it/s]"
     ]
    },
    {
     "name": "stdout",
     "output_type": "stream",
     "text": [
      "Phase 3 (d=5), Epoch 160, Train Loss: 0.174111148, Test Loss: 0.291670458, Accuracy: 0.8989\n"
     ]
    },
    {
     "name": "stderr",
     "output_type": "stream",
     "text": [
      "Training epochs (d=5):  18%|███▏             | 185/1000 [00:06<00:28, 28.18it/s]"
     ]
    },
    {
     "name": "stdout",
     "output_type": "stream",
     "text": [
      "Phase 3 (d=5), Epoch 180, Train Loss: 0.173836725, Test Loss: 0.291620574, Accuracy: 0.8989\n"
     ]
    },
    {
     "name": "stderr",
     "output_type": "stream",
     "text": [
      "Training epochs (d=5):  20%|███▍             | 205/1000 [00:07<00:28, 27.93it/s]"
     ]
    },
    {
     "name": "stdout",
     "output_type": "stream",
     "text": [
      "Phase 3 (d=5), Epoch 200, Train Loss: 0.173582928, Test Loss: 0.291162969, Accuracy: 0.8989\n"
     ]
    },
    {
     "name": "stderr",
     "output_type": "stream",
     "text": [
      "Training epochs (d=5):  22%|███▊             | 225/1000 [00:07<00:27, 28.09it/s]"
     ]
    },
    {
     "name": "stdout",
     "output_type": "stream",
     "text": [
      "Phase 3 (d=5), Epoch 220, Train Loss: 0.171683168, Test Loss: 0.292735688, Accuracy: 0.8989\n"
     ]
    },
    {
     "name": "stderr",
     "output_type": "stream",
     "text": [
      "Training epochs (d=5):  24%|████▏            | 245/1000 [00:08<00:26, 28.30it/s]"
     ]
    },
    {
     "name": "stdout",
     "output_type": "stream",
     "text": [
      "Phase 3 (d=5), Epoch 240, Train Loss: 0.174818459, Test Loss: 0.291679190, Accuracy: 0.8989\n"
     ]
    },
    {
     "name": "stderr",
     "output_type": "stream",
     "text": [
      "Training epochs (d=5):  26%|████▌            | 265/1000 [00:09<00:26, 28.25it/s]"
     ]
    },
    {
     "name": "stdout",
     "output_type": "stream",
     "text": [
      "Phase 3 (d=5), Epoch 260, Train Loss: 0.172588866, Test Loss: 0.291627363, Accuracy: 0.8989\n"
     ]
    },
    {
     "name": "stderr",
     "output_type": "stream",
     "text": [
      "Training epochs (d=5):  28%|████▊            | 285/1000 [00:09<00:25, 28.28it/s]"
     ]
    },
    {
     "name": "stdout",
     "output_type": "stream",
     "text": [
      "Phase 3 (d=5), Epoch 280, Train Loss: 0.172062107, Test Loss: 0.292372729, Accuracy: 0.8989\n"
     ]
    },
    {
     "name": "stderr",
     "output_type": "stream",
     "text": [
      "Training epochs (d=5):  30%|█████▏           | 305/1000 [00:10<00:24, 28.31it/s]"
     ]
    },
    {
     "name": "stdout",
     "output_type": "stream",
     "text": [
      "Phase 3 (d=5), Epoch 300, Train Loss: 0.173918528, Test Loss: 0.292544621, Accuracy: 0.8989\n"
     ]
    },
    {
     "name": "stderr",
     "output_type": "stream",
     "text": [
      "Training epochs (d=5):  32%|█████▌           | 325/1000 [00:11<00:23, 28.26it/s]"
     ]
    },
    {
     "name": "stdout",
     "output_type": "stream",
     "text": [
      "Phase 3 (d=5), Epoch 320, Train Loss: 0.174198148, Test Loss: 0.291802561, Accuracy: 0.8989\n"
     ]
    },
    {
     "name": "stderr",
     "output_type": "stream",
     "text": [
      "Training epochs (d=5):  34%|█████▊           | 345/1000 [00:11<00:23, 28.24it/s]"
     ]
    },
    {
     "name": "stdout",
     "output_type": "stream",
     "text": [
      "Phase 3 (d=5), Epoch 340, Train Loss: 0.172474186, Test Loss: 0.291187629, Accuracy: 0.8989\n"
     ]
    },
    {
     "name": "stderr",
     "output_type": "stream",
     "text": [
      "Training epochs (d=5):  36%|██████▏          | 365/1000 [00:12<00:22, 28.21it/s]"
     ]
    },
    {
     "name": "stdout",
     "output_type": "stream",
     "text": [
      "Phase 3 (d=5), Epoch 360, Train Loss: 0.175980564, Test Loss: 0.290924576, Accuracy: 0.8999\n"
     ]
    },
    {
     "name": "stderr",
     "output_type": "stream",
     "text": [
      "Training epochs (d=5):  38%|██████▌          | 385/1000 [00:13<00:21, 28.27it/s]"
     ]
    },
    {
     "name": "stdout",
     "output_type": "stream",
     "text": [
      "Phase 3 (d=5), Epoch 380, Train Loss: 0.171571109, Test Loss: 0.290428353, Accuracy: 0.8989\n"
     ]
    },
    {
     "name": "stderr",
     "output_type": "stream",
     "text": [
      "Training epochs (d=5):  40%|██████▉          | 405/1000 [00:14<00:21, 28.24it/s]"
     ]
    },
    {
     "name": "stdout",
     "output_type": "stream",
     "text": [
      "Phase 3 (d=5), Epoch 400, Train Loss: 0.172866614, Test Loss: 0.291458824, Accuracy: 0.8989\n"
     ]
    },
    {
     "name": "stderr",
     "output_type": "stream",
     "text": [
      "Training epochs (d=5):  42%|███████▏         | 425/1000 [00:14<00:20, 28.08it/s]"
     ]
    },
    {
     "name": "stdout",
     "output_type": "stream",
     "text": [
      "Phase 3 (d=5), Epoch 420, Train Loss: 0.174742991, Test Loss: 0.291352621, Accuracy: 0.8999\n"
     ]
    },
    {
     "name": "stderr",
     "output_type": "stream",
     "text": [
      "Training epochs (d=5):  44%|███████▌         | 445/1000 [00:15<00:19, 28.10it/s]"
     ]
    },
    {
     "name": "stdout",
     "output_type": "stream",
     "text": [
      "Phase 3 (d=5), Epoch 440, Train Loss: 0.173113784, Test Loss: 0.292396701, Accuracy: 0.8989\n"
     ]
    },
    {
     "name": "stderr",
     "output_type": "stream",
     "text": [
      "Training epochs (d=5):  46%|███████▉         | 465/1000 [00:16<00:19, 27.47it/s]"
     ]
    },
    {
     "name": "stdout",
     "output_type": "stream",
     "text": [
      "Phase 3 (d=5), Epoch 460, Train Loss: 0.175112419, Test Loss: 0.292433527, Accuracy: 0.8989\n"
     ]
    },
    {
     "name": "stderr",
     "output_type": "stream",
     "text": [
      "Training epochs (d=5):  48%|████████▏        | 485/1000 [00:16<00:18, 27.51it/s]"
     ]
    },
    {
     "name": "stdout",
     "output_type": "stream",
     "text": [
      "Phase 3 (d=5), Epoch 480, Train Loss: 0.175423621, Test Loss: 0.292646624, Accuracy: 0.8989\n"
     ]
    },
    {
     "name": "stderr",
     "output_type": "stream",
     "text": [
      "Training epochs (d=5):  50%|████████▌        | 505/1000 [00:17<00:17, 27.84it/s]"
     ]
    },
    {
     "name": "stdout",
     "output_type": "stream",
     "text": [
      "Phase 3 (d=5), Epoch 500, Train Loss: 0.177386717, Test Loss: 0.293901435, Accuracy: 0.8980\n"
     ]
    },
    {
     "name": "stderr",
     "output_type": "stream",
     "text": [
      "Training epochs (d=5):  52%|████████▉        | 525/1000 [00:18<00:17, 27.90it/s]"
     ]
    },
    {
     "name": "stdout",
     "output_type": "stream",
     "text": [
      "Phase 3 (d=5), Epoch 520, Train Loss: 0.174135669, Test Loss: 0.291876231, Accuracy: 0.8989\n"
     ]
    },
    {
     "name": "stderr",
     "output_type": "stream",
     "text": [
      "Training epochs (d=5):  55%|█████████▎       | 545/1000 [00:18<00:16, 28.16it/s]"
     ]
    },
    {
     "name": "stdout",
     "output_type": "stream",
     "text": [
      "Phase 3 (d=5), Epoch 540, Train Loss: 0.174466639, Test Loss: 0.292364672, Accuracy: 0.8989\n"
     ]
    },
    {
     "name": "stderr",
     "output_type": "stream",
     "text": [
      "Training epochs (d=5):  56%|█████████▌       | 565/1000 [00:19<00:15, 27.93it/s]"
     ]
    },
    {
     "name": "stdout",
     "output_type": "stream",
     "text": [
      "Phase 3 (d=5), Epoch 560, Train Loss: 0.177130560, Test Loss: 0.292827809, Accuracy: 0.8989\n"
     ]
    },
    {
     "name": "stderr",
     "output_type": "stream",
     "text": [
      "Training epochs (d=5):  58%|█████████▉       | 585/1000 [00:20<00:15, 27.19it/s]"
     ]
    },
    {
     "name": "stdout",
     "output_type": "stream",
     "text": [
      "Phase 3 (d=5), Epoch 580, Train Loss: 0.172369019, Test Loss: 0.290312082, Accuracy: 0.9009\n"
     ]
    },
    {
     "name": "stderr",
     "output_type": "stream",
     "text": [
      "Training epochs (d=5):  60%|██████████▎      | 605/1000 [00:21<00:14, 28.01it/s]"
     ]
    },
    {
     "name": "stdout",
     "output_type": "stream",
     "text": [
      "Phase 3 (d=5), Epoch 600, Train Loss: 0.177694126, Test Loss: 0.293076502, Accuracy: 0.8980\n"
     ]
    },
    {
     "name": "stderr",
     "output_type": "stream",
     "text": [
      "Training epochs (d=5):  62%|██████████▋      | 625/1000 [00:21<00:13, 28.12it/s]"
     ]
    },
    {
     "name": "stdout",
     "output_type": "stream",
     "text": [
      "Phase 3 (d=5), Epoch 620, Train Loss: 0.171640730, Test Loss: 0.292398497, Accuracy: 0.8989\n"
     ]
    },
    {
     "name": "stderr",
     "output_type": "stream",
     "text": [
      "Training epochs (d=5):  64%|██████████▉      | 645/1000 [00:22<00:12, 28.14it/s]"
     ]
    },
    {
     "name": "stdout",
     "output_type": "stream",
     "text": [
      "Phase 3 (d=5), Epoch 640, Train Loss: 0.174060773, Test Loss: 0.292810129, Accuracy: 0.8989\n"
     ]
    },
    {
     "name": "stderr",
     "output_type": "stream",
     "text": [
      "Training epochs (d=5):  66%|███████████▎     | 665/1000 [00:23<00:11, 28.19it/s]"
     ]
    },
    {
     "name": "stdout",
     "output_type": "stream",
     "text": [
      "Phase 3 (d=5), Epoch 660, Train Loss: 0.177402576, Test Loss: 0.294383988, Accuracy: 0.8980\n"
     ]
    },
    {
     "name": "stderr",
     "output_type": "stream",
     "text": [
      "Training epochs (d=5):  68%|███████████▋     | 685/1000 [00:23<00:11, 27.99it/s]"
     ]
    },
    {
     "name": "stdout",
     "output_type": "stream",
     "text": [
      "Phase 3 (d=5), Epoch 680, Train Loss: 0.173594633, Test Loss: 0.289974044, Accuracy: 0.9009\n"
     ]
    },
    {
     "name": "stderr",
     "output_type": "stream",
     "text": [
      "Training epochs (d=5):  70%|███████████▉     | 705/1000 [00:24<00:10, 28.09it/s]"
     ]
    },
    {
     "name": "stdout",
     "output_type": "stream",
     "text": [
      "Phase 3 (d=5), Epoch 700, Train Loss: 0.178355679, Test Loss: 0.293410184, Accuracy: 0.8980\n"
     ]
    },
    {
     "name": "stderr",
     "output_type": "stream",
     "text": [
      "Training epochs (d=5):  72%|████████████▎    | 725/1000 [00:25<00:09, 27.55it/s]"
     ]
    },
    {
     "name": "stdout",
     "output_type": "stream",
     "text": [
      "Phase 3 (d=5), Epoch 720, Train Loss: 0.176101102, Test Loss: 0.291536848, Accuracy: 0.8989\n"
     ]
    },
    {
     "name": "stderr",
     "output_type": "stream",
     "text": [
      "Training epochs (d=5):  74%|████████████▋    | 745/1000 [00:25<00:09, 27.42it/s]"
     ]
    },
    {
     "name": "stdout",
     "output_type": "stream",
     "text": [
      "Phase 3 (d=5), Epoch 740, Train Loss: 0.173908127, Test Loss: 0.290913443, Accuracy: 0.8989\n"
     ]
    },
    {
     "name": "stderr",
     "output_type": "stream",
     "text": [
      "Training epochs (d=5):  76%|█████████████    | 765/1000 [00:26<00:08, 27.50it/s]"
     ]
    },
    {
     "name": "stdout",
     "output_type": "stream",
     "text": [
      "Phase 3 (d=5), Epoch 760, Train Loss: 0.170909824, Test Loss: 0.292337444, Accuracy: 0.8989\n"
     ]
    },
    {
     "name": "stderr",
     "output_type": "stream",
     "text": [
      "Training epochs (d=5):  78%|█████████████▎   | 785/1000 [00:27<00:07, 27.66it/s]"
     ]
    },
    {
     "name": "stdout",
     "output_type": "stream",
     "text": [
      "Phase 3 (d=5), Epoch 780, Train Loss: 0.169994726, Test Loss: 0.291578110, Accuracy: 0.8999\n"
     ]
    },
    {
     "name": "stderr",
     "output_type": "stream",
     "text": [
      "Training epochs (d=5):  80%|█████████████▋   | 805/1000 [00:27<00:06, 28.17it/s]"
     ]
    },
    {
     "name": "stdout",
     "output_type": "stream",
     "text": [
      "Phase 3 (d=5), Epoch 800, Train Loss: 0.174845938, Test Loss: 0.291381662, Accuracy: 0.8989\n"
     ]
    },
    {
     "name": "stderr",
     "output_type": "stream",
     "text": [
      "Training epochs (d=5):  82%|██████████████   | 825/1000 [00:28<00:06, 28.16it/s]"
     ]
    },
    {
     "name": "stdout",
     "output_type": "stream",
     "text": [
      "Phase 3 (d=5), Epoch 820, Train Loss: 0.174942320, Test Loss: 0.291470634, Accuracy: 0.8989\n"
     ]
    },
    {
     "name": "stderr",
     "output_type": "stream",
     "text": [
      "Training epochs (d=5):  84%|██████████████▎  | 845/1000 [00:29<00:05, 28.29it/s]"
     ]
    },
    {
     "name": "stdout",
     "output_type": "stream",
     "text": [
      "Phase 3 (d=5), Epoch 840, Train Loss: 0.176648473, Test Loss: 0.292561472, Accuracy: 0.8989\n"
     ]
    },
    {
     "name": "stderr",
     "output_type": "stream",
     "text": [
      "Training epochs (d=5):  86%|██████████████▋  | 865/1000 [00:30<00:04, 28.33it/s]"
     ]
    },
    {
     "name": "stdout",
     "output_type": "stream",
     "text": [
      "Phase 3 (d=5), Epoch 860, Train Loss: 0.175851919, Test Loss: 0.291671796, Accuracy: 0.8989\n"
     ]
    },
    {
     "name": "stderr",
     "output_type": "stream",
     "text": [
      "Training epochs (d=5):  88%|███████████████  | 885/1000 [00:30<00:04, 28.18it/s]"
     ]
    },
    {
     "name": "stdout",
     "output_type": "stream",
     "text": [
      "Phase 3 (d=5), Epoch 880, Train Loss: 0.174353435, Test Loss: 0.291503613, Accuracy: 0.8989\n"
     ]
    },
    {
     "name": "stderr",
     "output_type": "stream",
     "text": [
      "Training epochs (d=5):  90%|███████████████▍ | 905/1000 [00:31<00:03, 27.09it/s]"
     ]
    },
    {
     "name": "stdout",
     "output_type": "stream",
     "text": [
      "Phase 3 (d=5), Epoch 900, Train Loss: 0.172221673, Test Loss: 0.292282516, Accuracy: 0.8989\n"
     ]
    },
    {
     "name": "stderr",
     "output_type": "stream",
     "text": [
      "Training epochs (d=5):  92%|███████████████▋ | 925/1000 [00:32<00:02, 27.86it/s]"
     ]
    },
    {
     "name": "stdout",
     "output_type": "stream",
     "text": [
      "Phase 3 (d=5), Epoch 920, Train Loss: 0.177878438, Test Loss: 0.293788273, Accuracy: 0.8980\n"
     ]
    },
    {
     "name": "stderr",
     "output_type": "stream",
     "text": [
      "Training epochs (d=5):  94%|████████████████ | 945/1000 [00:32<00:01, 27.77it/s]"
     ]
    },
    {
     "name": "stdout",
     "output_type": "stream",
     "text": [
      "Phase 3 (d=5), Epoch 940, Train Loss: 0.174315073, Test Loss: 0.291752095, Accuracy: 0.8989\n"
     ]
    },
    {
     "name": "stderr",
     "output_type": "stream",
     "text": [
      "Training epochs (d=5):  96%|████████████████▍| 965/1000 [00:33<00:01, 27.66it/s]"
     ]
    },
    {
     "name": "stdout",
     "output_type": "stream",
     "text": [
      "Phase 3 (d=5), Epoch 960, Train Loss: 0.174764001, Test Loss: 0.291521833, Accuracy: 0.8989\n"
     ]
    },
    {
     "name": "stderr",
     "output_type": "stream",
     "text": [
      "Training epochs (d=5):  98%|████████████████▋| 985/1000 [00:34<00:00, 27.25it/s]"
     ]
    },
    {
     "name": "stdout",
     "output_type": "stream",
     "text": [
      "Phase 3 (d=5), Epoch 980, Train Loss: 0.174802058, Test Loss: 0.293860589, Accuracy: 0.8980\n"
     ]
    },
    {
     "name": "stderr",
     "output_type": "stream",
     "text": [
      "Training epochs (d=5): 100%|████████████████| 1000/1000 [00:34<00:00, 28.80it/s]\n"
     ]
    },
    {
     "name": "stdout",
     "output_type": "stream",
     "text": [
      "Finished WBSNN experiment with d=5, Train Loss: 0.1735, Test Loss: 0.2939, Accuracy: 0.9096\n",
      "\n",
      "Final Results for d=5:\n",
      "                  Model  Train Accuracy  Test Accuracy  Train Loss  Test Loss\n",
      "0                 WBSNN        0.955224       0.909621    0.173469   0.293861\n",
      "1   Logistic Regression        0.970149       0.908649    0.154403   0.257273\n",
      "2         Random Forest        1.000000       0.882410    0.058357   0.265165\n",
      "3             SVM (RBF)        0.985075       0.923226    0.080202   0.196782\n",
      "4  MLP (1 hidden layer)        0.970149       0.917396    0.052597   0.201930\n",
      "\n",
      "Experiment with d=10\n",
      "\n",
      "Running WBSNN experiment with d=10\n",
      "Best W weights: [1.014765   1.0398809  1.0513544  1.0739558  0.9829006  0.93746334\n",
      " 0.92660546 0.921391   0.9218606  0.9128433 ]\n",
      "Subsets D_k: 5 subsets, 50 points\n",
      "Delta: 0.4796, threshold 0.01\n",
      "Y_mean: 0.49253731966018677, Y_std: 0.5037175416946411\n",
      "Finished Phase 1\n",
      "Phase 2 (d=10): All norms of Y_i - J W^(L_i) X_i across all D_k are not zero (within 1e-06).\n",
      "Norm distribution: 0 norms in [0, 1e-6), 5 norms in [1e-6, 1), 0 norms in [1, 2), 0 norms in [2, 3), 0 norms >= 3\n",
      "Finished Phase 2\n"
     ]
    },
    {
     "name": "stderr",
     "output_type": "stream",
     "text": [
      "Training epochs (d=10):   1%|▏                  | 4/550 [00:00<00:31, 17.56it/s]"
     ]
    },
    {
     "name": "stdout",
     "output_type": "stream",
     "text": [
      "Phase 3 (d=10), Epoch 0, Train Loss: 0.377381190, Test Loss: 0.356210287, Accuracy: 0.8707\n"
     ]
    },
    {
     "name": "stderr",
     "output_type": "stream",
     "text": [
      "Training epochs (d=10):   5%|▊                 | 25/550 [00:01<00:23, 22.30it/s]"
     ]
    },
    {
     "name": "stdout",
     "output_type": "stream",
     "text": [
      "Phase 3 (d=10), Epoch 20, Train Loss: 0.178642362, Test Loss: 0.216078594, Accuracy: 0.9242\n"
     ]
    },
    {
     "name": "stderr",
     "output_type": "stream",
     "text": [
      "Training epochs (d=10):   8%|█▌                | 46/550 [00:01<00:22, 22.59it/s]"
     ]
    },
    {
     "name": "stdout",
     "output_type": "stream",
     "text": [
      "Phase 3 (d=10), Epoch 40, Train Loss: 0.121136083, Test Loss: 0.217753782, Accuracy: 0.9203\n"
     ]
    },
    {
     "name": "stderr",
     "output_type": "stream",
     "text": [
      "Training epochs (d=10):  12%|██                | 64/550 [00:02<00:21, 22.43it/s]"
     ]
    },
    {
     "name": "stdout",
     "output_type": "stream",
     "text": [
      "Phase 3 (d=10), Epoch 60, Train Loss: 0.060772128, Test Loss: 0.227392559, Accuracy: 0.9203\n"
     ]
    },
    {
     "name": "stderr",
     "output_type": "stream",
     "text": [
      "Training epochs (d=10):  15%|██▊               | 85/550 [00:03<00:20, 22.51it/s]"
     ]
    },
    {
     "name": "stdout",
     "output_type": "stream",
     "text": [
      "Phase 3 (d=10), Epoch 80, Train Loss: 0.064506708, Test Loss: 0.227144935, Accuracy: 0.9164\n"
     ]
    },
    {
     "name": "stderr",
     "output_type": "stream",
     "text": [
      "Training epochs (d=10):  19%|███▎             | 106/550 [00:04<00:19, 22.44it/s]"
     ]
    },
    {
     "name": "stdout",
     "output_type": "stream",
     "text": [
      "Phase 3 (d=10), Epoch 100, Train Loss: 0.043922602, Test Loss: 0.232436928, Accuracy: 0.9174\n"
     ]
    },
    {
     "name": "stderr",
     "output_type": "stream",
     "text": [
      "Training epochs (d=10):  23%|███▊             | 124/550 [00:05<00:19, 21.98it/s]"
     ]
    },
    {
     "name": "stdout",
     "output_type": "stream",
     "text": [
      "Phase 3 (d=10), Epoch 120, Train Loss: 0.086757435, Test Loss: 0.236176679, Accuracy: 0.9164\n"
     ]
    },
    {
     "name": "stderr",
     "output_type": "stream",
     "text": [
      "Training epochs (d=10):  26%|████▍            | 145/550 [00:06<00:18, 22.49it/s]"
     ]
    },
    {
     "name": "stdout",
     "output_type": "stream",
     "text": [
      "Phase 3 (d=10), Epoch 140, Train Loss: 0.059830568, Test Loss: 0.240232359, Accuracy: 0.9174\n"
     ]
    },
    {
     "name": "stderr",
     "output_type": "stream",
     "text": [
      "Training epochs (d=10):  30%|█████▏           | 166/550 [00:07<00:16, 22.59it/s]"
     ]
    },
    {
     "name": "stdout",
     "output_type": "stream",
     "text": [
      "Phase 3 (d=10), Epoch 160, Train Loss: 0.048042569, Test Loss: 0.244462565, Accuracy: 0.9203\n"
     ]
    },
    {
     "name": "stderr",
     "output_type": "stream",
     "text": [
      "Training epochs (d=10):  33%|█████▋           | 184/550 [00:07<00:16, 22.35it/s]"
     ]
    },
    {
     "name": "stdout",
     "output_type": "stream",
     "text": [
      "Phase 3 (d=10), Epoch 180, Train Loss: 0.026073416, Test Loss: 0.238805546, Accuracy: 0.9184\n"
     ]
    },
    {
     "name": "stderr",
     "output_type": "stream",
     "text": [
      "Training epochs (d=10):  37%|██████▎          | 205/550 [00:08<00:15, 22.60it/s]"
     ]
    },
    {
     "name": "stdout",
     "output_type": "stream",
     "text": [
      "Phase 3 (d=10), Epoch 200, Train Loss: 0.091332471, Test Loss: 0.238385817, Accuracy: 0.9203\n"
     ]
    },
    {
     "name": "stderr",
     "output_type": "stream",
     "text": [
      "Training epochs (d=10):  41%|██████▉          | 226/550 [00:09<00:14, 22.63it/s]"
     ]
    },
    {
     "name": "stdout",
     "output_type": "stream",
     "text": [
      "Phase 3 (d=10), Epoch 220, Train Loss: 0.057944389, Test Loss: 0.239635048, Accuracy: 0.9184\n"
     ]
    },
    {
     "name": "stderr",
     "output_type": "stream",
     "text": [
      "Training epochs (d=10):  44%|███████▌         | 244/550 [00:10<00:13, 22.48it/s]"
     ]
    },
    {
     "name": "stdout",
     "output_type": "stream",
     "text": [
      "Phase 3 (d=10), Epoch 240, Train Loss: 0.052199136, Test Loss: 0.237974946, Accuracy: 0.9213\n"
     ]
    },
    {
     "name": "stderr",
     "output_type": "stream",
     "text": [
      "Training epochs (d=10):  48%|████████▏        | 265/550 [00:11<00:12, 22.63it/s]"
     ]
    },
    {
     "name": "stdout",
     "output_type": "stream",
     "text": [
      "Phase 3 (d=10), Epoch 260, Train Loss: 0.105251985, Test Loss: 0.238372909, Accuracy: 0.9203\n"
     ]
    },
    {
     "name": "stderr",
     "output_type": "stream",
     "text": [
      "Training epochs (d=10):  52%|████████▊        | 286/550 [00:12<00:11, 22.66it/s]"
     ]
    },
    {
     "name": "stdout",
     "output_type": "stream",
     "text": [
      "Phase 3 (d=10), Epoch 280, Train Loss: 0.045097035, Test Loss: 0.235989358, Accuracy: 0.9203\n"
     ]
    },
    {
     "name": "stderr",
     "output_type": "stream",
     "text": [
      "Training epochs (d=10):  55%|█████████▍       | 304/550 [00:12<00:10, 22.52it/s]"
     ]
    },
    {
     "name": "stdout",
     "output_type": "stream",
     "text": [
      "Phase 3 (d=10), Epoch 300, Train Loss: 0.073498158, Test Loss: 0.236483494, Accuracy: 0.9223\n"
     ]
    },
    {
     "name": "stderr",
     "output_type": "stream",
     "text": [
      "Training epochs (d=10):  59%|██████████       | 325/550 [00:13<00:09, 22.63it/s]"
     ]
    },
    {
     "name": "stdout",
     "output_type": "stream",
     "text": [
      "Phase 3 (d=10), Epoch 320, Train Loss: 0.056224742, Test Loss: 0.234195442, Accuracy: 0.9232\n"
     ]
    },
    {
     "name": "stderr",
     "output_type": "stream",
     "text": [
      "Training epochs (d=10):  63%|██████████▋      | 346/550 [00:14<00:09, 22.57it/s]"
     ]
    },
    {
     "name": "stdout",
     "output_type": "stream",
     "text": [
      "Phase 3 (d=10), Epoch 340, Train Loss: 0.079376317, Test Loss: 0.239618785, Accuracy: 0.9184\n"
     ]
    },
    {
     "name": "stderr",
     "output_type": "stream",
     "text": [
      "Training epochs (d=10):  66%|███████████▎     | 364/550 [00:15<00:08, 22.50it/s]"
     ]
    },
    {
     "name": "stdout",
     "output_type": "stream",
     "text": [
      "Phase 3 (d=10), Epoch 360, Train Loss: 0.058795407, Test Loss: 0.247526223, Accuracy: 0.9232\n"
     ]
    },
    {
     "name": "stderr",
     "output_type": "stream",
     "text": [
      "Training epochs (d=10):  70%|███████████▉     | 385/550 [00:16<00:07, 22.62it/s]"
     ]
    },
    {
     "name": "stdout",
     "output_type": "stream",
     "text": [
      "Phase 3 (d=10), Epoch 380, Train Loss: 0.071778836, Test Loss: 0.246670652, Accuracy: 0.9193\n"
     ]
    },
    {
     "name": "stderr",
     "output_type": "stream",
     "text": [
      "Training epochs (d=10):  74%|████████████▌    | 406/550 [00:17<00:06, 22.60it/s]"
     ]
    },
    {
     "name": "stdout",
     "output_type": "stream",
     "text": [
      "Phase 3 (d=10), Epoch 400, Train Loss: 0.035905174, Test Loss: 0.232484973, Accuracy: 0.9223\n"
     ]
    },
    {
     "name": "stderr",
     "output_type": "stream",
     "text": [
      "Training epochs (d=10):  77%|█████████████    | 424/550 [00:17<00:05, 22.53it/s]"
     ]
    },
    {
     "name": "stdout",
     "output_type": "stream",
     "text": [
      "Phase 3 (d=10), Epoch 420, Train Loss: 0.075007902, Test Loss: 0.231836566, Accuracy: 0.9232\n"
     ]
    },
    {
     "name": "stderr",
     "output_type": "stream",
     "text": [
      "Training epochs (d=10):  81%|█████████████▊   | 445/550 [00:18<00:04, 22.41it/s]"
     ]
    },
    {
     "name": "stdout",
     "output_type": "stream",
     "text": [
      "Phase 3 (d=10), Epoch 440, Train Loss: 0.055290147, Test Loss: 0.233377417, Accuracy: 0.9232\n"
     ]
    },
    {
     "name": "stderr",
     "output_type": "stream",
     "text": [
      "Training epochs (d=10):  85%|██████████████▍  | 466/550 [00:19<00:03, 22.60it/s]"
     ]
    },
    {
     "name": "stdout",
     "output_type": "stream",
     "text": [
      "Phase 3 (d=10), Epoch 460, Train Loss: 0.112505980, Test Loss: 0.241486567, Accuracy: 0.9213\n"
     ]
    },
    {
     "name": "stderr",
     "output_type": "stream",
     "text": [
      "Training epochs (d=10):  88%|██████████████▉  | 484/550 [00:20<00:02, 22.48it/s]"
     ]
    },
    {
     "name": "stdout",
     "output_type": "stream",
     "text": [
      "Phase 3 (d=10), Epoch 480, Train Loss: 0.072892815, Test Loss: 0.246935777, Accuracy: 0.9213\n"
     ]
    },
    {
     "name": "stderr",
     "output_type": "stream",
     "text": [
      "Training epochs (d=10):  92%|███████████████▌ | 505/550 [00:21<00:01, 22.65it/s]"
     ]
    },
    {
     "name": "stdout",
     "output_type": "stream",
     "text": [
      "Phase 3 (d=10), Epoch 500, Train Loss: 0.065236045, Test Loss: 0.242614386, Accuracy: 0.9223\n"
     ]
    },
    {
     "name": "stderr",
     "output_type": "stream",
     "text": [
      "Training epochs (d=10):  96%|████████████████▎| 526/550 [00:21<00:01, 22.65it/s]"
     ]
    },
    {
     "name": "stdout",
     "output_type": "stream",
     "text": [
      "Phase 3 (d=10), Epoch 520, Train Loss: 0.017908587, Test Loss: 0.234369631, Accuracy: 0.9203\n"
     ]
    },
    {
     "name": "stderr",
     "output_type": "stream",
     "text": [
      "Training epochs (d=10):  99%|████████████████▊| 544/550 [00:22<00:00, 22.46it/s]"
     ]
    },
    {
     "name": "stdout",
     "output_type": "stream",
     "text": [
      "Phase 3 (d=10), Epoch 540, Train Loss: 0.052944162, Test Loss: 0.240057204, Accuracy: 0.9223\n"
     ]
    },
    {
     "name": "stderr",
     "output_type": "stream",
     "text": [
      "Training epochs (d=10): 100%|█████████████████| 550/550 [00:22<00:00, 23.94it/s]\n"
     ]
    },
    {
     "name": "stdout",
     "output_type": "stream",
     "text": [
      "Finished WBSNN experiment with d=10, Train Loss: 0.0834, Test Loss: 0.2401, Accuracy: 0.9242\n",
      "\n",
      "Final Results for d=10:\n",
      "                  Model  Train Accuracy  Test Accuracy  Train Loss  Test Loss\n",
      "0                 WBSNN        0.985075       0.924198    0.083397   0.240057\n",
      "1   Logistic Regression        0.955224       0.902818    0.120012   0.250129\n",
      "2         Random Forest        1.000000       0.909621    0.058789   0.252262\n",
      "3             SVM (RBF)        0.985075       0.919339    0.092506   0.218056\n",
      "4  MLP (1 hidden layer)        0.970149       0.901846    0.049433   0.208002\n",
      "\n",
      "Experiment with d=24\n",
      "\n",
      "Running WBSNN experiment with d=24\n",
      "Best W weights: [0.93508536 0.93318963 0.93035537 0.9272173  0.92562264 0.9336433\n",
      " 1.0340823  1.0641358  1.0605695  1.0508404  1.0411947  1.0320709\n",
      " 1.0323222  1.0321281  1.0422145  1.0480243  1.0572503  1.0751\n",
      " 1.0393561  0.98192257 0.96233606 0.94364285 0.9374327  0.9361178 ]\n",
      "Subsets D_k: 5 subsets, 50 points\n",
      "Delta: 0.3767, threshold 0.01\n",
      "Y_mean: 0.49253731966018677, Y_std: 0.5037175416946411\n",
      "Finished Phase 1\n",
      "Phase 2 (d=24): All norms of Y_i - J W^(L_i) X_i across all D_k are not zero (within 1e-06).\n",
      "Norm distribution: 0 norms in [0, 1e-6), 5 norms in [1e-6, 1), 0 norms in [1, 2), 0 norms in [2, 3), 0 norms >= 3\n",
      "Finished Phase 2\n"
     ]
    },
    {
     "name": "stderr",
     "output_type": "stream",
     "text": [
      "Training epochs (d=24):   1%|                   | 3/550 [00:00<00:47, 11.51it/s]"
     ]
    },
    {
     "name": "stdout",
     "output_type": "stream",
     "text": [
      "Phase 3 (d=24), Epoch 0, Train Loss: 1.207124692, Test Loss: 1.126693253, Accuracy: 0.5345\n"
     ]
    },
    {
     "name": "stderr",
     "output_type": "stream",
     "text": [
      "Training epochs (d=24):   4%|▊                 | 23/550 [00:01<00:34, 15.07it/s]"
     ]
    },
    {
     "name": "stdout",
     "output_type": "stream",
     "text": [
      "Phase 3 (d=24), Epoch 20, Train Loss: 0.069856757, Test Loss: 0.136672853, Accuracy: 0.9504\n"
     ]
    },
    {
     "name": "stderr",
     "output_type": "stream",
     "text": [
      "Training epochs (d=24):   8%|█▍                | 43/550 [00:02<00:34, 14.85it/s]"
     ]
    },
    {
     "name": "stdout",
     "output_type": "stream",
     "text": [
      "Phase 3 (d=24), Epoch 40, Train Loss: 0.057900052, Test Loss: 0.124288759, Accuracy: 0.9553\n"
     ]
    },
    {
     "name": "stderr",
     "output_type": "stream",
     "text": [
      "Training epochs (d=24):  11%|██                | 63/550 [00:03<00:31, 15.29it/s]"
     ]
    },
    {
     "name": "stdout",
     "output_type": "stream",
     "text": [
      "Phase 3 (d=24), Epoch 60, Train Loss: 0.061519045, Test Loss: 0.112149281, Accuracy: 0.9582\n"
     ]
    },
    {
     "name": "stderr",
     "output_type": "stream",
     "text": [
      "Training epochs (d=24):  15%|██▋               | 83/550 [00:05<00:30, 15.38it/s]"
     ]
    },
    {
     "name": "stdout",
     "output_type": "stream",
     "text": [
      "Phase 3 (d=24), Epoch 80, Train Loss: 0.047321296, Test Loss: 0.102054940, Accuracy: 0.9621\n"
     ]
    },
    {
     "name": "stderr",
     "output_type": "stream",
     "text": [
      "Training epochs (d=24):  19%|███▏             | 103/550 [00:06<00:29, 15.28it/s]"
     ]
    },
    {
     "name": "stdout",
     "output_type": "stream",
     "text": [
      "Phase 3 (d=24), Epoch 100, Train Loss: 0.043614380, Test Loss: 0.099707812, Accuracy: 0.9611\n"
     ]
    },
    {
     "name": "stderr",
     "output_type": "stream",
     "text": [
      "Training epochs (d=24):  22%|███▊             | 123/550 [00:07<00:27, 15.40it/s]"
     ]
    },
    {
     "name": "stdout",
     "output_type": "stream",
     "text": [
      "Phase 3 (d=24), Epoch 120, Train Loss: 0.065548651, Test Loss: 0.097919851, Accuracy: 0.9621\n"
     ]
    },
    {
     "name": "stderr",
     "output_type": "stream",
     "text": [
      "Training epochs (d=24):  26%|████▍            | 143/550 [00:08<00:26, 15.29it/s]"
     ]
    },
    {
     "name": "stdout",
     "output_type": "stream",
     "text": [
      "Phase 3 (d=24), Epoch 140, Train Loss: 0.054597435, Test Loss: 0.097603194, Accuracy: 0.9640\n"
     ]
    },
    {
     "name": "stderr",
     "output_type": "stream",
     "text": [
      "Training epochs (d=24):  30%|█████            | 163/550 [00:09<00:25, 15.37it/s]"
     ]
    },
    {
     "name": "stdout",
     "output_type": "stream",
     "text": [
      "Phase 3 (d=24), Epoch 160, Train Loss: 0.058737376, Test Loss: 0.098165967, Accuracy: 0.9650\n"
     ]
    },
    {
     "name": "stderr",
     "output_type": "stream",
     "text": [
      "Training epochs (d=24):  33%|█████▋           | 183/550 [00:10<00:24, 15.08it/s]"
     ]
    },
    {
     "name": "stdout",
     "output_type": "stream",
     "text": [
      "Phase 3 (d=24), Epoch 180, Train Loss: 0.067017320, Test Loss: 0.098156096, Accuracy: 0.9660\n"
     ]
    },
    {
     "name": "stderr",
     "output_type": "stream",
     "text": [
      "Training epochs (d=24):  37%|██████▎          | 203/550 [00:12<00:22, 15.22it/s]"
     ]
    },
    {
     "name": "stdout",
     "output_type": "stream",
     "text": [
      "Phase 3 (d=24), Epoch 200, Train Loss: 0.051166877, Test Loss: 0.098012592, Accuracy: 0.9660\n"
     ]
    },
    {
     "name": "stderr",
     "output_type": "stream",
     "text": [
      "Training epochs (d=24):  41%|██████▉          | 223/550 [00:13<00:21, 15.38it/s]"
     ]
    },
    {
     "name": "stdout",
     "output_type": "stream",
     "text": [
      "Phase 3 (d=24), Epoch 220, Train Loss: 0.057877633, Test Loss: 0.098023350, Accuracy: 0.9670\n"
     ]
    },
    {
     "name": "stderr",
     "output_type": "stream",
     "text": [
      "Training epochs (d=24):  44%|███████▌         | 243/550 [00:14<00:20, 15.27it/s]"
     ]
    },
    {
     "name": "stdout",
     "output_type": "stream",
     "text": [
      "Phase 3 (d=24), Epoch 240, Train Loss: 0.050412327, Test Loss: 0.097731991, Accuracy: 0.9670\n"
     ]
    },
    {
     "name": "stderr",
     "output_type": "stream",
     "text": [
      "Training epochs (d=24):  48%|████████▏        | 263/550 [00:15<00:18, 15.12it/s]"
     ]
    },
    {
     "name": "stdout",
     "output_type": "stream",
     "text": [
      "Phase 3 (d=24), Epoch 260, Train Loss: 0.051032452, Test Loss: 0.097961154, Accuracy: 0.9660\n"
     ]
    },
    {
     "name": "stderr",
     "output_type": "stream",
     "text": [
      "Training epochs (d=24):  51%|████████▋        | 283/550 [00:16<00:17, 15.35it/s]"
     ]
    },
    {
     "name": "stdout",
     "output_type": "stream",
     "text": [
      "Phase 3 (d=24), Epoch 280, Train Loss: 0.048284715, Test Loss: 0.097636415, Accuracy: 0.9679\n"
     ]
    },
    {
     "name": "stderr",
     "output_type": "stream",
     "text": [
      "Training epochs (d=24):  55%|█████████▎       | 303/550 [00:17<00:15, 15.49it/s]"
     ]
    },
    {
     "name": "stdout",
     "output_type": "stream",
     "text": [
      "Phase 3 (d=24), Epoch 300, Train Loss: 0.053096981, Test Loss: 0.097443998, Accuracy: 0.9670\n"
     ]
    },
    {
     "name": "stderr",
     "output_type": "stream",
     "text": [
      "Training epochs (d=24):  59%|█████████▉       | 323/550 [00:19<00:14, 15.28it/s]"
     ]
    },
    {
     "name": "stdout",
     "output_type": "stream",
     "text": [
      "Phase 3 (d=24), Epoch 320, Train Loss: 0.057789181, Test Loss: 0.097456610, Accuracy: 0.9670\n"
     ]
    },
    {
     "name": "stderr",
     "output_type": "stream",
     "text": [
      "Training epochs (d=24):  62%|██████████▌      | 343/550 [00:20<00:13, 15.32it/s]"
     ]
    },
    {
     "name": "stdout",
     "output_type": "stream",
     "text": [
      "Phase 3 (d=24), Epoch 340, Train Loss: 0.050466138, Test Loss: 0.097280427, Accuracy: 0.9679\n"
     ]
    },
    {
     "name": "stderr",
     "output_type": "stream",
     "text": [
      "Training epochs (d=24):  66%|███████████▏     | 363/550 [00:21<00:12, 14.95it/s]"
     ]
    },
    {
     "name": "stdout",
     "output_type": "stream",
     "text": [
      "Phase 3 (d=24), Epoch 360, Train Loss: 0.051911780, Test Loss: 0.097330745, Accuracy: 0.9679\n"
     ]
    },
    {
     "name": "stderr",
     "output_type": "stream",
     "text": [
      "Training epochs (d=24):  70%|███████████▊     | 383/550 [00:22<00:11, 15.12it/s]"
     ]
    },
    {
     "name": "stdout",
     "output_type": "stream",
     "text": [
      "Phase 3 (d=24), Epoch 380, Train Loss: 0.052761950, Test Loss: 0.097359110, Accuracy: 0.9679\n"
     ]
    },
    {
     "name": "stderr",
     "output_type": "stream",
     "text": [
      "Training epochs (d=24):  73%|████████████▍    | 403/550 [00:23<00:09, 15.06it/s]"
     ]
    },
    {
     "name": "stdout",
     "output_type": "stream",
     "text": [
      "Phase 3 (d=24), Epoch 400, Train Loss: 0.052064321, Test Loss: 0.096851430, Accuracy: 0.9679\n"
     ]
    },
    {
     "name": "stderr",
     "output_type": "stream",
     "text": [
      "Training epochs (d=24):  77%|█████████████    | 423/550 [00:25<00:08, 15.45it/s]"
     ]
    },
    {
     "name": "stdout",
     "output_type": "stream",
     "text": [
      "Phase 3 (d=24), Epoch 420, Train Loss: 0.049844927, Test Loss: 0.097072755, Accuracy: 0.9670\n"
     ]
    },
    {
     "name": "stderr",
     "output_type": "stream",
     "text": [
      "Training epochs (d=24):  81%|█████████████▋   | 443/550 [00:26<00:06, 15.48it/s]"
     ]
    },
    {
     "name": "stdout",
     "output_type": "stream",
     "text": [
      "Phase 3 (d=24), Epoch 440, Train Loss: 0.049049354, Test Loss: 0.096558752, Accuracy: 0.9679\n"
     ]
    },
    {
     "name": "stderr",
     "output_type": "stream",
     "text": [
      "Training epochs (d=24):  84%|██████████████▎  | 463/550 [00:27<00:05, 15.41it/s]"
     ]
    },
    {
     "name": "stdout",
     "output_type": "stream",
     "text": [
      "Phase 3 (d=24), Epoch 460, Train Loss: 0.049876462, Test Loss: 0.096900552, Accuracy: 0.9679\n"
     ]
    },
    {
     "name": "stderr",
     "output_type": "stream",
     "text": [
      "Training epochs (d=24):  88%|██████████████▉  | 483/550 [00:28<00:04, 15.46it/s]"
     ]
    },
    {
     "name": "stdout",
     "output_type": "stream",
     "text": [
      "Phase 3 (d=24), Epoch 480, Train Loss: 0.040038545, Test Loss: 0.096877418, Accuracy: 0.9689\n"
     ]
    },
    {
     "name": "stderr",
     "output_type": "stream",
     "text": [
      "Training epochs (d=24):  91%|███████████████▌ | 503/550 [00:29<00:03, 15.48it/s]"
     ]
    },
    {
     "name": "stdout",
     "output_type": "stream",
     "text": [
      "Phase 3 (d=24), Epoch 500, Train Loss: 0.049070145, Test Loss: 0.096954822, Accuracy: 0.9689\n"
     ]
    },
    {
     "name": "stderr",
     "output_type": "stream",
     "text": [
      "Training epochs (d=24):  95%|████████████████▏| 523/550 [00:30<00:01, 15.45it/s]"
     ]
    },
    {
     "name": "stdout",
     "output_type": "stream",
     "text": [
      "Phase 3 (d=24), Epoch 520, Train Loss: 0.056137939, Test Loss: 0.096744887, Accuracy: 0.9650\n"
     ]
    },
    {
     "name": "stderr",
     "output_type": "stream",
     "text": [
      "Training epochs (d=24):  99%|████████████████▊| 543/550 [00:32<00:00, 15.37it/s]"
     ]
    },
    {
     "name": "stdout",
     "output_type": "stream",
     "text": [
      "Phase 3 (d=24), Epoch 540, Train Loss: 0.047971872, Test Loss: 0.096293857, Accuracy: 0.9670\n"
     ]
    },
    {
     "name": "stderr",
     "output_type": "stream",
     "text": [
      "Training epochs (d=24): 100%|█████████████████| 550/550 [00:32<00:00, 16.95it/s]\n"
     ]
    },
    {
     "name": "stdout",
     "output_type": "stream",
     "text": [
      "Finished WBSNN experiment with d=24, Train Loss: 0.0502, Test Loss: 0.0963, Accuracy: 0.9670\n",
      "\n",
      "Final Results for d=24:\n",
      "                  Model  Train Accuracy  Test Accuracy  Train Loss  Test Loss\n",
      "0                 WBSNN        0.985075       0.966958    0.050184   0.096294\n",
      "1   Logistic Regression        0.985075       0.963071    0.058695   0.120542\n",
      "2         Random Forest        1.000000       0.967930    0.045013   0.194766\n",
      "3             SVM (RBF)        0.985075       0.948494    0.072423   0.139335\n",
      "4  MLP (1 hidden layer)        1.000000       0.952381    0.025842   0.115244\n"
     ]
    }
   ],
   "source": [
    "\n",
    "import numpy as np\n",
    "import torch\n",
    "import torch.nn as nn\n",
    "import torch.optim as optim\n",
    "from torch.utils.data import TensorDataset, DataLoader\n",
    "from sklearn.preprocessing import StandardScaler\n",
    "from sklearn.linear_model import LogisticRegression\n",
    "from sklearn.ensemble import RandomForestClassifier\n",
    "from sklearn.svm import SVC\n",
    "from sklearn.neural_network import MLPClassifier\n",
    "from sklearn.metrics import accuracy_score, log_loss\n",
    "from tqdm import tqdm\n",
    "import pandas as pd\n",
    "import pickle\n",
    "\n",
    "torch.manual_seed(4)\n",
    "np.random.seed(4)\n",
    "torch.utils.data.deterministic = True\n",
    "torch.backends.cudnn.deterministic = True\n",
    "\n",
    "DEVICE = torch.device(\"cpu\")\n",
    "\n",
    "# Load ItalyPowerDemand training and test sets\n",
    "train_data = pd.read_csv('ItalyPowerDemand_TRAIN.txt', sep=r'\\s+', header=None)\n",
    "test_data = pd.read_csv('ItalyPowerDemand_TEST.txt', sep=r'\\s+', header=None)\n",
    "\n",
    "# Extract features and labels\n",
    "#X_train_full = train_data.iloc[:, :-1].values  # 24 time steps\n",
    "#Y_train_full = train_data.iloc[:, -1].values  # Labels (1 or -1)\n",
    "#X_test_full = test_data.iloc[:, :-1].values\n",
    "#Y_test_full = test_data.iloc[:, -1].values\n",
    "\n",
    "# Extract labels from first column, features from the rest\n",
    "Y_train_full = train_data.iloc[:, 0].values\n",
    "X_train_full = train_data.iloc[:, 1:].values\n",
    "\n",
    "Y_test_full = test_data.iloc[:, 0].values\n",
    "X_test_full = test_data.iloc[:, 1:].values\n",
    "\n",
    "\n",
    "# Map labels: -1 -> 0, 1 -> 1\n",
    "#Y_train_full = np.where(Y_train_full == -1, 0, 1).astype(int)\n",
    "#Y_test_full = np.where(Y_test_full == -1, 0, 1).astype(int)\n",
    "# Convert labels: 1.0 → 0, 2.0 → 1\n",
    "Y_train_full = np.where(Y_train_full == 1.0, 0, 1).astype(int)\n",
    "Y_test_full = np.where(Y_test_full == 1.0, 0, 1).astype(int)\n",
    "\n",
    "\n",
    "def run_experiment(d, X_train_full, X_test_full, Y_train_full, Y_test_full):\n",
    "    # Map to R^d by averaging chunks\n",
    "    chunk_size = X_train_full.shape[1] // d  # 24 // d\n",
    "    X_train_mapped = np.zeros((X_train_full.shape[0], d))\n",
    "    X_test_mapped = np.zeros((X_test_full.shape[0], d))\n",
    "    for i in range(X_train_full.shape[0]):\n",
    "        for j in range(d):\n",
    "            start = j * chunk_size\n",
    "            end = (j + 1) * chunk_size if j < d - 1 else X_train_full.shape[1]\n",
    "            X_train_mapped[i, j] = np.mean(X_train_full[i, start:end])\n",
    "    for i in range(X_test_full.shape[0]):\n",
    "        for j in range(d):\n",
    "            start = j * chunk_size\n",
    "            end = (j + 1) * chunk_size if j < d - 1 else X_test_full.shape[1]\n",
    "            X_test_mapped[i, j] = np.mean(X_test_full[i, start:end])\n",
    "    \n",
    "    X_train = X_train_mapped\n",
    "    X_test = X_test_mapped\n",
    "\n",
    "    # Normalize features\n",
    "    scaler = StandardScaler()\n",
    "    X_train = scaler.fit_transform(X_train)\n",
    "    X_test = scaler.transform(X_test)\n",
    "\n",
    "    # Convert to tensors\n",
    "    X_train = torch.tensor(X_train, dtype=torch.float32).to(DEVICE)\n",
    "    X_test = torch.tensor(X_test, dtype=torch.float32).to(DEVICE)\n",
    "    Y_train_normalized = torch.tensor(Y_train_full / 1.0, dtype=torch.float32).to(DEVICE)  # Normalize by max label (1)\n",
    "    Y_test_normalized = torch.tensor(Y_test_full / 1.0, dtype=torch.float32).to(DEVICE)\n",
    "    Y_train = torch.tensor(Y_train_full, dtype=torch.long).to(DEVICE)\n",
    "    Y_test = torch.tensor(Y_test_full, dtype=torch.long).to(DEVICE)\n",
    "\n",
    "    # One-hot encode labels for Phase 2\n",
    "    M_train, M_test = len(Y_train), len(Y_test)\n",
    "    Y_train_onehot = torch.zeros(M_train, 2).scatter_(1, Y_train.reshape(-1, 1), 1).to(DEVICE)\n",
    "    Y_test_onehot = torch.zeros(M_test, 2).scatter_(1, Y_test.reshape(-1, 1), 1).to(DEVICE)\n",
    "\n",
    "\n",
    "    def apply_WL(w, X_i, L, d):\n",
    "        assert X_i.ndim == 1 and X_i.shape[0] == d\n",
    "        X_ext = torch.cat([X_i, X_i[:L]])\n",
    "        result = torch.zeros(d)\n",
    "        for i in range(d):\n",
    "            prod = 1.0\n",
    "            for k in range(L):\n",
    "                prod *= w[(i + k) % d]\n",
    "            result[i] = prod * X_ext[i + L]\n",
    "        return result\n",
    "\n",
    "    def is_independent(W_L_X, span_vecs, thresh):\n",
    "        if not span_vecs:\n",
    "            return True\n",
    "        A = torch.stack(span_vecs)\n",
    "        try:\n",
    "            coeffs = torch.linalg.lstsq(A.mT, W_L_X.mT).solution\n",
    "            proj = (coeffs.mT @ A).view(1, -1)\n",
    "            residual = W_L_X.view(1, -1) - proj\n",
    "            return torch.linalg.norm(residual).item() > thresh\n",
    "        except:\n",
    "            return True\n",
    "\n",
    "    def compute_delta(w, Dk, X, Y, d, lambda_smooth=0.0):\n",
    "        delta = 0.0\n",
    "        W_L_X_cache = {}\n",
    "        for i in range(X.size(0)):\n",
    "            best = float('inf')\n",
    "            for L in range(d):\n",
    "                cache_key = (i, L)\n",
    "                if cache_key not in W_L_X_cache:\n",
    "                    W_L_X_cache[cache_key] = apply_WL(w, X[i], L, d)\n",
    "                out = W_L_X_cache[cache_key]\n",
    "                pred = torch.tanh(out.sum())\n",
    "                error = abs(Y[i] - pred).item()\n",
    "                best = min(best, error)\n",
    "            delta += best ** 2\n",
    "        return delta / X.size(0)\n",
    "\n",
    "    def compute_delta_gradient(w, Dk, X, Y, d):\n",
    "        grad = torch.zeros_like(w)\n",
    "        W_L_X_cache = {}\n",
    "        for i in range(X.size(0)):\n",
    "            best_L = 0\n",
    "            best_norm = float('inf')\n",
    "            for L in range(d):\n",
    "                cache_key = (i, L)\n",
    "                if cache_key not in W_L_X_cache:\n",
    "                    W_L_X_cache[cache_key] = apply_WL(w, X[i], L, d)\n",
    "                out = W_L_X_cache[cache_key]\n",
    "                pred = torch.tanh(out.sum())\n",
    "                error = abs(Y[i] - pred).item()\n",
    "                if error < best_norm:\n",
    "                    best_L = L\n",
    "                    best_norm = error\n",
    "            out = W_L_X_cache[(i, best_L)]\n",
    "            pred = torch.tanh(out.sum())\n",
    "            err = Y[i] - pred\n",
    "            for l in range(best_L):\n",
    "                cache_key = (i, l)\n",
    "                if cache_key not in W_L_X_cache:\n",
    "                    W_L_X_cache[cache_key] = apply_WL(w, X[i], l, d)\n",
    "                shifted = W_L_X_cache[cache_key]\n",
    "                for j in range(d):\n",
    "                    g = shifted[d - 1] if j == 0 else shifted[j - 1]\n",
    "                    grad[j] += -2 * err * g * (1 - pred**2)\n",
    "        return grad / X.size(0)\n",
    "\n",
    "    def phase_1(X, Y, d, thresh=1e-6, optimize_w=True):\n",
    "        w = torch.ones(d, requires_grad=True)\n",
    "        subset_size = max(50, X.size(0) // 10)  # 10% of samples, min 50\n",
    "        \n",
    "        subset_idx = np.random.choice(X.size(0), subset_size, replace=False)\n",
    "        X_subset = X[subset_idx]\n",
    "        Y_subset = Y[subset_idx]\n",
    "        fixed_delta = compute_delta(w, [], X_subset, Y_subset, d)\n",
    "        \n",
    "        if optimize_w:\n",
    "            optimizer = optim.Adam([w], lr=0.001)\n",
    "            for epoch in range(100):\n",
    "                optimizer.zero_grad()\n",
    "                grad = compute_delta_gradient(w, [], X_subset, Y_subset, d)\n",
    "                w.grad = grad\n",
    "                optimizer.step()\n",
    "\n",
    "        w = w.detach()\n",
    "        \n",
    "        Dk, R = [], list(range(X_subset.size(0)))\n",
    "        np.random.shuffle(R)\n",
    "        p = 1 if d == 5 else 11\n",
    "        while R:\n",
    "            subset, span_vecs = [], []\n",
    "            for j in R[:]:\n",
    "                best_L = min(range(d), key=lambda L: abs(torch.tanh(apply_WL(w, X_subset[j], L, d).sum()).item() - Y_subset[j].item()))\n",
    "                out = apply_WL(w, X_subset[j], best_L, d)[0]\n",
    "                if is_independent(out, span_vecs, thresh) and len(subset) < p:\n",
    "                    subset.append((subset_idx[j], best_L))  # Store original indices\n",
    "                    span_vecs.append(out)\n",
    "                    R.remove(j)\n",
    "            if subset:\n",
    "                Dk.append(subset)\n",
    "            else:\n",
    "                break\n",
    "\n",
    "        num_subsets = len(Dk)\n",
    "        num_points = sum(len(dk) for dk in Dk)\n",
    "        Y_mean = Y.float().mean().detach().item()\n",
    "        Y_std = Y.float().std().detach().item()\n",
    "\n",
    "        print(f\"Best W weights: {w.cpu().numpy()}\")\n",
    "        print(f\"Subsets D_k: {num_subsets} subsets, {num_points} points\")\n",
    "        print(f\"Delta: {fixed_delta:.4f}, threshold {thresh}\")\n",
    "        print(f\"Y_mean: {Y_mean}, Y_std: {Y_std}\")\n",
    "        print(\"Finished Phase 1\")\n",
    "        \n",
    "        return w, Dk\n",
    "\n",
    "    def phase_2(w, Dk, X, Y_onehot, d):\n",
    "        J_list = []\n",
    "        norms_list = []\n",
    "        tolerance = 1e-6\n",
    "        for subset in Dk:\n",
    "            A = torch.stack([apply_WL(w, X[i], L, d) for i, L in subset])  # Shape: [n_points, d]\n",
    "            B = torch.stack([Y_onehot[i] for i, _ in subset])  # Shape: [n_points, 2]\n",
    "            A_t_A = A.T @ A + 1e-6 * torch.eye(d, device=A.device)  # Regularized normal equation\n",
    "            A_t_B = A.T @ B\n",
    "#            J = torch.linalg.solve(A_t_A, A_t_B)  # Shape: [d, 2]\n",
    "            J = torch.linalg.pinv(A_t_A) @ A_t_B.to(dtype = torch.float32)\n",
    "            J_list.append(J)\n",
    "            norm = torch.norm(A @ J - B).detach().item()\n",
    "            norms_list.append(norm)\n",
    "\n",
    "        all_within_tolerance = all(norm < tolerance for norm in norms_list)\n",
    "        print(f\"Phase 2 (d={d}): All norms of Y_i - J W^(L_i) X_i across all D_k are {'zero' if all_within_tolerance else 'not zero'} (within {tolerance}).\")\n",
    "        \n",
    "\n",
    "        if not all_within_tolerance:\n",
    "            range_below_tolerance = sum(1 for norm in norms_list if 0 <= norm < 1e-6)\n",
    "            range_1e6_to_1 = sum(1 for norm in norms_list if 1e-6 <= norm < 1)\n",
    "            range_1_to_2 = sum(1 for norm in norms_list if 1 <= norm < 2)\n",
    "            range_2_to_3 = sum(1 for norm in norms_list if 2 <= norm < 3)\n",
    "            range_3_and_above = sum(1 for norm in norms_list if norm >= 3)\n",
    "            print(f\"Norm distribution: {range_below_tolerance} norms in [0, 1e-6), {range_1e6_to_1} norms in [1e-6, 1), {range_1_to_2} norms in [1, 2), {range_2_to_3} norms in [2, 3), {range_3_and_above} norms >= 3\")\n",
    "        \n",
    "        print(\"Finished Phase 2\")\n",
    "        \n",
    "        return J_list\n",
    "\n",
    "\n",
    "\n",
    "\n",
    "    class WBSNN(nn.Module):\n",
    "        def __init__(self, input_dim, K, M, num_classes=2, d_value=None):\n",
    "            super(WBSNN, self).__init__()\n",
    "            self.d = input_dim\n",
    "            self.K = K\n",
    "            self.M = M\n",
    "            self.d_value = d_value\n",
    "\n",
    "            if self.d_value == 5:\n",
    "                self.fc1 = nn.Linear(input_dim, 64)\n",
    "                self.fc2 = nn.Linear(64, 32)                \n",
    "                self.fc3 = nn.Linear(32, K * M)\n",
    "            elif self.d_value == 10:\n",
    "                self.fc1 = nn.Linear(input_dim, 128)\n",
    "                self.fc2 = nn.Linear(128, 64)\n",
    "                self.fc3 = nn.Linear(64, 32)\n",
    "                self.fc4 = nn.Linear(32, K * M)\n",
    "            elif self.d_value == 24:\n",
    "                self.fc1 = nn.Linear(input_dim, 256)\n",
    "                self.fc2 = nn.Linear(256, 128)\n",
    "                self.fc3 = nn.Linear(128, 64)\n",
    "                self.fc4 = nn.Linear(64, 32)\n",
    "                self.fc5 = nn.Linear(32, K * M)\n",
    "\n",
    "            self.relu = nn.ReLU()\n",
    "            self.dropout = nn.Dropout(0.3)\n",
    "\n",
    "        def forward(self, x):\n",
    "            out = self.relu(self.fc1(x))\n",
    "            out = self.dropout(out)\n",
    "            out = self.relu(self.fc2(out))\n",
    "            out = self.dropout(out)\n",
    "\n",
    "            if self.d_value == 5:\n",
    "                out = self.fc3(out)                \n",
    "            elif self.d_value == 10:\n",
    "                out = self.relu(self.fc3(out))\n",
    "                out = self.dropout(out)\n",
    "                out = self.fc4(out)\n",
    "            elif self.d_value == 24:\n",
    "                out = self.relu(self.fc3(out))\n",
    "                out = self.dropout(out)\n",
    "                out = self.relu(self.fc4(out))\n",
    "                out = self.dropout(out)\n",
    "                out = self.fc5(out)\n",
    "\n",
    "            out = out.view(-1, self.K, self.M)\n",
    "            return out\n",
    "    \n",
    "\n",
    "\n",
    "    def phase_3_alpha_km(best_w, J_k_list, Dk, X_train, Y_train, X_test, Y_test, d, suppress_print=False):\n",
    "        K = len(J_k_list)\n",
    "        M = d\n",
    "        X_train_torch = X_train.clone().detach().to(DEVICE)\n",
    "        Y_train_torch = Y_train.clone().detach().to(DEVICE)\n",
    "        X_test_torch = X_test.clone().detach().to(DEVICE)\n",
    "        Y_test_torch = Y_test.clone().detach().to(DEVICE)\n",
    "        J_k_torch = torch.stack(J_k_list).to(DEVICE)  # Shape: [K, d, 2]\n",
    "\n",
    "        # Compute orbits W^{(m)} X_i for training\n",
    "        W_m_X_train = []\n",
    "        for i in range(len(X_train_torch)):\n",
    "            W_m_features = []\n",
    "            current = X_train_torch[i]\n",
    "            for m in range(M):\n",
    "                W_m_features.append(current)\n",
    "                shifted = torch.zeros_like(current)\n",
    "                for j in range(d):\n",
    "                    shifted[j] = best_w[j] * current[j - 1] if j > 0 else best_w[j] * current[d - 1]\n",
    "                current = shifted\n",
    "            W_m_features = torch.stack(W_m_features)  # Shape: [M, d]\n",
    "            W_m_X_train.append(W_m_features)\n",
    "        W_m_X_train = torch.stack(W_m_X_train)  # Shape: [n_train, M, d]\n",
    "\n",
    "        # Compute J_k W^{(m)} X_i for training\n",
    "        W_m_JkX_train = []\n",
    "        for i in range(len(X_train_torch)):\n",
    "            features = []\n",
    "            for k in range(K):\n",
    "                J_k = J_k_torch[k]  # Shape: [d, 2]\n",
    "                W_m_features = W_m_X_train[i]  # Shape: [M, d]\n",
    "                weighted = W_m_features @ J_k  # Shape: [M, 2]\n",
    "                features.append(weighted)\n",
    "            features = torch.stack(features)  # Shape: [K, M, 2]\n",
    "            W_m_JkX_train.append(features)\n",
    "        W_m_JkX_train = torch.stack(W_m_JkX_train)  # Shape: [n_train, K, M, 2]\n",
    "\n",
    "        # Compute orbits W^{(m)} X_i for testing\n",
    "        W_m_X_test = []\n",
    "        for i in range(len(X_test_torch)):\n",
    "            W_m_features = []\n",
    "            current = X_test_torch[i]\n",
    "            for m in range(M):\n",
    "                W_m_features.append(current)\n",
    "                shifted = torch.zeros_like(current)\n",
    "                for j in range(d):\n",
    "                    shifted[j] = best_w[j] * current[j - 1] if j > 0 else best_w[j] * current[d - 1]\n",
    "                current = shifted\n",
    "            W_m_features = torch.stack(W_m_features)\n",
    "            W_m_X_test.append(W_m_features)\n",
    "        W_m_X_test = torch.stack(W_m_X_test)  # Shape: [n_test, M, d]\n",
    "\n",
    "        # Compute J_k W^{(m)} X_i for testing\n",
    "        W_m_JkX_test = []\n",
    "        for i in range(len(X_test_torch)):\n",
    "            features = []\n",
    "            for k in range(K):\n",
    "                J_k = J_k_torch[k]\n",
    "                W_m_features = W_m_X_test[i]\n",
    "                weighted = W_m_features @ J_k\n",
    "                features.append(weighted)\n",
    "            features = torch.stack(features)  # Shape: [K, M, 2]\n",
    "            W_m_JkX_test.append(features)\n",
    "        W_m_JkX_test = torch.stack(W_m_JkX_test)  # Shape: [n_test, K, M, 2]\n",
    "\n",
    "        # Prepare datasets\n",
    "        train_dataset = TensorDataset(X_train_torch, W_m_JkX_train, Y_train_torch)\n",
    "        test_dataset = TensorDataset(X_test_torch, W_m_JkX_test, Y_test_torch)\n",
    "        g = torch.Generator()\n",
    "        g.manual_seed(4)\n",
    "        train_loader = DataLoader(train_dataset, batch_size=1, shuffle=True, generator=g)\n",
    "        test_loader = DataLoader(test_dataset, batch_size=1, shuffle=False)\n",
    "\n",
    "        # Initialize model\n",
    "        model = WBSNN(d, K, M, num_classes=2, d_value=d).to(DEVICE)\n",
    "        weight_decay = 0.069 if d == 5 else 0.005\n",
    "        optimizer = optim.Adam(model.parameters(), lr=0.0001, weight_decay=weight_decay)\n",
    "        scheduler = optim.lr_scheduler.StepLR(optimizer, step_size=800, gamma=0.5)\n",
    "        criterion = nn.CrossEntropyLoss()\n",
    "        epochs = 1000 if d == 5 else 550\n",
    "        patience = 100\n",
    "        best_test_loss = float('inf')\n",
    "        best_accuracy = 0.0\n",
    "        patience_counter = 0\n",
    "\n",
    "        for epoch in tqdm(range(epochs), desc=f\"Training epochs (d={d})\"):\n",
    "            model.train()\n",
    "            train_loss = 0\n",
    "            for batch_inputs, batch_W_m, batch_targets in train_loader:\n",
    "                optimizer.zero_grad()\n",
    "                alpha_km = model(batch_inputs)  # Shape: [batch_size, K, M]\n",
    "                batch_size = batch_inputs.size(0)\n",
    "                weighted_sum = torch.einsum('bkm,bkmt->bt', alpha_km, batch_W_m)  # Shape: [batch_size, 2]\n",
    "                outputs = weighted_sum  # Shape: [batch_size, 2]\n",
    "                loss = criterion(outputs, batch_targets)\n",
    "                train_loss += loss.item() * batch_inputs.size(0)\n",
    "                loss.backward()\n",
    "                torch.nn.utils.clip_grad_norm_(model.parameters(), max_norm=0.5)\n",
    "                optimizer.step()\n",
    "            train_loss /= len(train_loader.dataset)\n",
    "\n",
    "            if epoch % 20 == 0 or (patience_counter >= patience):\n",
    "                model.eval()\n",
    "                test_loss = 0\n",
    "                correct = 0\n",
    "                total = 0\n",
    "                with torch.no_grad():\n",
    "                    for batch_inputs, batch_W_m, batch_targets in test_loader:\n",
    "                        alpha_km = model(batch_inputs)\n",
    "                        batch_size = batch_inputs.size(0)\n",
    "                        weighted_sum = torch.einsum('bkm,bkmt->bt', alpha_km, batch_W_m)\n",
    "                        outputs = weighted_sum\n",
    "                        test_loss += criterion(outputs, batch_targets).item() * batch_inputs.size(0)\n",
    "                        preds = outputs.argmax(dim=1)\n",
    "                        correct += (preds == batch_targets).sum().item()\n",
    "                        total += batch_targets.size(0)\n",
    "                test_loss /= len(test_loader.dataset)\n",
    "                accuracy = correct / total\n",
    "                scheduler.step()\n",
    "\n",
    "                if not suppress_print:\n",
    "                    print(f\"Phase 3 (d={d}), Epoch {epoch}, Train Loss: {train_loss:.9f}, Test Loss: {test_loss:.9f}, Accuracy: {accuracy:.4f}\")\n",
    "\n",
    "                if test_loss < best_test_loss:\n",
    "                    best_test_loss = test_loss\n",
    "                    best_accuracy = accuracy\n",
    "                    patience_counter = 0\n",
    "                else:\n",
    "                    patience_counter += 1\n",
    "                    if patience_counter >= patience:\n",
    "                        print(f\"Phase 3 (d={d}), Early stopping at epoch {epoch}, Train Loss: {train_loss:.9f}, Test Loss: {best_test_loss:.9f}, Accuracy: {best_accuracy:.4f}\")\n",
    "                        break\n",
    "\n",
    "        train_correct = 0\n",
    "        train_total = 0\n",
    "        with torch.no_grad():\n",
    "            for batch_inputs, batch_W_m, batch_targets in train_loader:\n",
    "                alpha_km = model(batch_inputs)\n",
    "                batch_size = batch_inputs.size(0)\n",
    "                weighted_sum = torch.einsum('bkm,bkmt->bt', alpha_km, batch_W_m)\n",
    "                outputs = weighted_sum\n",
    "                preds = outputs.argmax(dim=1)\n",
    "                train_correct += (preds == batch_targets).sum().item()\n",
    "                train_total += batch_targets.size(0)\n",
    "        train_accuracy = train_correct / train_total\n",
    "\n",
    "        return train_accuracy, best_accuracy, train_loss, test_loss\n",
    "\n",
    "    def evaluate_classical(name, model, support_proba=False):\n",
    "        try:\n",
    "            model.fit(X_train.cpu().numpy(), Y_train.cpu().numpy())\n",
    "            y_pred_train = model.predict(X_train.cpu().numpy())\n",
    "            y_pred_test = model.predict(X_test.cpu().numpy())\n",
    "            acc_train = accuracy_score(Y_train.cpu().numpy(), y_pred_train)\n",
    "            acc_test = accuracy_score(Y_test.cpu().numpy(), y_pred_test)\n",
    "\n",
    "            if support_proba:\n",
    "                loss_train = log_loss(Y_train.cpu().numpy(), model.predict_proba(X_train.cpu().numpy()))\n",
    "                loss_test = log_loss(Y_test.cpu().numpy(), model.predict_proba(X_test.cpu().numpy()))\n",
    "            else:\n",
    "                loss_train = loss_test = float('nan')\n",
    "        except ValueError:\n",
    "            acc_train = acc_test = loss_train = loss_test = float('nan')\n",
    "\n",
    "        return [name, acc_train, acc_test, loss_train, loss_test]\n",
    "\n",
    "    print(f\"\\nRunning WBSNN experiment with d={d}\")\n",
    "    thresh = 0.1 if d == 5 else 0.01\n",
    "    best_w, best_Dk = phase_1(X_train, Y_train_normalized, d, thresh=thresh, optimize_w=True)\n",
    "    J_k_list = phase_2(best_w, best_Dk, X_train, Y_train_onehot, d)\n",
    "    train_acc, test_acc, train_loss, test_loss = phase_3_alpha_km(\n",
    "        best_w, J_k_list, best_Dk, X_train, Y_train, X_test, Y_test, d\n",
    "    )\n",
    "    print(f\"Finished WBSNN experiment with d={d}, Train Loss: {train_loss:.4f}, Test Loss: {test_loss:.4f}, Accuracy: {test_acc:.4f}\")\n",
    "\n",
    "    results = []\n",
    "    results.append([\"WBSNN\", train_acc, test_acc, train_loss, test_loss])\n",
    "    results.append(evaluate_classical(\"Logistic Regression\", LogisticRegression(max_iter=1000), support_proba=True))\n",
    "    results.append(evaluate_classical(\"Random Forest\", RandomForestClassifier(n_estimators=100), support_proba=True))\n",
    "    results.append(evaluate_classical(\"SVM (RBF)\", SVC(kernel='rbf', probability=True), support_proba=True))\n",
    "    results.append(evaluate_classical(\"MLP (1 hidden layer)\", MLPClassifier(hidden_layer_sizes=(64,), max_iter=500), support_proba=True))\n",
    "\n",
    "    df = pd.DataFrame(results, columns=[\"Model\", \"Train Accuracy\", \"Test Accuracy\", \"Train Loss\", \"Test Loss\"])\n",
    "    print(f\"\\nFinal Results for d={d}:\")\n",
    "    print(df)\n",
    "    return results\n",
    "\n",
    "\n",
    "\n",
    "# Run experiments\n",
    "print(\"\\nExperiment with d=5\")\n",
    "results_d5 = run_experiment(5, X_train_full, X_test_full, Y_train_full, Y_test_full)\n",
    "print(\"\\nExperiment with d=10\")\n",
    "results_d10 = run_experiment(10, X_train_full, X_test_full, Y_train_full, Y_test_full)\n",
    "print(\"\\nExperiment with d=24\")\n",
    "results_d24 = run_experiment(24, X_train_full, X_test_full, Y_train_full, Y_test_full)\n",
    "\n",
    "\n",
    "\n"
   ]
  },
  {
   "cell_type": "markdown",
   "id": "2ce61445-ea32-40fe-b6bb-07a275e53ad0",
   "metadata": {},
   "source": [
    "**Runs 17-19, Exact Interpolation**"
   ]
  },
  {
   "cell_type": "code",
   "execution_count": 163,
   "id": "5f39c5c8-3790-4da1-8822-89faf31ebbf4",
   "metadata": {},
   "outputs": [
    {
     "name": "stdout",
     "output_type": "stream",
     "text": [
      "\n",
      "Experiment with d=5\n",
      "\n",
      "Running WBSNN experiment with d=5\n",
      "Best W weights: [0.59299611 0.58788669 0.60186745 0.5864376  0.59146806]\n",
      "Subsets D_k: 17 subsets, 67 points\n",
      "Delta: 2.3310\n",
      "Y_mean: 0.492537, Y_std: 0.503718\n",
      "Phase 2 (d=5): All norms of Y_i - J W^(L_i) X_i across all D_k are identically zero (within 1e-6).\n"
     ]
    },
    {
     "name": "stderr",
     "output_type": "stream",
     "text": [
      "Training epochs (d=5):   8%|█▎               | 76/1000 [00:00<00:02, 379.06it/s]"
     ]
    },
    {
     "name": "stdout",
     "output_type": "stream",
     "text": [
      "Phase 3 (d=5), Epoch 0, Train Loss: 1.661643389, Test Loss: 1.646646291, Accuracy: 0.0000\n",
      "Phase 3 (d=5), Epoch 20, Train Loss: 1.488278159, Test Loss: 1.503262708, Accuracy: 0.2828\n",
      "Phase 3 (d=5), Epoch 40, Train Loss: 1.370680878, Test Loss: 1.377839867, Accuracy: 0.8144\n",
      "Phase 3 (d=5), Epoch 60, Train Loss: 1.213182295, Test Loss: 1.242562207, Accuracy: 0.8367\n"
     ]
    },
    {
     "name": "stderr",
     "output_type": "stream",
     "text": [
      "Training epochs (d=5):  15%|██▍             | 152/1000 [00:00<00:02, 374.43it/s]"
     ]
    },
    {
     "name": "stdout",
     "output_type": "stream",
     "text": [
      "Phase 3 (d=5), Epoch 80, Train Loss: 1.049351011, Test Loss: 1.100802792, Accuracy: 0.8610\n",
      "Phase 3 (d=5), Epoch 100, Train Loss: 0.909492176, Test Loss: 0.952181525, Accuracy: 0.8873\n",
      "Phase 3 (d=5), Epoch 120, Train Loss: 0.737191779, Test Loss: 0.814502834, Accuracy: 0.8989\n",
      "Phase 3 (d=5), Epoch 140, Train Loss: 0.591863796, Test Loss: 0.692779316, Accuracy: 0.9038\n"
     ]
    },
    {
     "name": "stderr",
     "output_type": "stream",
     "text": [
      "Training epochs (d=5):  23%|███▋            | 230/1000 [00:00<00:02, 380.99it/s]"
     ]
    },
    {
     "name": "stdout",
     "output_type": "stream",
     "text": [
      "Phase 3 (d=5), Epoch 160, Train Loss: 0.476959171, Test Loss: 0.594597420, Accuracy: 0.9067\n",
      "Phase 3 (d=5), Epoch 180, Train Loss: 0.406541147, Test Loss: 0.517404904, Accuracy: 0.9106\n",
      "Phase 3 (d=5), Epoch 200, Train Loss: 0.308490653, Test Loss: 0.461689977, Accuracy: 0.9106\n",
      "Phase 3 (d=5), Epoch 220, Train Loss: 0.288359012, Test Loss: 0.419508822, Accuracy: 0.9096\n"
     ]
    },
    {
     "name": "stderr",
     "output_type": "stream",
     "text": [
      "Training epochs (d=5):  31%|████▉           | 308/1000 [00:00<00:01, 382.50it/s]"
     ]
    },
    {
     "name": "stdout",
     "output_type": "stream",
     "text": [
      "Phase 3 (d=5), Epoch 240, Train Loss: 0.248539101, Test Loss: 0.389490448, Accuracy: 0.9086\n",
      "Phase 3 (d=5), Epoch 260, Train Loss: 0.201680667, Test Loss: 0.367938364, Accuracy: 0.9106\n",
      "Phase 3 (d=5), Epoch 280, Train Loss: 0.188115766, Test Loss: 0.351917479, Accuracy: 0.9125\n",
      "Phase 3 (d=5), Epoch 300, Train Loss: 0.173357411, Test Loss: 0.338909684, Accuracy: 0.9135\n"
     ]
    },
    {
     "name": "stderr",
     "output_type": "stream",
     "text": [
      "Training epochs (d=5):  38%|██████▏         | 385/1000 [00:01<00:01, 378.71it/s]"
     ]
    },
    {
     "name": "stdout",
     "output_type": "stream",
     "text": [
      "Phase 3 (d=5), Epoch 320, Train Loss: 0.155599194, Test Loss: 0.330544051, Accuracy: 0.9135\n",
      "Phase 3 (d=5), Epoch 340, Train Loss: 0.155902075, Test Loss: 0.323095761, Accuracy: 0.9174\n",
      "Phase 3 (d=5), Epoch 360, Train Loss: 0.141235168, Test Loss: 0.317340095, Accuracy: 0.9184\n",
      "Phase 3 (d=5), Epoch 380, Train Loss: 0.148907768, Test Loss: 0.310370701, Accuracy: 0.9155\n"
     ]
    },
    {
     "name": "stderr",
     "output_type": "stream",
     "text": [
      "Training epochs (d=5):  46%|███████▍        | 462/1000 [00:01<00:01, 379.76it/s]"
     ]
    },
    {
     "name": "stdout",
     "output_type": "stream",
     "text": [
      "Phase 3 (d=5), Epoch 400, Train Loss: 0.140801800, Test Loss: 0.306588744, Accuracy: 0.9174\n",
      "Phase 3 (d=5), Epoch 420, Train Loss: 0.131465335, Test Loss: 0.302301550, Accuracy: 0.9184\n",
      "Phase 3 (d=5), Epoch 440, Train Loss: 0.132720027, Test Loss: 0.298364817, Accuracy: 0.9193\n",
      "Phase 3 (d=5), Epoch 460, Train Loss: 0.157267646, Test Loss: 0.297404461, Accuracy: 0.9184\n"
     ]
    },
    {
     "name": "stderr",
     "output_type": "stream",
     "text": [
      "Training epochs (d=5):  54%|████████▋       | 541/1000 [00:01<00:01, 382.87it/s]"
     ]
    },
    {
     "name": "stdout",
     "output_type": "stream",
     "text": [
      "Phase 3 (d=5), Epoch 480, Train Loss: 0.110403391, Test Loss: 0.294700049, Accuracy: 0.9184\n",
      "Phase 3 (d=5), Epoch 500, Train Loss: 0.117831702, Test Loss: 0.291962836, Accuracy: 0.9193\n",
      "Phase 3 (d=5), Epoch 520, Train Loss: 0.110467167, Test Loss: 0.290343190, Accuracy: 0.9223\n",
      "Phase 3 (d=5), Epoch 540, Train Loss: 0.114072161, Test Loss: 0.288443623, Accuracy: 0.9213\n"
     ]
    },
    {
     "name": "stderr",
     "output_type": "stream",
     "text": [
      "Training epochs (d=5):  62%|█████████▉      | 621/1000 [00:01<00:00, 385.86it/s]"
     ]
    },
    {
     "name": "stdout",
     "output_type": "stream",
     "text": [
      "Phase 3 (d=5), Epoch 560, Train Loss: 0.119191950, Test Loss: 0.285833860, Accuracy: 0.9213\n",
      "Phase 3 (d=5), Epoch 580, Train Loss: 0.118024712, Test Loss: 0.285460119, Accuracy: 0.9223\n",
      "Phase 3 (d=5), Epoch 600, Train Loss: 0.100051070, Test Loss: 0.285501798, Accuracy: 0.9242\n",
      "Phase 3 (d=5), Epoch 620, Train Loss: 0.122958949, Test Loss: 0.283761645, Accuracy: 0.9232\n"
     ]
    },
    {
     "name": "stderr",
     "output_type": "stream",
     "text": [
      "Training epochs (d=5):  70%|███████████▏    | 701/1000 [00:01<00:00, 385.69it/s]"
     ]
    },
    {
     "name": "stdout",
     "output_type": "stream",
     "text": [
      "Phase 3 (d=5), Epoch 640, Train Loss: 0.111426035, Test Loss: 0.282525564, Accuracy: 0.9232\n",
      "Phase 3 (d=5), Epoch 660, Train Loss: 0.103694563, Test Loss: 0.280767961, Accuracy: 0.9242\n",
      "Phase 3 (d=5), Epoch 680, Train Loss: 0.109285693, Test Loss: 0.279827248, Accuracy: 0.9252\n",
      "Phase 3 (d=5), Epoch 700, Train Loss: 0.140706350, Test Loss: 0.278104365, Accuracy: 0.9252\n"
     ]
    },
    {
     "name": "stderr",
     "output_type": "stream",
     "text": [
      "Training epochs (d=5):  78%|████████████▍   | 781/1000 [00:02<00:00, 385.79it/s]"
     ]
    },
    {
     "name": "stdout",
     "output_type": "stream",
     "text": [
      "Phase 3 (d=5), Epoch 720, Train Loss: 0.116400673, Test Loss: 0.279624911, Accuracy: 0.9261\n",
      "Phase 3 (d=5), Epoch 740, Train Loss: 0.095067737, Test Loss: 0.278442421, Accuracy: 0.9242\n",
      "Phase 3 (d=5), Epoch 760, Train Loss: 0.114851763, Test Loss: 0.278218250, Accuracy: 0.9252\n",
      "Phase 3 (d=5), Epoch 780, Train Loss: 0.106453856, Test Loss: 0.277269806, Accuracy: 0.9252\n"
     ]
    },
    {
     "name": "stderr",
     "output_type": "stream",
     "text": [
      "Training epochs (d=5):  86%|█████████████▊  | 861/1000 [00:02<00:00, 385.88it/s]"
     ]
    },
    {
     "name": "stdout",
     "output_type": "stream",
     "text": [
      "Phase 3 (d=5), Epoch 800, Train Loss: 0.097557061, Test Loss: 0.276051618, Accuracy: 0.9252\n",
      "Phase 3 (d=5), Epoch 820, Train Loss: 0.095184326, Test Loss: 0.275642222, Accuracy: 0.9261\n",
      "Phase 3 (d=5), Epoch 840, Train Loss: 0.109084067, Test Loss: 0.275002439, Accuracy: 0.9261\n",
      "Phase 3 (d=5), Epoch 860, Train Loss: 0.097664827, Test Loss: 0.273739944, Accuracy: 0.9261\n"
     ]
    },
    {
     "name": "stderr",
     "output_type": "stream",
     "text": [
      "Training epochs (d=5):  94%|███████████████ | 941/1000 [00:02<00:00, 387.58it/s]"
     ]
    },
    {
     "name": "stdout",
     "output_type": "stream",
     "text": [
      "Phase 3 (d=5), Epoch 880, Train Loss: 0.095790867, Test Loss: 0.272073830, Accuracy: 0.9252\n",
      "Phase 3 (d=5), Epoch 900, Train Loss: 0.087149600, Test Loss: 0.271959608, Accuracy: 0.9271\n",
      "Phase 3 (d=5), Epoch 920, Train Loss: 0.101298565, Test Loss: 0.271818507, Accuracy: 0.9261\n",
      "Phase 3 (d=5), Epoch 940, Train Loss: 0.098750801, Test Loss: 0.271849056, Accuracy: 0.9261\n"
     ]
    },
    {
     "name": "stderr",
     "output_type": "stream",
     "text": [
      "Training epochs (d=5): 100%|███████████████| 1000/1000 [00:02<00:00, 383.65it/s]\n"
     ]
    },
    {
     "name": "stdout",
     "output_type": "stream",
     "text": [
      "Phase 3 (d=5), Epoch 960, Train Loss: 0.093850481, Test Loss: 0.271051614, Accuracy: 0.9271\n",
      "Phase 3 (d=5), Epoch 980, Train Loss: 0.092906795, Test Loss: 0.269310217, Accuracy: 0.9271\n",
      "Finished WBSNN experiment with d=5, Train Loss: 0.0970, Test Loss: 0.2693, Accuracy: 0.9271\n",
      "\n",
      "Final Results for d=5:\n",
      "                  Model  Train Accuracy  Test Accuracy  Train Loss  Test Loss\n",
      "0                 WBSNN        0.970149       0.927114    0.097012   0.269310\n",
      "1   Logistic Regression        0.970149       0.908649    0.154403   0.257273\n",
      "2         Random Forest        1.000000       0.881438    0.055391   0.261629\n",
      "3             SVM (RBF)        0.985075       0.923226    0.084149   0.199764\n",
      "4  MLP (1 hidden layer)        0.970149       0.911565    0.054576   0.203159\n",
      "\n",
      "Experiment with d=10\n",
      "\n",
      "Running WBSNN experiment with d=10\n",
      "Best W weights: [0.59881721 0.59885871 0.59902845 0.59914518 0.59966669 0.59979209\n",
      " 0.59950254 0.59946261 0.59963131 0.59963058]\n",
      "Subsets D_k: 11 subsets, 67 points\n",
      "Delta: 3.1706\n",
      "Y_mean: 0.492537, Y_std: 0.503718\n",
      "Phase 2 (d=5): All norms of Y_i - J W^(L_i) X_i across all D_k are identically zero (within 1e-6).\n"
     ]
    },
    {
     "name": "stderr",
     "output_type": "stream",
     "text": [
      "Training epochs (d=10):   7%|█               | 66/1000 [00:00<00:02, 328.13it/s]"
     ]
    },
    {
     "name": "stdout",
     "output_type": "stream",
     "text": [
      "Phase 3 (d=10), Epoch 0, Train Loss: 2.352422426, Test Loss: 2.324827058, Accuracy: 0.0204\n",
      "Phase 3 (d=10), Epoch 20, Train Loss: 2.281980184, Test Loss: 2.266465618, Accuracy: 0.1467\n",
      "Phase 3 (d=10), Epoch 40, Train Loss: 2.171408500, Test Loss: 2.197054577, Accuracy: 0.2857\n",
      "Phase 3 (d=10), Epoch 60, Train Loss: 2.099914024, Test Loss: 2.100778344, Accuracy: 0.4568\n"
     ]
    },
    {
     "name": "stderr",
     "output_type": "stream",
     "text": [
      "Training epochs (d=10):  14%|██             | 137/1000 [00:00<00:02, 335.91it/s]"
     ]
    },
    {
     "name": "stdout",
     "output_type": "stream",
     "text": [
      "Phase 3 (d=10), Epoch 80, Train Loss: 1.966001229, Test Loss: 1.967520060, Accuracy: 0.6910\n",
      "Phase 3 (d=10), Epoch 100, Train Loss: 1.776142174, Test Loss: 1.783801203, Accuracy: 0.8066\n",
      "Phase 3 (d=10), Epoch 120, Train Loss: 1.560159927, Test Loss: 1.538831566, Accuracy: 0.8309\n",
      "Phase 3 (d=10), Epoch 140, Train Loss: 1.145406687, Test Loss: 1.246316142, Accuracy: 0.8533\n"
     ]
    },
    {
     "name": "stderr",
     "output_type": "stream",
     "text": [
      "Training epochs (d=10):  20%|███            | 204/1000 [00:00<00:02, 323.03it/s]"
     ]
    },
    {
     "name": "stdout",
     "output_type": "stream",
     "text": [
      "Phase 3 (d=10), Epoch 160, Train Loss: 0.862321291, Test Loss: 0.951138857, Accuracy: 0.8756\n",
      "Phase 3 (d=10), Epoch 180, Train Loss: 0.637346191, Test Loss: 0.712687786, Accuracy: 0.8853\n",
      "Phase 3 (d=10), Epoch 200, Train Loss: 0.415885735, Test Loss: 0.563269325, Accuracy: 0.8989\n",
      "Phase 3 (d=10), Epoch 220, Train Loss: 0.366636099, Test Loss: 0.461139873, Accuracy: 0.9067\n"
     ]
    },
    {
     "name": "stderr",
     "output_type": "stream",
     "text": [
      "Training epochs (d=10):  27%|████           | 274/1000 [00:00<00:02, 319.15it/s]"
     ]
    },
    {
     "name": "stdout",
     "output_type": "stream",
     "text": [
      "Phase 3 (d=10), Epoch 240, Train Loss: 0.268252752, Test Loss: 0.401023787, Accuracy: 0.9067\n",
      "Phase 3 (d=10), Epoch 260, Train Loss: 0.203625831, Test Loss: 0.367465870, Accuracy: 0.9096\n",
      "Phase 3 (d=10), Epoch 280, Train Loss: 0.274483575, Test Loss: 0.353845274, Accuracy: 0.9096\n",
      "Phase 3 (d=10), Epoch 300, Train Loss: 0.161953944, Test Loss: 0.345197429, Accuracy: 0.9086\n"
     ]
    },
    {
     "name": "stderr",
     "output_type": "stream",
     "text": [
      "Training epochs (d=10):  38%|█████▋         | 378/1000 [00:01<00:01, 332.66it/s]"
     ]
    },
    {
     "name": "stdout",
     "output_type": "stream",
     "text": [
      "Phase 3 (d=10), Epoch 320, Train Loss: 0.143307766, Test Loss: 0.339697657, Accuracy: 0.9116\n",
      "Phase 3 (d=10), Epoch 340, Train Loss: 0.163782556, Test Loss: 0.338941373, Accuracy: 0.9106\n",
      "Phase 3 (d=10), Epoch 360, Train Loss: 0.095627956, Test Loss: 0.336783995, Accuracy: 0.9116\n",
      "Phase 3 (d=10), Epoch 380, Train Loss: 0.165227997, Test Loss: 0.331322569, Accuracy: 0.9145\n"
     ]
    },
    {
     "name": "stderr",
     "output_type": "stream",
     "text": [
      "Training epochs (d=10):  44%|██████▋        | 445/1000 [00:01<00:01, 323.77it/s]"
     ]
    },
    {
     "name": "stdout",
     "output_type": "stream",
     "text": [
      "Phase 3 (d=10), Epoch 400, Train Loss: 0.180427639, Test Loss: 0.332591251, Accuracy: 0.9125\n",
      "Phase 3 (d=10), Epoch 420, Train Loss: 0.115530198, Test Loss: 0.334324249, Accuracy: 0.9125\n",
      "Phase 3 (d=10), Epoch 440, Train Loss: 0.107005817, Test Loss: 0.333444617, Accuracy: 0.9145\n",
      "Phase 3 (d=10), Epoch 460, Train Loss: 0.105161954, Test Loss: 0.335768835, Accuracy: 0.9125\n"
     ]
    },
    {
     "name": "stderr",
     "output_type": "stream",
     "text": [
      "Training epochs (d=10):  52%|███████▊       | 517/1000 [00:01<00:01, 334.58it/s]"
     ]
    },
    {
     "name": "stdout",
     "output_type": "stream",
     "text": [
      "Phase 3 (d=10), Epoch 480, Train Loss: 0.070622497, Test Loss: 0.335208325, Accuracy: 0.9135\n",
      "Phase 3 (d=10), Epoch 500, Train Loss: 0.071246495, Test Loss: 0.335534567, Accuracy: 0.9116\n",
      "Phase 3 (d=10), Epoch 520, Train Loss: 0.092481353, Test Loss: 0.337742457, Accuracy: 0.9116\n",
      "Phase 3 (d=10), Epoch 540, Train Loss: 0.129197255, Test Loss: 0.339739879, Accuracy: 0.9135\n"
     ]
    },
    {
     "name": "stderr",
     "output_type": "stream",
     "text": [
      "Training epochs (d=10):  62%|█████████▎     | 620/1000 [00:01<00:01, 334.53it/s]"
     ]
    },
    {
     "name": "stdout",
     "output_type": "stream",
     "text": [
      "Phase 3 (d=10), Epoch 560, Train Loss: 0.086721253, Test Loss: 0.338624015, Accuracy: 0.9125\n",
      "Phase 3 (d=10), Epoch 580, Train Loss: 0.071347798, Test Loss: 0.340527329, Accuracy: 0.9116\n",
      "Phase 3 (d=10), Epoch 600, Train Loss: 0.067863140, Test Loss: 0.343450737, Accuracy: 0.9106\n",
      "Phase 3 (d=10), Epoch 620, Train Loss: 0.116772477, Test Loss: 0.342855913, Accuracy: 0.9096\n"
     ]
    },
    {
     "name": "stderr",
     "output_type": "stream",
     "text": [
      "Training epochs (d=10):  69%|██████████▎    | 687/1000 [00:02<00:00, 327.30it/s]"
     ]
    },
    {
     "name": "stdout",
     "output_type": "stream",
     "text": [
      "Phase 3 (d=10), Epoch 640, Train Loss: 0.051361241, Test Loss: 0.344104884, Accuracy: 0.9096\n",
      "Phase 3 (d=10), Epoch 660, Train Loss: 0.078940048, Test Loss: 0.345903903, Accuracy: 0.9096\n",
      "Phase 3 (d=10), Epoch 680, Train Loss: 0.096860552, Test Loss: 0.347215525, Accuracy: 0.9096\n",
      "Phase 3 (d=10), Epoch 700, Train Loss: 0.095005275, Test Loss: 0.348741579, Accuracy: 0.9106\n"
     ]
    },
    {
     "name": "stderr",
     "output_type": "stream",
     "text": [
      "Training epochs (d=10):  76%|███████████▎   | 757/1000 [00:02<00:00, 335.18it/s]"
     ]
    },
    {
     "name": "stdout",
     "output_type": "stream",
     "text": [
      "Phase 3 (d=10), Epoch 720, Train Loss: 0.066204156, Test Loss: 0.349587189, Accuracy: 0.9096\n",
      "Phase 3 (d=10), Epoch 740, Train Loss: 0.064528763, Test Loss: 0.350892367, Accuracy: 0.9106\n",
      "Phase 3 (d=10), Epoch 760, Train Loss: 0.101814583, Test Loss: 0.354183574, Accuracy: 0.9106\n",
      "Phase 3 (d=10), Epoch 780, Train Loss: 0.077090680, Test Loss: 0.353846431, Accuracy: 0.9096\n"
     ]
    },
    {
     "name": "stderr",
     "output_type": "stream",
     "text": [
      "Training epochs (d=10):  86%|████████████▉  | 861/1000 [00:02<00:00, 329.41it/s]"
     ]
    },
    {
     "name": "stdout",
     "output_type": "stream",
     "text": [
      "Phase 3 (d=10), Epoch 800, Train Loss: 0.081904163, Test Loss: 0.354808027, Accuracy: 0.9106\n",
      "Phase 3 (d=10), Epoch 820, Train Loss: 0.055179799, Test Loss: 0.358831034, Accuracy: 0.9086\n",
      "Phase 3 (d=10), Epoch 840, Train Loss: 0.059413240, Test Loss: 0.359785833, Accuracy: 0.9096\n",
      "Phase 3 (d=10), Epoch 860, Train Loss: 0.098729299, Test Loss: 0.361118679, Accuracy: 0.9057\n"
     ]
    },
    {
     "name": "stderr",
     "output_type": "stream",
     "text": [
      "Training epochs (d=10):  93%|█████████████▉ | 931/1000 [00:02<00:00, 331.98it/s]"
     ]
    },
    {
     "name": "stdout",
     "output_type": "stream",
     "text": [
      "Phase 3 (d=10), Epoch 880, Train Loss: 0.063834593, Test Loss: 0.362483404, Accuracy: 0.9057\n",
      "Phase 3 (d=10), Epoch 900, Train Loss: 0.073810644, Test Loss: 0.363905052, Accuracy: 0.9057\n",
      "Phase 3 (d=10), Epoch 920, Train Loss: 0.055847224, Test Loss: 0.364240401, Accuracy: 0.9077\n",
      "Phase 3 (d=10), Epoch 940, Train Loss: 0.080132643, Test Loss: 0.364453538, Accuracy: 0.9086\n"
     ]
    },
    {
     "name": "stderr",
     "output_type": "stream",
     "text": [
      "Training epochs (d=10): 100%|██████████████| 1000/1000 [00:03<00:00, 329.39it/s]"
     ]
    },
    {
     "name": "stdout",
     "output_type": "stream",
     "text": [
      "Phase 3 (d=10), Epoch 960, Train Loss: 0.074047434, Test Loss: 0.365847828, Accuracy: 0.9057\n",
      "Phase 3 (d=10), Epoch 980, Train Loss: 0.057726607, Test Loss: 0.367189792, Accuracy: 0.9057\n",
      "Finished WBSNN experiment with d=10, Train Loss: 0.0503, Test Loss: 0.3672, Accuracy: 0.9145\n"
     ]
    },
    {
     "name": "stderr",
     "output_type": "stream",
     "text": [
      "\n"
     ]
    },
    {
     "name": "stdout",
     "output_type": "stream",
     "text": [
      "\n",
      "Final Results for d=10:\n",
      "                  Model  Train Accuracy  Test Accuracy  Train Loss  Test Loss\n",
      "0                 WBSNN        0.970149       0.914480    0.050321   0.367190\n",
      "1   Logistic Regression        0.955224       0.902818    0.120012   0.250129\n",
      "2         Random Forest        1.000000       0.900875    0.055698   0.268840\n",
      "3             SVM (RBF)        0.985075       0.919339    0.091895   0.216496\n",
      "4  MLP (1 hidden layer)        0.970149       0.910593    0.048315   0.199815\n",
      "\n",
      "Experiment with d=24\n",
      "\n",
      "Running WBSNN experiment with d=24\n",
      "Best W weights: [0.59999961 0.59999959 0.59999964 0.59999966 0.59999975 0.59999977\n",
      " 0.59999975 0.59999973 0.60000015 0.60000009 0.60000006 0.59999994\n",
      " 0.59999993 0.59999986 0.59999997 0.60000003 0.59999998 0.59999998\n",
      " 0.6        0.59999995 0.59999977 0.59999975 0.59999952 0.5999996 ]\n",
      "Subsets D_k: 39 subsets, 67 points\n",
      "Delta: 4.8990\n",
      "Y_mean: 0.492537, Y_std: 0.503718\n",
      "Phase 2 (d=5): All norms of Y_i - J W^(L_i) X_i across all D_k are identically zero (within 1e-6).\n"
     ]
    },
    {
     "name": "stderr",
     "output_type": "stream",
     "text": [
      "Training epochs (d=24):   3%|▍               | 28/1000 [00:00<00:07, 124.18it/s]"
     ]
    },
    {
     "name": "stdout",
     "output_type": "stream",
     "text": [
      "Phase 3 (d=24), Epoch 0, Train Loss: 3.190195852, Test Loss: 3.190558364, Accuracy: 0.0097\n",
      "Phase 3 (d=24), Epoch 20, Train Loss: 3.066851772, Test Loss: 3.056823276, Accuracy: 0.2741\n"
     ]
    },
    {
     "name": "stderr",
     "output_type": "stream",
     "text": [
      "Training epochs (d=24):   6%|▉               | 61/1000 [00:00<00:06, 139.47it/s]"
     ]
    },
    {
     "name": "stdout",
     "output_type": "stream",
     "text": [
      "Phase 3 (d=24), Epoch 40, Train Loss: 2.715165035, Test Loss: 2.730786237, Accuracy: 0.3469\n",
      "Phase 3 (d=24), Epoch 60, Train Loss: 2.155626457, Test Loss: 2.205544640, Accuracy: 0.4976\n"
     ]
    },
    {
     "name": "stderr",
     "output_type": "stream",
     "text": [
      "Training epochs (d=24):  10%|█▌              | 96/1000 [00:00<00:06, 143.18it/s]"
     ]
    },
    {
     "name": "stdout",
     "output_type": "stream",
     "text": [
      "Phase 3 (d=24), Epoch 80, Train Loss: 1.138285721, Test Loss: 1.282608292, Accuracy: 0.7328\n",
      "Phase 3 (d=24), Epoch 100, Train Loss: 0.613462674, Test Loss: 0.760100147, Accuracy: 0.7716\n"
     ]
    },
    {
     "name": "stderr",
     "output_type": "stream",
     "text": [
      "Training epochs (d=24):  14%|██             | 141/1000 [00:01<00:06, 135.69it/s]"
     ]
    },
    {
     "name": "stdout",
     "output_type": "stream",
     "text": [
      "Phase 3 (d=24), Epoch 120, Train Loss: 0.431570395, Test Loss: 0.545254625, Accuracy: 0.8484\n",
      "Phase 3 (d=24), Epoch 140, Train Loss: 0.205663032, Test Loss: 0.370596662, Accuracy: 0.9223\n"
     ]
    },
    {
     "name": "stderr",
     "output_type": "stream",
     "text": [
      "Training epochs (d=24):  18%|██▋            | 179/1000 [00:01<00:05, 149.33it/s]"
     ]
    },
    {
     "name": "stdout",
     "output_type": "stream",
     "text": [
      "Phase 3 (d=24), Epoch 160, Train Loss: 0.143171460, Test Loss: 0.279518201, Accuracy: 0.9407\n",
      "Phase 3 (d=24), Epoch 180, Train Loss: 0.088838291, Test Loss: 0.257393801, Accuracy: 0.9466\n"
     ]
    },
    {
     "name": "stderr",
     "output_type": "stream",
     "text": [
      "Training epochs (d=24):  23%|███▍           | 226/1000 [00:01<00:05, 135.64it/s]"
     ]
    },
    {
     "name": "stdout",
     "output_type": "stream",
     "text": [
      "Phase 3 (d=24), Epoch 200, Train Loss: 0.077814061, Test Loss: 0.249787333, Accuracy: 0.9514\n",
      "Phase 3 (d=24), Epoch 220, Train Loss: 0.100341823, Test Loss: 0.247243829, Accuracy: 0.9514\n"
     ]
    },
    {
     "name": "stderr",
     "output_type": "stream",
     "text": [
      "Training epochs (d=24):  26%|███▉           | 261/1000 [00:01<00:05, 142.49it/s]"
     ]
    },
    {
     "name": "stdout",
     "output_type": "stream",
     "text": [
      "Phase 3 (d=24), Epoch 240, Train Loss: 0.045449060, Test Loss: 0.248912530, Accuracy: 0.9524\n",
      "Phase 3 (d=24), Epoch 260, Train Loss: 0.023016124, Test Loss: 0.255591708, Accuracy: 0.9514\n"
     ]
    },
    {
     "name": "stderr",
     "output_type": "stream",
     "text": [
      "Training epochs (d=24):  30%|████▌          | 300/1000 [00:02<00:04, 153.97it/s]"
     ]
    },
    {
     "name": "stdout",
     "output_type": "stream",
     "text": [
      "Phase 3 (d=24), Epoch 280, Train Loss: 0.032029047, Test Loss: 0.252462391, Accuracy: 0.9524\n",
      "Phase 3 (d=24), Epoch 300, Train Loss: 0.049986375, Test Loss: 0.249751410, Accuracy: 0.9534\n"
     ]
    },
    {
     "name": "stderr",
     "output_type": "stream",
     "text": [
      "Training epochs (d=24):  35%|█████▏         | 347/1000 [00:02<00:04, 144.60it/s]"
     ]
    },
    {
     "name": "stdout",
     "output_type": "stream",
     "text": [
      "Phase 3 (d=24), Epoch 320, Train Loss: 0.030811371, Test Loss: 0.244949162, Accuracy: 0.9534\n",
      "Phase 3 (d=24), Epoch 340, Train Loss: 0.047552699, Test Loss: 0.247627710, Accuracy: 0.9534\n"
     ]
    },
    {
     "name": "stderr",
     "output_type": "stream",
     "text": [
      "Training epochs (d=24):  38%|█████▋         | 381/1000 [00:02<00:04, 145.05it/s]"
     ]
    },
    {
     "name": "stdout",
     "output_type": "stream",
     "text": [
      "Phase 3 (d=24), Epoch 360, Train Loss: 0.057848602, Test Loss: 0.253745770, Accuracy: 0.9495\n",
      "Phase 3 (d=24), Epoch 380, Train Loss: 0.027814916, Test Loss: 0.245756180, Accuracy: 0.9524\n"
     ]
    },
    {
     "name": "stderr",
     "output_type": "stream",
     "text": [
      "Training epochs (d=24):  42%|██████▎        | 419/1000 [00:02<00:03, 156.85it/s]"
     ]
    },
    {
     "name": "stdout",
     "output_type": "stream",
     "text": [
      "Phase 3 (d=24), Epoch 400, Train Loss: 0.032846369, Test Loss: 0.251144841, Accuracy: 0.9514\n",
      "Phase 3 (d=24), Epoch 420, Train Loss: 0.043392097, Test Loss: 0.260629013, Accuracy: 0.9485\n"
     ]
    },
    {
     "name": "stderr",
     "output_type": "stream",
     "text": [
      "Training epochs (d=24):  46%|██████▉        | 465/1000 [00:03<00:03, 143.53it/s]"
     ]
    },
    {
     "name": "stdout",
     "output_type": "stream",
     "text": [
      "Phase 3 (d=24), Epoch 440, Train Loss: 0.037645059, Test Loss: 0.251425528, Accuracy: 0.9524\n",
      "Phase 3 (d=24), Epoch 460, Train Loss: 0.029522819, Test Loss: 0.258627441, Accuracy: 0.9524\n"
     ]
    },
    {
     "name": "stderr",
     "output_type": "stream",
     "text": [
      "Training epochs (d=24):  50%|███████▌       | 501/1000 [00:03<00:03, 146.25it/s]"
     ]
    },
    {
     "name": "stdout",
     "output_type": "stream",
     "text": [
      "Phase 3 (d=24), Epoch 480, Train Loss: 0.043195759, Test Loss: 0.261154855, Accuracy: 0.9514\n",
      "Phase 3 (d=24), Epoch 500, Train Loss: 0.019850320, Test Loss: 0.258561238, Accuracy: 0.9514\n"
     ]
    },
    {
     "name": "stderr",
     "output_type": "stream",
     "text": [
      "Training epochs (d=24):  54%|████████       | 539/1000 [00:03<00:02, 154.09it/s]"
     ]
    },
    {
     "name": "stdout",
     "output_type": "stream",
     "text": [
      "Phase 3 (d=24), Epoch 520, Train Loss: 0.021359893, Test Loss: 0.260385747, Accuracy: 0.9534\n",
      "Phase 3 (d=24), Epoch 540, Train Loss: 0.031098941, Test Loss: 0.259101369, Accuracy: 0.9524\n"
     ]
    },
    {
     "name": "stderr",
     "output_type": "stream",
     "text": [
      "Training epochs (d=24):  58%|████████▊      | 585/1000 [00:04<00:02, 140.36it/s]"
     ]
    },
    {
     "name": "stdout",
     "output_type": "stream",
     "text": [
      "Phase 3 (d=24), Epoch 560, Train Loss: 0.023271963, Test Loss: 0.261542366, Accuracy: 0.9534\n",
      "Phase 3 (d=24), Epoch 580, Train Loss: 0.031486904, Test Loss: 0.260773489, Accuracy: 0.9543\n"
     ]
    },
    {
     "name": "stderr",
     "output_type": "stream",
     "text": [
      "Training epochs (d=24):  62%|█████████▎     | 619/1000 [00:04<00:02, 149.66it/s]"
     ]
    },
    {
     "name": "stdout",
     "output_type": "stream",
     "text": [
      "Phase 3 (d=24), Epoch 600, Train Loss: 0.020514515, Test Loss: 0.266999558, Accuracy: 0.9534\n",
      "Phase 3 (d=24), Epoch 620, Train Loss: 0.023137497, Test Loss: 0.265176767, Accuracy: 0.9534\n"
     ]
    },
    {
     "name": "stderr",
     "output_type": "stream",
     "text": [
      "Training epochs (d=24):  67%|█████████▉     | 666/1000 [00:04<00:02, 148.11it/s]"
     ]
    },
    {
     "name": "stdout",
     "output_type": "stream",
     "text": [
      "Phase 3 (d=24), Epoch 640, Train Loss: 0.026439460, Test Loss: 0.259845414, Accuracy: 0.9543\n",
      "Phase 3 (d=24), Epoch 660, Train Loss: 0.028124695, Test Loss: 0.268890237, Accuracy: 0.9534\n"
     ]
    },
    {
     "name": "stderr",
     "output_type": "stream",
     "text": [
      "Training epochs (d=24):  70%|██████████▌    | 701/1000 [00:04<00:02, 145.40it/s]"
     ]
    },
    {
     "name": "stdout",
     "output_type": "stream",
     "text": [
      "Phase 3 (d=24), Epoch 680, Train Loss: 0.018319913, Test Loss: 0.262774179, Accuracy: 0.9534\n",
      "Phase 3 (d=24), Epoch 700, Train Loss: 0.015155711, Test Loss: 0.271661499, Accuracy: 0.9524\n"
     ]
    },
    {
     "name": "stderr",
     "output_type": "stream",
     "text": [
      "Training epochs (d=24):  72%|██████████▊    | 720/1000 [00:05<00:01, 143.19it/s]\n"
     ]
    },
    {
     "name": "stdout",
     "output_type": "stream",
     "text": [
      "Phase 3 (d=24), Epoch 720, Train Loss: 0.023239425, Test Loss: 0.273776915, Accuracy: 0.9495\n",
      "Phase 3 (d=24), Early stopping at epoch 720, Train Loss: 0.023239425, Test Loss: 0.244949162, Accuracy: 0.9534\n",
      "Finished WBSNN experiment with d=24, Train Loss: 0.0232, Test Loss: 0.2738, Accuracy: 0.9534\n",
      "\n",
      "Final Results for d=24:\n",
      "                  Model  Train Accuracy  Test Accuracy  Train Loss  Test Loss\n",
      "0                 WBSNN        0.985075       0.953353    0.023239   0.273777\n",
      "1   Logistic Regression        0.985075       0.963071    0.058695   0.120542\n",
      "2         Random Forest        1.000000       0.970845    0.043174   0.179979\n",
      "3             SVM (RBF)        0.985075       0.948494    0.073580   0.141060\n",
      "4  MLP (1 hidden layer)        0.985075       0.956268    0.028723   0.109640\n"
     ]
    }
   ],
   "source": [
    "\n",
    "import torch\n",
    "import numpy as np\n",
    "import pandas as pd\n",
    "from sklearn.preprocessing import StandardScaler\n",
    "from sklearn.metrics import accuracy_score, log_loss\n",
    "from sklearn.linear_model import LogisticRegression\n",
    "from sklearn.ensemble import RandomForestClassifier\n",
    "from sklearn.svm import SVC\n",
    "from sklearn.neural_network import MLPClassifier\n",
    "from torch.utils.data import DataLoader, TensorDataset\n",
    "import torch.nn as nn\n",
    "import torch.optim as optim\n",
    "from tqdm import tqdm\n",
    "import time\n",
    "\n",
    "# Set random seeds for reproducibility\n",
    "torch.manual_seed(4)\n",
    "np.random.seed(4)\n",
    "torch.utils.data.deterministic = True\n",
    "torch.backends.cudnn.deterministic = True\n",
    "\n",
    "DEVICE = torch.device(\"cpu\")\n",
    "\n",
    "# Load ItalyPowerDemand training and test sets\n",
    "train_data = pd.read_csv('ItalyPowerDemand_TRAIN.txt', sep=r'\\s+', header=None)\n",
    "test_data = pd.read_csv('ItalyPowerDemand_TEST.txt', sep=r'\\s+', header=None)\n",
    "\n",
    "# Extract labels from first column, features from the rest\n",
    "Y_train_full = train_data.iloc[:, 0].values\n",
    "X_train_full = train_data.iloc[:, 1:].values\n",
    "Y_test_full = test_data.iloc[:, 0].values\n",
    "X_test_full = test_data.iloc[:, 1:].values\n",
    "\n",
    "# Convert labels: 1.0 → 0, 2.0 → 1\n",
    "Y_train_full = np.where(Y_train_full == 1.0, 0, 1).astype(int)\n",
    "Y_test_full = np.where(Y_test_full == 1.0, 0, 1).astype(int)\n",
    "\n",
    "\n",
    "def run_experiment_exact(d, X_train_full, X_test_full, Y_train_full, Y_test_full):\n",
    "    # Map to R^d by averaging chunks\n",
    "    chunk_size = X_train_full.shape[1] // d  # 24 // d\n",
    "    X_train_mapped = np.zeros((X_train_full.shape[0], d))\n",
    "    X_test_mapped = np.zeros((X_test_full.shape[0], d))\n",
    "    for i in range(X_train_full.shape[0]):\n",
    "        for j in range(d):\n",
    "            start = j * chunk_size\n",
    "            end = (j + 1) * chunk_size if j < d - 1 else X_train_full.shape[1]\n",
    "            X_train_mapped[i, j] = np.mean(X_train_full[i, start:end])\n",
    "    for i in range(X_test_full.shape[0]):\n",
    "        for j in range(d):\n",
    "            start = j * chunk_size\n",
    "            end = (j + 1) * chunk_size if j < d - 1 else X_test_full.shape[1]\n",
    "            X_test_mapped[i, j] = np.mean(X_test_full[i, start:end])\n",
    "    \n",
    "    X_train = X_train_mapped\n",
    "    X_test = X_test_mapped\n",
    "\n",
    "    # Normalize features\n",
    "    scaler = StandardScaler()\n",
    "    X_train = scaler.fit_transform(X_train)\n",
    "    X_test = scaler.transform(X_test)\n",
    "    # Convert to tensors\n",
    "    X_train = torch.tensor(X_train, dtype=torch.float32).to(DEVICE)\n",
    "    X_test = torch.tensor(X_test, dtype=torch.float32).to(DEVICE)\n",
    "    Y_train_normalized = torch.tensor(Y_train_full / 1.0, dtype=torch.float32).to(DEVICE)  # Normalize by max label (1)\n",
    "    Y_test_normalized = torch.tensor(Y_test_full / 1.0, dtype=torch.float32).to(DEVICE)\n",
    "    Y_train = torch.tensor(Y_train_full, dtype=torch.long).to(DEVICE)\n",
    "    Y_test = torch.tensor(Y_test_full, dtype=torch.long).to(DEVICE)\n",
    "\n",
    "    # One-hot encode labels for Phase 2\n",
    "    M_train, M_test = len(Y_train), len(Y_test)\n",
    "    Y_train_onehot = torch.zeros(M_train, 2).scatter_(1, Y_train.reshape(-1, 1), 1).to(DEVICE)\n",
    "    Y_test_onehot = torch.zeros(M_test, 2).scatter_(1, Y_test.reshape(-1, 1), 1).to(DEVICE)\n",
    "\n",
    "\n",
    "\n",
    "\n",
    "# Phase 1: Maximal Independent Subsets with Conditional W Optimization\n",
    "    def extend_X(X, L, d):\n",
    "        ext = np.zeros(d + L)\n",
    "        for i in range(d + L):\n",
    "            ext[i] = X[i % d]\n",
    "        return ext\n",
    "\n",
    "    def compute_WL(w, L, d):\n",
    "        W_L = np.zeros((d, d + L))\n",
    "        for i in range(d):\n",
    "            prod = 1.0\n",
    "            for k in range(L):\n",
    "                prod *= w[(i + 1 + k) % d]\n",
    "            W_L[i, i + L] = prod\n",
    "        return W_L\n",
    "\n",
    "    def apply_WL(w, X, L, d):\n",
    "        x_ext = extend_X(X, L, d)\n",
    "        W_L = compute_WL(w, L, d)\n",
    "        return W_L @ x_ext\n",
    "\n",
    "    def is_independent(vec, span_vecs, noise_tolerance):\n",
    "        if not span_vecs:\n",
    "            return True\n",
    "        A = np.array(span_vecs).T\n",
    "        coeffs, _, _, _ = np.linalg.lstsq(A, vec, rcond=None)\n",
    "        return np.linalg.norm(vec - A @ coeffs) > noise_tolerance\n",
    "\n",
    "    def compute_delta(w, Dk, X, Y, d):\n",
    "        return max([min([np.linalg.norm(Y[i] - apply_WL(w, X[i].numpy(), L, d))\n",
    "                        for L in range(d)]) for i, _ in sum(Dk, [])])\n",
    "\n",
    "    def build_Dk(w, X, Y, M, d, noise_tolerance):\n",
    "        Dk = []\n",
    "        np.random.seed(4)\n",
    "        R = np.random.choice(range(M), min(100, M), replace=False)\n",
    "        R = list(R)\n",
    "        np.random.shuffle(R)\n",
    "        k = 0\n",
    "        p = 6 if d == 5 else 11 if d ==10 else 2\n",
    "        while R:\n",
    "            Dk.append([])\n",
    "            span_vecs = []\n",
    "            for j in R[:]:\n",
    "                min_error = float('inf')\n",
    "                best_L = 0\n",
    "                for L in range(d):\n",
    "                    W_L_X = apply_WL(w, X[j].numpy(), L, d)\n",
    "                    error = np.linalg.norm(Y[j].numpy() - W_L_X)\n",
    "                    if error < min_error:\n",
    "                        min_error = error\n",
    "                        best_L = L\n",
    "                W_L_X = apply_WL(w, X[j].numpy(), best_L, d)\n",
    "                if is_independent(W_L_X, span_vecs, noise_tolerance) and len(Dk[k]) < p:\n",
    "                    Dk[k].append((j, best_L))\n",
    "                    span_vecs.append(W_L_X)\n",
    "                    R.remove(j)\n",
    "            if not Dk[k]:\n",
    "                Dk.pop()\n",
    "                break\n",
    "            k += 1\n",
    "        return Dk\n",
    "\n",
    "    def phase_1(X_train, Y_train, d, noise_tolerance, suppress_print=False):\n",
    "        w_v = np.array([0.6] * d)\n",
    "        w_e = np.array([1.5] * d)\n",
    "        w_n = np.array([1.0] * d)\n",
    "        W_variants = {\"vanishing\": w_v, \"exploding\": w_e, \"neutral\": w_n}\n",
    "        best_w, best_Dk, best_total_size, best_delta = None, [], 0, float('inf')\n",
    "        for name, w_init in W_variants.items():\n",
    "            np.random.seed(4)\n",
    "            w = w_init.copy()\n",
    "            Dk = build_Dk(w, X_train, Y_train, len(X_train), d, noise_tolerance)\n",
    "            total_size = len(sum(Dk, []))\n",
    "            if total_size == len(X_train):\n",
    "                delta = compute_delta(w, Dk, X_train, Y_train, d)\n",
    "                learning_rate = 0.001\n",
    "                for _ in range(50):\n",
    "                    grad = np.zeros(d)\n",
    "                    step = 0.0001\n",
    "                    for i in range(d):\n",
    "                        w_plus = w.copy()\n",
    "                        w_plus[i] += step\n",
    "                        delta_plus = compute_delta(w_plus, Dk, X_train, Y_train, d)\n",
    "                        grad[i] = (delta_plus - delta) / step\n",
    "                    w_new = w - learning_rate * grad\n",
    "                    w_new = np.clip(w_new, 0.1, 2.0)\n",
    "                    Dk_new = build_Dk(w_new, X_train, Y_train, len(X_train), d, noise_tolerance)\n",
    "                    new_total_size = len(sum(Dk_new, []))\n",
    "                    if new_total_size == len(X_train) and compute_delta(w_new, Dk_new, X_train, Y_train, d) < delta:\n",
    "                        w = w_new\n",
    "                        Dk = Dk_new\n",
    "                        delta = compute_delta(w, Dk, X_train, Y_train, d)\n",
    "                if total_size > best_total_size or (total_size == best_total_size and delta < best_delta):\n",
    "                    best_w, best_Dk, best_total_size, best_delta = w, Dk, total_size, delta\n",
    "        if not suppress_print:\n",
    "            print(f\"Best W weights: {best_w}\")\n",
    "            print(f\"Subsets D_k: {len(best_Dk)} subsets, {best_total_size} points\")\n",
    "            print(f\"Delta: {best_delta:.4f}\")\n",
    "            print(f\"Y_mean: {Y_train.mean().item():.6f}, Y_std: {Y_train.std().item():.6f}\")\n",
    "        return best_w, best_Dk\n",
    "\n",
    "# Phase 2: Construct Local J_k Operators (Modified for Classification)\n",
    "    def phase_2(best_w, best_Dk, X_train, Y_train, d, suppress_print=False):\n",
    "        J_k_list = []\n",
    "        epsilon = 0.01\n",
    "        all_norms_zero = True\n",
    "        norms_outside_threshold = []\n",
    "        for k, subset in enumerate(best_Dk):\n",
    "            J = np.eye(d)\n",
    "            span_vecs = []\n",
    "            for idx, (i, L_i) in enumerate(subset):\n",
    "                W_L_X = apply_WL(best_w, X_train[i].numpy(), L_i, d)\n",
    "                span_vecs.append(W_L_X)\n",
    "                if idx == 0:\n",
    "                    f_i_star = np.ones(d) / np.dot(np.ones(d), W_L_X)\n",
    "                else:\n",
    "                    A = np.array(span_vecs[:-1]).T\n",
    "                    proj = A @ np.linalg.pinv(A) @ W_L_X\n",
    "                    f_i_star = W_L_X - proj\n",
    "                    denom = np.dot(f_i_star, W_L_X)\n",
    "                    if denom != 0:\n",
    "                        f_i_star /= denom\n",
    "                    else:\n",
    "                        f_i_star = np.zeros_like(f_i_star)\n",
    "            # Use scalar label (0 or 1) instead of one-hot, project to d-dimensional space\n",
    "                target = np.zeros(d)\n",
    "#                target[0] = Y_train[i].numpy()  # Map scalar label to first dimension\n",
    "                target[0] = float(np.argmax(Y_train[i]))\n",
    "                diff = target - J @ W_L_X\n",
    "                J += np.outer(diff, f_i_star)\n",
    "            for idx, (i, L_i) in enumerate(subset):\n",
    "                W_L_X = apply_WL(best_w, X_train[i].numpy(), L_i, d)\n",
    "                target = np.zeros(d)\n",
    "#                target[0] = Y_train[i].numpy()\n",
    "                target[0] = float(np.argmax(Y_train[i]))\n",
    "                diff = target - J @ W_L_X\n",
    "                norm = np.linalg.norm(diff)\n",
    "                if norm > 1e-6:\n",
    "                    norms_outside_threshold.append((k, i, norm))\n",
    "                    all_norms_zero = False\n",
    "            J_norm = np.linalg.norm(J)\n",
    "            if J_norm > 0:\n",
    "                J /= J_norm\n",
    "            J_k_list.append(J)\n",
    "        if not suppress_print:\n",
    "            if all_norms_zero:\n",
    "                print(\"Phase 2 (d=5): All norms of Y_i - J W^(L_i) X_i across all D_k are identically zero (within 1e-6).\")\n",
    "            else:\n",
    "                print(\"Phase 2 (d=5): Norm distribution:\", end=\" \")\n",
    "                norm_counts = {}\n",
    "                for _, _, norm in norms_outside_threshold:\n",
    "                    if norm < 1e-6:\n",
    "                        norm_counts[\"[0, 1e-6)\"] = norm_counts.get(\"[0, 1e-6)\", 0) + 1\n",
    "                    elif norm < 1:\n",
    "                        norm_counts[\"[1e-6, 1)\"] = norm_counts.get(\"[1e-6, 1)\", 0) + 1\n",
    "                    elif norm < 2:\n",
    "                        norm_counts[\"[1, 2)\"] = norm_counts.get(\"[1, 2)\", 0) + 1\n",
    "                    elif norm < 3:\n",
    "                        norm_counts[\"[2, 3)\"] = norm_counts.get(\"[2, 3)\", 0) + 1\n",
    "                    else:\n",
    "                        norm_counts[\">= 3\"] = norm_counts.get(\">= 3\", 0) + 1\n",
    "                for key, count in norm_counts.items():\n",
    "                    print(f\"{count} norms in {key}\", end=\", \")\n",
    "                print()\n",
    "        return J_k_list\n",
    "\n",
    "# WBSNN Model\n",
    "\n",
    "    class WBSNN(nn.Module):\n",
    "        def __init__(self, input_dim, K, M, num_classes=2, d_value=None):\n",
    "            super(WBSNN, self).__init__()\n",
    "            self.d = input_dim\n",
    "            self.K = K\n",
    "            self.M = M\n",
    "            self.d_value = d_value\n",
    "\n",
    "            if self.d_value == 5:\n",
    "                self.fc1 = nn.Linear(input_dim, 96)\n",
    "                self.fc2 = nn.Linear(96, 64)                \n",
    "                self.fc3 = nn.Linear(64, K * M)\n",
    "            elif self.d_value == 10:\n",
    "                self.fc1 = nn.Linear(input_dim, 128)\n",
    "                self.fc2 = nn.Linear(128, 64)\n",
    "                self.fc3 = nn.Linear(64, 32)\n",
    "#                self.fc4 = nn.Linear(32, 16)\n",
    "#                self.fc5 = nn.Linear(32, 16)\n",
    "                self.fc6 = nn.Linear(32, K * M)\n",
    "            elif self.d_value == 24:\n",
    "                self.fc1 = nn.Linear(input_dim, 256)\n",
    "                self.fc2 = nn.Linear(256, 128)\n",
    "                self.fc3 = nn.Linear(128, 96)\n",
    "                self.fc4 = nn.Linear(96, 64)                \n",
    "                self.fc5 = nn.Linear(64, K * M)\n",
    "\n",
    "            self.relu = nn.ReLU()\n",
    "            self.dropout = nn.Dropout(0.3)\n",
    "        def forward(self, x):\n",
    "            out = self.relu(self.fc1(x))\n",
    "            out = self.dropout(out)\n",
    "            out = self.relu(self.fc2(out))\n",
    "            out = self.dropout(out)\n",
    "\n",
    "            if self.d_value == 5:\n",
    "                out = self.fc3(out)                \n",
    "            elif self.d_value == 10:\n",
    "                out = self.relu(self.fc3(out))\n",
    "                out = self.dropout(out)\n",
    "#                out = self.fc4(out)\n",
    "#                out = self.dropout(out)\n",
    "#                out = self.fc5(out)\n",
    "#                out = self.dropout(out)\n",
    "                out = self.fc6(out)\n",
    "            elif self.d_value == 24:\n",
    "                out = self.relu(self.fc3(out))\n",
    "                out = self.dropout(out)\n",
    "                out = self.relu(self.fc4(out))\n",
    "                out = self.dropout(out)\n",
    "                out = self.fc5(out)\n",
    "               \n",
    "\n",
    "            out = out.view(-1, self.K, self.M)\n",
    "            return out\n",
    "    def phase_3_alpha_km(best_w, J_k_list, Dk, X_train, Y_train, X_test, Y_test, d, suppress_print=False):\n",
    "        K = len(J_k_list)\n",
    "        M = d\n",
    "        X_train_torch = X_train.clone().detach().to(DEVICE)\n",
    "        Y_train_torch = Y_train.clone().detach().to(DEVICE)\n",
    "        X_test_torch = X_test.clone().detach().to(DEVICE)\n",
    "        Y_test_torch = Y_test.clone().detach().to(DEVICE)\n",
    "#        J_k_torch = torch.stack(J_k_list).to(DEVICE)  # Shape: [K, d, 2]\n",
    "        J_k_torch = torch.stack([torch.tensor(J, dtype=torch.float32) for J in J_k_list]).to(DEVICE)\n",
    "\n",
    "\n",
    "        # Compute orbits W^{(m)} X_i for training\n",
    "        W_m_X_train = []\n",
    "        for i in range(len(X_train_torch)):\n",
    "            W_m_features = []\n",
    "            current = X_train_torch[i]\n",
    "            for m in range(M):\n",
    "                W_m_features.append(current)\n",
    "                shifted = torch.zeros_like(current)\n",
    "                for j in range(d):\n",
    "                    shifted[j] = best_w[j] * current[j - 1] if j > 0 else best_w[j] * current[d - 1]\n",
    "                current = shifted\n",
    "            W_m_features = torch.stack(W_m_features)  # Shape: [M, d]\n",
    "            W_m_X_train.append(W_m_features)\n",
    "        W_m_X_train = torch.stack(W_m_X_train)  # Shape: [n_train, M, d]\n",
    "\n",
    "        # Compute J_k W^{(m)} X_i for training\n",
    "        W_m_JkX_train = []\n",
    "        for i in range(len(X_train_torch)):\n",
    "            features = []\n",
    "            for k in range(K):\n",
    "                J_k = J_k_torch[k]  # Shape: [d, 2]\n",
    "                W_m_features = W_m_X_train[i]  # Shape: [M, d]\n",
    "                weighted = W_m_features @ J_k  # Shape: [M, 2]\n",
    "                features.append(weighted)\n",
    "            features = torch.stack(features)  # Shape: [K, M, 2]\n",
    "            W_m_JkX_train.append(features)\n",
    "        W_m_JkX_train = torch.stack(W_m_JkX_train)  # Shape: [n_train, K, M, 2]\n",
    "\n",
    "        # Compute orbits W^{(m)} X_i for testing\n",
    "        W_m_X_test = []\n",
    "        for i in range(len(X_test_torch)):\n",
    "            W_m_features = []\n",
    "            current = X_test_torch[i]\n",
    "            for m in range(M):\n",
    "                W_m_features.append(current)\n",
    "                shifted = torch.zeros_like(current)\n",
    "                for j in range(d):\n",
    "                    shifted[j] = best_w[j] * current[j - 1] if j > 0 else best_w[j] * current[d - 1]\n",
    "                current = shifted\n",
    "            W_m_features = torch.stack(W_m_features)\n",
    "            W_m_X_test.append(W_m_features)\n",
    "        W_m_X_test = torch.stack(W_m_X_test)  # Shape: [n_test, M, d]\n",
    "\n",
    "        # Compute J_k W^{(m)} X_i for testing\n",
    "        W_m_JkX_test = []\n",
    "        for i in range(len(X_test_torch)):\n",
    "            features = []\n",
    "            for k in range(K):\n",
    "                J_k = J_k_torch[k]\n",
    "                W_m_features = W_m_X_test[i]\n",
    "                weighted = W_m_features @ J_k\n",
    "                features.append(weighted)\n",
    "            features = torch.stack(features)  # Shape: [K, M, 2]\n",
    "            W_m_JkX_test.append(features)\n",
    "        W_m_JkX_test = torch.stack(W_m_JkX_test)  # Shape: [n_test, K, M, 2]\n",
    "\n",
    "        # Prepare datasets\n",
    "        train_dataset = TensorDataset(X_train_torch, W_m_JkX_train, Y_train_torch)\n",
    "        test_dataset = TensorDataset(X_test_torch, W_m_JkX_test, Y_test_torch)\n",
    "        g = torch.Generator()\n",
    "        g.manual_seed(4)\n",
    "        train_loader = DataLoader(train_dataset, batch_size=32, shuffle=True, generator=g)\n",
    "        test_loader = DataLoader(test_dataset, batch_size=32, shuffle=False)\n",
    "\n",
    "\n",
    "        # Initialize model\n",
    "        model = WBSNN(d, K, M, num_classes=2, d_value=d).to(DEVICE)\n",
    "        weight_decay = 0.009 if d == 5 else 0.006 if d == 10 else 0.0009\n",
    "        optimizer = optim.Adam(model.parameters(), lr=0.0001, weight_decay=weight_decay)\n",
    "        scheduler = optim.lr_scheduler.StepLR(optimizer, step_size=800, gamma=0.5)\n",
    "        criterion = nn.CrossEntropyLoss()\n",
    "        epochs = 1000 if d == 5 else 1000\n",
    "        #patience = 50\n",
    "        patience = 20 if d == 5 else 50 if d == 10 else 20\n",
    "        best_test_loss = float('inf')\n",
    "        best_accuracy = 0.0\n",
    "        patience_counter = 0\n",
    "\n",
    "        for epoch in tqdm(range(epochs), desc=f\"Training epochs (d={d})\"):\n",
    "            model.train()\n",
    "            train_loss = 0\n",
    "            for batch_inputs, batch_W_m, batch_targets in train_loader:\n",
    "                optimizer.zero_grad()\n",
    "                alpha_km = model(batch_inputs)  # Shape: [batch_size, K, M]\n",
    "                batch_size = batch_inputs.size(0)\n",
    "                weighted_sum = torch.einsum('bkm,bkmt->bt', alpha_km, batch_W_m)  # Shape: [batch_size, 2]\n",
    "                outputs = weighted_sum  # Shape: [batch_size, 2]\n",
    "                loss = criterion(outputs, batch_targets)\n",
    "                train_loss += loss.item() * batch_inputs.size(0)\n",
    "                loss.backward()\n",
    "                torch.nn.utils.clip_grad_norm_(model.parameters(), max_norm=0.5)\n",
    "                optimizer.step()\n",
    "            train_loss /= len(train_loader.dataset)\n",
    "            if epoch % 20 == 0 or (patience_counter >= patience):\n",
    "                model.eval()\n",
    "                test_loss = 0\n",
    "                correct = 0\n",
    "                total = 0\n",
    "                with torch.no_grad():\n",
    "                    for batch_inputs, batch_W_m, batch_targets in test_loader:\n",
    "                        alpha_km = model(batch_inputs)\n",
    "                        batch_size = batch_inputs.size(0)\n",
    "                        weighted_sum = torch.einsum('bkm,bkmt->bt', alpha_km, batch_W_m)\n",
    "                        outputs = weighted_sum\n",
    "                        test_loss += criterion(outputs, batch_targets).item() * batch_inputs.size(0)\n",
    "                        preds = outputs.argmax(dim=1)\n",
    "                        correct += (preds == batch_targets).sum().item()\n",
    "                        total += batch_targets.size(0)\n",
    "                test_loss /= len(test_loader.dataset)\n",
    "                accuracy = correct / total\n",
    "                scheduler.step()\n",
    "\n",
    "                if not suppress_print:\n",
    "                    print(f\"Phase 3 (d={d}), Epoch {epoch}, Train Loss: {train_loss:.9f}, Test Loss: {test_loss:.9f}, Accuracy: {accuracy:.4f}\")\n",
    "\n",
    "                if test_loss < best_test_loss:\n",
    "                    best_test_loss = test_loss\n",
    "                    best_accuracy = accuracy\n",
    "                    patience_counter = 0\n",
    "                else:\n",
    "                    patience_counter += 1\n",
    "                    if patience_counter >= patience:\n",
    "                        print(f\"Phase 3 (d={d}), Early stopping at epoch {epoch}, Train Loss: {train_loss:.9f}, Test Loss: {best_test_loss:.9f}, Accuracy: {best_accuracy:.4f}\")\n",
    "                        break\n",
    "        train_correct = 0\n",
    "        train_total = 0\n",
    "        with torch.no_grad():\n",
    "            for batch_inputs, batch_W_m, batch_targets in train_loader:\n",
    "                alpha_km = model(batch_inputs)\n",
    "                batch_size = batch_inputs.size(0)\n",
    "                weighted_sum = torch.einsum('bkm,bkmt->bt', alpha_km, batch_W_m)\n",
    "                outputs = weighted_sum\n",
    "                preds = outputs.argmax(dim=1)\n",
    "                train_correct += (preds == batch_targets).sum().item()\n",
    "                train_total += batch_targets.size(0)\n",
    "        train_accuracy = train_correct / train_total\n",
    "\n",
    "        return train_accuracy, best_accuracy, train_loss, test_loss\n",
    "\n",
    "    def evaluate_classical(name, model, support_proba=False):\n",
    "        try:\n",
    "            model.fit(X_train.cpu().numpy(), Y_train.cpu().numpy())\n",
    "            y_pred_train = model.predict(X_train.cpu().numpy())\n",
    "            y_pred_test = model.predict(X_test.cpu().numpy())\n",
    "            acc_train = accuracy_score(Y_train.cpu().numpy(), y_pred_train)\n",
    "            acc_test = accuracy_score(Y_test.cpu().numpy(), y_pred_test)\n",
    "\n",
    "            if support_proba:\n",
    "                loss_train = log_loss(Y_train.cpu().numpy(), model.predict_proba(X_train.cpu().numpy()))\n",
    "                loss_test = log_loss(Y_test.cpu().numpy(), model.predict_proba(X_test.cpu().numpy()))\n",
    "            else:\n",
    "                loss_train = loss_test = float('nan')\n",
    "        except ValueError:\n",
    "            acc_train = acc_test = loss_train = loss_test = float('nan')\n",
    "\n",
    "        return [name, acc_train, acc_test, loss_train, loss_test]\n",
    "\n",
    "    print(f\"\\nRunning WBSNN experiment with d={d}\")\n",
    "    thresh = 0.0001 if d == 5 else 0.01\n",
    "    best_w, best_Dk = phase_1(X_train, Y_train_normalized, d, noise_tolerance=thresh)\n",
    "    J_k_list = phase_2(best_w, best_Dk, X_train, Y_train_onehot, d)\n",
    "    train_acc, test_acc, train_loss, test_loss = phase_3_alpha_km(\n",
    "        best_w, J_k_list, best_Dk, X_train, Y_train, X_test, Y_test, d\n",
    "    )\n",
    "    print(f\"Finished WBSNN experiment with d={d}, Train Loss: {train_loss:.4f}, Test Loss: {test_loss:.4f}, Accuracy: {test_acc:.4f}\")\n",
    "\n",
    "    results = []\n",
    "    results.append([\"WBSNN\", train_acc, test_acc, train_loss, test_loss])\n",
    "    results.append(evaluate_classical(\"Logistic Regression\", LogisticRegression(max_iter=1000), support_proba=True))\n",
    "    results.append(evaluate_classical(\"Random Forest\", RandomForestClassifier(n_estimators=100), support_proba=True))\n",
    "    results.append(evaluate_classical(\"SVM (RBF)\", SVC(kernel='rbf', probability=True), support_proba=True))\n",
    "    results.append(evaluate_classical(\"MLP (1 hidden layer)\", MLPClassifier(hidden_layer_sizes=(64,), max_iter=500), support_proba=True))\n",
    "\n",
    "    df = pd.DataFrame(results, columns=[\"Model\", \"Train Accuracy\", \"Test Accuracy\", \"Train Loss\", \"Test Loss\"])\n",
    "    print(f\"\\nFinal Results for d={d}:\")\n",
    "    print(df)\n",
    "    return results\n",
    "\n",
    "\n",
    "\n",
    "# Run experiments\n",
    "print(\"\\nExperiment with d=5\")\n",
    "results_d5_exact = run_experiment_exact(5, X_train_full, X_test_full, Y_train_full, Y_test_full)\n",
    "print(\"\\nExperiment with d=10\")\n",
    "results_d10_exact = run_experiment_exact(10, X_train_full, X_test_full, Y_train_full, Y_test_full)\n",
    "print(\"\\nExperiment with d=24\")\n",
    "results_d24_exact = run_experiment_exact(24, X_train_full, X_test_full, Y_train_full, Y_test_full)\n",
    "\n",
    "   "
   ]
  }
 ],
 "metadata": {
  "kernelspec": {
   "display_name": "Python 3 (ipykernel)",
   "language": "python",
   "name": "python3"
  },
  "language_info": {
   "codemirror_mode": {
    "name": "ipython",
    "version": 3
   },
   "file_extension": ".py",
   "mimetype": "text/x-python",
   "name": "python",
   "nbconvert_exporter": "python",
   "pygments_lexer": "ipython3",
   "version": "3.12.7"
  }
 },
 "nbformat": 4,
 "nbformat_minor": 5
}
