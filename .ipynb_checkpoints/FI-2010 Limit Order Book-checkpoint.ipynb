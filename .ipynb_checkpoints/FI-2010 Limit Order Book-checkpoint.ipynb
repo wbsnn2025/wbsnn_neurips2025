{
 "cells": [
  {
   "cell_type": "markdown",
   "id": "c02ea29c-50c0-473c-a8f3-7e83468ef8ee",
   "metadata": {},
   "source": [
    "# WBSNN Experiments on FI-2010 Dataset \n",
    "\n",
    "## 1. Dataset Description: FI-2010 (Limit Order Book)\n",
    "\n",
    "- **FI-2010** is a high-frequency financial dataset capturing limit order book (LOB) dynamics for stock price prediction, hosted by the University of Bristol.\n",
    "- **Objective**: Classify the price movement over a 10-tick horizon into **3 classes**: up (0), down (1), or stationary (2), based on bid/ask prices and volumes.\n",
    "- **Structure**:\n",
    "  - **Features**: 40 dimensions (normalized bid/ask prices and volumes for the top 10 levels of the LOB), reduced via PCA to \\( d=10 \\) or \\( d=20 \\).\n",
    "  - **Labels**: 3 classes, one-hot encoded for WBSNN’s Phase 2 (shape `[M_train, 3]`).\n",
    "  - Full dataset: ~250,000 samples; subsampled to **2,000 samples** (1,600 train, 400 test) with a fixed seed (4).\n",
    "- **Challenges**:\n",
    "  - **High Noise**: LOB data exhibits a low signal-to-noise ratio due to rapid, adversarial market microstructure (e.g., order cancellations, spoofing).\n",
    "  - **Non-Stationarity**: Price movements are temporally unstable, with bursts and regime shifts.\n",
    "  - **Temporal Dependencies**: Strong sequential patterns (e.g., momentum, mean-reversion) require models to capture short-term dynamics.\n",
    "  - **Class Imbalance and Overlap**: Stationary states dominate, with subtle transitions between up/down movements, leading to entangled class boundaries.\n",
    "  - **PCA Compression**: Reducing 40 features to \\( d=10 \\) or \\( d=20 \\) discards fine-grained LOB dynamics, increasing classification difficulty.\n",
    "\n",
    "## 2. Data Preparation Summary\n",
    "\n",
    "- **Dataset Handling**:\n",
    "  - Loaded via `pandas` from `FI2010_train.csv`, selecting 2,000 samples randomly (seed=4).\n",
    "  - Features: 40 LOB variables; labels: 3-class price movements (0: up, 1: down, 2: stationary).\n",
    "- **Preprocessing**:\n",
    "  - **PCA**: Reduced to \\( d=10 \\) or \\( d=20 \\) using `sklearn.decomposition.PCA`, preserving principal components.\n",
    "  - **Normalization**: Features standardized to zero mean and unit variance using `StandardScaler`.\n",
    "  - **Split**: 80% train (1,600 samples), 20% test (400 samples) with random seed for reproducibility.\n",
    "  - **Label Encoding**: Labels normalized to [0, 1] for Phase 2 and one-hot encoded (shape `[M_train, 3]`).\n",
    "- **Tensor Conversion**: Data converted to PyTorch tensors on CPU (`DEVICE=cpu`) for WBSNN processing.\n",
    "\n",
    "## 3. WBSNN Method Summary\n",
    "\n",
    "- **Weighted Backward Shift Neural Network (WBSNN)**:\n",
    "  - **Phase 1**: Constructs subsets \\( D_k \\) using $\\sim 10$ % of training data (160 out of 1,600 samples) via random subsampling. The shift operator \\( W \\) is optimized with Adam (\\( \\text{lr}=0.001 \\), \\( \\text{thresh}=10^{-6} \\)), with delta values (~1.3652 for \\( d=10 \\), ~1.2889 for \\( d=20 \\)).\n",
    "  - **Phase 2**: Fits local linear maps \\( J_k \\) (shape \\( [d, 3] \\)) via regularized least-squares for non-exact interpolation, allowing small fitting errors to enhance noise robustness.\n",
    "  - **Phase 3**: Trains an MLP to learn weights $ \\alpha_{k,m} $ over orbits $ J_k W^{(m)} X_i $.\n",
    "    - Architecture: For \\( d=10, 20 \\), a lightweight MLP with layers `[128, 64, 32]`, ReLU, and 0.3 dropout.\n",
    "    - Training: Adam (\\( \\text{lr}=0.0001 \\), \\( \\text{weight_decay}=0.0005 \\)), CrossEntropyLoss, StepLR scheduler (step=400, gamma=0.5), 650 epochs, early stopping (patience=30), and gradient clipping (max_norm=0.5).\n",
    "- **Key Features**:\n",
    "  - **Data Efficiency**: Uses only 160 points for subset construction, reducing computational cost.\n",
    "  - **Noise Robustness**: Non-exact interpolation filters market noise (e.g., spoofing, rapid cancellations).\n",
    "  - **Interpretability**: Orbit-based predictions are traceable to **subsets and shift dynamics**, unlike black-box MLPs.\n",
    "\n",
    "## 4. Results Overview Runs 26 and 27.\n",
    "\n",
    "|| \\( d \\) | Model                  | Train Accuracy | Test Accuracy | Train Loss | Test Loss |\n",
    "|:-|:------:|:----------------------|:--------------:|:-------------:|:----------:|:---------:|\n",
    "|Run 26 |10      | WBSNN                 | 0.5288         | 0.4675        | 0.9333     | 1.2271    |\n",
    "| |10      | Logistic Regression   | 0.4281         | 0.4300        | 1.0386     | 1.0336    |\n",
    "| |10      | Random Forest         | 1.0000         | 0.4525        | 0.2607     | 1.0436    |\n",
    "| |10      | SVM (RBF)             | 0.5075         | 0.4425        | 1.0063     | 1.0270    |\n",
    "| |10      | MLP (1 hidden layer)  | 0.6050         | 0.4425        | 0.8360     | 1.1819    |\n",
    "|Run 27 |20      | WBSNN                 | 0.6513         | 0.5325        | 0.8283     | 1.8657    |\n",
    "| |20      | Logistic Regression   | 0.5400         | 0.5350        | 0.9677     | 0.9904    |\n",
    "| |20      | Random Forest         | 1.0000         | 0.5550        | 0.2472     | 0.9664    |\n",
    "| |20      | SVM (RBF)             | 0.6025         | 0.5550        | 0.8822     | 0.9508    |\n",
    "| |20      | MLP (1 hidden layer)  | 0.7844         | 0.5175        | 0.5465     | 1.5067    |\n",
    "\n",
    "| Run | Dataset      | d  | Interpolation | Phase 1–2 Samples | Phase 3/Baselines Samples        | MLP Arch             | Dropout | Weight Decay | LR     | Loss           | Optimizer |\n",
    "|-----|----------|----------|----------------|-------------------|------------------------|----------------------|---------|---------------|--------|----------------|-----------|\n",
    "| 26  | FI-2010   | 10 | Non-exact      | 160               | Train 1600, Test 400   | (64→32→K*d)                | 0.3     | 0.0005        | 0.0001 | CrossEntropy   | Adam      |\n",
    "| 27  | FI-2010   | 20 | Non-exact      | 160               | Train 1600, Test 400   | (128→64→32→K*d)            | 0.3     | 0.0005        | 0.0001 | CrossEntropy   | Adam      |\n",
    "\n",
    "\n",
    "## 5. Analysis and Insights\n",
    "\n",
    "### 5.1. Realism of Results\n",
    "- **Dataset Complexity**: The FI-2010 dataset is notoriously challenging due to its **low signal-to-noise ratio**, **non-stationarity**, and **temporal dependencies**. Literature benchmarks report test accuracies of $\\sim$0.50–0.60 for 3-class LOB prediction with advanced models (e.g., LSTMs, CNNs) on larger datasets (~100,000 samples).\n",
    "- **WBSNN Results**:\n",
    "  - **\\( d=10 \\)**: Test accuracy (0.4675) is realistic for a small sample size (2,000) and severe PCA compression (40 to 10 dimensions). It outperforms all benchmarks despite **using only ~10% of training data (160 points)** demonstrating strong performance in low-dimensional regimes and scarce-data scenarios.\n",
    "  - **\\( d=20 \\)**: Improved test accuracy (0.5325) aligns with benchmarks, closely trailing Random Forest and SVM (0.5550), and outperforming MLP (0.5175). The higher test loss (1.8657 vs. 1.2271) reflects increased model complexity but better class separation.\n",
    "- **Baseline Behavior**:\n",
    "  - **Random Forest**: Severe overfitting (1.0000 train, 0.4525–0.5550 test) due to memorizing PCA features, with high test losses (1.0436, 0.9664).\n",
    "  - **SVM (RBF)**: Strong at \\( d=20 \\) (0.5550) due to non-linear kernels, but limited at \\( d=10 \\) (0.4425) by feature loss.\n",
    "  - **MLP**: Overfits at \\( d=20 \\) (0.7844 train, 0.5175 test), with a high test loss (1.5067), indicating convergence issues (noted warning).\n",
    "  - **Logistic Regression**: Consistent and showing strong accuracy (0.4300–0.5350) despite its linear limitations.\n",
    "- **Conclusion**: WBSNN’s results are realistic, reflecting FI-2010’s difficulty and PCA constraints. Its competitive performance with minimal data underscores its robustness, though it trails top baselines at \\( d=20 \\) due to simpler architecture.\n",
    "\n",
    "### Error Bar Analysis for WBSNN on FI-2010 (\\( d=10 \\)), Runs 60-69.\n",
    "The error bar for WBSNN on the FI-2010 dataset with \\( d=10 \\), computed over 10 runs, is 43.75\\% $\\pm$ 1.38\\%. As shown below, for $d=10$ WBSNN achieved a test accuracy of 46.75\\%, surpassing all baselines. This section evaluates WBSNN’s variability and competitiveness by comparing its error bar to baseline accuracies from a single run: Logistic Regression (43.00\\%), Random Forest (45.25\\%), SVM with RBF kernel (44.25\\%), and MLP with one hidden layer (44.25\\%).\n",
    "\n",
    "WBSNN’s mean test accuracy (43.75\\%) exceeds Logistic Regression and closely matches SVM and MLP, though it is slightly below Random Forest, the strongest baseline. The $\\pm$ 1.38\\% error bar, corresponding to a standard deviation of 1.38\\%, indicates low variability, with accuracies ranging from 42.37\\% to 45.13\\%. This range encompasses Logistic Regression, SVM, and MLP, and approaches Random Forest, suggesting WBSNN performs competitively in most runs. The single-run accuracy of 46.75\\% reflects a favorable subset selection, highlighting WBSNN’s potential to outperform baselines.\n",
    "\n",
    "The tight error bar underscores WBSNN’s stability across random seeds and subset selections, a strength for the FI-2010 dataset’s noisy, non-stationary financial time series. Using only 160 points (~10\\% of data), WBSNN’s consistent performance demonstrates its sample efficiency compared to baselines trained on the full dataset. While the mean accuracy trails Random Forest slightly, the low variability indicates reliable behavior. Future improvements, such as gradient-based optimization of \\( \\delta \\) or automated subset selection, could further align WBSNN with top baselines.\n",
    "\n",
    "## Ablation Study on Orbit Coefficients\n",
    "The FI-2010 Limit Order Book dataset (40 features, \\(d=10\\) or \\(d=20\\), 1600 train samples used in WBSNN's Phase 3 and for each baseline, from which WBSNN's Phase 1 and 2 only use 160 training samples which is $10 \\%$ of the entire training set) exhibits noisy, temporal geometry. At \\(d=10\\), \\(\\alpha_k\\) slightly outperforms \\(\\alpha_{k,m}\\) (0.4775 vs. 0.4675 test accuracy, 1.1671 vs. 1.2271 test loss), reflecting its robustness to noise. The small sample size and PCA-induced feature mixing amplify overfitting risks for \\(\\alpha_{k,m}\\)’s \\(K \\times 10\\) parameters. The \\(\\alpha_k\\) model’s averaging over orbits acts as implicit regularization, smoothing noisy dimensions and improving generalization. At \\(d=20\\), however, \\(\\alpha_{k,m}\\) excels (0.5325 vs. 0.4850 test accuracy), as the higher dimensionality provides richer temporal signals, which \\(\\alpha_{k,m}\\) captures through dimension-specific weighting. The orbits, aligned with financial time-series, enhance \\(\\alpha_{k,m}\\)’s performance when \\(d\\) is large.\n",
    "### Final Results for Ablation on Order Book — Run 70 ($\\alpha_k$, d=10)\n",
    "\n",
    "| Model                | Train Accuracy | Test Accuracy | Train Loss | Test Loss |\n",
    "|---------------------|----------------|---------------|------------|-----------|\n",
    "| WBSNN               | 0.485625       | 0.4775        | 1.006508   | 1.167062  |\n",
    "| Logistic Regression | 0.428125       | 0.4300        | 1.038614   | 1.033573  |\n",
    "| Random Forest       | 1.000000       | 0.4525        | 0.260686   | 1.043642  |\n",
    "| SVM (RBF)           | 0.507500       | 0.4425        | 1.006271   | 1.027030  |\n",
    "| MLP (1 hidden layer)| 0.605000       | 0.4425        | 0.836036   | 1.181896  |\n",
    "\n",
    "### Final Results for Ablation on Order Book — Run 71 ($\\alpha_k$, d=20)\n",
    "\n",
    "| Model                | Train Accuracy | Test Accuracy | Train Loss | Test Loss |\n",
    "|---------------------|----------------|---------------|------------|-----------|\n",
    "| WBSNN               | 0.583750       | 0.4850        | 1.031658   | 1.593457  |\n",
    "| Logistic Regression | 0.540000       | 0.5350        | 0.967697   | 0.990411  |\n",
    "| Random Forest       | 1.000000       | 0.5550        | 0.247205   | 0.966403  |\n",
    "| SVM (RBF)           | 0.602500       | 0.5550        | 0.882229   | 0.950816  |\n",
    "| MLP (1 hidden layer)| 0.784375       | 0.5175        | 0.546498   | 1.506720  |\n",
    "\n",
    "### 5.2. WBSNN’s Performance Insights\n",
    "- **Key Observations**:\n",
    "  - **Data Efficiency**: WBSNN achieves competitive accuracies using ~10% of training data, highlighting its ability to extract meaningful patterns from sparse subsets (80 subsets, 160 points).\n",
    "  - **Noise Robustness**: Non-exact interpolation (\\( \\text{thresh}=10^{-6} \\)) filters market noise (e.g., spoofing), as seen in non-zero norms (e.g., 67/71 in [1e-6, 1) for \\( d=10, 20 \\)).\n",
    "  - **Scalability**: Performance improves from \\( d=10 \\) to \\( d=20 \\), but diminishing returns suggest PCA limits further gains without richer features.\n",
    "\n",
    "### 5.3. FI-2010’s Difficulty and WBSNN’s Approach\n",
    "- **Why FI-2010 is Difficult**:\n",
    "  - **Low Predictability**: LOB dynamics are driven by adversarial actions (e.g., high-frequency trading), with subtle price movements obscured by noise (e.g., cancellations, spoofing).\n",
    "  - **Non-Stationarity**: Rapid regime shifts (e.g., volatility spikes) make patterns unstable across time.\n",
    "  - **Temporal Dependencies**: Price movements depend on short-term sequences, lost in PCA’s static reduction.\n",
    "  - **Class Overlap**: Stationary states dominate, with up/down transitions having nuanced feature differences, leading to entangled class boundaries.\n",
    "  - **Small Sample Size**: 2,000 samples limit learning of complex dynamics, especially after PCA compression.\n",
    "- **How WBSNN Manages**:\n",
    "  - **Orbit-Based Dynamics**: The shift operator \\( W \\) generates orbits $ \\{W^{(m)} X_i\\} $, simulating temporal propagation in PCA space, capturing pseudo-sequential patterns (e.g., momentum) despite static inputs.\n",
    "  - **Non-Exact Interpolation**: Allows small fitting errors, smoothing noise (e.g., spoofing) to focus on robust class patterns, as seen in delta values (~1.3652, ~1.2889).\n",
    "  - **Subset Efficiency**: Uses 160 points to construct 80 subsets, reducing computational cost while covering key manifold regions, unlike baselines requiring full data.\n",
    "  - **Localized Learning**: $ J_k $ matrices provide low-rank anchors for class subspaces, with $ \\alpha_{k,m} $ weights filtering informative orbit directions, mitigating class overlap.\n",
    "\n",
    "### 5.4. Topological Interpretation\n",
    "- **Dataset Topology**: The FI-2010 dataset forms a **temporal-financial manifold** in the 40-dimensional LOB feature space, reduced to \\( d=10 \\) or \\( d=20 \\) via PCA. This manifold exhibits:\n",
    "  - **Class Clusters**: Up, down, and stationary states form overlapping clusters, with stationary states dominating and up/down transitions creating thin, non-linear boundaries due to subtle price movements.\n",
    "  - **Noise and Irregularities**: Market microstructure noise (e.g., cancellations, spoofing) distorts the manifold, introducing outliers and irregularities.\n",
    "  - **Temporal Structure**: Sequential LOB states embed short-term dynamics (e.g., momentum, volatility bursts), partially lost in PCA but retained in latent correlations.\n",
    "- **WBSNN’s Orbit-Based Learning**:\n",
    "  - **Orbit Dynamics**: WBSNN’s shift operator \\( W \\) generates orbits \\( \\{W^{(m)} X_i\\} \\), cycling through PCA-reduced feature combinations to trace a **polyhedral complex** in feature space (i.e., a structured collection of orbit points approximating class manifolds). These orbits approximate the temporal-financial manifold by capturing cluster patterns (e.g., stationary vs. up/down) and navigating noisy boundaries.\n",
    "  - **Non-Exact Interpolation**: Allows small fitting errors (\\( \\text{thresh}=10^{-6} \\)), smoothing noise to focus on global manifold structures (e.g., stationary clusters). Test accuracies (0.4675 at \\( d=10 \\), 0.5325 at \\( d=20 \\)) reflect robust capture of class boundaries, with \\( d=20 \\) retaining more temporal cues.\n",
    "  - **Dimensionality Effects**: At \\( d=10 \\), PCA compression flattens the manifold, merging up/down clusters, yet WBSNN’s orbits achieve a solid accuracy (0.4675) by focusing on coarse separations. At \\( d=20 \\), increased dimensions preserve more dynamic patterns, boosting accuracy (0.5325) as orbits capture finer manifold structures.\n",
    "- **Interpretation**: WBSNN’s orbits form a combinatorial skeleton of the financial manifold, with orbit points and shift transitions approximating class clusters and temporal flows. The polyhedral complex provides a structured representation, enabling WBSNN to navigate the manifold’s noisy, non-linear geometry despite PCA compression. Non-exact interpolation enhances robustness by prioritizing global topology over local noise, making WBSNN effective for high-frequency financial classification.\n",
    "\n",
    "### 5.5. WBSNN’s Contributions\n",
    "- **Structured Representation**: Orbits simulate temporal propagation, capturing pseudo-sequential LOB dynamics (e.g., momentum) in a static PCA space, unlike baselines relying on instance-based learning.\n",
    "- **Data Efficiency**: Achieves competitive accuracies (0.4675–0.5325) with only 160 points, vs. 1,600 for baselines, highlighting WBSNN’s ability to generalize from sparse subsets.\n",
    "- **Noise Robustness**: Non-exact interpolation filters market noise, as seen in lower test losses compared to MLP (e.g., 1.2271 vs. 1.1819 at \\( d=10 \\)).\n",
    "- **Interpretability**: Subset-based predictions are traceable to orbit points and \\( J_k \\) maps, offering transparency over black-box models like MLP or Random Forest.\n",
    "- **Topological Learning**: The polyhedral complex formed by orbits approximates the financial manifold, enabling robust class separation in a noisy, low-dimensional space.\n",
    "\n",
    "## 6. Why These Results Are Realistic\n",
    "- **FI-2010’s Inherent Difficulty**: The dataset’s low predictability (benchmarks ~0.50–0.60) and PCA compression limit all models’ performance. WBSNN’s accuracies (0.4675–0.5325) align with this, especially with only 2,000 samples.\n",
    "- **WBSNN’s Design**: Non-exact interpolation and sparse subset use (160 points) balance robustness and efficiency, achieving results comparable to baselines using full data.\n",
    "- **Baseline Context**: Random Forest and MLP overfit severely, while SVM’s slight edge at \\( d=20 \\) (0.5550) reflects its kernel-based strength. **WBSNN’s close performance with less data is notable.**\n",
    "- **Conclusion**: Results are realistic, reflecting FI-2010’s challenges and WBSNN’s data-efficient, noise-robust design.\n",
    "\n",
    "## Final Remark\n",
    "WBSNN offers a principled and interpretable approach to financial classification, excelling in data efficiency and robustness to noise. On the FI-2010 dataset—known for its volatility, adversarial noise, and non-stationary dynamics—WBSNN demonstrates consistent performance using only a small fraction of the training data. Its orbit-based architecture effectively captures pseudo-temporal structures even after PCA compression, enabling it to generalize well despite the dataset’s low predictability and class overlap. Ablation studies confirm WBSNN’s adaptability: lower-dimensional settings benefit from orbit averaging $\\alpha_k$, while richer feature spaces allow fine-grained weighting $\\alpha_{k, m]$. Error bar analysis further underscores the model’s stability across seeds and subset selections, revealing low variance despite the dataset’s irregular structure.\n",
    "\n",
    "Overall, WBSNN proves competitive with traditional baselines while offering a transparent learning process grounded in subset dynamics and topological insight. These results validate WBSNN not only as a scalable model for structured prediction under data scarcity, but also as a potential foundation for future methods targeting noisy, complex, and high-frequency domains.\n"
   ]
  },
  {
   "cell_type": "markdown",
   "id": "c31e1e19-1770-4315-9e8e-dd385f808550",
   "metadata": {},
   "source": [
    "**Runs 26 and 27**"
   ]
  },
  {
   "cell_type": "code",
   "execution_count": 30,
   "id": "49c81ef3-5c65-4c46-bc99-c73edbe5b292",
   "metadata": {},
   "outputs": [
    {
     "name": "stdout",
     "output_type": "stream",
     "text": [
      "\n",
      "Experiment with d=10\n",
      "\n",
      "Running WBSNN experiment with d=10\n",
      "Best W weights: [0.8810142  0.8829763  0.8837997  0.88296217 0.8906474  0.8900355\n",
      " 0.8885621  0.89083064 0.88747036 0.88640785]\n",
      "Subsets D_k: 80 subsets, 160 points\n",
      "Delta: 1.3652\n",
      "Y_mean: 0.6568750143051147, Y_std: 0.29206961393356323\n",
      "Finished Phase 1\n",
      "Phase 2 (d=10): All norms of Y_i - J W^(L_i) X_i across all D_k are not zero (within 1e-06).\n",
      "Norm distribution: 13 norms in [0, 1e-6), 67 norms in [1e-6, 1), 0 norms in [1, 2), 0 norms in [2, 3), 0 norms >= 3\n",
      "Finished Phase 2\n"
     ]
    },
    {
     "name": "stderr",
     "output_type": "stream",
     "text": [
      "Training epochs (d=10):   1%|▏                  | 6/650 [00:00<00:25, 25.22it/s]"
     ]
    },
    {
     "name": "stdout",
     "output_type": "stream",
     "text": [
      "Phase 3 (d=10), Epoch 0, Train Loss: 4.344162476, Test Loss: 2.806513367, Accuracy: 0.3425\n"
     ]
    },
    {
     "name": "stderr",
     "output_type": "stream",
     "text": [
      "Training epochs (d=10):   4%|▋                 | 24/650 [00:00<00:24, 25.96it/s]"
     ]
    },
    {
     "name": "stdout",
     "output_type": "stream",
     "text": [
      "Phase 3 (d=10), Epoch 20, Train Loss: 1.509592558, Test Loss: 1.612458277, Accuracy: 0.4200\n"
     ]
    },
    {
     "name": "stderr",
     "output_type": "stream",
     "text": [
      "Training epochs (d=10):   7%|█▏                | 45/650 [00:01<00:25, 23.51it/s]"
     ]
    },
    {
     "name": "stdout",
     "output_type": "stream",
     "text": [
      "Phase 3 (d=10), Epoch 40, Train Loss: 1.496307223, Test Loss: 1.358711615, Accuracy: 0.4150\n"
     ]
    },
    {
     "name": "stderr",
     "output_type": "stream",
     "text": [
      "Training epochs (d=10):  10%|█▋                | 63/650 [00:02<00:23, 25.28it/s]"
     ]
    },
    {
     "name": "stdout",
     "output_type": "stream",
     "text": [
      "Phase 3 (d=10), Epoch 60, Train Loss: 1.220491495, Test Loss: 1.327912226, Accuracy: 0.4675\n"
     ]
    },
    {
     "name": "stderr",
     "output_type": "stream",
     "text": [
      "Training epochs (d=10):  13%|██▎               | 84/650 [00:03<00:22, 24.88it/s]"
     ]
    },
    {
     "name": "stdout",
     "output_type": "stream",
     "text": [
      "Phase 3 (d=10), Epoch 80, Train Loss: 1.087633492, Test Loss: 1.254451404, Accuracy: 0.4375\n"
     ]
    },
    {
     "name": "stderr",
     "output_type": "stream",
     "text": [
      "Training epochs (d=10):  16%|██▋              | 105/650 [00:04<00:22, 23.75it/s]"
     ]
    },
    {
     "name": "stdout",
     "output_type": "stream",
     "text": [
      "Phase 3 (d=10), Epoch 100, Train Loss: 1.049716071, Test Loss: 1.250031929, Accuracy: 0.4675\n"
     ]
    },
    {
     "name": "stderr",
     "output_type": "stream",
     "text": [
      "Training epochs (d=10):  19%|███▎             | 126/650 [00:05<00:20, 25.06it/s]"
     ]
    },
    {
     "name": "stdout",
     "output_type": "stream",
     "text": [
      "Phase 3 (d=10), Epoch 120, Train Loss: 1.046018181, Test Loss: 1.185038691, Accuracy: 0.4450\n"
     ]
    },
    {
     "name": "stderr",
     "output_type": "stream",
     "text": [
      "Training epochs (d=10):  22%|███▊             | 144/650 [00:05<00:20, 24.75it/s]"
     ]
    },
    {
     "name": "stdout",
     "output_type": "stream",
     "text": [
      "Phase 3 (d=10), Epoch 140, Train Loss: 1.017341534, Test Loss: 1.139627123, Accuracy: 0.4675\n"
     ]
    },
    {
     "name": "stderr",
     "output_type": "stream",
     "text": [
      "Training epochs (d=10):  25%|████▎            | 165/650 [00:06<00:18, 26.34it/s]"
     ]
    },
    {
     "name": "stdout",
     "output_type": "stream",
     "text": [
      "Phase 3 (d=10), Epoch 160, Train Loss: 1.017349828, Test Loss: 1.152282658, Accuracy: 0.4600\n"
     ]
    },
    {
     "name": "stderr",
     "output_type": "stream",
     "text": [
      "Training epochs (d=10):  29%|████▊            | 186/650 [00:07<00:19, 23.86it/s]"
     ]
    },
    {
     "name": "stdout",
     "output_type": "stream",
     "text": [
      "Phase 3 (d=10), Epoch 180, Train Loss: 1.035190511, Test Loss: 1.168475385, Accuracy: 0.4625\n"
     ]
    },
    {
     "name": "stderr",
     "output_type": "stream",
     "text": [
      "Training epochs (d=10):  31%|█████▎           | 204/650 [00:08<00:20, 22.28it/s]"
     ]
    },
    {
     "name": "stdout",
     "output_type": "stream",
     "text": [
      "Phase 3 (d=10), Epoch 200, Train Loss: 0.993840227, Test Loss: 1.183669305, Accuracy: 0.4450\n"
     ]
    },
    {
     "name": "stderr",
     "output_type": "stream",
     "text": [
      "Training epochs (d=10):  35%|█████▉           | 225/650 [00:09<00:16, 25.52it/s]"
     ]
    },
    {
     "name": "stdout",
     "output_type": "stream",
     "text": [
      "Phase 3 (d=10), Epoch 220, Train Loss: 0.993731861, Test Loss: 1.168094306, Accuracy: 0.4250\n"
     ]
    },
    {
     "name": "stderr",
     "output_type": "stream",
     "text": [
      "Training epochs (d=10):  37%|██████▎          | 243/650 [00:09<00:16, 24.60it/s]"
     ]
    },
    {
     "name": "stdout",
     "output_type": "stream",
     "text": [
      "Phase 3 (d=10), Epoch 240, Train Loss: 0.985968038, Test Loss: 1.177610817, Accuracy: 0.4600\n"
     ]
    },
    {
     "name": "stderr",
     "output_type": "stream",
     "text": [
      "Training epochs (d=10):  41%|██████▉          | 264/650 [00:10<00:15, 25.67it/s]"
     ]
    },
    {
     "name": "stdout",
     "output_type": "stream",
     "text": [
      "Phase 3 (d=10), Epoch 260, Train Loss: 0.997311053, Test Loss: 1.235754800, Accuracy: 0.4375\n"
     ]
    },
    {
     "name": "stderr",
     "output_type": "stream",
     "text": [
      "Training epochs (d=10):  44%|███████▍         | 285/650 [00:11<00:14, 24.94it/s]"
     ]
    },
    {
     "name": "stdout",
     "output_type": "stream",
     "text": [
      "Phase 3 (d=10), Epoch 280, Train Loss: 0.993985796, Test Loss: 1.202528419, Accuracy: 0.4500\n"
     ]
    },
    {
     "name": "stderr",
     "output_type": "stream",
     "text": [
      "Training epochs (d=10):  47%|████████         | 306/650 [00:12<00:12, 27.22it/s]"
     ]
    },
    {
     "name": "stdout",
     "output_type": "stream",
     "text": [
      "Phase 3 (d=10), Epoch 300, Train Loss: 0.970004210, Test Loss: 1.223322525, Accuracy: 0.4525\n"
     ]
    },
    {
     "name": "stderr",
     "output_type": "stream",
     "text": [
      "Training epochs (d=10):  50%|████████▍        | 324/650 [00:13<00:12, 26.47it/s]"
     ]
    },
    {
     "name": "stdout",
     "output_type": "stream",
     "text": [
      "Phase 3 (d=10), Epoch 320, Train Loss: 0.981181113, Test Loss: 1.248487382, Accuracy: 0.4700\n"
     ]
    },
    {
     "name": "stderr",
     "output_type": "stream",
     "text": [
      "Training epochs (d=10):  53%|█████████        | 345/650 [00:14<00:15, 19.69it/s]"
     ]
    },
    {
     "name": "stdout",
     "output_type": "stream",
     "text": [
      "Phase 3 (d=10), Epoch 340, Train Loss: 0.978061321, Test Loss: 1.234657907, Accuracy: 0.4525\n"
     ]
    },
    {
     "name": "stderr",
     "output_type": "stream",
     "text": [
      "Training epochs (d=10):  56%|█████████▌       | 366/650 [00:14<00:11, 25.58it/s]"
     ]
    },
    {
     "name": "stdout",
     "output_type": "stream",
     "text": [
      "Phase 3 (d=10), Epoch 360, Train Loss: 0.971381304, Test Loss: 1.213030081, Accuracy: 0.4375\n"
     ]
    },
    {
     "name": "stderr",
     "output_type": "stream",
     "text": [
      "Training epochs (d=10):  59%|██████████       | 384/650 [00:15<00:09, 26.88it/s]"
     ]
    },
    {
     "name": "stdout",
     "output_type": "stream",
     "text": [
      "Phase 3 (d=10), Epoch 380, Train Loss: 0.980581326, Test Loss: 1.210921159, Accuracy: 0.4550\n"
     ]
    },
    {
     "name": "stderr",
     "output_type": "stream",
     "text": [
      "Training epochs (d=10):  62%|██████████▌      | 405/650 [00:16<00:10, 24.47it/s]"
     ]
    },
    {
     "name": "stdout",
     "output_type": "stream",
     "text": [
      "Phase 3 (d=10), Epoch 400, Train Loss: 0.956414907, Test Loss: 1.215707769, Accuracy: 0.4575\n"
     ]
    },
    {
     "name": "stderr",
     "output_type": "stream",
     "text": [
      "Training epochs (d=10):  66%|███████████▏     | 426/650 [00:17<00:09, 24.24it/s]"
     ]
    },
    {
     "name": "stdout",
     "output_type": "stream",
     "text": [
      "Phase 3 (d=10), Epoch 420, Train Loss: 0.959751610, Test Loss: 1.235134554, Accuracy: 0.4600\n"
     ]
    },
    {
     "name": "stderr",
     "output_type": "stream",
     "text": [
      "Training epochs (d=10):  68%|███████████▌     | 444/650 [00:18<00:09, 22.82it/s]"
     ]
    },
    {
     "name": "stdout",
     "output_type": "stream",
     "text": [
      "Phase 3 (d=10), Epoch 440, Train Loss: 0.966071998, Test Loss: 1.248371372, Accuracy: 0.4525\n"
     ]
    },
    {
     "name": "stderr",
     "output_type": "stream",
     "text": [
      "Training epochs (d=10):  72%|████████████▏    | 465/650 [00:18<00:07, 25.22it/s]"
     ]
    },
    {
     "name": "stdout",
     "output_type": "stream",
     "text": [
      "Phase 3 (d=10), Epoch 460, Train Loss: 0.961500602, Test Loss: 1.252434115, Accuracy: 0.4725\n"
     ]
    },
    {
     "name": "stderr",
     "output_type": "stream",
     "text": [
      "Training epochs (d=10):  74%|████████████▋    | 483/650 [00:19<00:07, 22.64it/s]"
     ]
    },
    {
     "name": "stdout",
     "output_type": "stream",
     "text": [
      "Phase 3 (d=10), Epoch 480, Train Loss: 0.967905637, Test Loss: 1.259482088, Accuracy: 0.4625\n"
     ]
    },
    {
     "name": "stderr",
     "output_type": "stream",
     "text": [
      "Training epochs (d=10):  78%|█████████████▏   | 504/650 [00:20<00:05, 25.28it/s]"
     ]
    },
    {
     "name": "stdout",
     "output_type": "stream",
     "text": [
      "Phase 3 (d=10), Epoch 500, Train Loss: 0.949726269, Test Loss: 1.227200508, Accuracy: 0.4500\n"
     ]
    },
    {
     "name": "stderr",
     "output_type": "stream",
     "text": [
      "Training epochs (d=10):  81%|█████████████▋   | 525/650 [00:21<00:04, 26.77it/s]"
     ]
    },
    {
     "name": "stdout",
     "output_type": "stream",
     "text": [
      "Phase 3 (d=10), Epoch 520, Train Loss: 0.992250438, Test Loss: 1.219942384, Accuracy: 0.4625\n"
     ]
    },
    {
     "name": "stderr",
     "output_type": "stream",
     "text": [
      "Training epochs (d=10):  84%|██████████████▎  | 546/650 [00:22<00:04, 24.54it/s]"
     ]
    },
    {
     "name": "stdout",
     "output_type": "stream",
     "text": [
      "Phase 3 (d=10), Epoch 540, Train Loss: 0.959259121, Test Loss: 1.258098440, Accuracy: 0.4600\n"
     ]
    },
    {
     "name": "stderr",
     "output_type": "stream",
     "text": [
      "Training epochs (d=10):  87%|██████████████▊  | 564/650 [00:22<00:03, 23.14it/s]"
     ]
    },
    {
     "name": "stdout",
     "output_type": "stream",
     "text": [
      "Phase 3 (d=10), Epoch 560, Train Loss: 0.948819182, Test Loss: 1.228939881, Accuracy: 0.4600\n"
     ]
    },
    {
     "name": "stderr",
     "output_type": "stream",
     "text": [
      "Training epochs (d=10):  90%|███████████████▎ | 585/650 [00:23<00:02, 22.81it/s]"
     ]
    },
    {
     "name": "stdout",
     "output_type": "stream",
     "text": [
      "Phase 3 (d=10), Epoch 580, Train Loss: 0.938472058, Test Loss: 1.283398132, Accuracy: 0.4800\n"
     ]
    },
    {
     "name": "stderr",
     "output_type": "stream",
     "text": [
      "Training epochs (d=10):  93%|███████████████▊ | 603/650 [00:24<00:02, 22.97it/s]"
     ]
    },
    {
     "name": "stdout",
     "output_type": "stream",
     "text": [
      "Phase 3 (d=10), Epoch 600, Train Loss: 0.933753251, Test Loss: 1.236640301, Accuracy: 0.4550\n"
     ]
    },
    {
     "name": "stderr",
     "output_type": "stream",
     "text": [
      "Training epochs (d=10):  96%|████████████████▎| 624/650 [00:25<00:01, 24.66it/s]"
     ]
    },
    {
     "name": "stdout",
     "output_type": "stream",
     "text": [
      "Phase 3 (d=10), Epoch 620, Train Loss: 0.967612865, Test Loss: 1.231135788, Accuracy: 0.4675\n"
     ]
    },
    {
     "name": "stderr",
     "output_type": "stream",
     "text": [
      "Training epochs (d=10):  99%|████████████████▊| 645/650 [00:26<00:00, 25.28it/s]"
     ]
    },
    {
     "name": "stdout",
     "output_type": "stream",
     "text": [
      "Phase 3 (d=10), Epoch 640, Train Loss: 0.956020410, Test Loss: 1.227083230, Accuracy: 0.4675\n"
     ]
    },
    {
     "name": "stderr",
     "output_type": "stream",
     "text": [
      "Training epochs (d=10): 100%|█████████████████| 650/650 [00:26<00:00, 24.49it/s]\n"
     ]
    },
    {
     "name": "stdout",
     "output_type": "stream",
     "text": [
      "Finished WBSNN experiment with d=10, Train Loss: 0.9333, Test Loss: 1.2271, Accuracy: 0.4675\n"
     ]
    },
    {
     "name": "stderr",
     "output_type": "stream",
     "text": [
      "/opt/anaconda3/lib/python3.12/site-packages/sklearn/neural_network/_multilayer_perceptron.py:690: ConvergenceWarning: Stochastic Optimizer: Maximum iterations (650) reached and the optimization hasn't converged yet.\n",
      "  warnings.warn(\n"
     ]
    },
    {
     "name": "stdout",
     "output_type": "stream",
     "text": [
      "\n",
      "Final Results for d=10:\n",
      "                  Model  Train Accuracy  Test Accuracy  Train Loss  Test Loss\n",
      "0                 WBSNN        0.528750         0.4675    0.933305   1.227083\n",
      "1   Logistic Regression        0.428125         0.4300    1.038614   1.033573\n",
      "2         Random Forest        1.000000         0.4525    0.260686   1.043642\n",
      "3             SVM (RBF)        0.507500         0.4425    1.006271   1.027030\n",
      "4  MLP (1 hidden layer)        0.605000         0.4425    0.836036   1.181896\n",
      "\n",
      "Experiment with d=20\n",
      "\n",
      "Running WBSNN experiment with d=20\n",
      "Best W weights: [0.89367545 0.8646239  0.8642627  0.8754982  0.878337   0.8810734\n",
      " 0.8823541  0.88465744 0.8822878  0.8830529  0.8794292  0.88229215\n",
      " 0.87844044 0.8850733  0.88500696 0.89449495 0.8973997  0.9010687\n",
      " 0.89375246 0.90141195]\n",
      "Subsets D_k: 80 subsets, 160 points\n",
      "Delta: 1.2889\n",
      "Y_mean: 0.6541666388511658, Y_std: 0.2920851409435272\n",
      "Finished Phase 1\n",
      "Phase 2 (d=20): All norms of Y_i - J W^(L_i) X_i across all D_k are not zero (within 1e-06).\n",
      "Norm distribution: 9 norms in [0, 1e-6), 71 norms in [1e-6, 1), 0 norms in [1, 2), 0 norms in [2, 3), 0 norms >= 3\n",
      "Finished Phase 2\n"
     ]
    },
    {
     "name": "stderr",
     "output_type": "stream",
     "text": [
      "Training epochs (d=20):   1%|                   | 4/650 [00:00<00:42, 15.36it/s]"
     ]
    },
    {
     "name": "stdout",
     "output_type": "stream",
     "text": [
      "Phase 3 (d=20), Epoch 0, Train Loss: 5.698769240, Test Loss: 5.205376072, Accuracy: 0.2850\n"
     ]
    },
    {
     "name": "stderr",
     "output_type": "stream",
     "text": [
      "Training epochs (d=20):   3%|▌                 | 22/650 [00:01<00:43, 14.51it/s]"
     ]
    },
    {
     "name": "stdout",
     "output_type": "stream",
     "text": [
      "Phase 3 (d=20), Epoch 20, Train Loss: 1.919782522, Test Loss: 1.855786405, Accuracy: 0.4950\n"
     ]
    },
    {
     "name": "stderr",
     "output_type": "stream",
     "text": [
      "Training epochs (d=20):   6%|█▏                | 42/650 [00:02<00:43, 13.89it/s]"
     ]
    },
    {
     "name": "stdout",
     "output_type": "stream",
     "text": [
      "Phase 3 (d=20), Epoch 40, Train Loss: 1.604506700, Test Loss: 1.465883725, Accuracy: 0.5525\n"
     ]
    },
    {
     "name": "stderr",
     "output_type": "stream",
     "text": [
      "Training epochs (d=20):  10%|█▋                | 62/650 [00:04<00:46, 12.64it/s]"
     ]
    },
    {
     "name": "stdout",
     "output_type": "stream",
     "text": [
      "Phase 3 (d=20), Epoch 60, Train Loss: 1.432850558, Test Loss: 1.328077822, Accuracy: 0.5450\n"
     ]
    },
    {
     "name": "stderr",
     "output_type": "stream",
     "text": [
      "Training epochs (d=20):  13%|██▎               | 82/650 [00:05<00:39, 14.43it/s]"
     ]
    },
    {
     "name": "stdout",
     "output_type": "stream",
     "text": [
      "Phase 3 (d=20), Epoch 80, Train Loss: 1.224887327, Test Loss: 1.293368528, Accuracy: 0.5525\n"
     ]
    },
    {
     "name": "stderr",
     "output_type": "stream",
     "text": [
      "Training epochs (d=20):  16%|██▋              | 104/650 [00:07<00:36, 14.84it/s]"
     ]
    },
    {
     "name": "stdout",
     "output_type": "stream",
     "text": [
      "Phase 3 (d=20), Epoch 100, Train Loss: 1.207237091, Test Loss: 1.315755754, Accuracy: 0.5325\n"
     ]
    },
    {
     "name": "stderr",
     "output_type": "stream",
     "text": [
      "Training epochs (d=20):  19%|███▏             | 124/650 [00:08<00:33, 15.79it/s]"
     ]
    },
    {
     "name": "stdout",
     "output_type": "stream",
     "text": [
      "Phase 3 (d=20), Epoch 120, Train Loss: 1.137484394, Test Loss: 1.314952545, Accuracy: 0.5500\n"
     ]
    },
    {
     "name": "stderr",
     "output_type": "stream",
     "text": [
      "Training epochs (d=20):  22%|███▋             | 142/650 [00:09<00:36, 13.96it/s]"
     ]
    },
    {
     "name": "stdout",
     "output_type": "stream",
     "text": [
      "Phase 3 (d=20), Epoch 140, Train Loss: 1.118994797, Test Loss: 1.288064966, Accuracy: 0.5325\n"
     ]
    },
    {
     "name": "stderr",
     "output_type": "stream",
     "text": [
      "Training epochs (d=20):  25%|████▏            | 162/650 [00:11<00:32, 14.79it/s]"
     ]
    },
    {
     "name": "stdout",
     "output_type": "stream",
     "text": [
      "Phase 3 (d=20), Epoch 160, Train Loss: 1.115393044, Test Loss: 1.321937950, Accuracy: 0.5300\n"
     ]
    },
    {
     "name": "stderr",
     "output_type": "stream",
     "text": [
      "Training epochs (d=20):  28%|████▊            | 182/650 [00:12<00:32, 14.47it/s]"
     ]
    },
    {
     "name": "stdout",
     "output_type": "stream",
     "text": [
      "Phase 3 (d=20), Epoch 180, Train Loss: 1.039236901, Test Loss: 1.290665793, Accuracy: 0.5350\n"
     ]
    },
    {
     "name": "stderr",
     "output_type": "stream",
     "text": [
      "Training epochs (d=20):  31%|█████▎           | 204/650 [00:14<00:29, 15.24it/s]"
     ]
    },
    {
     "name": "stdout",
     "output_type": "stream",
     "text": [
      "Phase 3 (d=20), Epoch 200, Train Loss: 1.024948503, Test Loss: 1.308354092, Accuracy: 0.5350\n"
     ]
    },
    {
     "name": "stderr",
     "output_type": "stream",
     "text": [
      "Training epochs (d=20):  34%|█████▊           | 222/650 [00:15<00:29, 14.46it/s]"
     ]
    },
    {
     "name": "stdout",
     "output_type": "stream",
     "text": [
      "Phase 3 (d=20), Epoch 220, Train Loss: 0.987683182, Test Loss: 1.315432298, Accuracy: 0.5275\n"
     ]
    },
    {
     "name": "stderr",
     "output_type": "stream",
     "text": [
      "Training epochs (d=20):  37%|██████▎          | 242/650 [00:16<00:30, 13.48it/s]"
     ]
    },
    {
     "name": "stdout",
     "output_type": "stream",
     "text": [
      "Phase 3 (d=20), Epoch 240, Train Loss: 0.984535810, Test Loss: 1.348426681, Accuracy: 0.5425\n"
     ]
    },
    {
     "name": "stderr",
     "output_type": "stream",
     "text": [
      "Training epochs (d=20):  40%|██████▊          | 262/650 [00:18<00:27, 14.14it/s]"
     ]
    },
    {
     "name": "stdout",
     "output_type": "stream",
     "text": [
      "Phase 3 (d=20), Epoch 260, Train Loss: 0.970744650, Test Loss: 1.390347855, Accuracy: 0.5350\n"
     ]
    },
    {
     "name": "stderr",
     "output_type": "stream",
     "text": [
      "Training epochs (d=20):  43%|███████▍         | 282/650 [00:19<00:27, 13.21it/s]"
     ]
    },
    {
     "name": "stdout",
     "output_type": "stream",
     "text": [
      "Phase 3 (d=20), Epoch 280, Train Loss: 0.944078449, Test Loss: 1.357309589, Accuracy: 0.5425\n"
     ]
    },
    {
     "name": "stderr",
     "output_type": "stream",
     "text": [
      "Training epochs (d=20):  46%|███████▉         | 302/650 [00:21<00:28, 12.15it/s]"
     ]
    },
    {
     "name": "stdout",
     "output_type": "stream",
     "text": [
      "Phase 3 (d=20), Epoch 300, Train Loss: 0.936024854, Test Loss: 1.387800152, Accuracy: 0.5300\n"
     ]
    },
    {
     "name": "stderr",
     "output_type": "stream",
     "text": [
      "Training epochs (d=20):  50%|████████▍        | 322/650 [00:22<00:28, 11.68it/s]"
     ]
    },
    {
     "name": "stdout",
     "output_type": "stream",
     "text": [
      "Phase 3 (d=20), Epoch 320, Train Loss: 0.923908207, Test Loss: 1.429664249, Accuracy: 0.5425\n"
     ]
    },
    {
     "name": "stderr",
     "output_type": "stream",
     "text": [
      "Training epochs (d=20):  53%|████████▉        | 342/650 [00:24<00:22, 13.50it/s]"
     ]
    },
    {
     "name": "stdout",
     "output_type": "stream",
     "text": [
      "Phase 3 (d=20), Epoch 340, Train Loss: 0.924771476, Test Loss: 1.440112753, Accuracy: 0.5400\n"
     ]
    },
    {
     "name": "stderr",
     "output_type": "stream",
     "text": [
      "Training epochs (d=20):  56%|█████████▍       | 362/650 [00:26<00:28,  9.93it/s]"
     ]
    },
    {
     "name": "stdout",
     "output_type": "stream",
     "text": [
      "Phase 3 (d=20), Epoch 360, Train Loss: 0.921100223, Test Loss: 1.460999187, Accuracy: 0.5350\n"
     ]
    },
    {
     "name": "stderr",
     "output_type": "stream",
     "text": [
      "Training epochs (d=20):  59%|█████████▉       | 382/650 [00:28<00:25, 10.59it/s]"
     ]
    },
    {
     "name": "stdout",
     "output_type": "stream",
     "text": [
      "Phase 3 (d=20), Epoch 380, Train Loss: 0.901931003, Test Loss: 1.540540605, Accuracy: 0.5325\n"
     ]
    },
    {
     "name": "stderr",
     "output_type": "stream",
     "text": [
      "Training epochs (d=20):  62%|██████████▌      | 402/650 [00:29<00:20, 12.32it/s]"
     ]
    },
    {
     "name": "stdout",
     "output_type": "stream",
     "text": [
      "Phase 3 (d=20), Epoch 400, Train Loss: 0.877556343, Test Loss: 1.490790051, Accuracy: 0.5325\n"
     ]
    },
    {
     "name": "stderr",
     "output_type": "stream",
     "text": [
      "Training epochs (d=20):  65%|███████████      | 422/650 [00:31<00:20, 11.31it/s]"
     ]
    },
    {
     "name": "stdout",
     "output_type": "stream",
     "text": [
      "Phase 3 (d=20), Epoch 420, Train Loss: 0.876979380, Test Loss: 1.551461306, Accuracy: 0.5275\n"
     ]
    },
    {
     "name": "stderr",
     "output_type": "stream",
     "text": [
      "Training epochs (d=20):  68%|███████████▌     | 443/650 [00:33<00:19, 10.76it/s]"
     ]
    },
    {
     "name": "stdout",
     "output_type": "stream",
     "text": [
      "Phase 3 (d=20), Epoch 440, Train Loss: 0.902601988, Test Loss: 1.628958011, Accuracy: 0.5425\n"
     ]
    },
    {
     "name": "stderr",
     "output_type": "stream",
     "text": [
      "Training epochs (d=20):  71%|████████████     | 463/650 [00:35<00:16, 11.47it/s]"
     ]
    },
    {
     "name": "stdout",
     "output_type": "stream",
     "text": [
      "Phase 3 (d=20), Epoch 460, Train Loss: 0.888884919, Test Loss: 1.647613361, Accuracy: 0.5350\n"
     ]
    },
    {
     "name": "stderr",
     "output_type": "stream",
     "text": [
      "Training epochs (d=20):  74%|████████████▋    | 483/650 [00:37<00:13, 12.10it/s]"
     ]
    },
    {
     "name": "stdout",
     "output_type": "stream",
     "text": [
      "Phase 3 (d=20), Epoch 480, Train Loss: 0.858791043, Test Loss: 1.676945090, Accuracy: 0.5275\n"
     ]
    },
    {
     "name": "stderr",
     "output_type": "stream",
     "text": [
      "Training epochs (d=20):  77%|█████████████▏   | 503/650 [00:38<00:09, 14.94it/s]"
     ]
    },
    {
     "name": "stdout",
     "output_type": "stream",
     "text": [
      "Phase 3 (d=20), Epoch 500, Train Loss: 0.851147625, Test Loss: 1.718481288, Accuracy: 0.5275\n"
     ]
    },
    {
     "name": "stderr",
     "output_type": "stream",
     "text": [
      "Training epochs (d=20):  80%|█████████████▋   | 523/650 [00:39<00:09, 13.08it/s]"
     ]
    },
    {
     "name": "stdout",
     "output_type": "stream",
     "text": [
      "Phase 3 (d=20), Epoch 520, Train Loss: 0.847720966, Test Loss: 1.840058694, Accuracy: 0.5325\n"
     ]
    },
    {
     "name": "stderr",
     "output_type": "stream",
     "text": [
      "Training epochs (d=20):  84%|██████████████▏  | 543/650 [00:41<00:08, 12.45it/s]"
     ]
    },
    {
     "name": "stdout",
     "output_type": "stream",
     "text": [
      "Phase 3 (d=20), Epoch 540, Train Loss: 0.822238115, Test Loss: 1.759226384, Accuracy: 0.5450\n"
     ]
    },
    {
     "name": "stderr",
     "output_type": "stream",
     "text": [
      "Training epochs (d=20):  87%|██████████████▋  | 563/650 [00:43<00:05, 14.65it/s]"
     ]
    },
    {
     "name": "stdout",
     "output_type": "stream",
     "text": [
      "Phase 3 (d=20), Epoch 560, Train Loss: 0.832588651, Test Loss: 1.812929273, Accuracy: 0.5300\n"
     ]
    },
    {
     "name": "stderr",
     "output_type": "stream",
     "text": [
      "Training epochs (d=20):  90%|███████████████▏ | 583/650 [00:44<00:05, 12.94it/s]"
     ]
    },
    {
     "name": "stdout",
     "output_type": "stream",
     "text": [
      "Phase 3 (d=20), Epoch 580, Train Loss: 0.806771803, Test Loss: 1.785989914, Accuracy: 0.5275\n"
     ]
    },
    {
     "name": "stderr",
     "output_type": "stream",
     "text": [
      "Training epochs (d=20):  93%|███████████████▊ | 603/650 [00:45<00:03, 14.73it/s]"
     ]
    },
    {
     "name": "stdout",
     "output_type": "stream",
     "text": [
      "Phase 3 (d=20), Epoch 600, Train Loss: 0.818518852, Test Loss: 1.875092070, Accuracy: 0.5275\n"
     ]
    },
    {
     "name": "stderr",
     "output_type": "stream",
     "text": [
      "Training epochs (d=20):  96%|████████████████▎| 623/650 [00:47<00:01, 13.67it/s]"
     ]
    },
    {
     "name": "stdout",
     "output_type": "stream",
     "text": [
      "Phase 3 (d=20), Epoch 620, Train Loss: 0.796979915, Test Loss: 1.856150265, Accuracy: 0.5200\n"
     ]
    },
    {
     "name": "stderr",
     "output_type": "stream",
     "text": [
      "Training epochs (d=20):  99%|████████████████▊| 643/650 [00:48<00:00, 14.29it/s]"
     ]
    },
    {
     "name": "stdout",
     "output_type": "stream",
     "text": [
      "Phase 3 (d=20), Epoch 640, Train Loss: 0.812948236, Test Loss: 1.865692642, Accuracy: 0.5325\n"
     ]
    },
    {
     "name": "stderr",
     "output_type": "stream",
     "text": [
      "Training epochs (d=20): 100%|█████████████████| 650/650 [00:49<00:00, 13.18it/s]\n"
     ]
    },
    {
     "name": "stdout",
     "output_type": "stream",
     "text": [
      "Finished WBSNN experiment with d=20, Train Loss: 0.8283, Test Loss: 1.8657, Accuracy: 0.5325\n",
      "\n",
      "Final Results for d=20:\n",
      "                  Model  Train Accuracy  Test Accuracy  Train Loss  Test Loss\n",
      "0                 WBSNN        0.651250         0.5325    0.828288   1.865693\n",
      "1   Logistic Regression        0.540000         0.5350    0.967697   0.990411\n",
      "2         Random Forest        1.000000         0.5550    0.247205   0.966403\n",
      "3             SVM (RBF)        0.602500         0.5550    0.882229   0.950816\n",
      "4  MLP (1 hidden layer)        0.784375         0.5175    0.546498   1.506720\n"
     ]
    },
    {
     "name": "stderr",
     "output_type": "stream",
     "text": [
      "/opt/anaconda3/lib/python3.12/site-packages/sklearn/neural_network/_multilayer_perceptron.py:690: ConvergenceWarning: Stochastic Optimizer: Maximum iterations (650) reached and the optimization hasn't converged yet.\n",
      "  warnings.warn(\n"
     ]
    }
   ],
   "source": [
    "\n",
    "import numpy as np\n",
    "import torch\n",
    "import torch.nn as nn\n",
    "import torch.optim as optim\n",
    "from torch.utils.data import TensorDataset, DataLoader\n",
    "from sklearn.preprocessing import StandardScaler\n",
    "from sklearn.decomposition import PCA\n",
    "from sklearn.linear_model import LogisticRegression\n",
    "from sklearn.ensemble import RandomForestClassifier\n",
    "from sklearn.svm import SVC\n",
    "from sklearn.neural_network import MLPClassifier\n",
    "from sklearn.metrics import accuracy_score, log_loss\n",
    "from tqdm import tqdm\n",
    "import pandas as pd\n",
    "import urllib.request\n",
    "import pickle\n",
    "\n",
    "torch.manual_seed(4)\n",
    "np.random.seed(4)\n",
    "torch.utils.data.deterministic = True\n",
    "torch.backends.cudnn.deterministic = True\n",
    "\n",
    "DEVICE = torch.device(\"cpu\")\n",
    "\n",
    "# Placeholder URL for FI-2010 dataset (replace with actual URL if available)\n",
    "#DATA_URL = \"https://example.com/fi2010_data.csv\"  # Update with GitHub/Mendeley link\n",
    "#try:\n",
    "#    urllib.request.urlretrieve(DATA_URL, \"fi2010_data.csv\")\n",
    "#except Exception as e:\n",
    " #   print(f\"Failed to download FI-2010 dataset: {e}\")\n",
    "#    print(\"Please download the dataset manually from a public repository (e.g., Mendeley Data) and place 'fi2010_data.csv' in the working directory.\")\n",
    "#    raise FileNotFoundError(\"FI-2010 dataset not found.\")\n",
    "\n",
    "# Load FI-2010 data (assuming CSV with 40 features and 3-class labels for 10-tick horizon)\n",
    "data = pd.read_csv('FI2010_train.csv')\n",
    "X_full = data.iloc[:, :-1].values  # 40 features (bid/ask prices and volumes)\n",
    "Y_full = data.iloc[:, -1].values  # Labels (0: up, 1: down, 2: stationary)\n",
    "\n",
    "# Select 2000 samples\n",
    "np.random.seed(4)\n",
    "n_samples = 2000\n",
    "indices = np.random.choice(len(X_full), n_samples, replace=False)\n",
    "X_full = X_full[indices]\n",
    "Y_full = Y_full[indices].astype(int)\n",
    "\n",
    "def run_experiment(d, X_full, Y_full):\n",
    "    # Determine number of classes from labels\n",
    "    num_classes = int(Y_full.max() + 1)\n",
    "\n",
    "    # Reduce dimensionality with PCA\n",
    "    pca = PCA(n_components=d)\n",
    "    X = pca.fit_transform(X_full)\n",
    "\n",
    "    # Normalize features\n",
    "    scaler = StandardScaler()\n",
    "    X = scaler.fit_transform(X)\n",
    "\n",
    "    # Split into train (80%) and test (20%)\n",
    "    n_samples = len(X)\n",
    "    train_size = int(0.8 * n_samples)\n",
    "    test_size = n_samples - train_size\n",
    "    train_idx = np.random.choice(n_samples, train_size, replace=False)\n",
    "    test_idx = np.setdiff1d(np.arange(n_samples), train_idx)\n",
    "    X_train = X[train_idx]\n",
    "    X_test = X[test_idx]\n",
    "    Y_train = Y_full[train_idx]\n",
    "    Y_test = Y_full[test_idx]\n",
    "\n",
    "    # Convert to tensors\n",
    "    X_train = torch.tensor(X_train, dtype=torch.float32).to(DEVICE)\n",
    "    X_test = torch.tensor(X_test, dtype=torch.float32).to(DEVICE)\n",
    "    Y_train_normalized = torch.tensor(Y_train / (num_classes - 1), dtype=torch.float32).to(DEVICE)\n",
    "    Y_test_normalized = torch.tensor(Y_test / (num_classes - 1), dtype=torch.float32).to(DEVICE)\n",
    "    Y_train = torch.tensor(Y_train, dtype=torch.long).to(DEVICE)\n",
    "    Y_test = torch.tensor(Y_test, dtype=torch.long).to(DEVICE)\n",
    "\n",
    "    # One-hot encode labels for Phase 2\n",
    "    M_train, M_test = train_size, test_size\n",
    "    Y_train_onehot = torch.zeros(M_train, num_classes).scatter_(1, Y_train.reshape(-1, 1), 1).to(DEVICE)\n",
    "    Y_test_onehot = torch.zeros(M_test, num_classes).scatter_(1, Y_test.reshape(-1, 1), 1).to(DEVICE)\n",
    "\n",
    "\n",
    "\n",
    "\n",
    "\n",
    "\n",
    "    def apply_WL(w, X_i, L, d):\n",
    "        assert X_i.ndim == 1 and X_i.shape[0] == d\n",
    "        X_ext = torch.cat([X_i, X_i[:L]])\n",
    "        result = torch.zeros(d)\n",
    "        for i in range(d):\n",
    "            prod = 1.0\n",
    "            for k in range(L):\n",
    "                prod *= w[(i + k) % d]\n",
    "            result[i] = prod * X_ext[i + L-1]\n",
    "        return result\n",
    "\n",
    "\n",
    "    def is_independent(W_L_X, span_vecs, thresh):\n",
    "        if not span_vecs:\n",
    "            return True\n",
    "        A = torch.stack(span_vecs)\n",
    "        try:\n",
    "            coeffs = torch.linalg.lstsq(A.mT, W_L_X.mT).solution\n",
    "            proj = (coeffs.mT @ A).view(1, -1)\n",
    "            residual = W_L_X.view(1, -1) - proj\n",
    "            return torch.linalg.norm(residual).item() > thresh\n",
    "        except:\n",
    "            return True\n",
    "\n",
    "    def compute_delta(w, Dk, X, Y, d, lambda_smooth=0.0):\n",
    "        delta = 0.0\n",
    "        W_L_X_cache = {}\n",
    "        for i in range(X.size(0)):\n",
    "            best = float('inf')\n",
    "            for L in range(d):\n",
    "                cache_key = (i, L)\n",
    "                if cache_key not in W_L_X_cache:\n",
    "                    W_L_X_cache[cache_key] = apply_WL(w, X[i], L, d)\n",
    "                out = W_L_X_cache[cache_key]\n",
    "                pred = torch.tanh(out.sum())\n",
    "                error = abs(Y[i] - pred).item()\n",
    "                best = min(best, error)\n",
    "            delta += best ** 2\n",
    "        return delta / X.size(0)\n",
    "\n",
    "    def compute_delta_gradient(w, Dk, X, Y, d):\n",
    "        grad = torch.zeros_like(w)\n",
    "        W_L_X_cache = {}\n",
    "        for i in range(X.size(0)):\n",
    "            best_L = 0\n",
    "            best_norm = float('inf')\n",
    "            for L in range(d):\n",
    "                cache_key = (i, L)\n",
    "                if cache_key not in W_L_X_cache:\n",
    "                    W_L_X_cache[cache_key] = apply_WL(w, X[i], L, d)\n",
    "                out = W_L_X_cache[cache_key]\n",
    "                pred = torch.tanh(out.sum())\n",
    "                error = abs(Y[i] - pred).item()\n",
    "                if error < best_norm:\n",
    "                    best_L = L\n",
    "                    best_norm = error\n",
    "            out = W_L_X_cache[(i, best_L)]\n",
    "            pred = torch.tanh(out.sum())\n",
    "            err = Y[i] - pred\n",
    "            for l in range(best_L):\n",
    "                cache_key = (i, l)\n",
    "                if cache_key not in W_L_X_cache:\n",
    "                    W_L_X_cache[cache_key] = apply_WL(w, X[i], l, d)\n",
    "                shifted = W_L_X_cache[cache_key]\n",
    "                for j in range(d):\n",
    "                    g = shifted[d - 1] if j == 0 else shifted[j - 1]\n",
    "                    grad[j] += -2 * err * g * (1 - pred**2)\n",
    "        return grad / X.size(0)\n",
    "\n",
    "    def phase_1(X, Y, d, thresh=0.1, optimize_w=True):\n",
    "        w = torch.ones(d, requires_grad=True)\n",
    "        subset_size = max(50, X.size(0) // 10)  # 10% of samples, min 50\n",
    "        subset_idx = np.random.choice(X.size(0), subset_size, replace=False)\n",
    "        X_subset = X[subset_idx]\n",
    "        Y_subset = Y[subset_idx]\n",
    "        fixed_delta = compute_delta(w, [], X_subset, Y_subset, d)\n",
    "        \n",
    "        if optimize_w:\n",
    "            optimizer = optim.Adam([w], lr=0.001)\n",
    "            for epoch in range(100):\n",
    "                optimizer.zero_grad()\n",
    "                grad = compute_delta_gradient(w, [], X_subset, Y_subset, d)\n",
    "                w.grad = grad\n",
    "                optimizer.step()\n",
    "\n",
    "        w = w.detach()\n",
    "        \n",
    "        Dk, R = [], list(range(X_subset.size(0)))\n",
    "        np.random.shuffle(R)\n",
    "        while R:\n",
    "            subset, span_vecs = [], []\n",
    "            for j in R[:]:\n",
    "                best_L = min(range(d), key=lambda L: abs(torch.tanh(apply_WL(w, X_subset[j], L, d).sum()).item() - Y_subset[j].item()))\n",
    "                out = apply_WL(w, X_subset[j], best_L, d)[0]\n",
    "                if is_independent(out, span_vecs, thresh) and len(subset) < 2:\n",
    "                    subset.append((subset_idx[j], best_L))  # Store original indices\n",
    "                    span_vecs.append(out)\n",
    "                    R.remove(j)\n",
    "            if subset:\n",
    "                Dk.append(subset)\n",
    "            else:\n",
    "                break\n",
    "\n",
    "\n",
    "\n",
    "        num_subsets = len(Dk)\n",
    "        num_points = sum(len(dk) for dk in Dk)\n",
    "        Y_mean = Y.mean().detach().item()\n",
    "        Y_std = Y.std().detach().item()\n",
    "        print(f\"Best W weights: {w.cpu().numpy()}\")\n",
    "        print(f\"Subsets D_k: {num_subsets} subsets, {num_points} points\")\n",
    "        print(f\"Delta: {fixed_delta:.4f}\")\n",
    "        print(f\"Y_mean: {Y_mean}, Y_std: {Y_std}\")\n",
    "        print(\"Finished Phase 1\")\n",
    "\n",
    "\n",
    "\n",
    "        \n",
    "        return w, Dk\n",
    "\n",
    "    def phase_2(w, Dk, X, Y_onehot, d):\n",
    "        J_list = []\n",
    "        norms_list = []\n",
    "        tolerance = 1e-6\n",
    "        for subset in Dk:\n",
    "            A = torch.stack([apply_WL(w, X[i], L, d) for i, L in subset])  # Shape: [n_points, d]\n",
    "            B = torch.stack([Y_onehot[i] for i, _ in subset])  # Shape: [n_points, 3]\n",
    "            A_t_A = A.T @ A + 1e-6 * torch.eye(d, device=A.device)  # Regularized normal equation\n",
    "            A_t_B = A.T @ B\n",
    "\n",
    "            J = torch.linalg.pinv(A_t_A) @ A_t_B.to(dtype=torch.float32)\n",
    "\n",
    "            J_list.append(J)\n",
    "            norm = torch.norm(A @ J - B).detach().item()\n",
    "            norms_list.append(norm)\n",
    "        all_within_tolerance = all(norm < tolerance for norm in norms_list)\n",
    "        print(f\"Phase 2 (d={d}): All norms of Y_i - J W^(L_i) X_i across all D_k are {'zero' if all_within_tolerance else 'not zero'} (within {tolerance}).\")\n",
    "        \n",
    "        if not all_within_tolerance:\n",
    "            range_below_tolerance = sum(1 for norm in norms_list if 0 <= norm < 1e-6)\n",
    "            range_1e6_to_1 = sum(1 for norm in norms_list if 1e-6 <= norm < 1)\n",
    "            range_1_to_2 = sum(1 for norm in norms_list if 1 <= norm < 2)\n",
    "            range_2_to_3 = sum(1 for norm in norms_list if 2 <= norm < 3)\n",
    "            range_3_and_above = sum(1 for norm in norms_list if norm >= 3)\n",
    "            print(f\"Norm distribution: {range_below_tolerance} norms in [0, 1e-6), {range_1e6_to_1} norms in [1e-6, 1), {range_1_to_2} norms in [1, 2), {range_2_to_3} norms in [2, 3), {range_3_and_above} norms >= 3\")\n",
    "        \n",
    "        print(\"Finished Phase 2\")\n",
    "      \n",
    "        return J_list\n",
    "\n",
    "\n",
    "    import torch.nn as nn\n",
    "\n",
    "    class WBSNN(nn.Module):\n",
    "        def __init__(self, input_dim, K, M, num_classes=3, d_value=None):\n",
    "            super(WBSNN, self).__init__()\n",
    "            self.d = input_dim\n",
    "            self.K = K\n",
    "            self.M = M\n",
    "            self.d_value = d_value\n",
    "\n",
    "            if self.d_value == 10:\n",
    "                self.fc1 = nn.Linear(input_dim, 64)\n",
    "                self.fc2 = nn.Linear(64, 32)\n",
    "                self.fc3 = nn.Linear(32, K * M)\n",
    "            else:\n",
    "                self.fc1 = nn.Linear(input_dim, 128)\n",
    "                self.fc2 = nn.Linear(128, 64)\n",
    "                self.fc3 = nn.Linear(64, 32)\n",
    "                self.fc4 = nn.Linear(32, K * M)     # output layer\n",
    "\n",
    "            self.relu = nn.ReLU()\n",
    "            self.dropout = nn.Dropout(0.3) \n",
    "\n",
    "        def forward(self, x):\n",
    "            out = self.relu(self.fc1(x))\n",
    "            out = self.dropout(out)\n",
    "            out = self.relu(self.fc2(out))\n",
    "            out = self.dropout(out)\n",
    "            if self.d_value == 10:\n",
    "                out = self.fc3(out)\n",
    "            else:\n",
    "                out = self.relu(self.fc3(out))\n",
    "                out = self.dropout(out)\n",
    "                out = self.relu(self.fc4(out))\n",
    "                out = self.dropout(out)\n",
    "            out = out.view(-1, self.K, self.M)  # Shape: [batch_size, K, M]\n",
    "            return out\n",
    "\n",
    "    \n",
    "\n",
    "    def phase_3_alpha_km(best_w, J_k_list, Dk, X_train, Y_train, X_test, Y_test, d, suppress_print=False):\n",
    "        K = len(J_k_list)\n",
    "        M = d\n",
    "        X_train_torch = X_train.clone().detach().to(DEVICE)\n",
    "        Y_train_torch = Y_train.clone().detach().to(DEVICE)\n",
    "        X_test_torch = X_test.clone().detach().to(DEVICE)\n",
    "        Y_test_torch = Y_test.clone().detach().to(DEVICE)\n",
    "        J_k_torch = torch.stack(J_k_list).to(DEVICE)  # Shape: [K, d, 3]\n",
    "\n",
    "        # Compute orbits W^{(m)} X_i for training\n",
    "        W_m_X_train = []\n",
    "        for i in range(len(X_train_torch)):\n",
    "            W_m_features = []\n",
    "            current = X_train_torch[i]\n",
    "            for m in range(M):\n",
    "                W_m_features.append(current)\n",
    "                shifted = torch.zeros_like(current)\n",
    "                for j in range(d):\n",
    "                    shifted[j] = best_w[j] * current[j - 1] if j > 0 else best_w[j] * current[d - 1]\n",
    "                current = shifted\n",
    "            W_m_features = torch.stack(W_m_features)  # Shape: [M, d]\n",
    "            W_m_X_train.append(W_m_features)\n",
    "        W_m_X_train = torch.stack(W_m_X_train)  # Shape: [n_train, M, d]\n",
    "\n",
    "        # Compute J_k W^{(m)} X_i for training\n",
    "        W_m_JkX_train = []\n",
    "        for i in range(len(X_train_torch)):\n",
    "            features = []\n",
    "            for k in range(K):\n",
    "                J_k = J_k_torch[k]  # Shape: [d, 3]\n",
    "                W_m_features = W_m_X_train[i]  # Shape: [M, d]\n",
    "                weighted = W_m_features @ J_k  # Shape: [M, 3]\n",
    "                features.append(weighted)\n",
    "            features = torch.stack(features)  # Shape: [K, M, 3]\n",
    "            W_m_JkX_train.append(features)\n",
    "        W_m_JkX_train = torch.stack(W_m_JkX_train)  # Shape: [n_train, K, M, 3]\n",
    "\n",
    "        # Compute orbits W^{(m)} X_i for testing\n",
    "        W_m_X_test = []\n",
    "        for i in range(len(X_test_torch)):\n",
    "            W_m_features = []\n",
    "            current = X_test_torch[i]\n",
    "            for m in range(M):\n",
    "                W_m_features.append(current)\n",
    "                shifted = torch.zeros_like(current)\n",
    "                for j in range(d):\n",
    "                    shifted[j] = best_w[j] * current[j - 1] if j > 0 else best_w[j] * current[d - 1]\n",
    "                current = shifted\n",
    "            W_m_features = torch.stack(W_m_features)\n",
    "            W_m_X_test.append(W_m_features)\n",
    "        W_m_X_test = torch.stack(W_m_X_test)  # Shape: [n_test, M, d]\n",
    "\n",
    "        # Compute J_k W^{(m)} X_i for testing\n",
    "        W_m_JkX_test = []\n",
    "        for i in range(len(X_test_torch)):\n",
    "            features = []\n",
    "            for k in range(K):\n",
    "                J_k = J_k_torch[k]\n",
    "                W_m_features = W_m_X_test[i]\n",
    "                weighted = W_m_features @ J_k\n",
    "                features.append(weighted)\n",
    "            features = torch.stack(features)  # Shape: [K, M, 3]\n",
    "            W_m_JkX_test.append(features)\n",
    "        W_m_JkX_test = torch.stack(W_m_JkX_test)  # Shape: [n_test, K, M, 3]\n",
    "\n",
    "        # Prepare datasets\n",
    "        train_dataset = TensorDataset(X_train_torch, W_m_JkX_train, Y_train_torch)\n",
    "        test_dataset = TensorDataset(X_test_torch, W_m_JkX_test, Y_test_torch)\n",
    "        g = torch.Generator()\n",
    "        g.manual_seed(4)\n",
    "        train_loader = DataLoader(train_dataset, batch_size=32, shuffle=True, generator=g)\n",
    "        test_loader = DataLoader(test_dataset, batch_size=32, shuffle=False)\n",
    "\n",
    "        # Initialize model\n",
    "        model = WBSNN(d, K, M, num_classes=3, d_value=d).to(DEVICE)\n",
    "        optimizer = optim.Adam(model.parameters(), lr=0.0001, weight_decay=0.0005)\n",
    "#        scheduler = optim.lr_scheduler.StepLR(optimizer, step_size=800, gamma=0.5)\n",
    "        scheduler = optim.lr_scheduler.StepLR(optimizer, step_size=400, gamma=0.5)\n",
    "\n",
    "        criterion = nn.CrossEntropyLoss()\n",
    "        epochs = 650 if d <= 10 else 650 if d <= 20 else 500\n",
    "\n",
    "\n",
    "        patience = 30\n",
    "        best_test_loss = float('inf')\n",
    "        best_accuracy = 0.0\n",
    "        patience_counter = 0\n",
    "\n",
    "        for epoch in tqdm(range(epochs), desc=f\"Training epochs (d={d})\"):\n",
    "            model.train()\n",
    "            train_loss = 0\n",
    "            for batch_inputs, batch_W_m, batch_targets in train_loader:\n",
    "                optimizer.zero_grad()\n",
    "                alpha_km = model(batch_inputs)  # Shape: [batch_size, K, M]\n",
    "                batch_size = batch_inputs.size(0)\n",
    "                weighted_sum = torch.einsum('bkm,bkmt->bt', alpha_km, batch_W_m)  # Shape: [batch_size, 3]\n",
    "                outputs = weighted_sum  # Shape: [batch_size, 3]\n",
    "                loss = criterion(outputs, batch_targets)\n",
    "                train_loss += loss.item() * batch_inputs.size(0)\n",
    "                loss.backward()\n",
    "                torch.nn.utils.clip_grad_norm_(model.parameters(), max_norm=0.5)\n",
    "                optimizer.step()\n",
    "            train_loss /= len(train_loader.dataset)\n",
    "\n",
    "            if epoch % 20 == 0 or (patience_counter >= patience):\n",
    "                model.eval()\n",
    "                test_loss = 0\n",
    "                correct = 0\n",
    "                total = 0\n",
    "                with torch.no_grad():\n",
    "                    for batch_inputs, batch_W_m, batch_targets in test_loader:\n",
    "                        alpha_km = model(batch_inputs)\n",
    "                        batch_size = batch_inputs.size(0)\n",
    "                        weighted_sum = torch.einsum('bkm,bkmt->bt', alpha_km, batch_W_m)\n",
    "                        outputs = weighted_sum\n",
    "                        test_loss += criterion(outputs, batch_targets).item() * batch_inputs.size(0)\n",
    "                        preds = outputs.argmax(dim=1)\n",
    "                        correct += (preds == batch_targets).sum().item()\n",
    "                        total += batch_targets.size(0)\n",
    "                test_loss /= len(test_loader.dataset)\n",
    "                accuracy = correct / total\n",
    "                scheduler.step()\n",
    "\n",
    "                if not suppress_print:\n",
    "                    print(f\"Phase 3 (d={d}), Epoch {epoch}, Train Loss: {train_loss:.9f}, Test Loss: {test_loss:.9f}, Accuracy: {accuracy:.4f}\")\n",
    "\n",
    "                if test_loss < best_test_loss:\n",
    "                    best_test_loss = test_loss\n",
    "                    best_accuracy = accuracy\n",
    "                    patience_counter = 0\n",
    "                else:\n",
    "                    patience_counter += 1\n",
    "                    if patience_counter >= patience:\n",
    "                        print(f\"Phase 3 (d={d}), Early stopping at epoch {epoch}, Train Loss: {train_loss:.9f}, Test Loss: {best_test_loss:.9f}, Accuracy: {best_accuracy:.4f}\")\n",
    "                        break\n",
    "\n",
    "        train_correct = 0\n",
    "        train_total = 0\n",
    "        with torch.no_grad():\n",
    "            for batch_inputs, batch_W_m, batch_targets in train_loader:\n",
    "                alpha_km = model(batch_inputs)\n",
    "                batch_size = batch_inputs.size(0)\n",
    "                weighted_sum = torch.einsum('bkm,bkmt->bt', alpha_km, batch_W_m)\n",
    "                outputs = weighted_sum\n",
    "                preds = outputs.argmax(dim=1)\n",
    "                train_correct += (preds == batch_targets).sum().item()\n",
    "                train_total += batch_targets.size(0)\n",
    "        train_accuracy = train_correct / train_total\n",
    "\n",
    "        return train_accuracy, best_accuracy, train_loss, test_loss\n",
    "\n",
    "    def evaluate_classical(name, model, support_proba=False):\n",
    "        try:\n",
    "            model.fit(X_train.cpu().numpy(), Y_train.cpu().numpy())\n",
    "            y_pred_train = model.predict(X_train.cpu().numpy())\n",
    "            y_pred_test = model.predict(X_test.cpu().numpy())\n",
    "            acc_train = accuracy_score(Y_train.cpu().numpy(), y_pred_train)\n",
    "            acc_test = accuracy_score(Y_test.cpu().numpy(), y_pred_test)\n",
    "\n",
    "            if support_proba:\n",
    "                loss_train = log_loss(Y_train.cpu().numpy(), model.predict_proba(X_train.cpu().numpy()))\n",
    "                loss_test = log_loss(Y_test.cpu().numpy(), model.predict_proba(X_test.cpu().numpy()))\n",
    "            else:\n",
    "                loss_train = loss_test = float('nan')\n",
    "        except ValueError:\n",
    "            acc_train = acc_test = loss_train = loss_test = float('nan')\n",
    "\n",
    "        return [name, acc_train, acc_test, loss_train, loss_test]\n",
    "\n",
    "    print(f\"\\nRunning WBSNN experiment with d={d}\")\n",
    "    best_w, best_Dk = phase_1(X_train, Y_train_normalized, d, 0.1, optimize_w=True)\n",
    "    J_k_list = phase_2(best_w, best_Dk, X_train, Y_train_onehot, d)\n",
    "    train_acc, test_acc, train_loss, test_loss = phase_3_alpha_km(\n",
    "        best_w, J_k_list, best_Dk, X_train, Y_train, X_test, Y_test, d\n",
    "    )\n",
    "    print(f\"Finished WBSNN experiment with d={d}, Train Loss: {train_loss:.4f}, Test Loss: {test_loss:.4f}, Accuracy: {test_acc:.4f}\")\n",
    "\n",
    "    results = []\n",
    "    results.append([\"WBSNN\", train_acc, test_acc, train_loss, test_loss])\n",
    "    results.append(evaluate_classical(\"Logistic Regression\", LogisticRegression(max_iter=1000), support_proba=True))\n",
    "    results.append(evaluate_classical(\"Random Forest\", RandomForestClassifier(n_estimators=100), support_proba=True))\n",
    "    results.append(evaluate_classical(\"SVM (RBF)\", SVC(kernel='rbf', probability=True), support_proba=True))\n",
    "    results.append(evaluate_classical(\"MLP (1 hidden layer)\", MLPClassifier(hidden_layer_sizes=(64,), max_iter=650), support_proba=True))\n",
    "\n",
    "    df = pd.DataFrame(results, columns=[\"Model\", \"Train Accuracy\", \"Test Accuracy\", \"Train Loss\", \"Test Loss\"])\n",
    "    print(f\"\\nFinal Results for d={d}:\")\n",
    "    print(df)\n",
    "    return results\n",
    "\n",
    "# Run experiments\n",
    "print(\"\\nExperiment with d=10\")\n",
    "results_d10 = run_experiment(10, X_full, Y_full)\n",
    "print(\"\\nExperiment with d=20\")\n",
    "results_d20 = run_experiment(20, X_full, Y_full)"
   ]
  },
  {
   "cell_type": "markdown",
   "id": "b32f1c96-9ad9-495f-8544-5dec90330f48",
   "metadata": {},
   "source": [
    "**Error Bar Analysis on FI-2010 Limit Order Book on $d=10$, Runs 60-69.**"
   ]
  },
  {
   "cell_type": "code",
   "execution_count": 2,
   "id": "ec373ee6-6e66-4b53-89b6-b060613e6fb6",
   "metadata": {},
   "outputs": [
    {
     "name": "stdout",
     "output_type": "stream",
     "text": [
      "\n",
      "=== RUN 1/10 for d=10 ===\n",
      "========== Running with seed = 0 ==========\n",
      "\n",
      "Running WBSNN experiment with d=10\n",
      "Best W weights: [0.89020133 0.88261884 0.8815659  0.8801285  0.89445627 0.892663\n",
      " 0.89068365 0.88676023 0.8857648  0.89204884]\n",
      "Subsets D_k: 80 subsets, 160 points\n",
      "Delta: 1.2577\n",
      "Y_mean: 0.6591666340827942, Y_std: 0.29106515645980835\n",
      "Finished Phase 1\n",
      "Phase 2 (d=10): All norms of Y_i - J W^(L_i) X_i across all D_k are not zero (within 1e-06).\n",
      "Norm distribution: 6 norms in [0, 1e-6), 74 norms in [1e-6, 1), 0 norms in [1, 2), 0 norms in [2, 3), 0 norms >= 3\n",
      "Finished Phase 2\n"
     ]
    },
    {
     "name": "stderr",
     "output_type": "stream",
     "text": [
      "Training epochs (d=10):   1%|▏                  | 6/650 [00:00<00:24, 26.07it/s]"
     ]
    },
    {
     "name": "stdout",
     "output_type": "stream",
     "text": [
      "Phase 3 (d=10), Epoch 0, Train Loss: 4.484101610, Test Loss: 4.059367819, Accuracy: 0.3425\n"
     ]
    },
    {
     "name": "stderr",
     "output_type": "stream",
     "text": [
      "Training epochs (d=10):   9%|█▌                | 56/650 [00:01<00:20, 28.59it/s]"
     ]
    },
    {
     "name": "stdout",
     "output_type": "stream",
     "text": [
      "Phase 3 (d=10), Epoch 50, Train Loss: 1.212882586, Test Loss: 2.387427449, Accuracy: 0.4050\n"
     ]
    },
    {
     "name": "stderr",
     "output_type": "stream",
     "text": [
      "Training epochs (d=10):  16%|██▊              | 106/650 [00:03<00:19, 27.96it/s]"
     ]
    },
    {
     "name": "stdout",
     "output_type": "stream",
     "text": [
      "Phase 3 (d=10), Epoch 100, Train Loss: 1.014811555, Test Loss: 2.337635634, Accuracy: 0.4200\n"
     ]
    },
    {
     "name": "stderr",
     "output_type": "stream",
     "text": [
      "Training epochs (d=10):  24%|████             | 155/650 [00:05<00:16, 29.56it/s]"
     ]
    },
    {
     "name": "stdout",
     "output_type": "stream",
     "text": [
      "Phase 3 (d=10), Epoch 150, Train Loss: 1.025438572, Test Loss: 2.431951592, Accuracy: 0.4075\n"
     ]
    },
    {
     "name": "stderr",
     "output_type": "stream",
     "text": [
      "Training epochs (d=10):  32%|█████▎           | 205/650 [00:07<00:15, 29.55it/s]"
     ]
    },
    {
     "name": "stdout",
     "output_type": "stream",
     "text": [
      "Phase 3 (d=10), Epoch 200, Train Loss: 0.978552766, Test Loss: 2.552928264, Accuracy: 0.4000\n"
     ]
    },
    {
     "name": "stderr",
     "output_type": "stream",
     "text": [
      "Training epochs (d=10):  39%|██████▋          | 254/650 [00:08<00:13, 29.10it/s]"
     ]
    },
    {
     "name": "stdout",
     "output_type": "stream",
     "text": [
      "Phase 3 (d=10), Epoch 250, Train Loss: 0.966878502, Test Loss: 2.886374340, Accuracy: 0.3950\n"
     ]
    },
    {
     "name": "stderr",
     "output_type": "stream",
     "text": [
      "Training epochs (d=10):  47%|███████▉         | 305/650 [00:10<00:11, 29.59it/s]"
     ]
    },
    {
     "name": "stdout",
     "output_type": "stream",
     "text": [
      "Phase 3 (d=10), Epoch 300, Train Loss: 0.990108562, Test Loss: 2.998359361, Accuracy: 0.4125\n"
     ]
    },
    {
     "name": "stderr",
     "output_type": "stream",
     "text": [
      "Training epochs (d=10):  55%|█████████▎       | 355/650 [00:12<00:09, 29.59it/s]"
     ]
    },
    {
     "name": "stdout",
     "output_type": "stream",
     "text": [
      "Phase 3 (d=10), Epoch 350, Train Loss: 0.958683217, Test Loss: 3.186496351, Accuracy: 0.4025\n"
     ]
    },
    {
     "name": "stderr",
     "output_type": "stream",
     "text": [
      "Training epochs (d=10):  62%|██████████▌      | 405/650 [00:13<00:08, 29.83it/s]"
     ]
    },
    {
     "name": "stdout",
     "output_type": "stream",
     "text": [
      "Phase 3 (d=10), Epoch 400, Train Loss: 0.958903800, Test Loss: 3.609982495, Accuracy: 0.4050\n"
     ]
    },
    {
     "name": "stderr",
     "output_type": "stream",
     "text": [
      "Training epochs (d=10):  70%|███████████▊     | 454/650 [00:15<00:06, 28.82it/s]"
     ]
    },
    {
     "name": "stdout",
     "output_type": "stream",
     "text": [
      "Phase 3 (d=10), Epoch 450, Train Loss: 0.944003459, Test Loss: 3.543154473, Accuracy: 0.4050\n"
     ]
    },
    {
     "name": "stderr",
     "output_type": "stream",
     "text": [
      "Training epochs (d=10):  78%|█████████████▏   | 506/650 [00:17<00:04, 29.33it/s]"
     ]
    },
    {
     "name": "stdout",
     "output_type": "stream",
     "text": [
      "Phase 3 (d=10), Epoch 500, Train Loss: 0.931705589, Test Loss: 3.659425628, Accuracy: 0.4100\n"
     ]
    },
    {
     "name": "stderr",
     "output_type": "stream",
     "text": [
      "Training epochs (d=10):  86%|██████████████▌  | 556/650 [00:19<00:03, 29.63it/s]"
     ]
    },
    {
     "name": "stdout",
     "output_type": "stream",
     "text": [
      "Phase 3 (d=10), Epoch 550, Train Loss: 0.981195397, Test Loss: 3.694963651, Accuracy: 0.4075\n"
     ]
    },
    {
     "name": "stderr",
     "output_type": "stream",
     "text": [
      "Training epochs (d=10):  93%|███████████████▊ | 606/650 [00:20<00:01, 28.09it/s]"
     ]
    },
    {
     "name": "stdout",
     "output_type": "stream",
     "text": [
      "Phase 3 (d=10), Epoch 600, Train Loss: 0.921793066, Test Loss: 3.681969614, Accuracy: 0.3975\n"
     ]
    },
    {
     "name": "stderr",
     "output_type": "stream",
     "text": [
      "Training epochs (d=10): 100%|█████████████████| 650/650 [00:22<00:00, 29.14it/s]\n"
     ]
    },
    {
     "name": "stdout",
     "output_type": "stream",
     "text": [
      "Finished WBSNN experiment with d=10, Train Loss: 0.9245, Test Loss: 3.6820, Accuracy: 0.4200\n",
      "\n",
      "Final Results for d=10:\n",
      "   Model  Train Accuracy  Test Accuracy  Train Loss  Test Loss\n",
      "0  WBSNN         0.55375           0.42    0.924494    3.68197\n",
      "\n",
      "=== RUN 2/10 for d=10 ===\n",
      "========== Running with seed = 1 ==========\n",
      "\n",
      "Running WBSNN experiment with d=10\n",
      "Best W weights: [0.8781863  0.8823239  0.88434535 0.87744015 0.8890642  0.890637\n",
      " 0.8882231  0.88994205 0.887609   0.8899306 ]\n",
      "Subsets D_k: 80 subsets, 160 points\n",
      "Delta: 1.2974\n",
      "Y_mean: 0.6585416197776794, Y_std: 0.29401758313179016\n",
      "Finished Phase 1\n",
      "Phase 2 (d=10): All norms of Y_i - J W^(L_i) X_i across all D_k are not zero (within 1e-06).\n",
      "Norm distribution: 12 norms in [0, 1e-6), 68 norms in [1e-6, 1), 0 norms in [1, 2), 0 norms in [2, 3), 0 norms >= 3\n",
      "Finished Phase 2\n"
     ]
    },
    {
     "name": "stderr",
     "output_type": "stream",
     "text": [
      "Training epochs (d=10):   0%|                   | 3/650 [00:00<00:28, 22.51it/s]"
     ]
    },
    {
     "name": "stdout",
     "output_type": "stream",
     "text": [
      "Phase 3 (d=10), Epoch 0, Train Loss: 3.469463162, Test Loss: 2.485762796, Accuracy: 0.3300\n"
     ]
    },
    {
     "name": "stderr",
     "output_type": "stream",
     "text": [
      "Training epochs (d=10):   8%|█▍                | 54/650 [00:02<00:24, 24.73it/s]"
     ]
    },
    {
     "name": "stdout",
     "output_type": "stream",
     "text": [
      "Phase 3 (d=10), Epoch 50, Train Loss: 1.212421949, Test Loss: 1.119561224, Accuracy: 0.4325\n"
     ]
    },
    {
     "name": "stderr",
     "output_type": "stream",
     "text": [
      "Training epochs (d=10):  16%|██▋              | 105/650 [00:04<00:20, 26.86it/s]"
     ]
    },
    {
     "name": "stdout",
     "output_type": "stream",
     "text": [
      "Phase 3 (d=10), Epoch 100, Train Loss: 1.075903056, Test Loss: 1.160728507, Accuracy: 0.4475\n"
     ]
    },
    {
     "name": "stderr",
     "output_type": "stream",
     "text": [
      "Training epochs (d=10):  24%|████             | 156/650 [00:05<00:17, 28.40it/s]"
     ]
    },
    {
     "name": "stdout",
     "output_type": "stream",
     "text": [
      "Phase 3 (d=10), Epoch 150, Train Loss: 1.067321405, Test Loss: 1.144858713, Accuracy: 0.4350\n"
     ]
    },
    {
     "name": "stderr",
     "output_type": "stream",
     "text": [
      "Training epochs (d=10):  31%|█████▎           | 204/650 [00:07<00:15, 28.59it/s]"
     ]
    },
    {
     "name": "stdout",
     "output_type": "stream",
     "text": [
      "Phase 3 (d=10), Epoch 200, Train Loss: 0.978472421, Test Loss: 1.140005884, Accuracy: 0.4350\n"
     ]
    },
    {
     "name": "stderr",
     "output_type": "stream",
     "text": [
      "Training epochs (d=10):  39%|██████▋          | 255/650 [00:09<00:13, 28.82it/s]"
     ]
    },
    {
     "name": "stdout",
     "output_type": "stream",
     "text": [
      "Phase 3 (d=10), Epoch 250, Train Loss: 0.974147562, Test Loss: 1.097010579, Accuracy: 0.4575\n"
     ]
    },
    {
     "name": "stderr",
     "output_type": "stream",
     "text": [
      "Training epochs (d=10):  47%|████████         | 306/650 [00:11<00:11, 28.89it/s]"
     ]
    },
    {
     "name": "stdout",
     "output_type": "stream",
     "text": [
      "Phase 3 (d=10), Epoch 300, Train Loss: 0.954272244, Test Loss: 1.100133877, Accuracy: 0.4475\n"
     ]
    },
    {
     "name": "stderr",
     "output_type": "stream",
     "text": [
      "Training epochs (d=10):  54%|█████████▎       | 354/650 [00:12<00:10, 28.06it/s]"
     ]
    },
    {
     "name": "stdout",
     "output_type": "stream",
     "text": [
      "Phase 3 (d=10), Epoch 350, Train Loss: 0.955173546, Test Loss: 1.110343409, Accuracy: 0.4325\n"
     ]
    },
    {
     "name": "stderr",
     "output_type": "stream",
     "text": [
      "Training epochs (d=10):  62%|██████████▌      | 405/650 [00:14<00:08, 28.83it/s]"
     ]
    },
    {
     "name": "stdout",
     "output_type": "stream",
     "text": [
      "Phase 3 (d=10), Epoch 400, Train Loss: 0.981758701, Test Loss: 1.128970575, Accuracy: 0.4400\n"
     ]
    },
    {
     "name": "stderr",
     "output_type": "stream",
     "text": [
      "Training epochs (d=10):  70%|███████████▉     | 456/650 [00:16<00:07, 26.43it/s]"
     ]
    },
    {
     "name": "stdout",
     "output_type": "stream",
     "text": [
      "Phase 3 (d=10), Epoch 450, Train Loss: 0.930801176, Test Loss: 1.116549659, Accuracy: 0.4525\n"
     ]
    },
    {
     "name": "stderr",
     "output_type": "stream",
     "text": [
      "Training epochs (d=10):  78%|█████████████▏   | 504/650 [00:18<00:05, 27.67it/s]"
     ]
    },
    {
     "name": "stdout",
     "output_type": "stream",
     "text": [
      "Phase 3 (d=10), Epoch 500, Train Loss: 0.928065639, Test Loss: 1.124643450, Accuracy: 0.4400\n"
     ]
    },
    {
     "name": "stderr",
     "output_type": "stream",
     "text": [
      "Training epochs (d=10):  85%|██████████████▍  | 552/650 [00:20<00:04, 23.90it/s]"
     ]
    },
    {
     "name": "stdout",
     "output_type": "stream",
     "text": [
      "Phase 3 (d=10), Epoch 550, Train Loss: 0.933853232, Test Loss: 1.114503050, Accuracy: 0.4525\n"
     ]
    },
    {
     "name": "stderr",
     "output_type": "stream",
     "text": [
      "Training epochs (d=10):  93%|███████████████▊ | 606/650 [00:22<00:01, 27.04it/s]"
     ]
    },
    {
     "name": "stdout",
     "output_type": "stream",
     "text": [
      "Phase 3 (d=10), Epoch 600, Train Loss: 0.928474010, Test Loss: 1.135961647, Accuracy: 0.4700\n"
     ]
    },
    {
     "name": "stderr",
     "output_type": "stream",
     "text": [
      "Training epochs (d=10): 100%|█████████████████| 650/650 [00:24<00:00, 27.05it/s]\n"
     ]
    },
    {
     "name": "stdout",
     "output_type": "stream",
     "text": [
      "Finished WBSNN experiment with d=10, Train Loss: 0.9306, Test Loss: 1.1360, Accuracy: 0.4575\n",
      "\n",
      "Final Results for d=10:\n",
      "   Model  Train Accuracy  Test Accuracy  Train Loss  Test Loss\n",
      "0  WBSNN        0.530625         0.4575    0.930644   1.135962\n",
      "\n",
      "=== RUN 3/10 for d=10 ===\n",
      "========== Running with seed = 2 ==========\n",
      "\n",
      "Running WBSNN experiment with d=10\n",
      "Best W weights: [0.88782996 0.88322306 0.881494   0.8763529  0.89350647 0.888589\n",
      " 0.89157736 0.88907176 0.8853234  0.8899535 ]\n",
      "Subsets D_k: 80 subsets, 160 points\n",
      "Delta: 1.2612\n",
      "Y_mean: 0.6558333039283752, Y_std: 0.2942846119403839\n",
      "Finished Phase 1\n",
      "Phase 2 (d=10): All norms of Y_i - J W^(L_i) X_i across all D_k are not zero (within 1e-06).\n",
      "Norm distribution: 12 norms in [0, 1e-6), 68 norms in [1e-6, 1), 0 norms in [1, 2), 0 norms in [2, 3), 0 norms >= 3\n",
      "Finished Phase 2\n"
     ]
    },
    {
     "name": "stderr",
     "output_type": "stream",
     "text": [
      "Training epochs (d=10):   1%|▏                  | 6/650 [00:00<00:23, 27.71it/s]"
     ]
    },
    {
     "name": "stdout",
     "output_type": "stream",
     "text": [
      "Phase 3 (d=10), Epoch 0, Train Loss: 4.518983130, Test Loss: 2.641159201, Accuracy: 0.3625\n"
     ]
    },
    {
     "name": "stderr",
     "output_type": "stream",
     "text": [
      "Training epochs (d=10):   8%|█▍                | 54/650 [00:01<00:21, 28.01it/s]"
     ]
    },
    {
     "name": "stdout",
     "output_type": "stream",
     "text": [
      "Phase 3 (d=10), Epoch 50, Train Loss: 1.145703820, Test Loss: 1.140078058, Accuracy: 0.4475\n"
     ]
    },
    {
     "name": "stderr",
     "output_type": "stream",
     "text": [
      "Training epochs (d=10):  16%|██▋              | 105/650 [00:03<00:18, 28.93it/s]"
     ]
    },
    {
     "name": "stdout",
     "output_type": "stream",
     "text": [
      "Phase 3 (d=10), Epoch 100, Train Loss: 1.062997360, Test Loss: 1.096540070, Accuracy: 0.4525\n"
     ]
    },
    {
     "name": "stderr",
     "output_type": "stream",
     "text": [
      "Training epochs (d=10):  24%|████             | 156/650 [00:05<00:17, 29.05it/s]"
     ]
    },
    {
     "name": "stdout",
     "output_type": "stream",
     "text": [
      "Phase 3 (d=10), Epoch 150, Train Loss: 1.017714365, Test Loss: 1.097677746, Accuracy: 0.4575\n"
     ]
    },
    {
     "name": "stderr",
     "output_type": "stream",
     "text": [
      "Training epochs (d=10):  31%|█████▎           | 204/650 [00:07<00:15, 28.98it/s]"
     ]
    },
    {
     "name": "stdout",
     "output_type": "stream",
     "text": [
      "Phase 3 (d=10), Epoch 200, Train Loss: 1.044666555, Test Loss: 1.101380024, Accuracy: 0.4375\n"
     ]
    },
    {
     "name": "stderr",
     "output_type": "stream",
     "text": [
      "Training epochs (d=10):  39%|██████▋          | 255/650 [00:08<00:13, 29.09it/s]"
     ]
    },
    {
     "name": "stdout",
     "output_type": "stream",
     "text": [
      "Phase 3 (d=10), Epoch 250, Train Loss: 0.975976478, Test Loss: 1.116429286, Accuracy: 0.4525\n"
     ]
    },
    {
     "name": "stderr",
     "output_type": "stream",
     "text": [
      "Training epochs (d=10):  47%|████████         | 306/650 [00:10<00:11, 28.98it/s]"
     ]
    },
    {
     "name": "stdout",
     "output_type": "stream",
     "text": [
      "Phase 3 (d=10), Epoch 300, Train Loss: 0.974422828, Test Loss: 1.130870695, Accuracy: 0.4675\n"
     ]
    },
    {
     "name": "stderr",
     "output_type": "stream",
     "text": [
      "Training epochs (d=10):  54%|█████████▎       | 354/650 [00:12<00:10, 29.01it/s]"
     ]
    },
    {
     "name": "stdout",
     "output_type": "stream",
     "text": [
      "Phase 3 (d=10), Epoch 350, Train Loss: 0.985659301, Test Loss: 1.132769446, Accuracy: 0.4550\n"
     ]
    },
    {
     "name": "stderr",
     "output_type": "stream",
     "text": [
      "Training epochs (d=10):  62%|██████████▌      | 405/650 [00:13<00:08, 29.01it/s]"
     ]
    },
    {
     "name": "stdout",
     "output_type": "stream",
     "text": [
      "Phase 3 (d=10), Epoch 400, Train Loss: 0.946776588, Test Loss: 1.125136709, Accuracy: 0.4400\n"
     ]
    },
    {
     "name": "stderr",
     "output_type": "stream",
     "text": [
      "Training epochs (d=10):  70%|███████████▉     | 456/650 [00:15<00:06, 29.01it/s]"
     ]
    },
    {
     "name": "stdout",
     "output_type": "stream",
     "text": [
      "Phase 3 (d=10), Epoch 450, Train Loss: 0.942800350, Test Loss: 1.148797646, Accuracy: 0.4475\n"
     ]
    },
    {
     "name": "stderr",
     "output_type": "stream",
     "text": [
      "Training epochs (d=10):  78%|█████████████▏   | 504/650 [00:17<00:05, 28.84it/s]"
     ]
    },
    {
     "name": "stdout",
     "output_type": "stream",
     "text": [
      "Phase 3 (d=10), Epoch 500, Train Loss: 0.935911499, Test Loss: 1.147889390, Accuracy: 0.4525\n"
     ]
    },
    {
     "name": "stderr",
     "output_type": "stream",
     "text": [
      "Training epochs (d=10):  85%|██████████████▌  | 555/650 [00:19<00:03, 28.31it/s]"
     ]
    },
    {
     "name": "stdout",
     "output_type": "stream",
     "text": [
      "Phase 3 (d=10), Epoch 550, Train Loss: 0.943231050, Test Loss: 1.153667269, Accuracy: 0.4500\n"
     ]
    },
    {
     "name": "stderr",
     "output_type": "stream",
     "text": [
      "Training epochs (d=10):  93%|███████████████▊ | 606/650 [00:20<00:01, 28.95it/s]"
     ]
    },
    {
     "name": "stdout",
     "output_type": "stream",
     "text": [
      "Phase 3 (d=10), Epoch 600, Train Loss: 0.949227729, Test Loss: 1.159061828, Accuracy: 0.4475\n"
     ]
    },
    {
     "name": "stderr",
     "output_type": "stream",
     "text": [
      "Training epochs (d=10): 100%|█████████████████| 650/650 [00:22<00:00, 29.02it/s]\n"
     ]
    },
    {
     "name": "stdout",
     "output_type": "stream",
     "text": [
      "Finished WBSNN experiment with d=10, Train Loss: 0.9184, Test Loss: 1.1591, Accuracy: 0.4525\n",
      "\n",
      "Final Results for d=10:\n",
      "   Model  Train Accuracy  Test Accuracy  Train Loss  Test Loss\n",
      "0  WBSNN        0.538125         0.4525    0.918413   1.159062\n",
      "\n",
      "=== RUN 4/10 for d=10 ===\n",
      "========== Running with seed = 3 ==========\n",
      "\n",
      "Running WBSNN experiment with d=10\n",
      "Best W weights: [0.889378   0.8904195  0.8827126  0.88370854 0.88885844 0.8868163\n",
      " 0.88870966 0.8902727  0.8894446  0.8912404 ]\n",
      "Subsets D_k: 80 subsets, 160 points\n",
      "Delta: 1.4717\n",
      "Y_mean: 0.659166693687439, Y_std: 0.2929688096046448\n",
      "Finished Phase 1\n",
      "Phase 2 (d=10): All norms of Y_i - J W^(L_i) X_i across all D_k are not zero (within 1e-06).\n",
      "Norm distribution: 4 norms in [0, 1e-6), 76 norms in [1e-6, 1), 0 norms in [1, 2), 0 norms in [2, 3), 0 norms >= 3\n",
      "Finished Phase 2\n"
     ]
    },
    {
     "name": "stderr",
     "output_type": "stream",
     "text": [
      "Training epochs (d=10):   1%|▏                  | 6/650 [00:00<00:22, 28.66it/s]"
     ]
    },
    {
     "name": "stdout",
     "output_type": "stream",
     "text": [
      "Phase 3 (d=10), Epoch 0, Train Loss: 6.137241378, Test Loss: 2.698082657, Accuracy: 0.3750\n"
     ]
    },
    {
     "name": "stderr",
     "output_type": "stream",
     "text": [
      "Training epochs (d=10):   8%|█▍                | 54/650 [00:01<00:20, 29.40it/s]"
     ]
    },
    {
     "name": "stdout",
     "output_type": "stream",
     "text": [
      "Phase 3 (d=10), Epoch 50, Train Loss: 1.158670024, Test Loss: 1.206164060, Accuracy: 0.4225\n"
     ]
    },
    {
     "name": "stderr",
     "output_type": "stream",
     "text": [
      "Training epochs (d=10):  16%|██▋              | 105/650 [00:03<00:19, 28.32it/s]"
     ]
    },
    {
     "name": "stdout",
     "output_type": "stream",
     "text": [
      "Phase 3 (d=10), Epoch 100, Train Loss: 1.039087037, Test Loss: 1.156998510, Accuracy: 0.4200\n"
     ]
    },
    {
     "name": "stderr",
     "output_type": "stream",
     "text": [
      "Training epochs (d=10):  24%|████             | 156/650 [00:05<00:19, 25.89it/s]"
     ]
    },
    {
     "name": "stdout",
     "output_type": "stream",
     "text": [
      "Phase 3 (d=10), Epoch 150, Train Loss: 0.992127197, Test Loss: 1.144962921, Accuracy: 0.4400\n"
     ]
    },
    {
     "name": "stderr",
     "output_type": "stream",
     "text": [
      "Training epochs (d=10):  31%|█████▎           | 204/650 [00:07<00:16, 27.17it/s]"
     ]
    },
    {
     "name": "stdout",
     "output_type": "stream",
     "text": [
      "Phase 3 (d=10), Epoch 200, Train Loss: 0.974731169, Test Loss: 1.134921446, Accuracy: 0.4250\n"
     ]
    },
    {
     "name": "stderr",
     "output_type": "stream",
     "text": [
      "Training epochs (d=10):  39%|██████▋          | 255/650 [00:09<00:14, 28.10it/s]"
     ]
    },
    {
     "name": "stdout",
     "output_type": "stream",
     "text": [
      "Phase 3 (d=10), Epoch 250, Train Loss: 0.979765002, Test Loss: 1.136356015, Accuracy: 0.4525\n"
     ]
    },
    {
     "name": "stderr",
     "output_type": "stream",
     "text": [
      "Training epochs (d=10):  47%|███████▉         | 304/650 [00:10<00:12, 27.18it/s]"
     ]
    },
    {
     "name": "stdout",
     "output_type": "stream",
     "text": [
      "Phase 3 (d=10), Epoch 300, Train Loss: 0.968164002, Test Loss: 1.150248134, Accuracy: 0.4350\n"
     ]
    },
    {
     "name": "stderr",
     "output_type": "stream",
     "text": [
      "Training epochs (d=10):  55%|█████████▎       | 356/650 [00:12<00:10, 29.26it/s]"
     ]
    },
    {
     "name": "stdout",
     "output_type": "stream",
     "text": [
      "Phase 3 (d=10), Epoch 350, Train Loss: 0.966914408, Test Loss: 1.180596967, Accuracy: 0.4400\n"
     ]
    },
    {
     "name": "stderr",
     "output_type": "stream",
     "text": [
      "Training epochs (d=10):  62%|██████████▌      | 406/650 [00:14<00:08, 29.36it/s]"
     ]
    },
    {
     "name": "stdout",
     "output_type": "stream",
     "text": [
      "Phase 3 (d=10), Epoch 400, Train Loss: 0.952274418, Test Loss: 1.188722973, Accuracy: 0.4300\n"
     ]
    },
    {
     "name": "stderr",
     "output_type": "stream",
     "text": [
      "Training epochs (d=10):  70%|███████████▉     | 457/650 [00:16<00:06, 29.30it/s]"
     ]
    },
    {
     "name": "stdout",
     "output_type": "stream",
     "text": [
      "Phase 3 (d=10), Epoch 450, Train Loss: 0.938047538, Test Loss: 1.185627191, Accuracy: 0.4425\n"
     ]
    },
    {
     "name": "stderr",
     "output_type": "stream",
     "text": [
      "Training epochs (d=10):  78%|█████████████▏   | 504/650 [00:17<00:04, 29.22it/s]"
     ]
    },
    {
     "name": "stdout",
     "output_type": "stream",
     "text": [
      "Phase 3 (d=10), Epoch 500, Train Loss: 0.941883668, Test Loss: 1.219326684, Accuracy: 0.4475\n"
     ]
    },
    {
     "name": "stderr",
     "output_type": "stream",
     "text": [
      "Training epochs (d=10):  85%|██████████████▌  | 555/650 [00:19<00:03, 29.23it/s]"
     ]
    },
    {
     "name": "stdout",
     "output_type": "stream",
     "text": [
      "Phase 3 (d=10), Epoch 550, Train Loss: 0.951210797, Test Loss: 1.230584135, Accuracy: 0.4375\n"
     ]
    },
    {
     "name": "stderr",
     "output_type": "stream",
     "text": [
      "Training epochs (d=10):  93%|███████████████▊ | 606/650 [00:21<00:01, 29.24it/s]"
     ]
    },
    {
     "name": "stdout",
     "output_type": "stream",
     "text": [
      "Phase 3 (d=10), Epoch 600, Train Loss: 0.931454798, Test Loss: 1.228997529, Accuracy: 0.4575\n"
     ]
    },
    {
     "name": "stderr",
     "output_type": "stream",
     "text": [
      "Training epochs (d=10): 100%|█████████████████| 650/650 [00:22<00:00, 28.49it/s]\n"
     ]
    },
    {
     "name": "stdout",
     "output_type": "stream",
     "text": [
      "Finished WBSNN experiment with d=10, Train Loss: 0.9281, Test Loss: 1.2290, Accuracy: 0.4250\n",
      "\n",
      "Final Results for d=10:\n",
      "   Model  Train Accuracy  Test Accuracy  Train Loss  Test Loss\n",
      "0  WBSNN          0.5475          0.425    0.928063   1.228998\n",
      "\n",
      "=== RUN 5/10 for d=10 ===\n",
      "========== Running with seed = 4 ==========\n",
      "\n",
      "Running WBSNN experiment with d=10\n",
      "Best W weights: [0.8825544  0.88311917 0.8856834  0.88245285 0.8925633  0.89094514\n",
      " 0.8862278  0.88384914 0.88595265 0.88915867]\n",
      "Subsets D_k: 80 subsets, 160 points\n",
      "Delta: 1.4427\n",
      "Y_mean: 0.6581249833106995, Y_std: 0.29329586029052734\n",
      "Finished Phase 1\n",
      "Phase 2 (d=10): All norms of Y_i - J W^(L_i) X_i across all D_k are not zero (within 1e-06).\n",
      "Norm distribution: 4 norms in [0, 1e-6), 76 norms in [1e-6, 1), 0 norms in [1, 2), 0 norms in [2, 3), 0 norms >= 3\n",
      "Finished Phase 2\n"
     ]
    },
    {
     "name": "stderr",
     "output_type": "stream",
     "text": [
      "Training epochs (d=10):   1%|▏                  | 6/650 [00:00<00:22, 28.36it/s]"
     ]
    },
    {
     "name": "stdout",
     "output_type": "stream",
     "text": [
      "Phase 3 (d=10), Epoch 0, Train Loss: 4.520727212, Test Loss: 3.321759682, Accuracy: 0.3100\n"
     ]
    },
    {
     "name": "stderr",
     "output_type": "stream",
     "text": [
      "Training epochs (d=10):   9%|█▌                | 56/650 [00:01<00:20, 29.45it/s]"
     ]
    },
    {
     "name": "stdout",
     "output_type": "stream",
     "text": [
      "Phase 3 (d=10), Epoch 50, Train Loss: 1.125312647, Test Loss: 1.177684097, Accuracy: 0.4150\n"
     ]
    },
    {
     "name": "stderr",
     "output_type": "stream",
     "text": [
      "Training epochs (d=10):  16%|██▋              | 104/650 [00:03<00:18, 29.45it/s]"
     ]
    },
    {
     "name": "stdout",
     "output_type": "stream",
     "text": [
      "Phase 3 (d=10), Epoch 100, Train Loss: 1.042166669, Test Loss: 1.116916409, Accuracy: 0.4300\n"
     ]
    },
    {
     "name": "stderr",
     "output_type": "stream",
     "text": [
      "Training epochs (d=10):  24%|████             | 155/650 [00:05<00:16, 29.46it/s]"
     ]
    },
    {
     "name": "stdout",
     "output_type": "stream",
     "text": [
      "Phase 3 (d=10), Epoch 150, Train Loss: 1.017657264, Test Loss: 1.152179899, Accuracy: 0.4450\n"
     ]
    },
    {
     "name": "stderr",
     "output_type": "stream",
     "text": [
      "Training epochs (d=10):  31%|█████▎           | 204/650 [00:06<00:15, 29.54it/s]"
     ]
    },
    {
     "name": "stdout",
     "output_type": "stream",
     "text": [
      "Phase 3 (d=10), Epoch 200, Train Loss: 1.019889275, Test Loss: 1.140992522, Accuracy: 0.4250\n"
     ]
    },
    {
     "name": "stderr",
     "output_type": "stream",
     "text": [
      "Training epochs (d=10):  39%|██████▋          | 256/650 [00:08<00:13, 29.29it/s]"
     ]
    },
    {
     "name": "stdout",
     "output_type": "stream",
     "text": [
      "Phase 3 (d=10), Epoch 250, Train Loss: 0.984525958, Test Loss: 1.172090397, Accuracy: 0.4325\n"
     ]
    },
    {
     "name": "stderr",
     "output_type": "stream",
     "text": [
      "Training epochs (d=10):  47%|███████▉         | 305/650 [00:10<00:11, 29.56it/s]"
     ]
    },
    {
     "name": "stdout",
     "output_type": "stream",
     "text": [
      "Phase 3 (d=10), Epoch 300, Train Loss: 0.974832739, Test Loss: 1.152794986, Accuracy: 0.4425\n"
     ]
    },
    {
     "name": "stderr",
     "output_type": "stream",
     "text": [
      "Training epochs (d=10):  55%|█████████▎       | 356/650 [00:12<00:10, 29.33it/s]"
     ]
    },
    {
     "name": "stdout",
     "output_type": "stream",
     "text": [
      "Phase 3 (d=10), Epoch 350, Train Loss: 0.957633644, Test Loss: 1.208108702, Accuracy: 0.4400\n"
     ]
    },
    {
     "name": "stderr",
     "output_type": "stream",
     "text": [
      "Training epochs (d=10):  62%|██████████▌      | 406/650 [00:13<00:08, 29.48it/s]"
     ]
    },
    {
     "name": "stdout",
     "output_type": "stream",
     "text": [
      "Phase 3 (d=10), Epoch 400, Train Loss: 0.966706203, Test Loss: 1.224007926, Accuracy: 0.4250\n"
     ]
    },
    {
     "name": "stderr",
     "output_type": "stream",
     "text": [
      "Training epochs (d=10):  70%|███████████▉     | 455/650 [00:15<00:06, 29.44it/s]"
     ]
    },
    {
     "name": "stdout",
     "output_type": "stream",
     "text": [
      "Phase 3 (d=10), Epoch 450, Train Loss: 0.972661079, Test Loss: 1.222892089, Accuracy: 0.4425\n"
     ]
    },
    {
     "name": "stderr",
     "output_type": "stream",
     "text": [
      "Training epochs (d=10):  78%|█████████████▏   | 505/650 [00:17<00:04, 29.39it/s]"
     ]
    },
    {
     "name": "stdout",
     "output_type": "stream",
     "text": [
      "Phase 3 (d=10), Epoch 500, Train Loss: 0.943265736, Test Loss: 1.241160369, Accuracy: 0.4475\n"
     ]
    },
    {
     "name": "stderr",
     "output_type": "stream",
     "text": [
      "Training epochs (d=10):  86%|██████████████▌  | 556/650 [00:18<00:03, 29.64it/s]"
     ]
    },
    {
     "name": "stdout",
     "output_type": "stream",
     "text": [
      "Phase 3 (d=10), Epoch 550, Train Loss: 0.947191867, Test Loss: 1.238263402, Accuracy: 0.4400\n"
     ]
    },
    {
     "name": "stderr",
     "output_type": "stream",
     "text": [
      "Training epochs (d=10):  93%|███████████████▊ | 606/650 [00:20<00:01, 29.48it/s]"
     ]
    },
    {
     "name": "stdout",
     "output_type": "stream",
     "text": [
      "Phase 3 (d=10), Epoch 600, Train Loss: 0.949597237, Test Loss: 1.227499714, Accuracy: 0.4325\n"
     ]
    },
    {
     "name": "stderr",
     "output_type": "stream",
     "text": [
      "Training epochs (d=10): 100%|█████████████████| 650/650 [00:22<00:00, 29.53it/s]\n"
     ]
    },
    {
     "name": "stdout",
     "output_type": "stream",
     "text": [
      "Finished WBSNN experiment with d=10, Train Loss: 0.9353, Test Loss: 1.2275, Accuracy: 0.4300\n",
      "\n",
      "Final Results for d=10:\n",
      "   Model  Train Accuracy  Test Accuracy  Train Loss  Test Loss\n",
      "0  WBSNN            0.54           0.43    0.935303     1.2275\n",
      "\n",
      "=== RUN 6/10 for d=10 ===\n",
      "========== Running with seed = 5 ==========\n",
      "\n",
      "Running WBSNN experiment with d=10\n",
      "Best W weights: [0.8836734  0.88728297 0.887527   0.8787238  0.89182353 0.89100546\n",
      " 0.88793755 0.88458896 0.8878846  0.88830173]\n",
      "Subsets D_k: 80 subsets, 160 points\n",
      "Delta: 1.3040\n",
      "Y_mean: 0.6554166674613953, Y_std: 0.29213598370552063\n",
      "Finished Phase 1\n",
      "Phase 2 (d=10): All norms of Y_i - J W^(L_i) X_i across all D_k are not zero (within 1e-06).\n",
      "Norm distribution: 8 norms in [0, 1e-6), 72 norms in [1e-6, 1), 0 norms in [1, 2), 0 norms in [2, 3), 0 norms >= 3\n",
      "Finished Phase 2\n"
     ]
    },
    {
     "name": "stderr",
     "output_type": "stream",
     "text": [
      "Training epochs (d=10):   1%|▏                  | 6/650 [00:00<00:22, 28.45it/s]"
     ]
    },
    {
     "name": "stdout",
     "output_type": "stream",
     "text": [
      "Phase 3 (d=10), Epoch 0, Train Loss: 3.981282449, Test Loss: 2.284572239, Accuracy: 0.3375\n"
     ]
    },
    {
     "name": "stderr",
     "output_type": "stream",
     "text": [
      "Training epochs (d=10):   8%|█▍                | 54/650 [00:01<00:20, 29.43it/s]"
     ]
    },
    {
     "name": "stdout",
     "output_type": "stream",
     "text": [
      "Phase 3 (d=10), Epoch 50, Train Loss: 1.108930268, Test Loss: 1.142498178, Accuracy: 0.4200\n"
     ]
    },
    {
     "name": "stderr",
     "output_type": "stream",
     "text": [
      "Training epochs (d=10):  16%|██▋              | 105/650 [00:03<00:18, 29.43it/s]"
     ]
    },
    {
     "name": "stdout",
     "output_type": "stream",
     "text": [
      "Phase 3 (d=10), Epoch 100, Train Loss: 1.039683648, Test Loss: 1.094717379, Accuracy: 0.4100\n"
     ]
    },
    {
     "name": "stderr",
     "output_type": "stream",
     "text": [
      "Training epochs (d=10):  24%|████             | 156/650 [00:05<00:16, 29.13it/s]"
     ]
    },
    {
     "name": "stdout",
     "output_type": "stream",
     "text": [
      "Phase 3 (d=10), Epoch 150, Train Loss: 0.989294384, Test Loss: 1.080048180, Accuracy: 0.4425\n"
     ]
    },
    {
     "name": "stderr",
     "output_type": "stream",
     "text": [
      "Training epochs (d=10):  31%|█████▎           | 204/650 [00:06<00:15, 29.19it/s]"
     ]
    },
    {
     "name": "stdout",
     "output_type": "stream",
     "text": [
      "Phase 3 (d=10), Epoch 200, Train Loss: 0.981988779, Test Loss: 1.076846166, Accuracy: 0.4400\n"
     ]
    },
    {
     "name": "stderr",
     "output_type": "stream",
     "text": [
      "Training epochs (d=10):  39%|██████▋          | 255/650 [00:08<00:13, 29.41it/s]"
     ]
    },
    {
     "name": "stdout",
     "output_type": "stream",
     "text": [
      "Phase 3 (d=10), Epoch 250, Train Loss: 0.997528512, Test Loss: 1.100437026, Accuracy: 0.4450\n"
     ]
    },
    {
     "name": "stderr",
     "output_type": "stream",
     "text": [
      "Training epochs (d=10):  47%|████████         | 306/650 [00:10<00:11, 29.06it/s]"
     ]
    },
    {
     "name": "stdout",
     "output_type": "stream",
     "text": [
      "Phase 3 (d=10), Epoch 300, Train Loss: 0.969670610, Test Loss: 1.088662324, Accuracy: 0.4600\n"
     ]
    },
    {
     "name": "stderr",
     "output_type": "stream",
     "text": [
      "Training epochs (d=10):  54%|█████████▎       | 354/650 [00:12<00:10, 29.24it/s]"
     ]
    },
    {
     "name": "stdout",
     "output_type": "stream",
     "text": [
      "Phase 3 (d=10), Epoch 350, Train Loss: 0.983484471, Test Loss: 1.100668626, Accuracy: 0.4425\n"
     ]
    },
    {
     "name": "stderr",
     "output_type": "stream",
     "text": [
      "Training epochs (d=10):  62%|██████████▌      | 405/650 [00:13<00:08, 29.33it/s]"
     ]
    },
    {
     "name": "stdout",
     "output_type": "stream",
     "text": [
      "Phase 3 (d=10), Epoch 400, Train Loss: 0.965923711, Test Loss: 1.106007380, Accuracy: 0.4250\n"
     ]
    },
    {
     "name": "stderr",
     "output_type": "stream",
     "text": [
      "Training epochs (d=10):  70%|███████████▉     | 456/650 [00:15<00:06, 29.29it/s]"
     ]
    },
    {
     "name": "stdout",
     "output_type": "stream",
     "text": [
      "Phase 3 (d=10), Epoch 450, Train Loss: 0.938202075, Test Loss: 1.098879552, Accuracy: 0.4450\n"
     ]
    },
    {
     "name": "stderr",
     "output_type": "stream",
     "text": [
      "Training epochs (d=10):  78%|█████████████▏   | 504/650 [00:17<00:04, 29.29it/s]"
     ]
    },
    {
     "name": "stdout",
     "output_type": "stream",
     "text": [
      "Phase 3 (d=10), Epoch 500, Train Loss: 0.954754913, Test Loss: 1.141395664, Accuracy: 0.4325\n"
     ]
    },
    {
     "name": "stderr",
     "output_type": "stream",
     "text": [
      "Training epochs (d=10):  85%|██████████████▌  | 555/650 [00:18<00:03, 29.23it/s]"
     ]
    },
    {
     "name": "stdout",
     "output_type": "stream",
     "text": [
      "Phase 3 (d=10), Epoch 550, Train Loss: 0.941326870, Test Loss: 1.125475883, Accuracy: 0.4350\n"
     ]
    },
    {
     "name": "stderr",
     "output_type": "stream",
     "text": [
      "Training epochs (d=10):  93%|███████████████▊ | 606/650 [00:20<00:01, 29.44it/s]"
     ]
    },
    {
     "name": "stdout",
     "output_type": "stream",
     "text": [
      "Phase 3 (d=10), Epoch 600, Train Loss: 0.931732348, Test Loss: 1.124120679, Accuracy: 0.4500\n"
     ]
    },
    {
     "name": "stderr",
     "output_type": "stream",
     "text": [
      "Training epochs (d=10): 100%|█████████████████| 650/650 [00:22<00:00, 29.34it/s]\n"
     ]
    },
    {
     "name": "stdout",
     "output_type": "stream",
     "text": [
      "Finished WBSNN experiment with d=10, Train Loss: 0.9264, Test Loss: 1.1241, Accuracy: 0.4400\n",
      "\n",
      "Final Results for d=10:\n",
      "   Model  Train Accuracy  Test Accuracy  Train Loss  Test Loss\n",
      "0  WBSNN        0.538125           0.44    0.926401   1.124121\n",
      "\n",
      "=== RUN 7/10 for d=10 ===\n",
      "========== Running with seed = 6 ==========\n",
      "\n",
      "Running WBSNN experiment with d=10\n",
      "Best W weights: [0.87949604 0.8845961  0.88470507 0.8794667  0.8868518  0.8884357\n",
      " 0.88624007 0.8835621  0.8845959  0.88584954]\n",
      "Subsets D_k: 80 subsets, 160 points\n",
      "Delta: 1.2517\n",
      "Y_mean: 0.6579166650772095, Y_std: 0.293171226978302\n",
      "Finished Phase 1\n",
      "Phase 2 (d=10): All norms of Y_i - J W^(L_i) X_i across all D_k are not zero (within 1e-06).\n",
      "Norm distribution: 7 norms in [0, 1e-6), 73 norms in [1e-6, 1), 0 norms in [1, 2), 0 norms in [2, 3), 0 norms >= 3\n",
      "Finished Phase 2\n"
     ]
    },
    {
     "name": "stderr",
     "output_type": "stream",
     "text": [
      "Training epochs (d=10):   1%|▏                  | 6/650 [00:00<00:23, 27.76it/s]"
     ]
    },
    {
     "name": "stdout",
     "output_type": "stream",
     "text": [
      "Phase 3 (d=10), Epoch 0, Train Loss: 5.605874872, Test Loss: 2.617716694, Accuracy: 0.2900\n"
     ]
    },
    {
     "name": "stderr",
     "output_type": "stream",
     "text": [
      "Training epochs (d=10):   8%|█▍                | 54/650 [00:01<00:20, 29.49it/s]"
     ]
    },
    {
     "name": "stdout",
     "output_type": "stream",
     "text": [
      "Phase 3 (d=10), Epoch 50, Train Loss: 1.156135993, Test Loss: 1.128190823, Accuracy: 0.4275\n"
     ]
    },
    {
     "name": "stderr",
     "output_type": "stream",
     "text": [
      "Training epochs (d=10):  16%|██▋              | 105/650 [00:03<00:18, 29.35it/s]"
     ]
    },
    {
     "name": "stdout",
     "output_type": "stream",
     "text": [
      "Phase 3 (d=10), Epoch 100, Train Loss: 1.024608523, Test Loss: 1.102906623, Accuracy: 0.4275\n"
     ]
    },
    {
     "name": "stderr",
     "output_type": "stream",
     "text": [
      "Training epochs (d=10):  24%|████             | 156/650 [00:05<00:16, 29.26it/s]"
     ]
    },
    {
     "name": "stdout",
     "output_type": "stream",
     "text": [
      "Phase 3 (d=10), Epoch 150, Train Loss: 1.007760099, Test Loss: 1.098078475, Accuracy: 0.4175\n"
     ]
    },
    {
     "name": "stderr",
     "output_type": "stream",
     "text": [
      "Training epochs (d=10):  32%|█████▎           | 205/650 [00:07<00:15, 29.48it/s]"
     ]
    },
    {
     "name": "stdout",
     "output_type": "stream",
     "text": [
      "Phase 3 (d=10), Epoch 200, Train Loss: 1.001529313, Test Loss: 1.082256498, Accuracy: 0.4175\n"
     ]
    },
    {
     "name": "stderr",
     "output_type": "stream",
     "text": [
      "Training epochs (d=10):  39%|██████▋          | 256/650 [00:08<00:13, 29.14it/s]"
     ]
    },
    {
     "name": "stdout",
     "output_type": "stream",
     "text": [
      "Phase 3 (d=10), Epoch 250, Train Loss: 0.971927209, Test Loss: 1.091059923, Accuracy: 0.4200\n"
     ]
    },
    {
     "name": "stderr",
     "output_type": "stream",
     "text": [
      "Training epochs (d=10):  47%|███████▉         | 305/650 [00:10<00:11, 29.45it/s]"
     ]
    },
    {
     "name": "stdout",
     "output_type": "stream",
     "text": [
      "Phase 3 (d=10), Epoch 300, Train Loss: 0.960584928, Test Loss: 1.117700067, Accuracy: 0.4325\n"
     ]
    },
    {
     "name": "stderr",
     "output_type": "stream",
     "text": [
      "Training epochs (d=10):  55%|█████████▎       | 356/650 [00:12<00:09, 29.45it/s]"
     ]
    },
    {
     "name": "stdout",
     "output_type": "stream",
     "text": [
      "Phase 3 (d=10), Epoch 350, Train Loss: 0.965896163, Test Loss: 1.107220864, Accuracy: 0.4250\n"
     ]
    },
    {
     "name": "stderr",
     "output_type": "stream",
     "text": [
      "Training epochs (d=10):  62%|██████████▌      | 404/650 [00:13<00:08, 29.53it/s]"
     ]
    },
    {
     "name": "stdout",
     "output_type": "stream",
     "text": [
      "Phase 3 (d=10), Epoch 400, Train Loss: 0.948317829, Test Loss: 1.138751135, Accuracy: 0.4125\n"
     ]
    },
    {
     "name": "stderr",
     "output_type": "stream",
     "text": [
      "Training epochs (d=10):  70%|███████████▉     | 456/650 [00:15<00:06, 29.44it/s]"
     ]
    },
    {
     "name": "stdout",
     "output_type": "stream",
     "text": [
      "Phase 3 (d=10), Epoch 450, Train Loss: 0.979437032, Test Loss: 1.157185960, Accuracy: 0.4200\n"
     ]
    },
    {
     "name": "stderr",
     "output_type": "stream",
     "text": [
      "Training epochs (d=10):  78%|█████████████▏   | 505/650 [00:17<00:04, 29.36it/s]"
     ]
    },
    {
     "name": "stdout",
     "output_type": "stream",
     "text": [
      "Phase 3 (d=10), Epoch 500, Train Loss: 0.969968351, Test Loss: 1.148464766, Accuracy: 0.4150\n"
     ]
    },
    {
     "name": "stderr",
     "output_type": "stream",
     "text": [
      "Training epochs (d=10):  86%|██████████████▌  | 556/650 [00:18<00:03, 29.58it/s]"
     ]
    },
    {
     "name": "stdout",
     "output_type": "stream",
     "text": [
      "Phase 3 (d=10), Epoch 550, Train Loss: 0.948733660, Test Loss: 1.157913599, Accuracy: 0.4075\n"
     ]
    },
    {
     "name": "stderr",
     "output_type": "stream",
     "text": [
      "Training epochs (d=10):  93%|███████████████▊ | 605/650 [00:20<00:01, 29.47it/s]"
     ]
    },
    {
     "name": "stdout",
     "output_type": "stream",
     "text": [
      "Phase 3 (d=10), Epoch 600, Train Loss: 0.932960088, Test Loss: 1.142132983, Accuracy: 0.4050\n"
     ]
    },
    {
     "name": "stderr",
     "output_type": "stream",
     "text": [
      "Training epochs (d=10): 100%|█████████████████| 650/650 [00:22<00:00, 29.42it/s]\n"
     ]
    },
    {
     "name": "stdout",
     "output_type": "stream",
     "text": [
      "Finished WBSNN experiment with d=10, Train Loss: 0.9319, Test Loss: 1.1421, Accuracy: 0.4175\n",
      "\n",
      "Final Results for d=10:\n",
      "   Model  Train Accuracy  Test Accuracy  Train Loss  Test Loss\n",
      "0  WBSNN        0.538125         0.4175    0.931888   1.142133\n",
      "\n",
      "=== RUN 8/10 for d=10 ===\n",
      "========== Running with seed = 7 ==========\n",
      "\n",
      "Running WBSNN experiment with d=10\n",
      "Best W weights: [0.8850974  0.8863466  0.88388085 0.8750051  0.8925019  0.8910949\n",
      " 0.8898936  0.8921983  0.8880932  0.887384  ]\n",
      "Subsets D_k: 80 subsets, 160 points\n",
      "Delta: 1.3317\n",
      "Y_mean: 0.6575000286102295, Y_std: 0.29315850138664246\n",
      "Finished Phase 1\n",
      "Phase 2 (d=10): All norms of Y_i - J W^(L_i) X_i across all D_k are not zero (within 1e-06).\n",
      "Norm distribution: 6 norms in [0, 1e-6), 74 norms in [1e-6, 1), 0 norms in [1, 2), 0 norms in [2, 3), 0 norms >= 3\n",
      "Finished Phase 2\n"
     ]
    },
    {
     "name": "stderr",
     "output_type": "stream",
     "text": [
      "Training epochs (d=10):   1%|▏                  | 6/650 [00:00<00:22, 28.80it/s]"
     ]
    },
    {
     "name": "stdout",
     "output_type": "stream",
     "text": [
      "Phase 3 (d=10), Epoch 0, Train Loss: 4.164362321, Test Loss: 3.147817383, Accuracy: 0.2025\n"
     ]
    },
    {
     "name": "stderr",
     "output_type": "stream",
     "text": [
      "Training epochs (d=10):   8%|█▍                | 54/650 [00:01<00:20, 29.45it/s]"
     ]
    },
    {
     "name": "stdout",
     "output_type": "stream",
     "text": [
      "Phase 3 (d=10), Epoch 50, Train Loss: 1.161879699, Test Loss: 1.144685092, Accuracy: 0.4475\n"
     ]
    },
    {
     "name": "stderr",
     "output_type": "stream",
     "text": [
      "Training epochs (d=10):  16%|██▊              | 106/650 [00:03<00:18, 29.58it/s]"
     ]
    },
    {
     "name": "stdout",
     "output_type": "stream",
     "text": [
      "Phase 3 (d=10), Epoch 100, Train Loss: 1.039559369, Test Loss: 1.078365588, Accuracy: 0.4300\n"
     ]
    },
    {
     "name": "stderr",
     "output_type": "stream",
     "text": [
      "Training epochs (d=10):  24%|████             | 157/650 [00:05<00:16, 29.79it/s]"
     ]
    },
    {
     "name": "stdout",
     "output_type": "stream",
     "text": [
      "Phase 3 (d=10), Epoch 150, Train Loss: 1.007318790, Test Loss: 1.042888665, Accuracy: 0.4475\n"
     ]
    },
    {
     "name": "stderr",
     "output_type": "stream",
     "text": [
      "Training epochs (d=10):  32%|█████▎           | 205/650 [00:06<00:15, 29.57it/s]"
     ]
    },
    {
     "name": "stdout",
     "output_type": "stream",
     "text": [
      "Phase 3 (d=10), Epoch 200, Train Loss: 0.972842481, Test Loss: 1.055193214, Accuracy: 0.4350\n"
     ]
    },
    {
     "name": "stderr",
     "output_type": "stream",
     "text": [
      "Training epochs (d=10):  39%|██████▋          | 256/650 [00:08<00:13, 29.50it/s]"
     ]
    },
    {
     "name": "stdout",
     "output_type": "stream",
     "text": [
      "Phase 3 (d=10), Epoch 250, Train Loss: 0.985920876, Test Loss: 1.068614063, Accuracy: 0.4225\n"
     ]
    },
    {
     "name": "stderr",
     "output_type": "stream",
     "text": [
      "Training epochs (d=10):  47%|███████▉         | 304/650 [00:10<00:11, 29.69it/s]"
     ]
    },
    {
     "name": "stdout",
     "output_type": "stream",
     "text": [
      "Phase 3 (d=10), Epoch 300, Train Loss: 0.967854660, Test Loss: 1.074440980, Accuracy: 0.4350\n"
     ]
    },
    {
     "name": "stderr",
     "output_type": "stream",
     "text": [
      "Training epochs (d=10):  55%|█████████▎       | 355/650 [00:12<00:10, 29.42it/s]"
     ]
    },
    {
     "name": "stdout",
     "output_type": "stream",
     "text": [
      "Phase 3 (d=10), Epoch 350, Train Loss: 0.965885969, Test Loss: 1.076685176, Accuracy: 0.4225\n"
     ]
    },
    {
     "name": "stderr",
     "output_type": "stream",
     "text": [
      "Training epochs (d=10):  62%|██████████▌      | 404/650 [00:13<00:08, 29.62it/s]"
     ]
    },
    {
     "name": "stdout",
     "output_type": "stream",
     "text": [
      "Phase 3 (d=10), Epoch 400, Train Loss: 0.992516134, Test Loss: 1.086216602, Accuracy: 0.4250\n"
     ]
    },
    {
     "name": "stderr",
     "output_type": "stream",
     "text": [
      "Training epochs (d=10):  70%|███████████▉     | 456/650 [00:15<00:06, 29.62it/s]"
     ]
    },
    {
     "name": "stdout",
     "output_type": "stream",
     "text": [
      "Phase 3 (d=10), Epoch 450, Train Loss: 0.940785198, Test Loss: 1.100824809, Accuracy: 0.4275\n"
     ]
    },
    {
     "name": "stderr",
     "output_type": "stream",
     "text": [
      "Training epochs (d=10):  78%|█████████████▏   | 504/650 [00:17<00:04, 29.35it/s]"
     ]
    },
    {
     "name": "stdout",
     "output_type": "stream",
     "text": [
      "Phase 3 (d=10), Epoch 500, Train Loss: 0.936826087, Test Loss: 1.110972166, Accuracy: 0.4150\n"
     ]
    },
    {
     "name": "stderr",
     "output_type": "stream",
     "text": [
      "Training epochs (d=10):  86%|██████████████▌  | 556/650 [00:18<00:03, 29.41it/s]"
     ]
    },
    {
     "name": "stdout",
     "output_type": "stream",
     "text": [
      "Phase 3 (d=10), Epoch 550, Train Loss: 0.950127985, Test Loss: 1.106212749, Accuracy: 0.4275\n"
     ]
    },
    {
     "name": "stderr",
     "output_type": "stream",
     "text": [
      "Training epochs (d=10):  93%|███████████████▊ | 605/650 [00:20<00:01, 28.22it/s]"
     ]
    },
    {
     "name": "stdout",
     "output_type": "stream",
     "text": [
      "Phase 3 (d=10), Epoch 600, Train Loss: 0.984862646, Test Loss: 1.113954463, Accuracy: 0.4250\n"
     ]
    },
    {
     "name": "stderr",
     "output_type": "stream",
     "text": [
      "Training epochs (d=10): 100%|█████████████████| 650/650 [00:21<00:00, 29.57it/s]\n"
     ]
    },
    {
     "name": "stdout",
     "output_type": "stream",
     "text": [
      "Finished WBSNN experiment with d=10, Train Loss: 0.9210, Test Loss: 1.1140, Accuracy: 0.4475\n",
      "\n",
      "Final Results for d=10:\n",
      "   Model  Train Accuracy  Test Accuracy  Train Loss  Test Loss\n",
      "0  WBSNN        0.544375         0.4475    0.920971   1.113954\n",
      "\n",
      "=== RUN 9/10 for d=10 ===\n",
      "========== Running with seed = 8 ==========\n",
      "\n",
      "Running WBSNN experiment with d=10\n",
      "Best W weights: [0.8826379  0.8862178  0.8854947  0.8806158  0.8952691  0.89297867\n",
      " 0.88901323 0.8871364  0.8897883  0.88883954]\n",
      "Subsets D_k: 80 subsets, 160 points\n",
      "Delta: 1.2796\n",
      "Y_mean: 0.6568750143051147, Y_std: 0.2927824854850769\n",
      "Finished Phase 1\n",
      "Phase 2 (d=10): All norms of Y_i - J W^(L_i) X_i across all D_k are not zero (within 1e-06).\n",
      "Norm distribution: 6 norms in [0, 1e-6), 74 norms in [1e-6, 1), 0 norms in [1, 2), 0 norms in [2, 3), 0 norms >= 3\n",
      "Finished Phase 2\n"
     ]
    },
    {
     "name": "stderr",
     "output_type": "stream",
     "text": [
      "Training epochs (d=10):   1%|▏                  | 6/650 [00:00<00:22, 28.44it/s]"
     ]
    },
    {
     "name": "stdout",
     "output_type": "stream",
     "text": [
      "Phase 3 (d=10), Epoch 0, Train Loss: 4.721989129, Test Loss: 3.543707623, Accuracy: 0.2900\n"
     ]
    },
    {
     "name": "stderr",
     "output_type": "stream",
     "text": [
      "Training epochs (d=10):   8%|█▍                | 54/650 [00:01<00:20, 29.36it/s]"
     ]
    },
    {
     "name": "stdout",
     "output_type": "stream",
     "text": [
      "Phase 3 (d=10), Epoch 50, Train Loss: 1.172745904, Test Loss: 1.421325831, Accuracy: 0.4225\n"
     ]
    },
    {
     "name": "stderr",
     "output_type": "stream",
     "text": [
      "Training epochs (d=10):  16%|██▋              | 105/650 [00:03<00:18, 29.33it/s]"
     ]
    },
    {
     "name": "stdout",
     "output_type": "stream",
     "text": [
      "Phase 3 (d=10), Epoch 100, Train Loss: 1.036931857, Test Loss: 1.247736583, Accuracy: 0.4525\n"
     ]
    },
    {
     "name": "stderr",
     "output_type": "stream",
     "text": [
      "Training epochs (d=10):  24%|████             | 156/650 [00:05<00:16, 29.70it/s]"
     ]
    },
    {
     "name": "stdout",
     "output_type": "stream",
     "text": [
      "Phase 3 (d=10), Epoch 150, Train Loss: 1.017654347, Test Loss: 1.334039650, Accuracy: 0.4400\n"
     ]
    },
    {
     "name": "stderr",
     "output_type": "stream",
     "text": [
      "Training epochs (d=10):  32%|█████▎           | 205/650 [00:06<00:15, 29.44it/s]"
     ]
    },
    {
     "name": "stdout",
     "output_type": "stream",
     "text": [
      "Phase 3 (d=10), Epoch 200, Train Loss: 1.049236965, Test Loss: 1.406358614, Accuracy: 0.4375\n"
     ]
    },
    {
     "name": "stderr",
     "output_type": "stream",
     "text": [
      "Training epochs (d=10):  39%|██████▋          | 256/650 [00:08<00:13, 29.31it/s]"
     ]
    },
    {
     "name": "stdout",
     "output_type": "stream",
     "text": [
      "Phase 3 (d=10), Epoch 250, Train Loss: 0.992790388, Test Loss: 1.454775658, Accuracy: 0.4325\n"
     ]
    },
    {
     "name": "stderr",
     "output_type": "stream",
     "text": [
      "Training epochs (d=10):  47%|███████▉         | 305/650 [00:10<00:11, 29.39it/s]"
     ]
    },
    {
     "name": "stdout",
     "output_type": "stream",
     "text": [
      "Phase 3 (d=10), Epoch 300, Train Loss: 0.962897652, Test Loss: 1.473642359, Accuracy: 0.4475\n"
     ]
    },
    {
     "name": "stderr",
     "output_type": "stream",
     "text": [
      "Training epochs (d=10):  55%|█████████▎       | 356/650 [00:12<00:10, 29.25it/s]"
     ]
    },
    {
     "name": "stdout",
     "output_type": "stream",
     "text": [
      "Phase 3 (d=10), Epoch 350, Train Loss: 1.005310317, Test Loss: 1.513538537, Accuracy: 0.4425\n"
     ]
    },
    {
     "name": "stderr",
     "output_type": "stream",
     "text": [
      "Training epochs (d=10):  62%|██████████▌      | 404/650 [00:13<00:08, 29.27it/s]"
     ]
    },
    {
     "name": "stdout",
     "output_type": "stream",
     "text": [
      "Phase 3 (d=10), Epoch 400, Train Loss: 0.952236012, Test Loss: 1.552731619, Accuracy: 0.4325\n"
     ]
    },
    {
     "name": "stderr",
     "output_type": "stream",
     "text": [
      "Training epochs (d=10):  70%|███████████▉     | 455/650 [00:15<00:06, 29.33it/s]"
     ]
    },
    {
     "name": "stdout",
     "output_type": "stream",
     "text": [
      "Phase 3 (d=10), Epoch 450, Train Loss: 0.976301370, Test Loss: 1.548550272, Accuracy: 0.4150\n"
     ]
    },
    {
     "name": "stderr",
     "output_type": "stream",
     "text": [
      "Training epochs (d=10):  78%|█████████████▏   | 506/650 [00:17<00:04, 29.37it/s]"
     ]
    },
    {
     "name": "stdout",
     "output_type": "stream",
     "text": [
      "Phase 3 (d=10), Epoch 500, Train Loss: 0.938620895, Test Loss: 1.621286297, Accuracy: 0.4275\n"
     ]
    },
    {
     "name": "stderr",
     "output_type": "stream",
     "text": [
      "Training epochs (d=10):  85%|██████████████▍  | 554/650 [00:18<00:03, 29.49it/s]"
     ]
    },
    {
     "name": "stdout",
     "output_type": "stream",
     "text": [
      "Phase 3 (d=10), Epoch 550, Train Loss: 0.929289914, Test Loss: 1.571582875, Accuracy: 0.4425\n"
     ]
    },
    {
     "name": "stderr",
     "output_type": "stream",
     "text": [
      "Training epochs (d=10):  93%|███████████████▊ | 606/650 [00:20<00:01, 29.42it/s]"
     ]
    },
    {
     "name": "stdout",
     "output_type": "stream",
     "text": [
      "Phase 3 (d=10), Epoch 600, Train Loss: 0.973787713, Test Loss: 1.645141459, Accuracy: 0.4400\n"
     ]
    },
    {
     "name": "stderr",
     "output_type": "stream",
     "text": [
      "Training epochs (d=10): 100%|█████████████████| 650/650 [00:22<00:00, 29.49it/s]\n"
     ]
    },
    {
     "name": "stdout",
     "output_type": "stream",
     "text": [
      "Finished WBSNN experiment with d=10, Train Loss: 1.0576, Test Loss: 1.6451, Accuracy: 0.4525\n",
      "\n",
      "Final Results for d=10:\n",
      "   Model  Train Accuracy  Test Accuracy  Train Loss  Test Loss\n",
      "0  WBSNN        0.545625         0.4525    1.057563   1.645141\n",
      "\n",
      "=== RUN 10/10 for d=10 ===\n",
      "========== Running with seed = 9 ==========\n",
      "\n",
      "Running WBSNN experiment with d=10\n",
      "Best W weights: [0.89053744 0.8878652  0.8851397  0.87813216 0.89330155 0.88962716\n",
      " 0.89096737 0.8908053  0.88951695 0.8928568 ]\n",
      "Subsets D_k: 80 subsets, 160 points\n",
      "Delta: 1.3134\n",
      "Y_mean: 0.6564583778381348, Y_std: 0.29324257373809814\n",
      "Finished Phase 1\n",
      "Phase 2 (d=10): All norms of Y_i - J W^(L_i) X_i across all D_k are not zero (within 1e-06).\n",
      "Norm distribution: 4 norms in [0, 1e-6), 76 norms in [1e-6, 1), 0 norms in [1, 2), 0 norms in [2, 3), 0 norms >= 3\n",
      "Finished Phase 2\n"
     ]
    },
    {
     "name": "stderr",
     "output_type": "stream",
     "text": [
      "Training epochs (d=10):   0%|                   | 2/650 [00:00<00:44, 14.44it/s]"
     ]
    },
    {
     "name": "stdout",
     "output_type": "stream",
     "text": [
      "Phase 3 (d=10), Epoch 0, Train Loss: 4.699721878, Test Loss: 2.769616604, Accuracy: 0.3725\n"
     ]
    },
    {
     "name": "stderr",
     "output_type": "stream",
     "text": [
      "Training epochs (d=10):   8%|█▍                | 54/650 [00:02<00:24, 24.63it/s]"
     ]
    },
    {
     "name": "stdout",
     "output_type": "stream",
     "text": [
      "Phase 3 (d=10), Epoch 50, Train Loss: 1.195158403, Test Loss: 2.069927402, Accuracy: 0.4500\n"
     ]
    },
    {
     "name": "stderr",
     "output_type": "stream",
     "text": [
      "Training epochs (d=10):  16%|██▋              | 105/650 [00:04<00:20, 27.17it/s]"
     ]
    },
    {
     "name": "stdout",
     "output_type": "stream",
     "text": [
      "Phase 3 (d=10), Epoch 100, Train Loss: 1.066192808, Test Loss: 2.036912074, Accuracy: 0.4425\n"
     ]
    },
    {
     "name": "stderr",
     "output_type": "stream",
     "text": [
      "Training epochs (d=10):  24%|████             | 156/650 [00:06<00:17, 28.60it/s]"
     ]
    },
    {
     "name": "stdout",
     "output_type": "stream",
     "text": [
      "Phase 3 (d=10), Epoch 150, Train Loss: 1.023721482, Test Loss: 2.031265402, Accuracy: 0.4325\n"
     ]
    },
    {
     "name": "stderr",
     "output_type": "stream",
     "text": [
      "Training epochs (d=10):  31%|█████▎           | 204/650 [00:08<00:15, 28.79it/s]"
     ]
    },
    {
     "name": "stdout",
     "output_type": "stream",
     "text": [
      "Phase 3 (d=10), Epoch 200, Train Loss: 0.989896094, Test Loss: 2.212995062, Accuracy: 0.4550\n"
     ]
    },
    {
     "name": "stderr",
     "output_type": "stream",
     "text": [
      "Training epochs (d=10):  39%|██████▋          | 256/650 [00:10<00:13, 29.10it/s]"
     ]
    },
    {
     "name": "stdout",
     "output_type": "stream",
     "text": [
      "Phase 3 (d=10), Epoch 250, Train Loss: 0.977807255, Test Loss: 2.488178575, Accuracy: 0.4375\n"
     ]
    },
    {
     "name": "stderr",
     "output_type": "stream",
     "text": [
      "Training epochs (d=10):  47%|███████▉         | 304/650 [00:11<00:12, 28.46it/s]"
     ]
    },
    {
     "name": "stdout",
     "output_type": "stream",
     "text": [
      "Phase 3 (d=10), Epoch 300, Train Loss: 0.961481832, Test Loss: 2.677592373, Accuracy: 0.4400\n"
     ]
    },
    {
     "name": "stderr",
     "output_type": "stream",
     "text": [
      "Training epochs (d=10):  55%|█████████▎       | 356/650 [00:13<00:10, 28.80it/s]"
     ]
    },
    {
     "name": "stdout",
     "output_type": "stream",
     "text": [
      "Phase 3 (d=10), Epoch 350, Train Loss: 0.955634382, Test Loss: 2.814099622, Accuracy: 0.4475\n"
     ]
    },
    {
     "name": "stderr",
     "output_type": "stream",
     "text": [
      "Training epochs (d=10):  62%|██████████▌      | 404/650 [00:15<00:08, 28.83it/s]"
     ]
    },
    {
     "name": "stdout",
     "output_type": "stream",
     "text": [
      "Phase 3 (d=10), Epoch 400, Train Loss: 0.963618888, Test Loss: 2.989915755, Accuracy: 0.4600\n"
     ]
    },
    {
     "name": "stderr",
     "output_type": "stream",
     "text": [
      "Training epochs (d=10):  70%|███████████▊     | 454/650 [00:16<00:06, 28.66it/s]"
     ]
    },
    {
     "name": "stdout",
     "output_type": "stream",
     "text": [
      "Phase 3 (d=10), Epoch 450, Train Loss: 0.968170022, Test Loss: 3.013459146, Accuracy: 0.4525\n"
     ]
    },
    {
     "name": "stderr",
     "output_type": "stream",
     "text": [
      "Training epochs (d=10):  78%|█████████████▏   | 505/650 [00:18<00:05, 28.50it/s]"
     ]
    },
    {
     "name": "stdout",
     "output_type": "stream",
     "text": [
      "Phase 3 (d=10), Epoch 500, Train Loss: 0.940798948, Test Loss: 3.200012388, Accuracy: 0.4525\n"
     ]
    },
    {
     "name": "stderr",
     "output_type": "stream",
     "text": [
      "Training epochs (d=10):  85%|██████████████▌  | 555/650 [00:20<00:03, 29.03it/s]"
     ]
    },
    {
     "name": "stdout",
     "output_type": "stream",
     "text": [
      "Phase 3 (d=10), Epoch 550, Train Loss: 0.944712977, Test Loss: 3.338389540, Accuracy: 0.4450\n"
     ]
    },
    {
     "name": "stderr",
     "output_type": "stream",
     "text": [
      "Training epochs (d=10):  93%|███████████████▊ | 604/650 [00:22<00:01, 29.14it/s]"
     ]
    },
    {
     "name": "stdout",
     "output_type": "stream",
     "text": [
      "Phase 3 (d=10), Epoch 600, Train Loss: 0.930047108, Test Loss: 3.343168783, Accuracy: 0.4450\n"
     ]
    },
    {
     "name": "stderr",
     "output_type": "stream",
     "text": [
      "Training epochs (d=10): 100%|█████████████████| 650/650 [00:23<00:00, 27.37it/s]"
     ]
    },
    {
     "name": "stdout",
     "output_type": "stream",
     "text": [
      "Finished WBSNN experiment with d=10, Train Loss: 0.9326, Test Loss: 3.3432, Accuracy: 0.4325\n",
      "\n",
      "Final Results for d=10:\n",
      "   Model  Train Accuracy  Test Accuracy  Train Loss  Test Loss\n",
      "0  WBSNN         0.53625         0.4325    0.932583   3.343169\n",
      "\n",
      "========== Error Bar Summary ==========\n",
      "Mean Test Accuracy: 0.4375\n",
      "Std Dev: 0.0138\n",
      "\n",
      "WBSNN (FI-2010, d=10) — Accuracy: 43.75% ± 1.38%\n",
      "\n",
      "LaTeX-ready: WBSNN (FI-2010, $d=10$): 43.75% $\\pm$ 1.38%\n"
     ]
    },
    {
     "name": "stderr",
     "output_type": "stream",
     "text": [
      "\n"
     ]
    }
   ],
   "source": [
    "import numpy as np\n",
    "import torch\n",
    "import torch.nn as nn\n",
    "import torch.optim as optim\n",
    "from torch.utils.data import TensorDataset, DataLoader\n",
    "from sklearn.preprocessing import StandardScaler\n",
    "from sklearn.decomposition import PCA\n",
    "from sklearn.linear_model import LogisticRegression\n",
    "from sklearn.ensemble import RandomForestClassifier\n",
    "from sklearn.svm import SVC\n",
    "from sklearn.neural_network import MLPClassifier\n",
    "from sklearn.metrics import accuracy_score, log_loss\n",
    "from tqdm import tqdm\n",
    "import pandas as pd\n",
    "import urllib.request\n",
    "import pickle\n",
    "\n",
    "def set_all_seeds(seed):\n",
    "    import random\n",
    "    random.seed(seed)\n",
    "    np.random.seed(seed)\n",
    "    torch.manual_seed(seed)\n",
    "    torch.cuda.manual_seed_all(seed)\n",
    "    torch.use_deterministic_algorithms(True)\n",
    "    torch.backends.cudnn.deterministic = True\n",
    "    torch.backends.cudnn.benchmark = False\n",
    "DEVICE = torch.device(\"cpu\")\n",
    "\n",
    "\n",
    "# Placeholder URL for FI-2010 dataset (replace with actual URL if available)\n",
    "#DATA_URL = \"https://example.com/fi2010_data.csv\"  # Update with GitHub/Mendeley link\n",
    "#try:\n",
    "#    urllib.request.urlretrieve(DATA_URL, \"fi2010_data.csv\")\n",
    "#except Exception as e:\n",
    " #   print(f\"Failed to download FI-2010 dataset: {e}\")\n",
    "#    print(\"Please download the dataset manually from a public repository (e.g., Mendeley Data) and place 'fi2010_data.csv' in the working directory.\")\n",
    "#    raise FileNotFoundError(\"FI-2010 dataset not found.\")\n",
    "\n",
    "# Load FI-2010 data (assuming CSV with 40 features and 3-class labels for 10-tick horizon)\n",
    "data = pd.read_csv('FI2010_train.csv')\n",
    "X_full = data.iloc[:, :-1].values  # 40 features (bid/ask prices and volumes)\n",
    "Y_full = data.iloc[:, -1].values  # Labels (0: up, 1: down, 2: stationary)\n",
    "\n",
    "# Select 2000 samples\n",
    "np.random.seed(4)\n",
    "n_samples = 2000\n",
    "indices = np.random.choice(len(X_full), n_samples, replace=False)\n",
    "X_full = X_full[indices]\n",
    "Y_full = Y_full[indices].astype(int)\n",
    "\n",
    "def run_experiment(d, X_full, Y_full):\n",
    "    # Determine number of classes from labels\n",
    "    num_classes = int(Y_full.max() + 1)\n",
    "\n",
    "    # Reduce dimensionality with PCA\n",
    "    pca = PCA(n_components=d)\n",
    "    X = pca.fit_transform(X_full)\n",
    "\n",
    "    # Normalize features\n",
    "    scaler = StandardScaler()\n",
    "    X = scaler.fit_transform(X)\n",
    "\n",
    "    # Split into train (80%) and test (20%)\n",
    "    n_samples = len(X)\n",
    "    train_size = int(0.8 * n_samples)\n",
    "    test_size = n_samples - train_size\n",
    "    train_idx = np.random.choice(n_samples, train_size, replace=False)\n",
    "    test_idx = np.setdiff1d(np.arange(n_samples), train_idx)\n",
    "    X_train = X[train_idx]\n",
    "    X_test = X[test_idx]\n",
    "    Y_train = Y_full[train_idx]\n",
    "    Y_test = Y_full[test_idx]\n",
    "\n",
    "    # Convert to tensors\n",
    "    X_train = torch.tensor(X_train, dtype=torch.float32).to(DEVICE)\n",
    "    X_test = torch.tensor(X_test, dtype=torch.float32).to(DEVICE)\n",
    "    Y_train_normalized = torch.tensor(Y_train / (num_classes - 1), dtype=torch.float32).to(DEVICE)\n",
    "    Y_test_normalized = torch.tensor(Y_test / (num_classes - 1), dtype=torch.float32).to(DEVICE)\n",
    "    Y_train = torch.tensor(Y_train, dtype=torch.long).to(DEVICE)\n",
    "    Y_test = torch.tensor(Y_test, dtype=torch.long).to(DEVICE)\n",
    "\n",
    "    # One-hot encode labels for Phase 2\n",
    "    M_train, M_test = train_size, test_size\n",
    "    Y_train_onehot = torch.zeros(M_train, num_classes).scatter_(1, Y_train.reshape(-1, 1), 1).to(DEVICE)\n",
    "    Y_test_onehot = torch.zeros(M_test, num_classes).scatter_(1, Y_test.reshape(-1, 1), 1).to(DEVICE)\n",
    "\n",
    "\n",
    "\n",
    "\n",
    "\n",
    "\n",
    "    def apply_WL(w, X_i, L, d):\n",
    "        assert X_i.ndim == 1 and X_i.shape[0] == d\n",
    "        X_ext = torch.cat([X_i, X_i[:L]])\n",
    "        result = torch.zeros(d)\n",
    "        for i in range(d):\n",
    "            prod = 1.0\n",
    "            for k in range(L):\n",
    "                prod *= w[(i + k) % d]\n",
    "            result[i] = prod * X_ext[i + L-1]\n",
    "        return result\n",
    "\n",
    "\n",
    "    def is_independent(W_L_X, span_vecs, thresh):\n",
    "        if not span_vecs:\n",
    "            return True\n",
    "        A = torch.stack(span_vecs)\n",
    "        try:\n",
    "            coeffs = torch.linalg.lstsq(A.mT, W_L_X.mT).solution\n",
    "            proj = (coeffs.mT @ A).view(1, -1)\n",
    "            residual = W_L_X.view(1, -1) - proj\n",
    "            return torch.linalg.norm(residual).item() > thresh\n",
    "        except:\n",
    "            return True\n",
    "\n",
    "    def compute_delta(w, Dk, X, Y, d, lambda_smooth=0.0):\n",
    "        delta = 0.0\n",
    "        W_L_X_cache = {}\n",
    "        for i in range(X.size(0)):\n",
    "            best = float('inf')\n",
    "            for L in range(d):\n",
    "                cache_key = (i, L)\n",
    "                if cache_key not in W_L_X_cache:\n",
    "                    W_L_X_cache[cache_key] = apply_WL(w, X[i], L, d)\n",
    "                out = W_L_X_cache[cache_key]\n",
    "                pred = torch.tanh(out.sum())\n",
    "                error = abs(Y[i] - pred).item()\n",
    "                best = min(best, error)\n",
    "            delta += best ** 2\n",
    "        return delta / X.size(0)\n",
    "\n",
    "    def compute_delta_gradient(w, Dk, X, Y, d):\n",
    "        grad = torch.zeros_like(w)\n",
    "        W_L_X_cache = {}\n",
    "        for i in range(X.size(0)):\n",
    "            best_L = 0\n",
    "            best_norm = float('inf')\n",
    "            for L in range(d):\n",
    "                cache_key = (i, L)\n",
    "                if cache_key not in W_L_X_cache:\n",
    "                    W_L_X_cache[cache_key] = apply_WL(w, X[i], L, d)\n",
    "                out = W_L_X_cache[cache_key]\n",
    "                pred = torch.tanh(out.sum())\n",
    "                error = abs(Y[i] - pred).item()\n",
    "                if error < best_norm:\n",
    "                    best_L = L\n",
    "                    best_norm = error\n",
    "            out = W_L_X_cache[(i, best_L)]\n",
    "            pred = torch.tanh(out.sum())\n",
    "            err = Y[i] - pred\n",
    "            for l in range(best_L):\n",
    "                cache_key = (i, l)\n",
    "                if cache_key not in W_L_X_cache:\n",
    "                    W_L_X_cache[cache_key] = apply_WL(w, X[i], l, d)\n",
    "                shifted = W_L_X_cache[cache_key]\n",
    "                for j in range(d):\n",
    "                    g = shifted[d - 1] if j == 0 else shifted[j - 1]\n",
    "                    grad[j] += -2 * err * g * (1 - pred**2)\n",
    "        return grad / X.size(0)\n",
    "\n",
    "    def phase_1(X, Y, d, thresh=0.1, optimize_w=True):\n",
    "        w = torch.ones(d, requires_grad=True)\n",
    "        subset_size = max(50, X.size(0) // 10)  # 10% of samples, min 50\n",
    "        subset_idx = np.random.choice(X.size(0), subset_size, replace=False)\n",
    "        X_subset = X[subset_idx]\n",
    "        Y_subset = Y[subset_idx]\n",
    "        fixed_delta = compute_delta(w, [], X_subset, Y_subset, d)\n",
    "        \n",
    "        if optimize_w:\n",
    "            optimizer = optim.Adam([w], lr=0.001)\n",
    "            for epoch in range(100):\n",
    "                optimizer.zero_grad()\n",
    "                grad = compute_delta_gradient(w, [], X_subset, Y_subset, d)\n",
    "                w.grad = grad\n",
    "                optimizer.step()\n",
    "\n",
    "        w = w.detach()\n",
    "        \n",
    "        Dk, R = [], list(range(X_subset.size(0)))\n",
    "        np.random.shuffle(R)\n",
    "        while R:\n",
    "            subset, span_vecs = [], []\n",
    "            for j in R[:]:\n",
    "                best_L = min(range(d), key=lambda L: abs(torch.tanh(apply_WL(w, X_subset[j], L, d).sum()).item() - Y_subset[j].item()))\n",
    "                out = apply_WL(w, X_subset[j], best_L, d)[0]\n",
    "                if is_independent(out, span_vecs, thresh) and len(subset) < 2:\n",
    "                    subset.append((subset_idx[j], best_L))  # Store original indices\n",
    "                    span_vecs.append(out)\n",
    "                    R.remove(j)\n",
    "            if subset:\n",
    "                Dk.append(subset)\n",
    "            else:\n",
    "                break\n",
    "\n",
    "\n",
    "\n",
    "        num_subsets = len(Dk)\n",
    "        num_points = sum(len(dk) for dk in Dk)\n",
    "        Y_mean = Y.mean().detach().item()\n",
    "        Y_std = Y.std().detach().item()\n",
    "        print(f\"Best W weights: {w.cpu().numpy()}\")\n",
    "        print(f\"Subsets D_k: {num_subsets} subsets, {num_points} points\")\n",
    "        print(f\"Delta: {fixed_delta:.4f}\")\n",
    "        print(f\"Y_mean: {Y_mean}, Y_std: {Y_std}\")\n",
    "        print(\"Finished Phase 1\")\n",
    "\n",
    "\n",
    "\n",
    "        \n",
    "        return w, Dk\n",
    "\n",
    "    def phase_2(w, Dk, X, Y_onehot, d):\n",
    "        J_list = []\n",
    "        norms_list = []\n",
    "        tolerance = 1e-6\n",
    "        for subset in Dk:\n",
    "            A = torch.stack([apply_WL(w, X[i], L, d) for i, L in subset])  # Shape: [n_points, d]\n",
    "            B = torch.stack([Y_onehot[i] for i, _ in subset])  # Shape: [n_points, 3]\n",
    "            A_t_A = A.T @ A + 1e-6 * torch.eye(d, device=A.device)  # Regularized normal equation\n",
    "            A_t_B = A.T @ B\n",
    "\n",
    "            J = torch.linalg.pinv(A_t_A) @ A_t_B.to(dtype=torch.float32)\n",
    "\n",
    "            J_list.append(J)\n",
    "            norm = torch.norm(A @ J - B).detach().item()\n",
    "            norms_list.append(norm)\n",
    "        all_within_tolerance = all(norm < tolerance for norm in norms_list)\n",
    "        print(f\"Phase 2 (d={d}): All norms of Y_i - J W^(L_i) X_i across all D_k are {'zero' if all_within_tolerance else 'not zero'} (within {tolerance}).\")\n",
    "        \n",
    "        if not all_within_tolerance:\n",
    "            range_below_tolerance = sum(1 for norm in norms_list if 0 <= norm < 1e-6)\n",
    "            range_1e6_to_1 = sum(1 for norm in norms_list if 1e-6 <= norm < 1)\n",
    "            range_1_to_2 = sum(1 for norm in norms_list if 1 <= norm < 2)\n",
    "            range_2_to_3 = sum(1 for norm in norms_list if 2 <= norm < 3)\n",
    "            range_3_and_above = sum(1 for norm in norms_list if norm >= 3)\n",
    "            print(f\"Norm distribution: {range_below_tolerance} norms in [0, 1e-6), {range_1e6_to_1} norms in [1e-6, 1), {range_1_to_2} norms in [1, 2), {range_2_to_3} norms in [2, 3), {range_3_and_above} norms >= 3\")\n",
    "        \n",
    "        print(\"Finished Phase 2\")\n",
    "      \n",
    "        return J_list\n",
    "\n",
    "\n",
    "    import torch.nn as nn\n",
    "\n",
    "    class WBSNN(nn.Module):\n",
    "        def __init__(self, input_dim, K, M, num_classes=3, d_value=None):\n",
    "            super(WBSNN, self).__init__()\n",
    "            self.d = input_dim\n",
    "            self.K = K\n",
    "            self.M = M\n",
    "            self.d_value = d_value\n",
    "\n",
    "            if self.d_value == 10:\n",
    "                self.fc1 = nn.Linear(input_dim, 64)\n",
    "                self.fc2 = nn.Linear(64, 32)\n",
    "                self.fc3 = nn.Linear(32, K * M)\n",
    "            else:\n",
    "                self.fc1 = nn.Linear(input_dim, 128)\n",
    "                self.fc2 = nn.Linear(128, 64)\n",
    "                self.fc3 = nn.Linear(64, 32)\n",
    "                self.fc4 = nn.Linear(32, K * M)     # output layer\n",
    "\n",
    "            self.relu = nn.ReLU()\n",
    "            self.dropout = nn.Dropout(0.3) \n",
    "\n",
    "        def forward(self, x):\n",
    "            out = self.relu(self.fc1(x))\n",
    "            out = self.dropout(out)\n",
    "            out = self.relu(self.fc2(out))\n",
    "            out = self.dropout(out)\n",
    "            if self.d_value == 10:\n",
    "                out = self.fc3(out)\n",
    "            else:\n",
    "                out = self.relu(self.fc3(out))\n",
    "                out = self.dropout(out)\n",
    "                out = self.relu(self.fc4(out))\n",
    "                out = self.dropout(out)\n",
    "            out = out.view(-1, self.K, self.M)  # Shape: [batch_size, K, M]\n",
    "            return out\n",
    "\n",
    "    \n",
    "\n",
    "    def phase_3_alpha_km(best_w, J_k_list, Dk, X_train, Y_train, X_test, Y_test, d, suppress_print=False):\n",
    "        K = len(J_k_list)\n",
    "        M = d\n",
    "        X_train_torch = X_train.clone().detach().to(DEVICE)\n",
    "        Y_train_torch = Y_train.clone().detach().to(DEVICE)\n",
    "        X_test_torch = X_test.clone().detach().to(DEVICE)\n",
    "        Y_test_torch = Y_test.clone().detach().to(DEVICE)\n",
    "        J_k_torch = torch.stack(J_k_list).to(DEVICE)  # Shape: [K, d, 3]\n",
    "\n",
    "        # Compute orbits W^{(m)} X_i for training\n",
    "        W_m_X_train = []\n",
    "        for i in range(len(X_train_torch)):\n",
    "            W_m_features = []\n",
    "            current = X_train_torch[i]\n",
    "            for m in range(M):\n",
    "                W_m_features.append(current)\n",
    "                shifted = torch.zeros_like(current)\n",
    "                for j in range(d):\n",
    "                    shifted[j] = best_w[j] * current[j - 1] if j > 0 else best_w[j] * current[d - 1]\n",
    "                current = shifted\n",
    "            W_m_features = torch.stack(W_m_features)  # Shape: [M, d]\n",
    "            W_m_X_train.append(W_m_features)\n",
    "        W_m_X_train = torch.stack(W_m_X_train)  # Shape: [n_train, M, d]\n",
    "\n",
    "        # Compute J_k W^{(m)} X_i for training\n",
    "        W_m_JkX_train = []\n",
    "        for i in range(len(X_train_torch)):\n",
    "            features = []\n",
    "            for k in range(K):\n",
    "                J_k = J_k_torch[k]  # Shape: [d, 3]\n",
    "                W_m_features = W_m_X_train[i]  # Shape: [M, d]\n",
    "                weighted = W_m_features @ J_k  # Shape: [M, 3]\n",
    "                features.append(weighted)\n",
    "            features = torch.stack(features)  # Shape: [K, M, 3]\n",
    "            W_m_JkX_train.append(features)\n",
    "        W_m_JkX_train = torch.stack(W_m_JkX_train)  # Shape: [n_train, K, M, 3]\n",
    "\n",
    "        # Compute orbits W^{(m)} X_i for testing\n",
    "        W_m_X_test = []\n",
    "        for i in range(len(X_test_torch)):\n",
    "            W_m_features = []\n",
    "            current = X_test_torch[i]\n",
    "            for m in range(M):\n",
    "                W_m_features.append(current)\n",
    "                shifted = torch.zeros_like(current)\n",
    "                for j in range(d):\n",
    "                    shifted[j] = best_w[j] * current[j - 1] if j > 0 else best_w[j] * current[d - 1]\n",
    "                current = shifted\n",
    "            W_m_features = torch.stack(W_m_features)\n",
    "            W_m_X_test.append(W_m_features)\n",
    "        W_m_X_test = torch.stack(W_m_X_test)  # Shape: [n_test, M, d]\n",
    "\n",
    "        # Compute J_k W^{(m)} X_i for testing\n",
    "        W_m_JkX_test = []\n",
    "        for i in range(len(X_test_torch)):\n",
    "            features = []\n",
    "            for k in range(K):\n",
    "                J_k = J_k_torch[k]\n",
    "                W_m_features = W_m_X_test[i]\n",
    "                weighted = W_m_features @ J_k\n",
    "                features.append(weighted)\n",
    "            features = torch.stack(features)  # Shape: [K, M, 3]\n",
    "            W_m_JkX_test.append(features)\n",
    "        W_m_JkX_test = torch.stack(W_m_JkX_test)  # Shape: [n_test, K, M, 3]\n",
    "\n",
    "        # Prepare datasets\n",
    "        train_dataset = TensorDataset(X_train_torch, W_m_JkX_train, Y_train_torch)\n",
    "        test_dataset = TensorDataset(X_test_torch, W_m_JkX_test, Y_test_torch)\n",
    "        g = torch.Generator()\n",
    "        g.manual_seed(4)\n",
    "        train_loader = DataLoader(train_dataset, batch_size=32, shuffle=True, generator=g)\n",
    "        test_loader = DataLoader(test_dataset, batch_size=32, shuffle=False)\n",
    "\n",
    "        # Initialize model\n",
    "        model = WBSNN(d, K, M, num_classes=3, d_value=d).to(DEVICE)\n",
    "        optimizer = optim.Adam(model.parameters(), lr=0.0001, weight_decay=0.0005)\n",
    "#        scheduler = optim.lr_scheduler.StepLR(optimizer, step_size=800, gamma=0.5)\n",
    "        scheduler = optim.lr_scheduler.StepLR(optimizer, step_size=400, gamma=0.5)\n",
    "\n",
    "        criterion = nn.CrossEntropyLoss()\n",
    "        epochs = 650 if d <= 10 else 650 if d <= 20 else 500\n",
    "\n",
    "\n",
    "        patience = 30\n",
    "        best_test_loss = float('inf')\n",
    "        best_accuracy = 0.0\n",
    "        patience_counter = 0\n",
    "\n",
    "        for epoch in tqdm(range(epochs), desc=f\"Training epochs (d={d})\"):\n",
    "            model.train()\n",
    "            train_loss = 0\n",
    "            for batch_inputs, batch_W_m, batch_targets in train_loader:\n",
    "                optimizer.zero_grad()\n",
    "                alpha_km = model(batch_inputs)  # Shape: [batch_size, K, M]\n",
    "                batch_size = batch_inputs.size(0)\n",
    "                weighted_sum = torch.einsum('bkm,bkmt->bt', alpha_km, batch_W_m)  # Shape: [batch_size, 3]\n",
    "                outputs = weighted_sum  # Shape: [batch_size, 3]\n",
    "                loss = criterion(outputs, batch_targets)\n",
    "                train_loss += loss.item() * batch_inputs.size(0)\n",
    "                loss.backward()\n",
    "                torch.nn.utils.clip_grad_norm_(model.parameters(), max_norm=0.5)\n",
    "                optimizer.step()\n",
    "            train_loss /= len(train_loader.dataset)\n",
    "\n",
    "            if epoch % 50 == 0 or (patience_counter >= patience):\n",
    "                model.eval()\n",
    "                test_loss = 0\n",
    "                correct = 0\n",
    "                total = 0\n",
    "                with torch.no_grad():\n",
    "                    for batch_inputs, batch_W_m, batch_targets in test_loader:\n",
    "                        alpha_km = model(batch_inputs)\n",
    "                        batch_size = batch_inputs.size(0)\n",
    "                        weighted_sum = torch.einsum('bkm,bkmt->bt', alpha_km, batch_W_m)\n",
    "                        outputs = weighted_sum\n",
    "                        test_loss += criterion(outputs, batch_targets).item() * batch_inputs.size(0)\n",
    "                        preds = outputs.argmax(dim=1)\n",
    "                        correct += (preds == batch_targets).sum().item()\n",
    "                        total += batch_targets.size(0)\n",
    "                test_loss /= len(test_loader.dataset)\n",
    "                accuracy = correct / total\n",
    "                scheduler.step()\n",
    "\n",
    "                if not suppress_print:\n",
    "                    print(f\"Phase 3 (d={d}), Epoch {epoch}, Train Loss: {train_loss:.9f}, Test Loss: {test_loss:.9f}, Accuracy: {accuracy:.4f}\")\n",
    "\n",
    "                if test_loss < best_test_loss:\n",
    "                    best_test_loss = test_loss\n",
    "                    best_accuracy = accuracy\n",
    "                    patience_counter = 0\n",
    "                else:\n",
    "                    patience_counter += 1\n",
    "                    if patience_counter >= patience:\n",
    "                        print(f\"Phase 3 (d={d}), Early stopping at epoch {epoch}, Train Loss: {train_loss:.9f}, Test Loss: {best_test_loss:.9f}, Accuracy: {best_accuracy:.4f}\")\n",
    "                        break\n",
    "\n",
    "        train_correct = 0\n",
    "        train_total = 0\n",
    "        with torch.no_grad():\n",
    "            for batch_inputs, batch_W_m, batch_targets in train_loader:\n",
    "                alpha_km = model(batch_inputs)\n",
    "                batch_size = batch_inputs.size(0)\n",
    "                weighted_sum = torch.einsum('bkm,bkmt->bt', alpha_km, batch_W_m)\n",
    "                outputs = weighted_sum\n",
    "                preds = outputs.argmax(dim=1)\n",
    "                train_correct += (preds == batch_targets).sum().item()\n",
    "                train_total += batch_targets.size(0)\n",
    "        train_accuracy = train_correct / train_total\n",
    "\n",
    "        return train_accuracy, best_accuracy, train_loss, test_loss\n",
    "\n",
    "    def evaluate_classical(name, model, support_proba=False):\n",
    "        try:\n",
    "            model.fit(X_train.cpu().numpy(), Y_train.cpu().numpy())\n",
    "            y_pred_train = model.predict(X_train.cpu().numpy())\n",
    "            y_pred_test = model.predict(X_test.cpu().numpy())\n",
    "            acc_train = accuracy_score(Y_train.cpu().numpy(), y_pred_train)\n",
    "            acc_test = accuracy_score(Y_test.cpu().numpy(), y_pred_test)\n",
    "\n",
    "            if support_proba:\n",
    "                loss_train = log_loss(Y_train.cpu().numpy(), model.predict_proba(X_train.cpu().numpy()))\n",
    "                loss_test = log_loss(Y_test.cpu().numpy(), model.predict_proba(X_test.cpu().numpy()))\n",
    "            else:\n",
    "                loss_train = loss_test = float('nan')\n",
    "        except ValueError:\n",
    "            acc_train = acc_test = loss_train = loss_test = float('nan')\n",
    "\n",
    "        return [name, acc_train, acc_test, loss_train, loss_test]\n",
    "\n",
    "    print(f\"\\nRunning WBSNN experiment with d={d}\")\n",
    "    best_w, best_Dk = phase_1(X_train, Y_train_normalized, d, 0.1, optimize_w=True)\n",
    "    J_k_list = phase_2(best_w, best_Dk, X_train, Y_train_onehot, d)\n",
    "    train_acc, test_acc, train_loss, test_loss = phase_3_alpha_km(\n",
    "        best_w, J_k_list, best_Dk, X_train, Y_train, X_test, Y_test, d\n",
    "    )\n",
    "    print(f\"Finished WBSNN experiment with d={d}, Train Loss: {train_loss:.4f}, Test Loss: {test_loss:.4f}, Accuracy: {test_acc:.4f}\")\n",
    "\n",
    "    results = []\n",
    "    results.append([\"WBSNN\", train_acc, test_acc, train_loss, test_loss])\n",
    "#    results.append(evaluate_classical(\"Logistic Regression\", LogisticRegression(max_iter=1000), support_proba=True))\n",
    "#    results.append(evaluate_classical(\"Random Forest\", RandomForestClassifier(n_estimators=100), support_proba=True))\n",
    "#    results.append(evaluate_classical(\"SVM (RBF)\", SVC(kernel='rbf', probability=True), support_proba=True))\n",
    "#    results.append(evaluate_classical(\"MLP (1 hidden layer)\", MLPClassifier(hidden_layer_sizes=(64,), max_iter=650), support_proba=True))\n",
    "\n",
    "    df = pd.DataFrame(results, columns=[\"Model\", \"Train Accuracy\", \"Test Accuracy\", \"Train Loss\", \"Test Loss\"])\n",
    "    print(f\"\\nFinal Results for d={d}:\")\n",
    "    print(df)\n",
    "    return results\n",
    "\n",
    "# Run experiments\n",
    "#print(\"\\nExperiment with d=10\")\n",
    "#results_d10 = run_experiment(10, X_full, Y_full)\n",
    "#print(\"\\nExperiment with d=20\")\n",
    "#results_d20 = run_experiment(20, X_full, Y_full)\n",
    "\n",
    "\n",
    "d = 10  # or 20\n",
    "all_test_accuracies = []\n",
    "n_runs = 10\n",
    "\n",
    "for seed in range(n_runs):\n",
    "    print(f\"\\n=== RUN {seed+1}/{n_runs} for d={d} ===\")\n",
    "    print(f\"========== Running with seed = {seed} ==========\")\n",
    "    torch.manual_seed(seed)\n",
    "    np.random.seed(seed)\n",
    "    results = run_experiment(d, X_full, Y_full)\n",
    "    test_acc = results[0][2]  # WBSNN's Test Accuracy\n",
    "    all_test_accuracies.append(test_acc)\n",
    "\n",
    "all_test_accuracies = np.array(all_test_accuracies)\n",
    "mean = np.mean(all_test_accuracies)\n",
    "std = np.std(all_test_accuracies)\n",
    "\n",
    "print(\"\\n========== Error Bar Summary ==========\")\n",
    "print(f\"Mean Test Accuracy: {mean:.4f}\")\n",
    "print(f\"Std Dev: {std:.4f}\")\n",
    "print(f\"\\nWBSNN (FI-2010, d={d}) — Accuracy: {mean:.2%} ± {std:.2%}\")\n",
    "print(f\"\\nLaTeX-ready: WBSNN (FI-2010, $d={d}$): {mean:.2%} $\\\\pm$ {std:.2%}\")\n"
   ]
  },
  {
   "cell_type": "markdown",
   "id": "b5e45cd0-970d-409a-998a-d17d22d5b9b9",
   "metadata": {},
   "source": [
    "**Ablation Study on Orbit Coefficients: Generalizing with $\\alpha_k$ on $d=10$ (Run 70) and $d=20$ (Run 71)**"
   ]
  },
  {
   "cell_type": "code",
   "execution_count": 13,
   "id": "bc189691-4993-4358-876a-fdceb33011b7",
   "metadata": {},
   "outputs": [
    {
     "name": "stdout",
     "output_type": "stream",
     "text": [
      "\n",
      "Experiment with d=10\n",
      "\n",
      "Running WBSNN experiment with d=10\n",
      "Best W weights: [0.8810142  0.8829763  0.8837997  0.88296217 0.8906474  0.8900355\n",
      " 0.8885621  0.89083064 0.88747036 0.88640785]\n",
      "Subsets D_k: 80 subsets, 160 points\n",
      "Delta: 1.3652\n",
      "Y_mean: 0.6568750143051147, Y_std: 0.29206961393356323\n",
      "Finished Phase 1\n",
      "Phase 2 (d=10): All norms of Y_i - J W^(L_i) X_i across all D_k are not zero (within 1e-06).\n",
      "Norm distribution: 13 norms in [0, 1e-6), 67 norms in [1e-6, 1), 0 norms in [1, 2), 0 norms in [2, 3), 0 norms >= 3\n",
      "Finished Phase 2\n"
     ]
    },
    {
     "name": "stderr",
     "output_type": "stream",
     "text": [
      "Training epochs (d=10):   1%|                   | 4/650 [00:00<00:19, 32.34it/s]"
     ]
    },
    {
     "name": "stdout",
     "output_type": "stream",
     "text": [
      "Phase 3 (alpha_k, d=10), Epoch 0, Train Loss: 4.623170176, Test Loss: 3.471204319, Accuracy: 0.2350\n"
     ]
    },
    {
     "name": "stderr",
     "output_type": "stream",
     "text": [
      "Training epochs (d=10):   4%|▋                 | 24/650 [00:00<00:19, 31.68it/s]"
     ]
    },
    {
     "name": "stdout",
     "output_type": "stream",
     "text": [
      "Phase 3 (alpha_k, d=10), Epoch 20, Train Loss: 1.808509910, Test Loss: 1.608529720, Accuracy: 0.3875\n"
     ]
    },
    {
     "name": "stderr",
     "output_type": "stream",
     "text": [
      "Training epochs (d=10):   7%|█▏                | 44/650 [00:01<00:18, 32.35it/s]"
     ]
    },
    {
     "name": "stdout",
     "output_type": "stream",
     "text": [
      "Phase 3 (alpha_k, d=10), Epoch 40, Train Loss: 1.325136743, Test Loss: 1.319405050, Accuracy: 0.3900\n"
     ]
    },
    {
     "name": "stderr",
     "output_type": "stream",
     "text": [
      "Training epochs (d=10):  10%|█▊                | 64/650 [00:01<00:18, 32.34it/s]"
     ]
    },
    {
     "name": "stdout",
     "output_type": "stream",
     "text": [
      "Phase 3 (alpha_k, d=10), Epoch 60, Train Loss: 1.303263770, Test Loss: 1.247134328, Accuracy: 0.4000\n"
     ]
    },
    {
     "name": "stderr",
     "output_type": "stream",
     "text": [
      "Training epochs (d=10):  13%|██▎               | 84/650 [00:02<00:17, 32.20it/s]"
     ]
    },
    {
     "name": "stdout",
     "output_type": "stream",
     "text": [
      "Phase 3 (alpha_k, d=10), Epoch 80, Train Loss: 1.194006853, Test Loss: 1.205454698, Accuracy: 0.4075\n"
     ]
    },
    {
     "name": "stderr",
     "output_type": "stream",
     "text": [
      "Training epochs (d=10):  16%|██▋              | 104/650 [00:03<00:16, 32.41it/s]"
     ]
    },
    {
     "name": "stdout",
     "output_type": "stream",
     "text": [
      "Phase 3 (alpha_k, d=10), Epoch 100, Train Loss: 1.136022519, Test Loss: 1.221236739, Accuracy: 0.4175\n"
     ]
    },
    {
     "name": "stderr",
     "output_type": "stream",
     "text": [
      "Training epochs (d=10):  19%|███▏             | 124/650 [00:03<00:16, 32.33it/s]"
     ]
    },
    {
     "name": "stdout",
     "output_type": "stream",
     "text": [
      "Phase 3 (alpha_k, d=10), Epoch 120, Train Loss: 1.194373165, Test Loss: 1.215068064, Accuracy: 0.4450\n"
     ]
    },
    {
     "name": "stderr",
     "output_type": "stream",
     "text": [
      "Training epochs (d=10):  22%|███▊             | 144/650 [00:04<00:15, 32.12it/s]"
     ]
    },
    {
     "name": "stdout",
     "output_type": "stream",
     "text": [
      "Phase 3 (alpha_k, d=10), Epoch 140, Train Loss: 1.084014716, Test Loss: 1.179421811, Accuracy: 0.4175\n"
     ]
    },
    {
     "name": "stderr",
     "output_type": "stream",
     "text": [
      "Training epochs (d=10):  25%|████▎            | 164/650 [00:05<00:15, 31.94it/s]"
     ]
    },
    {
     "name": "stdout",
     "output_type": "stream",
     "text": [
      "Phase 3 (alpha_k, d=10), Epoch 160, Train Loss: 1.087971157, Test Loss: 1.193552394, Accuracy: 0.4500\n"
     ]
    },
    {
     "name": "stderr",
     "output_type": "stream",
     "text": [
      "Training epochs (d=10):  28%|████▊            | 184/650 [00:05<00:14, 32.12it/s]"
     ]
    },
    {
     "name": "stdout",
     "output_type": "stream",
     "text": [
      "Phase 3 (alpha_k, d=10), Epoch 180, Train Loss: 1.098328683, Test Loss: 1.146181054, Accuracy: 0.4400\n"
     ]
    },
    {
     "name": "stderr",
     "output_type": "stream",
     "text": [
      "Training epochs (d=10):  31%|█████▎           | 204/650 [00:06<00:13, 32.61it/s]"
     ]
    },
    {
     "name": "stdout",
     "output_type": "stream",
     "text": [
      "Phase 3 (alpha_k, d=10), Epoch 200, Train Loss: 1.073321930, Test Loss: 1.137328076, Accuracy: 0.4600\n"
     ]
    },
    {
     "name": "stderr",
     "output_type": "stream",
     "text": [
      "Training epochs (d=10):  34%|█████▊           | 224/650 [00:06<00:13, 32.55it/s]"
     ]
    },
    {
     "name": "stdout",
     "output_type": "stream",
     "text": [
      "Phase 3 (alpha_k, d=10), Epoch 220, Train Loss: 1.057985893, Test Loss: 1.189939656, Accuracy: 0.4650\n"
     ]
    },
    {
     "name": "stderr",
     "output_type": "stream",
     "text": [
      "Training epochs (d=10):  38%|██████▍          | 244/650 [00:07<00:12, 32.45it/s]"
     ]
    },
    {
     "name": "stdout",
     "output_type": "stream",
     "text": [
      "Phase 3 (alpha_k, d=10), Epoch 240, Train Loss: 1.052284262, Test Loss: 1.160510716, Accuracy: 0.4700\n"
     ]
    },
    {
     "name": "stderr",
     "output_type": "stream",
     "text": [
      "Training epochs (d=10):  41%|██████▉          | 264/650 [00:08<00:11, 32.69it/s]"
     ]
    },
    {
     "name": "stdout",
     "output_type": "stream",
     "text": [
      "Phase 3 (alpha_k, d=10), Epoch 260, Train Loss: 1.059622272, Test Loss: 1.156090908, Accuracy: 0.4600\n"
     ]
    },
    {
     "name": "stderr",
     "output_type": "stream",
     "text": [
      "Training epochs (d=10):  44%|███████▍         | 284/650 [00:08<00:11, 32.22it/s]"
     ]
    },
    {
     "name": "stdout",
     "output_type": "stream",
     "text": [
      "Phase 3 (alpha_k, d=10), Epoch 280, Train Loss: 1.052091953, Test Loss: 1.175300899, Accuracy: 0.4600\n"
     ]
    },
    {
     "name": "stderr",
     "output_type": "stream",
     "text": [
      "Training epochs (d=10):  47%|███████▉         | 304/650 [00:09<00:10, 32.33it/s]"
     ]
    },
    {
     "name": "stdout",
     "output_type": "stream",
     "text": [
      "Phase 3 (alpha_k, d=10), Epoch 300, Train Loss: 1.040756195, Test Loss: 1.155125160, Accuracy: 0.4675\n"
     ]
    },
    {
     "name": "stderr",
     "output_type": "stream",
     "text": [
      "Training epochs (d=10):  50%|████████▍        | 324/650 [00:10<00:10, 32.18it/s]"
     ]
    },
    {
     "name": "stdout",
     "output_type": "stream",
     "text": [
      "Phase 3 (alpha_k, d=10), Epoch 320, Train Loss: 1.031259135, Test Loss: 1.166709414, Accuracy: 0.4450\n"
     ]
    },
    {
     "name": "stderr",
     "output_type": "stream",
     "text": [
      "Training epochs (d=10):  53%|████████▉        | 344/650 [00:10<00:09, 32.08it/s]"
     ]
    },
    {
     "name": "stdout",
     "output_type": "stream",
     "text": [
      "Phase 3 (alpha_k, d=10), Epoch 340, Train Loss: 1.033354210, Test Loss: 1.186370773, Accuracy: 0.4825\n"
     ]
    },
    {
     "name": "stderr",
     "output_type": "stream",
     "text": [
      "Training epochs (d=10):  56%|█████████▌       | 364/650 [00:11<00:08, 32.48it/s]"
     ]
    },
    {
     "name": "stdout",
     "output_type": "stream",
     "text": [
      "Phase 3 (alpha_k, d=10), Epoch 360, Train Loss: 1.052452855, Test Loss: 1.168578901, Accuracy: 0.4775\n"
     ]
    },
    {
     "name": "stderr",
     "output_type": "stream",
     "text": [
      "Training epochs (d=10):  59%|██████████       | 384/650 [00:11<00:08, 32.29it/s]"
     ]
    },
    {
     "name": "stdout",
     "output_type": "stream",
     "text": [
      "Phase 3 (alpha_k, d=10), Epoch 380, Train Loss: 1.046894583, Test Loss: 1.152155118, Accuracy: 0.4700\n"
     ]
    },
    {
     "name": "stderr",
     "output_type": "stream",
     "text": [
      "Training epochs (d=10):  62%|██████████▌      | 404/650 [00:12<00:07, 32.05it/s]"
     ]
    },
    {
     "name": "stdout",
     "output_type": "stream",
     "text": [
      "Phase 3 (alpha_k, d=10), Epoch 400, Train Loss: 1.031895539, Test Loss: 1.167535138, Accuracy: 0.4650\n"
     ]
    },
    {
     "name": "stderr",
     "output_type": "stream",
     "text": [
      "Training epochs (d=10):  65%|███████████      | 424/650 [00:13<00:07, 32.17it/s]"
     ]
    },
    {
     "name": "stdout",
     "output_type": "stream",
     "text": [
      "Phase 3 (alpha_k, d=10), Epoch 420, Train Loss: 1.018170831, Test Loss: 1.181860480, Accuracy: 0.4600\n"
     ]
    },
    {
     "name": "stderr",
     "output_type": "stream",
     "text": [
      "Training epochs (d=10):  69%|███████████▋     | 447/650 [00:13<00:06, 30.06it/s]"
     ]
    },
    {
     "name": "stdout",
     "output_type": "stream",
     "text": [
      "Phase 3 (alpha_k, d=10), Epoch 440, Train Loss: 1.016148984, Test Loss: 1.158774786, Accuracy: 0.4575\n"
     ]
    },
    {
     "name": "stderr",
     "output_type": "stream",
     "text": [
      "Training epochs (d=10):  72%|████████████▏    | 467/650 [00:14<00:05, 31.59it/s]"
     ]
    },
    {
     "name": "stdout",
     "output_type": "stream",
     "text": [
      "Phase 3 (alpha_k, d=10), Epoch 460, Train Loss: 1.046610020, Test Loss: 1.154933610, Accuracy: 0.4725\n"
     ]
    },
    {
     "name": "stderr",
     "output_type": "stream",
     "text": [
      "Training epochs (d=10):  75%|████████████▋    | 487/650 [00:15<00:05, 31.86it/s]"
     ]
    },
    {
     "name": "stdout",
     "output_type": "stream",
     "text": [
      "Phase 3 (alpha_k, d=10), Epoch 480, Train Loss: 1.014823571, Test Loss: 1.145971866, Accuracy: 0.4750\n"
     ]
    },
    {
     "name": "stderr",
     "output_type": "stream",
     "text": [
      "Training epochs (d=10):  78%|█████████████▎   | 507/650 [00:15<00:04, 32.03it/s]"
     ]
    },
    {
     "name": "stdout",
     "output_type": "stream",
     "text": [
      "Phase 3 (alpha_k, d=10), Epoch 500, Train Loss: 1.030770367, Test Loss: 1.151096072, Accuracy: 0.4650\n"
     ]
    },
    {
     "name": "stderr",
     "output_type": "stream",
     "text": [
      "Training epochs (d=10):  81%|█████████████▊   | 527/650 [00:16<00:03, 31.73it/s]"
     ]
    },
    {
     "name": "stdout",
     "output_type": "stream",
     "text": [
      "Phase 3 (alpha_k, d=10), Epoch 520, Train Loss: 1.014610980, Test Loss: 1.174657836, Accuracy: 0.4825\n"
     ]
    },
    {
     "name": "stderr",
     "output_type": "stream",
     "text": [
      "Training epochs (d=10):  84%|██████████████▎  | 547/650 [00:17<00:03, 32.26it/s]"
     ]
    },
    {
     "name": "stdout",
     "output_type": "stream",
     "text": [
      "Phase 3 (alpha_k, d=10), Epoch 540, Train Loss: 1.040423598, Test Loss: 1.143086915, Accuracy: 0.4650\n"
     ]
    },
    {
     "name": "stderr",
     "output_type": "stream",
     "text": [
      "Training epochs (d=10):  87%|██████████████▊  | 567/650 [00:17<00:02, 31.65it/s]"
     ]
    },
    {
     "name": "stdout",
     "output_type": "stream",
     "text": [
      "Phase 3 (alpha_k, d=10), Epoch 560, Train Loss: 1.020544145, Test Loss: 1.171427245, Accuracy: 0.4800\n"
     ]
    },
    {
     "name": "stderr",
     "output_type": "stream",
     "text": [
      "Training epochs (d=10):  90%|███████████████▎ | 587/650 [00:18<00:01, 31.81it/s]"
     ]
    },
    {
     "name": "stdout",
     "output_type": "stream",
     "text": [
      "Phase 3 (alpha_k, d=10), Epoch 580, Train Loss: 1.017445974, Test Loss: 1.134834514, Accuracy: 0.4775\n"
     ]
    },
    {
     "name": "stderr",
     "output_type": "stream",
     "text": [
      "Training epochs (d=10):  93%|███████████████▉ | 607/650 [00:18<00:01, 32.49it/s]"
     ]
    },
    {
     "name": "stdout",
     "output_type": "stream",
     "text": [
      "Phase 3 (alpha_k, d=10), Epoch 600, Train Loss: 1.010009570, Test Loss: 1.142430315, Accuracy: 0.4800\n"
     ]
    },
    {
     "name": "stderr",
     "output_type": "stream",
     "text": [
      "Training epochs (d=10):  96%|████████████████▍| 627/650 [00:19<00:00, 32.27it/s]"
     ]
    },
    {
     "name": "stdout",
     "output_type": "stream",
     "text": [
      "Phase 3 (alpha_k, d=10), Epoch 620, Train Loss: 1.023587183, Test Loss: 1.154696121, Accuracy: 0.4675\n"
     ]
    },
    {
     "name": "stderr",
     "output_type": "stream",
     "text": [
      "Training epochs (d=10): 100%|████████████████▉| 647/650 [00:20<00:00, 32.16it/s]"
     ]
    },
    {
     "name": "stdout",
     "output_type": "stream",
     "text": [
      "Phase 3 (alpha_k, d=10), Epoch 640, Train Loss: 1.007025757, Test Loss: 1.167061720, Accuracy: 0.4700\n"
     ]
    },
    {
     "name": "stderr",
     "output_type": "stream",
     "text": [
      "Training epochs (d=10): 100%|█████████████████| 650/650 [00:20<00:00, 32.11it/s]\n"
     ]
    },
    {
     "name": "stdout",
     "output_type": "stream",
     "text": [
      "Finished WBSNN experiment with d=10, Train Loss: 1.0065, Test Loss: 1.1671, Accuracy: 0.4775\n"
     ]
    },
    {
     "name": "stderr",
     "output_type": "stream",
     "text": [
      "/opt/anaconda3/lib/python3.12/site-packages/sklearn/neural_network/_multilayer_perceptron.py:690: ConvergenceWarning: Stochastic Optimizer: Maximum iterations (650) reached and the optimization hasn't converged yet.\n",
      "  warnings.warn(\n"
     ]
    },
    {
     "name": "stdout",
     "output_type": "stream",
     "text": [
      "\n",
      "Final Results for d=10:\n",
      "                  Model  Train Accuracy  Test Accuracy  Train Loss  Test Loss\n",
      "0                 WBSNN        0.485625         0.4775    1.006508   1.167062\n",
      "1   Logistic Regression        0.428125         0.4300    1.038614   1.033573\n",
      "2         Random Forest        1.000000         0.4525    0.260686   1.043642\n",
      "3             SVM (RBF)        0.507500         0.4425    1.006271   1.027030\n",
      "4  MLP (1 hidden layer)        0.605000         0.4425    0.836036   1.181896\n",
      "\n",
      "Experiment with d=20\n",
      "\n",
      "Running WBSNN experiment with d=20\n",
      "Best W weights: [0.89367545 0.8646239  0.8642627  0.8754982  0.878337   0.8810734\n",
      " 0.8823541  0.88465744 0.8822878  0.8830529  0.8794292  0.88229215\n",
      " 0.87844044 0.8850733  0.88500696 0.89449495 0.8973997  0.9010687\n",
      " 0.89375246 0.90141195]\n",
      "Subsets D_k: 80 subsets, 160 points\n",
      "Delta: 1.2889\n",
      "Y_mean: 0.6541666388511658, Y_std: 0.2920851409435272\n",
      "Finished Phase 1\n",
      "Phase 2 (d=20): All norms of Y_i - J W^(L_i) X_i across all D_k are not zero (within 1e-06).\n",
      "Norm distribution: 9 norms in [0, 1e-6), 71 norms in [1e-6, 1), 0 norms in [1, 2), 0 norms in [2, 3), 0 norms >= 3\n",
      "Finished Phase 2\n"
     ]
    },
    {
     "name": "stderr",
     "output_type": "stream",
     "text": [
      "Training epochs (d=20):   0%|                   | 3/650 [00:00<00:28, 22.31it/s]"
     ]
    },
    {
     "name": "stdout",
     "output_type": "stream",
     "text": [
      "Phase 3 (alpha_k, d=20), Epoch 0, Train Loss: 3.805992947, Test Loss: 2.974465647, Accuracy: 0.2250\n"
     ]
    },
    {
     "name": "stderr",
     "output_type": "stream",
     "text": [
      "Training epochs (d=20):   4%|▋                 | 24/650 [00:01<00:28, 22.00it/s]"
     ]
    },
    {
     "name": "stdout",
     "output_type": "stream",
     "text": [
      "Phase 3 (alpha_k, d=20), Epoch 20, Train Loss: 1.689807179, Test Loss: 1.425403714, Accuracy: 0.3775\n"
     ]
    },
    {
     "name": "stderr",
     "output_type": "stream",
     "text": [
      "Training epochs (d=20):   7%|█▏                | 45/650 [00:02<00:28, 21.05it/s]"
     ]
    },
    {
     "name": "stdout",
     "output_type": "stream",
     "text": [
      "Phase 3 (alpha_k, d=20), Epoch 40, Train Loss: 1.408854899, Test Loss: 1.361231308, Accuracy: 0.4325\n"
     ]
    },
    {
     "name": "stderr",
     "output_type": "stream",
     "text": [
      "Training epochs (d=20):  10%|█▋                | 63/650 [00:02<00:27, 21.68it/s]"
     ]
    },
    {
     "name": "stdout",
     "output_type": "stream",
     "text": [
      "Phase 3 (alpha_k, d=20), Epoch 60, Train Loss: 1.353660545, Test Loss: 1.348601952, Accuracy: 0.4425\n"
     ]
    },
    {
     "name": "stderr",
     "output_type": "stream",
     "text": [
      "Training epochs (d=20):  13%|██▎               | 84/650 [00:03<00:26, 21.38it/s]"
     ]
    },
    {
     "name": "stdout",
     "output_type": "stream",
     "text": [
      "Phase 3 (alpha_k, d=20), Epoch 80, Train Loss: 1.325529528, Test Loss: 1.336340828, Accuracy: 0.4525\n"
     ]
    },
    {
     "name": "stderr",
     "output_type": "stream",
     "text": [
      "Training epochs (d=20):  16%|██▋              | 105/650 [00:04<00:25, 21.12it/s]"
     ]
    },
    {
     "name": "stdout",
     "output_type": "stream",
     "text": [
      "Phase 3 (alpha_k, d=20), Epoch 100, Train Loss: 1.291150663, Test Loss: 1.324337988, Accuracy: 0.4625\n"
     ]
    },
    {
     "name": "stderr",
     "output_type": "stream",
     "text": [
      "Training epochs (d=20):  19%|███▏             | 123/650 [00:05<00:24, 21.10it/s]"
     ]
    },
    {
     "name": "stdout",
     "output_type": "stream",
     "text": [
      "Phase 3 (alpha_k, d=20), Epoch 120, Train Loss: 1.276340923, Test Loss: 1.291970401, Accuracy: 0.4650\n"
     ]
    },
    {
     "name": "stderr",
     "output_type": "stream",
     "text": [
      "Training epochs (d=20):  22%|███▊             | 144/650 [00:06<00:23, 21.79it/s]"
     ]
    },
    {
     "name": "stdout",
     "output_type": "stream",
     "text": [
      "Phase 3 (alpha_k, d=20), Epoch 140, Train Loss: 1.240377088, Test Loss: 1.291682858, Accuracy: 0.4700\n"
     ]
    },
    {
     "name": "stderr",
     "output_type": "stream",
     "text": [
      "Training epochs (d=20):  25%|████▎            | 164/650 [00:07<00:26, 18.35it/s]"
     ]
    },
    {
     "name": "stdout",
     "output_type": "stream",
     "text": [
      "Phase 3 (alpha_k, d=20), Epoch 160, Train Loss: 1.234282078, Test Loss: 1.289673738, Accuracy: 0.4725\n"
     ]
    },
    {
     "name": "stderr",
     "output_type": "stream",
     "text": [
      "Training epochs (d=20):  28%|████▊            | 183/650 [00:08<00:21, 21.57it/s]"
     ]
    },
    {
     "name": "stdout",
     "output_type": "stream",
     "text": [
      "Phase 3 (alpha_k, d=20), Epoch 180, Train Loss: 1.229949422, Test Loss: 1.276426024, Accuracy: 0.4800\n"
     ]
    },
    {
     "name": "stderr",
     "output_type": "stream",
     "text": [
      "Training epochs (d=20):  31%|█████▎           | 204/650 [00:09<00:19, 22.56it/s]"
     ]
    },
    {
     "name": "stdout",
     "output_type": "stream",
     "text": [
      "Phase 3 (alpha_k, d=20), Epoch 200, Train Loss: 1.184458286, Test Loss: 1.263291826, Accuracy: 0.4850\n"
     ]
    },
    {
     "name": "stderr",
     "output_type": "stream",
     "text": [
      "Training epochs (d=20):  35%|█████▉           | 225/650 [00:10<00:19, 22.00it/s]"
     ]
    },
    {
     "name": "stdout",
     "output_type": "stream",
     "text": [
      "Phase 3 (alpha_k, d=20), Epoch 220, Train Loss: 1.201975964, Test Loss: 1.281862783, Accuracy: 0.4850\n"
     ]
    },
    {
     "name": "stderr",
     "output_type": "stream",
     "text": [
      "Training epochs (d=20):  37%|██████▎          | 243/650 [00:11<00:19, 20.47it/s]"
     ]
    },
    {
     "name": "stdout",
     "output_type": "stream",
     "text": [
      "Phase 3 (alpha_k, d=20), Epoch 240, Train Loss: 1.187349334, Test Loss: 1.279798603, Accuracy: 0.4700\n"
     ]
    },
    {
     "name": "stderr",
     "output_type": "stream",
     "text": [
      "Training epochs (d=20):  41%|██████▉          | 264/650 [00:12<00:18, 20.78it/s]"
     ]
    },
    {
     "name": "stdout",
     "output_type": "stream",
     "text": [
      "Phase 3 (alpha_k, d=20), Epoch 260, Train Loss: 1.185539597, Test Loss: 1.295135593, Accuracy: 0.4750\n"
     ]
    },
    {
     "name": "stderr",
     "output_type": "stream",
     "text": [
      "Training epochs (d=20):  43%|███████▍         | 282/650 [00:13<00:17, 20.56it/s]"
     ]
    },
    {
     "name": "stdout",
     "output_type": "stream",
     "text": [
      "Phase 3 (alpha_k, d=20), Epoch 280, Train Loss: 1.180122432, Test Loss: 1.334563322, Accuracy: 0.4850\n"
     ]
    },
    {
     "name": "stderr",
     "output_type": "stream",
     "text": [
      "Training epochs (d=20):  47%|███████▉         | 303/650 [00:14<00:15, 22.93it/s]"
     ]
    },
    {
     "name": "stdout",
     "output_type": "stream",
     "text": [
      "Phase 3 (alpha_k, d=20), Epoch 300, Train Loss: 1.168244640, Test Loss: 1.339759798, Accuracy: 0.4850\n"
     ]
    },
    {
     "name": "stderr",
     "output_type": "stream",
     "text": [
      "Training epochs (d=20):  50%|████████▍        | 324/650 [00:15<00:14, 21.83it/s]"
     ]
    },
    {
     "name": "stdout",
     "output_type": "stream",
     "text": [
      "Phase 3 (alpha_k, d=20), Epoch 320, Train Loss: 1.162662874, Test Loss: 1.347559223, Accuracy: 0.4925\n"
     ]
    },
    {
     "name": "stderr",
     "output_type": "stream",
     "text": [
      "Training epochs (d=20):  53%|█████████        | 345/650 [00:16<00:13, 22.16it/s]"
     ]
    },
    {
     "name": "stdout",
     "output_type": "stream",
     "text": [
      "Phase 3 (alpha_k, d=20), Epoch 340, Train Loss: 1.145271137, Test Loss: 1.345886879, Accuracy: 0.4900\n"
     ]
    },
    {
     "name": "stderr",
     "output_type": "stream",
     "text": [
      "Training epochs (d=20):  56%|█████████▌       | 366/650 [00:17<00:11, 23.74it/s]"
     ]
    },
    {
     "name": "stdout",
     "output_type": "stream",
     "text": [
      "Phase 3 (alpha_k, d=20), Epoch 360, Train Loss: 1.140950043, Test Loss: 1.386956282, Accuracy: 0.5050\n"
     ]
    },
    {
     "name": "stderr",
     "output_type": "stream",
     "text": [
      "Training epochs (d=20):  59%|██████████       | 384/650 [00:17<00:11, 23.85it/s]"
     ]
    },
    {
     "name": "stdout",
     "output_type": "stream",
     "text": [
      "Phase 3 (alpha_k, d=20), Epoch 380, Train Loss: 1.113649956, Test Loss: 1.389693365, Accuracy: 0.5025\n"
     ]
    },
    {
     "name": "stderr",
     "output_type": "stream",
     "text": [
      "Training epochs (d=20):  62%|██████████▌      | 405/650 [00:18<00:10, 23.71it/s]"
     ]
    },
    {
     "name": "stdout",
     "output_type": "stream",
     "text": [
      "Phase 3 (alpha_k, d=20), Epoch 400, Train Loss: 1.151658684, Test Loss: 1.362615438, Accuracy: 0.4950\n"
     ]
    },
    {
     "name": "stderr",
     "output_type": "stream",
     "text": [
      "Training epochs (d=20):  65%|███████████      | 423/650 [00:19<00:10, 22.37it/s]"
     ]
    },
    {
     "name": "stdout",
     "output_type": "stream",
     "text": [
      "Phase 3 (alpha_k, d=20), Epoch 420, Train Loss: 1.101969740, Test Loss: 1.435328588, Accuracy: 0.4925\n"
     ]
    },
    {
     "name": "stderr",
     "output_type": "stream",
     "text": [
      "Training epochs (d=20):  68%|███████████▌     | 444/650 [00:20<00:10, 20.44it/s]"
     ]
    },
    {
     "name": "stdout",
     "output_type": "stream",
     "text": [
      "Phase 3 (alpha_k, d=20), Epoch 440, Train Loss: 1.095489557, Test Loss: 1.456817217, Accuracy: 0.5025\n"
     ]
    },
    {
     "name": "stderr",
     "output_type": "stream",
     "text": [
      "Training epochs (d=20):  72%|████████████▏    | 465/650 [00:21<00:07, 23.67it/s]"
     ]
    },
    {
     "name": "stdout",
     "output_type": "stream",
     "text": [
      "Phase 3 (alpha_k, d=20), Epoch 460, Train Loss: 1.111011676, Test Loss: 1.437077942, Accuracy: 0.5150\n"
     ]
    },
    {
     "name": "stderr",
     "output_type": "stream",
     "text": [
      "Training epochs (d=20):  74%|████████████▋    | 483/650 [00:22<00:06, 23.99it/s]"
     ]
    },
    {
     "name": "stdout",
     "output_type": "stream",
     "text": [
      "Phase 3 (alpha_k, d=20), Epoch 480, Train Loss: 1.078394568, Test Loss: 1.451455126, Accuracy: 0.5125\n"
     ]
    },
    {
     "name": "stderr",
     "output_type": "stream",
     "text": [
      "Training epochs (d=20):  78%|█████████████▏   | 504/650 [00:23<00:06, 24.16it/s]"
     ]
    },
    {
     "name": "stdout",
     "output_type": "stream",
     "text": [
      "Phase 3 (alpha_k, d=20), Epoch 500, Train Loss: 1.079433799, Test Loss: 1.462592230, Accuracy: 0.5200\n"
     ]
    },
    {
     "name": "stderr",
     "output_type": "stream",
     "text": [
      "Training epochs (d=20):  81%|█████████████▋   | 525/650 [00:23<00:05, 22.45it/s]"
     ]
    },
    {
     "name": "stdout",
     "output_type": "stream",
     "text": [
      "Phase 3 (alpha_k, d=20), Epoch 520, Train Loss: 1.062079068, Test Loss: 1.481999378, Accuracy: 0.5125\n"
     ]
    },
    {
     "name": "stderr",
     "output_type": "stream",
     "text": [
      "Training epochs (d=20):  84%|██████████████▏  | 543/650 [00:24<00:04, 21.61it/s]"
     ]
    },
    {
     "name": "stdout",
     "output_type": "stream",
     "text": [
      "Phase 3 (alpha_k, d=20), Epoch 540, Train Loss: 1.078442358, Test Loss: 1.495279188, Accuracy: 0.5100\n"
     ]
    },
    {
     "name": "stderr",
     "output_type": "stream",
     "text": [
      "Training epochs (d=20):  87%|██████████████▊  | 564/650 [00:25<00:03, 21.76it/s]"
     ]
    },
    {
     "name": "stdout",
     "output_type": "stream",
     "text": [
      "Phase 3 (alpha_k, d=20), Epoch 560, Train Loss: 1.053103100, Test Loss: 1.521230383, Accuracy: 0.5175\n"
     ]
    },
    {
     "name": "stderr",
     "output_type": "stream",
     "text": [
      "Training epochs (d=20):  90%|███████████████▏ | 582/650 [00:26<00:03, 20.27it/s]"
     ]
    },
    {
     "name": "stdout",
     "output_type": "stream",
     "text": [
      "Phase 3 (alpha_k, d=20), Epoch 580, Train Loss: 1.036133804, Test Loss: 1.538144217, Accuracy: 0.5275\n"
     ]
    },
    {
     "name": "stderr",
     "output_type": "stream",
     "text": [
      "Training epochs (d=20):  93%|███████████████▊ | 603/650 [00:27<00:02, 20.94it/s]"
     ]
    },
    {
     "name": "stdout",
     "output_type": "stream",
     "text": [
      "Phase 3 (alpha_k, d=20), Epoch 600, Train Loss: 1.047510228, Test Loss: 1.519664040, Accuracy: 0.5175\n"
     ]
    },
    {
     "name": "stderr",
     "output_type": "stream",
     "text": [
      "Training epochs (d=20):  96%|████████████████▎| 624/650 [00:28<00:01, 23.18it/s]"
     ]
    },
    {
     "name": "stdout",
     "output_type": "stream",
     "text": [
      "Phase 3 (alpha_k, d=20), Epoch 620, Train Loss: 1.047565753, Test Loss: 1.539864559, Accuracy: 0.5275\n"
     ]
    },
    {
     "name": "stderr",
     "output_type": "stream",
     "text": [
      "Training epochs (d=20):  99%|████████████████▊| 645/650 [00:29<00:00, 23.26it/s]"
     ]
    },
    {
     "name": "stdout",
     "output_type": "stream",
     "text": [
      "Phase 3 (alpha_k, d=20), Epoch 640, Train Loss: 1.035390797, Test Loss: 1.593457384, Accuracy: 0.5225\n"
     ]
    },
    {
     "name": "stderr",
     "output_type": "stream",
     "text": [
      "Training epochs (d=20): 100%|█████████████████| 650/650 [00:29<00:00, 21.94it/s]\n"
     ]
    },
    {
     "name": "stdout",
     "output_type": "stream",
     "text": [
      "Finished WBSNN experiment with d=20, Train Loss: 1.0317, Test Loss: 1.5935, Accuracy: 0.4850\n",
      "\n",
      "Final Results for d=20:\n",
      "                  Model  Train Accuracy  Test Accuracy  Train Loss  Test Loss\n",
      "0                 WBSNN        0.583750         0.4850    1.031658   1.593457\n",
      "1   Logistic Regression        0.540000         0.5350    0.967697   0.990411\n",
      "2         Random Forest        1.000000         0.5550    0.247205   0.966403\n",
      "3             SVM (RBF)        0.602500         0.5550    0.882229   0.950816\n",
      "4  MLP (1 hidden layer)        0.784375         0.5175    0.546498   1.506720\n"
     ]
    },
    {
     "name": "stderr",
     "output_type": "stream",
     "text": [
      "/opt/anaconda3/lib/python3.12/site-packages/sklearn/neural_network/_multilayer_perceptron.py:690: ConvergenceWarning: Stochastic Optimizer: Maximum iterations (650) reached and the optimization hasn't converged yet.\n",
      "  warnings.warn(\n"
     ]
    }
   ],
   "source": [
    "import numpy as np\n",
    "import torch\n",
    "import torch.nn as nn\n",
    "import torch.optim as optim\n",
    "from torch.utils.data import TensorDataset, DataLoader\n",
    "from sklearn.preprocessing import StandardScaler\n",
    "from sklearn.decomposition import PCA\n",
    "from sklearn.linear_model import LogisticRegression\n",
    "from sklearn.ensemble import RandomForestClassifier\n",
    "from sklearn.svm import SVC\n",
    "from sklearn.neural_network import MLPClassifier\n",
    "from sklearn.metrics import accuracy_score, log_loss\n",
    "from tqdm import tqdm\n",
    "import pandas as pd\n",
    "import urllib.request\n",
    "import pickle\n",
    "\n",
    "torch.manual_seed(4)\n",
    "np.random.seed(4)\n",
    "torch.utils.data.deterministic = True\n",
    "torch.backends.cudnn.deterministic = True\n",
    "\n",
    "DEVICE = torch.device(\"cpu\")\n",
    "\n",
    "# Placeholder URL for FI-2010 dataset (replace with actual URL if available)\n",
    "#DATA_URL = \"https://example.com/fi2010_data.csv\"  # Update with GitHub/Mendeley link\n",
    "#try:\n",
    "#    urllib.request.urlretrieve(DATA_URL, \"fi2010_data.csv\")\n",
    "#except Exception as e:\n",
    "#    print(f\"Failed to download FI-2010 dataset: {e}\")\n",
    "#    print(\"Please download the dataset manually from a public repository (e.g., Mendeley Data) and place 'fi2010_data.csv' in the working directory.\")\n",
    "#    raise FileNotFoundError(\"FI-2010 dataset not found.\")\n",
    "\n",
    "# Load FI-2010 data (assuming CSV with 40 features and 3-class labels for 10-tick horizon)\n",
    "data = pd.read_csv('FI2010_train.csv')\n",
    "X_full = data.iloc[:, :-1].values  # 40 features (bid/ask prices and volumes)\n",
    "Y_full = data.iloc[:, -1].values  # Labels (0: up, 1: down, 2: stationary)\n",
    "\n",
    "# Select 2000 samples\n",
    "np.random.seed(4)\n",
    "n_samples = 2000\n",
    "indices = np.random.choice(len(X_full), n_samples, replace=False)\n",
    "X_full = X_full[indices]\n",
    "Y_full = Y_full[indices].astype(int)\n",
    "\n",
    "def run_experiment(d, X_full, Y_full):\n",
    "    # Determine number of classes from labels\n",
    "    num_classes = int(Y_full.max() + 1)\n",
    "\n",
    "    # Reduce dimensionality with PCA\n",
    "    pca = PCA(n_components=d)\n",
    "    X = pca.fit_transform(X_full)\n",
    "\n",
    "    # Normalize features\n",
    "    scaler = StandardScaler()\n",
    "    X = scaler.fit_transform(X)\n",
    "\n",
    "    # Split into train (80%) and test (20%)\n",
    "    n_samples = len(X)\n",
    "    train_size = int(0.8 * n_samples)\n",
    "    test_size = n_samples - train_size\n",
    "    train_idx = np.random.choice(n_samples, train_size, replace=False)\n",
    "    test_idx = np.setdiff1d(np.arange(n_samples), train_idx)\n",
    "    X_train = X[train_idx]\n",
    "    X_test = X[test_idx]\n",
    "    Y_train = Y_full[train_idx]\n",
    "    Y_test = Y_full[test_idx]\n",
    "\n",
    "    # Convert to tensors\n",
    "    X_train = torch.tensor(X_train, dtype=torch.float32).to(DEVICE)\n",
    "    X_test = torch.tensor(X_test, dtype=torch.float32).to(DEVICE)\n",
    "    Y_train_normalized = torch.tensor(Y_train / (num_classes - 1), dtype=torch.float32).to(DEVICE)\n",
    "    Y_test_normalized = torch.tensor(Y_test / (num_classes - 1), dtype=torch.float32).to(DEVICE)\n",
    "    Y_train = torch.tensor(Y_train, dtype=torch.long).to(DEVICE)\n",
    "    Y_test = torch.tensor(Y_test, dtype=torch.long).to(DEVICE)\n",
    "\n",
    "    # One-hot encode labels for Phase 2\n",
    "    M_train, M_test = train_size, test_size\n",
    "    Y_train_onehot = torch.zeros(M_train, num_classes).scatter_(1, Y_train.reshape(-1, 1), 1).to(DEVICE)\n",
    "    Y_test_onehot = torch.zeros(M_test, num_classes).scatter_(1, Y_test.reshape(-1, 1), 1).to(DEVICE)\n",
    "\n",
    "    def apply_WL(w, X_i, L, d):\n",
    "        assert X_i.ndim == 1 and X_i.shape[0] == d\n",
    "        X_ext = torch.cat([X_i, X_i[:L]])\n",
    "        result = torch.zeros(d)\n",
    "        for i in range(d):\n",
    "            prod = 1.0\n",
    "            for k in range(L):\n",
    "                prod *= w[(i + k) % d]\n",
    "            result[i] = prod * X_ext[i + L-1]\n",
    "        return result\n",
    "\n",
    "    def is_independent(W_L_X, span_vecs, thresh):\n",
    "        if not span_vecs:\n",
    "            return True\n",
    "        A = torch.stack(span_vecs)\n",
    "        try:\n",
    "            coeffs = torch.linalg.lstsq(A.mT, W_L_X.mT).solution\n",
    "            proj = (coeffs.mT @ A).view(1, -1)\n",
    "            residual = W_L_X.view(1, -1) - proj\n",
    "            return torch.linalg.norm(residual).item() > thresh\n",
    "        except:\n",
    "            return True\n",
    "\n",
    "    def compute_delta(w, Dk, X, Y, d, lambda_smooth=0.0):\n",
    "        delta = 0.0\n",
    "        W_L_X_cache = {}\n",
    "        for i in range(X.size(0)):\n",
    "            best = float('inf')\n",
    "            for L in range(d):\n",
    "                cache_key = (i, L)\n",
    "                if cache_key not in W_L_X_cache:\n",
    "                    W_L_X_cache[cache_key] = apply_WL(w, X[i], L, d)\n",
    "                out = W_L_X_cache[cache_key]\n",
    "                pred = torch.tanh(out.sum())\n",
    "                error = abs(Y[i] - pred).item()\n",
    "                best = min(best, error)\n",
    "            delta += best ** 2\n",
    "        return delta / X.size(0)\n",
    "\n",
    "    def compute_delta_gradient(w, Dk, X, Y, d):\n",
    "        grad = torch.zeros_like(w)\n",
    "        W_L_X_cache = {}\n",
    "        for i in range(X.size(0)):\n",
    "            best_L = 0\n",
    "            best_norm = float('inf')\n",
    "            for L in range(d):\n",
    "                cache_key = (i, L)\n",
    "                if cache_key not in W_L_X_cache:\n",
    "                    W_L_X_cache[cache_key] = apply_WL(w, X[i], L, d)\n",
    "                out = W_L_X_cache[cache_key]\n",
    "                pred = torch.tanh(out.sum())\n",
    "                error = abs(Y[i] - pred).item()\n",
    "                if error < best_norm:\n",
    "                    best_L = L\n",
    "                    best_norm = error\n",
    "            out = W_L_X_cache[(i, best_L)]\n",
    "            pred = torch.tanh(out.sum())\n",
    "            err = Y[i] - pred\n",
    "            for l in range(best_L):\n",
    "                cache_key = (i, l)\n",
    "                if cache_key not in W_L_X_cache:\n",
    "                    W_L_X_cache[cache_key] = apply_WL(w, X[i], l, d)\n",
    "                shifted = W_L_X_cache[cache_key]\n",
    "                for j in range(d):\n",
    "                    g = shifted[d - 1] if j == 0 else shifted[j - 1]\n",
    "                    grad[j] += -2 * err * g * (1 - pred**2)\n",
    "        return grad / X.size(0)\n",
    "\n",
    "    def phase_1(X, Y, d, thresh=0.1, optimize_w=True):\n",
    "        w = torch.ones(d, requires_grad=True)\n",
    "        subset_size = max(50, X.size(0) // 10)  # 10% of samples, min 50\n",
    "        subset_idx = np.random.choice(X.size(0), subset_size, replace=False)\n",
    "        X_subset = X[subset_idx]\n",
    "        Y_subset = Y[subset_idx]\n",
    "        fixed_delta = compute_delta(w, [], X_subset, Y_subset, d)\n",
    "        \n",
    "        if optimize_w:\n",
    "            optimizer = optim.Adam([w], lr=0.001)\n",
    "            for epoch in range(100):\n",
    "                optimizer.zero_grad()\n",
    "                grad = compute_delta_gradient(w, [], X_subset, Y_subset, d)\n",
    "                w.grad = grad\n",
    "                optimizer.step()\n",
    "\n",
    "        w = w.detach()\n",
    "        \n",
    "        Dk, R = [], list(range(X_subset.size(0)))\n",
    "        np.random.shuffle(R)\n",
    "        while R:\n",
    "            subset, span_vecs = [], []\n",
    "            for j in R[:]:\n",
    "                best_L = min(range(d), key=lambda L: abs(torch.tanh(apply_WL(w, X_subset[j], L, d).sum()).item() - Y_subset[j].item()))\n",
    "                out = apply_WL(w, X_subset[j], best_L, d)[0]\n",
    "                if is_independent(out, span_vecs, thresh) and len(subset) < 2:\n",
    "                    subset.append((subset_idx[j], best_L))  # Store original indices\n",
    "                    span_vecs.append(out)\n",
    "                    R.remove(j)\n",
    "            if subset:\n",
    "                Dk.append(subset)\n",
    "            else:\n",
    "                break\n",
    "\n",
    "        num_subsets = len(Dk)\n",
    "        num_points = sum(len(dk) for dk in Dk)\n",
    "        Y_mean = Y.mean().detach().item()\n",
    "        Y_std = Y.std().detach().item()\n",
    "        print(f\"Best W weights: {w.cpu().numpy()}\")\n",
    "        print(f\"Subsets D_k: {num_subsets} subsets, {num_points} points\")\n",
    "        print(f\"Delta: {fixed_delta:.4f}\")\n",
    "        print(f\"Y_mean: {Y_mean}, Y_std: {Y_std}\")\n",
    "        print(\"Finished Phase 1\")\n",
    "        \n",
    "        return w, Dk\n",
    "\n",
    "    def phase_2(w, Dk, X, Y_onehot, d):\n",
    "        J_list = []\n",
    "        norms_list = []\n",
    "        tolerance = 1e-6\n",
    "        for subset in Dk:\n",
    "            A = torch.stack([apply_WL(w, X[i], L, d) for i, L in subset])  # Shape: [n_points, d]\n",
    "            B = torch.stack([Y_onehot[i] for i, _ in subset])  # Shape: [n_points, 3]\n",
    "            A_t_A = A.T @ A + 1e-6 * torch.eye(d, device=A.device)  # Regularized normal equation\n",
    "            A_t_B = A.T @ B\n",
    "\n",
    "            J = torch.linalg.pinv(A_t_A) @ A_t_B.to(dtype=torch.float32)\n",
    "\n",
    "            J_list.append(J)\n",
    "            norm = torch.norm(A @ J - B).detach().item()\n",
    "            norms_list.append(norm)\n",
    "        all_within_tolerance = all(norm < tolerance for norm in norms_list)\n",
    "        print(f\"Phase 2 (d={d}): All norms of Y_i - J W^(L_i) X_i across all D_k are {'zero' if all_within_tolerance else 'not zero'} (within {tolerance}).\")\n",
    "        \n",
    "        if not all_within_tolerance:\n",
    "            range_below_tolerance = sum(1 for norm in norms_list if 0 <= norm < 1e-6)\n",
    "            range_1e6_to_1 = sum(1 for norm in norms_list if 1e-6 <= norm < 1)\n",
    "            range_1_to_2 = sum(1 for norm in norms_list if 1 <= norm < 2)\n",
    "            range_2_to_3 = sum(1 for norm in norms_list if 2 <= norm < 3)\n",
    "            range_3_and_above = sum(1 for norm in norms_list if norm >= 3)\n",
    "            print(f\"Norm distribution: {range_below_tolerance} norms in [0, 1e-6), {range_1e6_to_1} norms in [1e-6, 1), {range_1_to_2} norms in [1, 2), {range_2_to_3} norms in [2, 3), {range_3_and_above} norms >= 3\")\n",
    "        \n",
    "        print(\"Finished Phase 2\")\n",
    "      \n",
    "        return J_list\n",
    "\n",
    "    class WBSNN(nn.Module):\n",
    "        def __init__(self, input_dim, K, M, num_classes=3, d_value=None):\n",
    "            super(WBSNN, self).__init__()\n",
    "            self.d = input_dim\n",
    "            self.K = K\n",
    "            self.M = M\n",
    "            self.d_value = d_value\n",
    "\n",
    "            if self.d_value == 10:\n",
    "                self.fc1 = nn.Linear(input_dim, 64)\n",
    "                self.fc2 = nn.Linear(64, 32)\n",
    "                self.fc3 = nn.Linear(32, K)\n",
    "            else:\n",
    "                self.fc1 = nn.Linear(input_dim, 128)\n",
    "                self.fc2 = nn.Linear(128, 64)\n",
    "                self.fc3 = nn.Linear(64, 32)\n",
    "                self.fc4 = nn.Linear(32, K)  # output layer\n",
    "\n",
    "            self.relu = nn.ReLU()\n",
    "            self.dropout = nn.Dropout(0.3)\n",
    "\n",
    "        def forward(self, x):\n",
    "            out = self.relu(self.fc1(x))\n",
    "            out = self.dropout(out)\n",
    "            out = self.relu(self.fc2(out))\n",
    "            out = self.dropout(out)\n",
    "            if self.d_value == 10:\n",
    "                out = self.fc3(out)\n",
    "            else:\n",
    "                out = self.relu(self.fc3(out))\n",
    "                out = self.dropout(out)\n",
    "                out = self.relu(self.fc4(out))\n",
    "                out = self.dropout(out)\n",
    "            out = out.view(-1, self.K)  # Shape: [batch_size, K]\n",
    "            return out\n",
    "\n",
    "    def phase_3_alpha_k(best_w, J_k_list, Dk, X_train, Y_train, X_test, Y_test, d, suppress_print=False):\n",
    "        K = len(J_k_list)\n",
    "        M = d\n",
    "        X_train_torch = X_train.clone().detach().to(DEVICE)\n",
    "        Y_train_torch = Y_train.clone().detach().to(DEVICE)\n",
    "        X_test_torch = X_test.clone().detach().to(DEVICE)\n",
    "        Y_test_torch = Y_test.clone().detach().to(DEVICE)\n",
    "        J_k_torch = torch.stack(J_k_list).to(DEVICE)  # Shape: [K, d, 3]\n",
    "\n",
    "        # Compute orbits W^{(m)} X_i for training\n",
    "        W_m_X_train = []\n",
    "        for i in range(len(X_train_torch)):\n",
    "            W_m_features = []\n",
    "            current = X_train_torch[i]\n",
    "            for m in range(M):\n",
    "                W_m_features.append(current)\n",
    "                shifted = torch.zeros_like(current)\n",
    "                for j in range(d):\n",
    "                    shifted[j] = best_w[j] * current[j - 1] if j > 0 else best_w[j] * current[d - 1]\n",
    "                current = shifted\n",
    "            W_m_features = torch.stack(W_m_features)  # Shape: [M, d]\n",
    "            W_m_X_train.append(W_m_features)\n",
    "        W_m_X_train = torch.stack(W_m_X_train)  # Shape: [n_train, M, d]\n",
    "\n",
    "        # Compute J_k W^{(m)} X_i for training\n",
    "        W_m_JkX_train = []\n",
    "        for i in range(len(X_train_torch)):\n",
    "            features = []\n",
    "            for k in range(K):\n",
    "                J_k = J_k_torch[k]  # Shape: [d, 3]\n",
    "                W_m_features = W_m_X_train[i]  # Shape: [M, d]\n",
    "                weighted = W_m_features @ J_k  # Shape: [M, 3]\n",
    "                features.append(weighted)\n",
    "            features = torch.stack(features)  # Shape: [K, M, 3]\n",
    "            W_m_JkX_train.append(features)\n",
    "        W_m_JkX_train = torch.stack(W_m_JkX_train)  # Shape: [n_train, K, M, 3]\n",
    "\n",
    "        # Compute orbits W^{(m)} X_i for testing\n",
    "        W_m_X_test = []\n",
    "        for i in range(len(X_test_torch)):\n",
    "            W_m_features = []\n",
    "            current = X_test_torch[i]\n",
    "            for m in range(M):\n",
    "                W_m_features.append(current)\n",
    "                shifted = torch.zeros_like(current)\n",
    "                for j in range(d):\n",
    "                    shifted[j] = best_w[j] * current[j - 1] if j > 0 else best_w[j] * current[d - 1]\n",
    "                current = shifted\n",
    "            W_m_features = torch.stack(W_m_features)\n",
    "            W_m_X_test.append(W_m_features)\n",
    "        W_m_X_test = torch.stack(W_m_X_test)  # Shape: [n_test, M, d]\n",
    "\n",
    "        # Compute J_k W^{(m)} X_i for testing\n",
    "        W_m_JkX_test = []\n",
    "        for i in range(len(X_test_torch)):\n",
    "            features = []\n",
    "            for k in range(K):\n",
    "                J_k = J_k_torch[k]\n",
    "                W_m_features = W_m_X_test[i]\n",
    "                weighted = W_m_features @ J_k\n",
    "                features.append(weighted)\n",
    "            features = torch.stack(features)  # Shape: [K, M, 3]\n",
    "            W_m_JkX_test.append(features)\n",
    "        W_m_JkX_test = torch.stack(W_m_JkX_test)  # Shape: [n_test, K, M, 3]\n",
    "\n",
    "        # Prepare datasets\n",
    "        train_dataset = TensorDataset(X_train_torch, W_m_JkX_train, Y_train_torch)\n",
    "        test_dataset = TensorDataset(X_test_torch, W_m_JkX_test, Y_test_torch)\n",
    "        g = torch.Generator()\n",
    "        g.manual_seed(4)\n",
    "        train_loader = DataLoader(train_dataset, batch_size=32, shuffle=True, generator=g)\n",
    "        test_loader = DataLoader(test_dataset, batch_size=32, shuffle=False)\n",
    "\n",
    "        # Initialize model\n",
    "        model = WBSNN(d, K, M, num_classes=3, d_value=d).to(DEVICE)\n",
    "        optimizer = optim.Adam(model.parameters(), lr=0.0001, weight_decay=0.0005)\n",
    "        scheduler = optim.lr_scheduler.StepLR(optimizer, step_size=400, gamma=0.5)\n",
    "\n",
    "        criterion = nn.CrossEntropyLoss()\n",
    "        epochs = 650 if d <= 10 else 650 if d <= 20 else 500\n",
    "\n",
    "        patience = 30\n",
    "        best_test_loss = float('inf')\n",
    "        best_accuracy = 0.0\n",
    "        patience_counter = 0\n",
    "\n",
    "        for epoch in tqdm(range(epochs), desc=f\"Training epochs (d={d})\"):\n",
    "            model.train()\n",
    "            train_loss = 0\n",
    "            for batch_inputs, batch_W_m, batch_targets in train_loader:\n",
    "                optimizer.zero_grad()\n",
    "                alpha_k = model(batch_inputs)  # Shape: [batch_size, K]\n",
    "                batch_size = batch_inputs.size(0)\n",
    "                weighted_sum = torch.einsum('bk,bkmt->bt', alpha_k, batch_W_m)  # Shape: [batch_size, 3]\n",
    "                outputs = weighted_sum  # Shape: [batch_size, 3]\n",
    "                loss = criterion(outputs, batch_targets)\n",
    "                train_loss += loss.item() * batch_inputs.size(0)\n",
    "                loss.backward()\n",
    "                torch.nn.utils.clip_grad_norm_(model.parameters(), max_norm=0.5)\n",
    "                optimizer.step()\n",
    "            train_loss /= len(train_loader.dataset)\n",
    "\n",
    "            if epoch % 20 == 0 or (patience_counter >= patience):\n",
    "                model.eval()\n",
    "                test_loss = 0\n",
    "                correct = 0\n",
    "                total = 0\n",
    "                with torch.no_grad():\n",
    "                    for batch_inputs, batch_W_m, batch_targets in test_loader:\n",
    "                        alpha_k = model(batch_inputs)\n",
    "                        batch_size = batch_inputs.size(0)\n",
    "                        weighted_sum = torch.einsum('bk,bkmt->bt', alpha_k, batch_W_m)\n",
    "                        outputs = weighted_sum\n",
    "                        test_loss += criterion(outputs, batch_targets).item() * batch_inputs.size(0)\n",
    "                        preds = outputs.argmax(dim=1)\n",
    "                        correct += (preds == batch_targets).sum().item()\n",
    "                        total += batch_targets.size(0)\n",
    "                test_loss /= len(test_loader.dataset)\n",
    "                accuracy = correct / total\n",
    "                scheduler.step()\n",
    "\n",
    "                if not suppress_print:\n",
    "                    print(f\"Phase 3 (alpha_k, d={d}), Epoch {epoch}, Train Loss: {train_loss:.9f}, Test Loss: {test_loss:.9f}, Accuracy: {accuracy:.4f}\")\n",
    "\n",
    "                if test_loss < best_test_loss:\n",
    "                    best_test_loss = test_loss\n",
    "                    best_accuracy = accuracy\n",
    "                    patience_counter = 0\n",
    "                else:\n",
    "                    patience_counter += 1\n",
    "                    if patience_counter >= patience:\n",
    "                        print(f\"Phase 3 (d={d}), Early stopping at epoch {epoch}, Train Loss: {train_loss:.9f}, Test Loss: {best_test_loss:.9f}, Accuracy: {best_accuracy:.4f}\")\n",
    "                        break\n",
    "\n",
    "        train_correct = 0\n",
    "        train_total = 0\n",
    "        with torch.no_grad():\n",
    "            for batch_inputs, batch_W_m, batch_targets in train_loader:\n",
    "                alpha_k = model(batch_inputs)\n",
    "                batch_size = batch_inputs.size(0)\n",
    "                weighted_sum = torch.einsum('bk,bkmt->bt', alpha_k, batch_W_m)\n",
    "                outputs = weighted_sum\n",
    "                preds = outputs.argmax(dim=1)\n",
    "                train_correct += (preds == batch_targets).sum().item()\n",
    "#                train_total = batch_targets.size(0)\n",
    "                train_total += batch_targets.size(0)\n",
    "        train_accuracy = train_correct / train_total\n",
    "\n",
    "        return train_accuracy, best_accuracy, train_loss, test_loss\n",
    "\n",
    "    def evaluate_classical(name, model, support_proba=False):\n",
    "        try:\n",
    "            model.fit(X_train.cpu().numpy(), Y_train.cpu().numpy())\n",
    "            y_pred_train = model.predict(X_train.cpu().numpy())\n",
    "            y_pred_test = model.predict(X_test.cpu().numpy())\n",
    "            acc_train = accuracy_score(Y_train.cpu().numpy(), y_pred_train)\n",
    "            acc_test = accuracy_score(Y_test.cpu().numpy(), y_pred_test)\n",
    "\n",
    "            if support_proba:\n",
    "                loss_train = log_loss(Y_train.cpu().numpy(), model.predict_proba(X_train.cpu().numpy()))\n",
    "                loss_test = log_loss(Y_test.cpu().numpy(), model.predict_proba(X_test.cpu().numpy()))\n",
    "            else:\n",
    "                loss_train = loss_test = float('nan')\n",
    "        except ValueError:\n",
    "            acc_train = acc_test = loss_train = loss_test = float('nan')\n",
    "\n",
    "        return [name, acc_train, acc_test, loss_train, loss_test]\n",
    "\n",
    "    print(f\"\\nRunning WBSNN experiment with d={d}\")\n",
    "    best_w, best_Dk = phase_1(X_train, Y_train_normalized, d, 0.1, optimize_w=True)\n",
    "    J_k_list = phase_2(best_w, best_Dk, X_train, Y_train_onehot, d)\n",
    "    train_acc, test_acc, train_loss, test_loss = phase_3_alpha_k(\n",
    "        best_w, J_k_list, best_Dk, X_train, Y_train, X_test, Y_test, d\n",
    "    )\n",
    "    print(f\"Finished WBSNN experiment with d={d}, Train Loss: {train_loss:.4f}, Test Loss: {test_loss:.4f}, Accuracy: {test_acc:.4f}\")\n",
    "\n",
    "    results = []\n",
    "    results.append([\"WBSNN\", train_acc, test_acc, train_loss, test_loss])\n",
    "    results.append(evaluate_classical(\"Logistic Regression\", LogisticRegression(max_iter=1000), support_proba=True))\n",
    "    results.append(evaluate_classical(\"Random Forest\", RandomForestClassifier(n_estimators=100), support_proba=True))\n",
    "    results.append(evaluate_classical(\"SVM (RBF)\", SVC(kernel='rbf', probability=True), support_proba=True))\n",
    "    results.append(evaluate_classical(\"MLP (1 hidden layer)\", MLPClassifier(hidden_layer_sizes=(64,), max_iter=650), support_proba=True))\n",
    "\n",
    "    df = pd.DataFrame(results, columns=[\"Model\", \"Train Accuracy\", \"Test Accuracy\", \"Train Loss\", \"Test Loss\"])\n",
    "    print(f\"\\nFinal Results for d={d}:\")\n",
    "    print(df)\n",
    "    return results\n",
    "\n",
    "# Run experiments\n",
    "print(\"\\nExperiment with d=10\")\n",
    "results_d10 = run_experiment(10, X_full, Y_full)\n",
    "print(\"\\nExperiment with d=20\")\n",
    "results_d20 = run_experiment(20, X_full, Y_full)"
   ]
  }
 ],
 "metadata": {
  "kernelspec": {
   "display_name": "Python 3 (ipykernel)",
   "language": "python",
   "name": "python3"
  },
  "language_info": {
   "codemirror_mode": {
    "name": "ipython",
    "version": 3
   },
   "file_extension": ".py",
   "mimetype": "text/x-python",
   "name": "python",
   "nbconvert_exporter": "python",
   "pygments_lexer": "ipython3",
   "version": "3.12.7"
  }
 },
 "nbformat": 4,
 "nbformat_minor": 5
}
